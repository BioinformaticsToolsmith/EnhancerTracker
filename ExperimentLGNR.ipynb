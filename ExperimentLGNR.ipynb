{
 "cells": [
  {
   "cell_type": "markdown",
   "metadata": {},
   "source": [
    "# ExperimentLGNR\n",
    "### Take the dataset where the negatives comprise of random genomic data (without repeats) sampled for length and gc content.\n",
    "### Train a single separable convolutional classifier on triplets and evaluate"
   ]
  },
  {
   "cell_type": "markdown",
   "metadata": {
    "tags": []
   },
   "source": [
    "## Imports"
   ]
  },
  {
   "cell_type": "code",
   "execution_count": 1,
   "metadata": {},
   "outputs": [],
   "source": [
    "import os\n",
    "os.environ['TF_CPP_MIN_LOG_LEVEL'] = '2' \n",
    "# # Credit: https://stackoverflow.com/questions/34199233/how-to-prevent-tensorflow-from-allocating-the-totality-of-a-gpu-memory\n",
    "import tensorflow as tf\n",
    "gpus = tf.config.experimental.list_physical_devices('GPU')\n",
    "for gpu in gpus:\n",
    "    tf.config.experimental.set_memory_growth(gpu, True)"
   ]
  },
  {
   "cell_type": "code",
   "execution_count": 2,
   "metadata": {},
   "outputs": [],
   "source": [
    "import data\n",
    "from tensorflow import keras\n",
    "import nets\n",
    "from loaders import PremadeTripletClassifierSequence"
   ]
  },
  {
   "cell_type": "markdown",
   "metadata": {},
   "source": [
    "## Files"
   ]
  },
  {
   "cell_type": "code",
   "execution_count": 3,
   "metadata": {},
   "outputs": [],
   "source": [
    "# file_name = '/home/zakaria/Data/IdentityData/ShortTrain/60.fa'#file_name = '../Data/sequences.fa'\n",
    "\n",
    "data_dir = '../Data/Datasets/LGNR/'\n",
    "\n",
    "\n",
    "train_sequence = f'{data_dir}/train_sequences.fa'\n",
    "valid_sequence = f'{data_dir}/valid_sequences.fa'\n",
    "test_sequence = f'{data_dir}/test_sequences.fa'\n",
    "\n",
    "reverse_train_sequence = f'{data_dir}/reverse_train_sequences.fa'\n",
    "reverse_valid_sequence = f'{data_dir}/reverse_valid_sequences.fa'\n",
    "reverse_test_sequence = f'{data_dir}/reverse_test_sequences.fa'\n",
    "\n",
    "train_triplet_dis = f'{data_dir}/train_triplet_dis.npy'\n",
    "valid_triplet_dis = f'{data_dir}/valid_triplet_dis.npy'\n",
    "test_triplet_dis = f'{data_dir}/test_triplet_dis.npy'\n",
    "\n",
    "train_triplet_sim = f'{data_dir}/train_triplet_sim.npy'\n",
    "valid_triplet_sim = f'{data_dir}/valid_triplet_sim.npy'\n",
    "test_triplet_sim = f'{data_dir}/test_triplet_sim.npy'"
   ]
  },
  {
   "cell_type": "markdown",
   "metadata": {},
   "source": [
    "## Parameters"
   ]
  },
  {
   "cell_type": "code",
   "execution_count": 4,
   "metadata": {},
   "outputs": [],
   "source": [
    "codings_size=100 \n",
    "exp_filter_num=4\n",
    "exp_filter_1d_size= 11\n",
    "\n",
    "allow_reverse = True\n",
    "max_len = 600\n",
    "\n",
    "learning_rate = 0.1\n",
    "momentum = 0.9\n",
    "is_nesterov = True\n",
    "patience = 20\n",
    "monitor = 'val_crm_f1_score'\n",
    "start_from_epoch = 10"
   ]
  },
  {
   "cell_type": "markdown",
   "metadata": {},
   "source": [
    "## Loading Data"
   ]
  },
  {
   "cell_type": "code",
   "execution_count": 5,
   "metadata": {},
   "outputs": [],
   "source": [
    "train = data.FantomToOneHotConverter(train_sequence, 0, max_len).seq_matrix\n",
    "reverse_train = data.FantomToOneHotConverter(reverse_train_sequence, 0, max_len).seq_matrix if allow_reverse else None"
   ]
  },
  {
   "cell_type": "code",
   "execution_count": 6,
   "metadata": {},
   "outputs": [],
   "source": [
    "valid = data.FantomToOneHotConverter(valid_sequence, 0, max_len).seq_matrix\n",
    "reverse_valid = data.FantomToOneHotConverter(reverse_valid_sequence, 0, max_len).seq_matrix if allow_reverse else None"
   ]
  },
  {
   "cell_type": "code",
   "execution_count": 7,
   "metadata": {},
   "outputs": [],
   "source": [
    "# test = data.FantomToOneHotConverter(test_sequence, 0, max_len).seq_matrix\n",
    "# reverse_test = data.FantomToOneHotConverter(reverse_test_sequence, 0, max_len).seq_matrix if allow_reverse else None"
   ]
  },
  {
   "cell_type": "code",
   "execution_count": 8,
   "metadata": {},
   "outputs": [],
   "source": [
    "train_seq = PremadeTripletClassifierSequence(train, train_triplet_sim, train_triplet_dis, batch_size = 1024, reverse_x_in =reverse_train)\n",
    "valid_seq = PremadeTripletClassifierSequence(valid, valid_triplet_sim, valid_triplet_dis, batch_size = 1024, reverse_x_in =reverse_valid)\n",
    "# test_seq = PremadeTripletClassifierSequence(test, test_triplet_sim, test_triplet_dis, batch_size = 1024, reverse_x_in =reverse_test)"
   ]
  },
  {
   "cell_type": "code",
   "execution_count": 9,
   "metadata": {},
   "outputs": [],
   "source": [
    "for x_batch, y_batch in train_seq:\n",
    "    _, d1, d2, d3 = x_batch.shape"
   ]
  },
  {
   "cell_type": "markdown",
   "metadata": {},
   "source": [
    "## Creating Model"
   ]
  },
  {
   "cell_type": "code",
   "execution_count": 10,
   "metadata": {
    "tags": []
   },
   "outputs": [
    {
     "name": "stdout",
     "output_type": "stream",
     "text": [
      "Model: \"model\"\n",
      "_________________________________________________________________\n",
      " Layer (type)                Output Shape              Param #   \n",
      "=================================================================\n",
      " input_1 (InputLayer)        [(None, 4, 600, 3)]       0         \n",
      "                                                                 \n",
      " masking (Masking)           (None, 4, 600, 3)         0         \n",
      "                                                                 \n",
      " separable_conv2d (Separable  (None, 1, 598, 4)        48        \n",
      " Conv2D)                                                         \n",
      "                                                                 \n",
      " batch_normalization (BatchN  (None, 1, 598, 4)        16        \n",
      " ormalization)                                                   \n",
      "                                                                 \n",
      " activation (Activation)     (None, 1, 598, 4)         0         \n",
      "                                                                 \n",
      " reshape (Reshape)           (None, 598, 4)            0         \n",
      "                                                                 \n",
      " max_pooling1d (MaxPooling1D  (None, 299, 4)           0         \n",
      " )                                                               \n",
      "                                                                 \n",
      " separable_conv1d (Separable  (None, 289, 8)           76        \n",
      " Conv1D)                                                         \n",
      "                                                                 \n",
      " batch_normalization_1 (Batc  (None, 289, 8)           32        \n",
      " hNormalization)                                                 \n",
      "                                                                 \n",
      " activation_1 (Activation)   (None, 289, 8)            0         \n",
      "                                                                 \n",
      " max_pooling1d_1 (MaxPooling  (None, 144, 8)           0         \n",
      " 1D)                                                             \n",
      "                                                                 \n",
      " separable_conv1d_1 (Separab  (None, 134, 16)          216       \n",
      " leConv1D)                                                       \n",
      "                                                                 \n",
      " batch_normalization_2 (Batc  (None, 134, 16)          64        \n",
      " hNormalization)                                                 \n",
      "                                                                 \n",
      " activation_2 (Activation)   (None, 134, 16)           0         \n",
      "                                                                 \n",
      " max_pooling1d_2 (MaxPooling  (None, 67, 16)           0         \n",
      " 1D)                                                             \n",
      "                                                                 \n",
      " separable_conv1d_2 (Separab  (None, 57, 32)           688       \n",
      " leConv1D)                                                       \n",
      "                                                                 \n",
      " batch_normalization_3 (Batc  (None, 57, 32)           128       \n",
      " hNormalization)                                                 \n",
      "                                                                 \n",
      " activation_3 (Activation)   (None, 57, 32)            0         \n",
      "                                                                 \n",
      " max_pooling1d_3 (MaxPooling  (None, 28, 32)           0         \n",
      " 1D)                                                             \n",
      "                                                                 \n",
      " separable_conv1d_3 (Separab  (None, 18, 64)           2400      \n",
      " leConv1D)                                                       \n",
      "                                                                 \n",
      " batch_normalization_4 (Batc  (None, 18, 64)           256       \n",
      " hNormalization)                                                 \n",
      "                                                                 \n",
      " activation_4 (Activation)   (None, 18, 64)            0         \n",
      "                                                                 \n",
      " global_max_pooling1d (Globa  (None, 64)               0         \n",
      " lMaxPooling1D)                                                  \n",
      "                                                                 \n",
      " dense (Dense)               (None, 100)               6400      \n",
      "                                                                 \n",
      " batch_normalization_5 (Batc  (None, 100)              400       \n",
      " hNormalization)                                                 \n",
      "                                                                 \n",
      " activation_5 (Activation)   (None, 100)               0         \n",
      "                                                                 \n",
      " dense_1 (Dense)             (None, 1)                 101       \n",
      "                                                                 \n",
      "=================================================================\n",
      "Total params: 10,825\n",
      "Trainable params: 10,377\n",
      "Non-trainable params: 448\n",
      "_________________________________________________________________\n"
     ]
    }
   ],
   "source": [
    "model = nets.make_conv_classifier(codings_size, (d1, d2, d3), exp_filter_1d_size, filter_num=exp_filter_num)\n",
    "model.summary()"
   ]
  },
  {
   "cell_type": "code",
   "execution_count": 11,
   "metadata": {},
   "outputs": [],
   "source": [
    "opt = keras.optimizers.SGD(learning_rate=learning_rate, momentum=momentum, nesterov=is_nesterov) # 0.1\n",
    "model.compile(loss='mse', metrics=['accuracy', nets.crm_specificity, tf.keras.metrics.Recall(), tf.keras.metrics.Precision(), nets.crm_f1_score], optimizer=opt) #  "
   ]
  },
  {
   "cell_type": "code",
   "execution_count": 12,
   "metadata": {},
   "outputs": [],
   "source": [
    "early_stopping = keras.callbacks.EarlyStopping(patience=patience, min_delta=1/100000, restore_best_weights=True, monitor=monitor, start_from_epoch = start_from_epoch, mode='max') #val_precision"
   ]
  },
  {
   "cell_type": "code",
   "execution_count": 13,
   "metadata": {},
   "outputs": [],
   "source": [
    "def exponential_decay_fn(epoch, lr):\n",
    "    '''\n",
    "    This function decreases the learning rate according to the epoch\n",
    "    '''\n",
    "    return lr*0.1**(1/100)\n",
    "\n",
    "lr_scheduler = keras.callbacks.LearningRateScheduler(exponential_decay_fn)"
   ]
  },
  {
   "cell_type": "markdown",
   "metadata": {},
   "source": [
    "## Training Model"
   ]
  },
  {
   "cell_type": "code",
   "execution_count": 14,
   "metadata": {
    "tags": []
   },
   "outputs": [
    {
     "name": "stdout",
     "output_type": "stream",
     "text": [
      "Epoch 1/500\n",
      "72/72 [==============================] - 15s 160ms/step - loss: 0.2361 - accuracy: 0.6006 - crm_specificity: 0.6396 - recall: 0.5618 - precision: 0.6089 - crm_f1_score: 0.5842 - val_loss: 0.2534 - val_accuracy: 0.5008 - val_crm_specificity: 1.0000 - val_recall: 0.0000e+00 - val_precision: 0.0000e+00 - val_crm_f1_score: 0.0000e+00 - lr: 0.0977\n",
      "Epoch 2/500\n",
      "72/72 [==============================] - 11s 156ms/step - loss: 0.2181 - accuracy: 0.6427 - crm_specificity: 0.6704 - recall: 0.6151 - precision: 0.6511 - crm_f1_score: 0.6324 - val_loss: 0.2567 - val_accuracy: 0.5158 - val_crm_specificity: 0.9932 - val_recall: 0.0385 - val_precision: 0.8506 - val_crm_f1_score: 0.0738 - lr: 0.0955\n",
      "Epoch 3/500\n",
      "72/72 [==============================] - 12s 158ms/step - loss: 0.2163 - accuracy: 0.6481 - crm_specificity: 0.6663 - recall: 0.6302 - precision: 0.6535 - crm_f1_score: 0.6414 - val_loss: 0.2589 - val_accuracy: 0.5266 - val_crm_specificity: 0.9899 - val_recall: 0.0639 - val_precision: 0.8644 - val_crm_f1_score: 0.1191 - lr: 0.0933\n",
      "Epoch 4/500\n",
      "72/72 [==============================] - 12s 158ms/step - loss: 0.2142 - accuracy: 0.6535 - crm_specificity: 0.6650 - recall: 0.6423 - precision: 0.6570 - crm_f1_score: 0.6494 - val_loss: 0.2259 - val_accuracy: 0.6199 - val_crm_specificity: 0.8560 - val_recall: 0.3836 - val_precision: 0.7272 - val_crm_f1_score: 0.5022 - lr: 0.0912\n",
      "Epoch 5/500\n",
      "72/72 [==============================] - 12s 158ms/step - loss: 0.2141 - accuracy: 0.6524 - crm_specificity: 0.6681 - recall: 0.6368 - precision: 0.6573 - crm_f1_score: 0.6467 - val_loss: 0.2185 - val_accuracy: 0.6431 - val_crm_specificity: 0.7615 - val_recall: 0.5250 - val_precision: 0.6883 - val_crm_f1_score: 0.5953 - lr: 0.0891\n",
      "Epoch 6/500\n",
      "72/72 [==============================] - 12s 159ms/step - loss: 0.2136 - accuracy: 0.6531 - crm_specificity: 0.6705 - recall: 0.6360 - precision: 0.6586 - crm_f1_score: 0.6468 - val_loss: 0.2217 - val_accuracy: 0.6276 - val_crm_specificity: 0.4503 - val_recall: 0.8053 - val_precision: 0.5938 - val_crm_f1_score: 0.6833 - lr: 0.0871\n",
      "Epoch 7/500\n",
      "72/72 [==============================] - 12s 158ms/step - loss: 0.2127 - accuracy: 0.6559 - crm_specificity: 0.6671 - recall: 0.6448 - precision: 0.6594 - crm_f1_score: 0.6519 - val_loss: 0.2161 - val_accuracy: 0.6460 - val_crm_specificity: 0.6707 - val_recall: 0.6210 - val_precision: 0.6532 - val_crm_f1_score: 0.6364 - lr: 0.0851\n",
      "Epoch 8/500\n",
      "72/72 [==============================] - 12s 160ms/step - loss: 0.2110 - accuracy: 0.6601 - crm_specificity: 0.6780 - recall: 0.6424 - precision: 0.6660 - crm_f1_score: 0.6537 - val_loss: 0.2179 - val_accuracy: 0.6419 - val_crm_specificity: 0.5558 - val_recall: 0.7278 - val_precision: 0.6216 - val_crm_f1_score: 0.6704 - lr: 0.0832\n",
      "Epoch 9/500\n",
      "72/72 [==============================] - 12s 159ms/step - loss: 0.2115 - accuracy: 0.6594 - crm_specificity: 0.6759 - recall: 0.6431 - precision: 0.6646 - crm_f1_score: 0.6535 - val_loss: 0.2152 - val_accuracy: 0.6580 - val_crm_specificity: 0.7179 - val_recall: 0.5979 - val_precision: 0.6788 - val_crm_f1_score: 0.6353 - lr: 0.0813\n",
      "Epoch 10/500\n",
      "72/72 [==============================] - 12s 159ms/step - loss: 0.2113 - accuracy: 0.6603 - crm_specificity: 0.6709 - recall: 0.6499 - precision: 0.6639 - crm_f1_score: 0.6566 - val_loss: 0.2137 - val_accuracy: 0.6501 - val_crm_specificity: 0.7595 - val_recall: 0.5399 - val_precision: 0.6901 - val_crm_f1_score: 0.6057 - lr: 0.0794\n",
      "Epoch 11/500\n",
      "72/72 [==============================] - 12s 158ms/step - loss: 0.2102 - accuracy: 0.6617 - crm_specificity: 0.6780 - recall: 0.6455 - precision: 0.6671 - crm_f1_score: 0.6560 - val_loss: 0.2146 - val_accuracy: 0.6469 - val_crm_specificity: 0.7738 - val_recall: 0.5199 - val_precision: 0.6970 - val_crm_f1_score: 0.5953 - lr: 0.0776\n",
      "Epoch 12/500\n",
      "72/72 [==============================] - 12s 158ms/step - loss: 0.2082 - accuracy: 0.6692 - crm_specificity: 0.6872 - recall: 0.6515 - precision: 0.6754 - crm_f1_score: 0.6631 - val_loss: 0.2416 - val_accuracy: 0.6006 - val_crm_specificity: 0.9388 - val_recall: 0.2618 - val_precision: 0.8104 - val_crm_f1_score: 0.3952 - lr: 0.0759\n",
      "Epoch 13/500\n",
      "72/72 [==============================] - 12s 159ms/step - loss: 0.2082 - accuracy: 0.6686 - crm_specificity: 0.6855 - recall: 0.6519 - precision: 0.6744 - crm_f1_score: 0.6628 - val_loss: 0.2415 - val_accuracy: 0.6027 - val_crm_specificity: 0.9299 - val_recall: 0.2763 - val_precision: 0.7976 - val_crm_f1_score: 0.4101 - lr: 0.0741\n",
      "Epoch 14/500\n",
      "72/72 [==============================] - 12s 158ms/step - loss: 0.2061 - accuracy: 0.6729 - crm_specificity: 0.6932 - recall: 0.6526 - precision: 0.6801 - crm_f1_score: 0.6659 - val_loss: 0.2574 - val_accuracy: 0.5958 - val_crm_specificity: 0.9472 - val_recall: 0.2441 - val_precision: 0.8219 - val_crm_f1_score: 0.3762 - lr: 0.0724\n",
      "Epoch 15/500\n",
      "72/72 [==============================] - 12s 158ms/step - loss: 0.2049 - accuracy: 0.6774 - crm_specificity: 0.6935 - recall: 0.6614 - precision: 0.6833 - crm_f1_score: 0.6720 - val_loss: 0.2789 - val_accuracy: 0.5855 - val_crm_specificity: 0.9606 - val_recall: 0.2086 - val_precision: 0.8406 - val_crm_f1_score: 0.3335 - lr: 0.0708\n",
      "Epoch 16/500\n",
      "72/72 [==============================] - 12s 158ms/step - loss: 0.2049 - accuracy: 0.6754 - crm_specificity: 0.6972 - recall: 0.6538 - precision: 0.6834 - crm_f1_score: 0.6680 - val_loss: 0.3039 - val_accuracy: 0.5653 - val_crm_specificity: 0.9776 - val_recall: 0.1521 - val_precision: 0.8715 - val_crm_f1_score: 0.2586 - lr: 0.0692\n",
      "Epoch 17/500\n",
      "72/72 [==============================] - 11s 157ms/step - loss: 0.2039 - accuracy: 0.6801 - crm_specificity: 0.6982 - recall: 0.6621 - precision: 0.6867 - crm_f1_score: 0.6740 - val_loss: 0.2481 - val_accuracy: 0.5986 - val_crm_specificity: 0.9525 - val_recall: 0.2452 - val_precision: 0.8381 - val_crm_f1_score: 0.3789 - lr: 0.0676\n",
      "Epoch 18/500\n",
      "72/72 [==============================] - 12s 159ms/step - loss: 0.2050 - accuracy: 0.6770 - crm_specificity: 0.6903 - recall: 0.6639 - precision: 0.6818 - crm_f1_score: 0.6725 - val_loss: 0.2961 - val_accuracy: 0.5536 - val_crm_specificity: 0.9870 - val_recall: 0.1206 - val_precision: 0.9035 - val_crm_f1_score: 0.2125 - lr: 0.0661\n",
      "Epoch 19/500\n",
      "72/72 [==============================] - 11s 156ms/step - loss: 0.2022 - accuracy: 0.6830 - crm_specificity: 0.6993 - recall: 0.6670 - precision: 0.6892 - crm_f1_score: 0.6778 - val_loss: 0.2575 - val_accuracy: 0.6081 - val_crm_specificity: 0.9439 - val_recall: 0.2713 - val_precision: 0.8284 - val_crm_f1_score: 0.4085 - lr: 0.0646\n",
      "Epoch 20/500\n",
      "72/72 [==============================] - 12s 159ms/step - loss: 0.2035 - accuracy: 0.6801 - crm_specificity: 0.6942 - recall: 0.6661 - precision: 0.6853 - crm_f1_score: 0.6754 - val_loss: 0.2372 - val_accuracy: 0.6292 - val_crm_specificity: 0.9027 - val_recall: 0.3564 - val_precision: 0.7860 - val_crm_f1_score: 0.4895 - lr: 0.0631\n",
      "Epoch 21/500\n",
      "72/72 [==============================] - 12s 159ms/step - loss: 0.2019 - accuracy: 0.6841 - crm_specificity: 0.7018 - recall: 0.6666 - precision: 0.6907 - crm_f1_score: 0.6783 - val_loss: 0.2145 - val_accuracy: 0.6566 - val_crm_specificity: 0.8586 - val_recall: 0.4550 - val_precision: 0.7628 - val_crm_f1_score: 0.5696 - lr: 0.0617\n",
      "Epoch 22/500\n",
      "72/72 [==============================] - 12s 159ms/step - loss: 0.2026 - accuracy: 0.6829 - crm_specificity: 0.7006 - recall: 0.6652 - precision: 0.6896 - crm_f1_score: 0.6771 - val_loss: 0.2403 - val_accuracy: 0.6174 - val_crm_specificity: 0.9324 - val_recall: 0.3018 - val_precision: 0.8166 - val_crm_f1_score: 0.4403 - lr: 0.0603\n",
      "Epoch 23/500\n",
      "72/72 [==============================] - 12s 159ms/step - loss: 0.1999 - accuracy: 0.6894 - crm_specificity: 0.7072 - recall: 0.6717 - precision: 0.6962 - crm_f1_score: 0.6837 - val_loss: 0.2480 - val_accuracy: 0.6130 - val_crm_specificity: 0.9316 - val_recall: 0.2940 - val_precision: 0.8110 - val_crm_f1_score: 0.4310 - lr: 0.0589\n",
      "Epoch 24/500\n",
      "72/72 [==============================] - 12s 158ms/step - loss: 0.2006 - accuracy: 0.6876 - crm_specificity: 0.7022 - recall: 0.6732 - precision: 0.6932 - crm_f1_score: 0.6830 - val_loss: 0.2563 - val_accuracy: 0.6023 - val_crm_specificity: 0.9421 - val_recall: 0.2651 - val_precision: 0.8219 - val_crm_f1_score: 0.4007 - lr: 0.0575\n",
      "Epoch 25/500\n",
      "72/72 [==============================] - 11s 157ms/step - loss: 0.1991 - accuracy: 0.6909 - crm_specificity: 0.7089 - recall: 0.6731 - precision: 0.6980 - crm_f1_score: 0.6853 - val_loss: 0.2678 - val_accuracy: 0.5926 - val_crm_specificity: 0.9476 - val_recall: 0.2360 - val_precision: 0.8174 - val_crm_f1_score: 0.3658 - lr: 0.0562\n",
      "Epoch 26/500\n",
      "72/72 [==============================] - 12s 158ms/step - loss: 0.1989 - accuracy: 0.6911 - crm_specificity: 0.7082 - recall: 0.6741 - precision: 0.6980 - crm_f1_score: 0.6857 - val_loss: 0.2508 - val_accuracy: 0.6068 - val_crm_specificity: 0.9385 - val_recall: 0.2766 - val_precision: 0.8188 - val_crm_f1_score: 0.4129 - lr: 0.0550\n",
      "Epoch 27/500\n",
      "72/72 [==============================] - 12s 158ms/step - loss: 0.1960 - accuracy: 0.6965 - crm_specificity: 0.7126 - recall: 0.6806 - precision: 0.7029 - crm_f1_score: 0.6914 - val_loss: 0.2135 - val_accuracy: 0.6579 - val_crm_specificity: 0.8531 - val_recall: 0.4634 - val_precision: 0.7593 - val_crm_f1_score: 0.5753 - lr: 0.0537\n",
      "Epoch 28/500\n",
      "72/72 [==============================] - 12s 158ms/step - loss: 0.1957 - accuracy: 0.6993 - crm_specificity: 0.7148 - recall: 0.6840 - precision: 0.7056 - crm_f1_score: 0.6945 - val_loss: 0.2634 - val_accuracy: 0.6083 - val_crm_specificity: 0.9533 - val_recall: 0.2622 - val_precision: 0.8481 - val_crm_f1_score: 0.3999 - lr: 0.0525\n",
      "Epoch 29/500\n",
      "72/72 [==============================] - 12s 158ms/step - loss: 0.1960 - accuracy: 0.6980 - crm_specificity: 0.7135 - recall: 0.6825 - precision: 0.7043 - crm_f1_score: 0.6931 - val_loss: 0.2279 - val_accuracy: 0.6316 - val_crm_specificity: 0.9125 - val_recall: 0.3512 - val_precision: 0.8004 - val_crm_f1_score: 0.4879 - lr: 0.0513\n",
      "Epoch 30/500\n",
      "72/72 [==============================] - 12s 158ms/step - loss: 0.1965 - accuracy: 0.6971 - crm_specificity: 0.7098 - recall: 0.6846 - precision: 0.7023 - crm_f1_score: 0.6932 - val_loss: 0.2378 - val_accuracy: 0.6282 - val_crm_specificity: 0.9119 - val_recall: 0.3437 - val_precision: 0.7957 - val_crm_f1_score: 0.4797 - lr: 0.0501\n",
      "Epoch 31/500\n",
      "72/72 [==============================] - 12s 159ms/step - loss: 0.1952 - accuracy: 0.6993 - crm_specificity: 0.7142 - recall: 0.6846 - precision: 0.7054 - crm_f1_score: 0.6947 - val_loss: 0.2341 - val_accuracy: 0.6280 - val_crm_specificity: 0.9261 - val_recall: 0.3288 - val_precision: 0.8158 - val_crm_f1_score: 0.4683 - lr: 0.0490\n"
     ]
    },
    {
     "data": {
      "text/plain": [
       "<keras.callbacks.History at 0x7f4a81be69a0>"
      ]
     },
     "execution_count": 14,
     "metadata": {},
     "output_type": "execute_result"
    }
   ],
   "source": [
    "model.fit(train_seq, epochs=500, validation_data=valid_seq, workers=26, callbacks=[early_stopping, lr_scheduler]) #,workers=26"
   ]
  },
  {
   "cell_type": "code",
   "execution_count": 15,
   "metadata": {},
   "outputs": [
    {
     "name": "stderr",
     "output_type": "stream",
     "text": [
      "WARNING:absl:Found untraced functions such as _jit_compiled_convolution_op, _jit_compiled_convolution_op, _jit_compiled_convolution_op, _jit_compiled_convolution_op, _jit_compiled_convolution_op while saving (showing 5 of 5). These functions will not be directly callable after loading.\n"
     ]
    },
    {
     "name": "stdout",
     "output_type": "stream",
     "text": [
      "INFO:tensorflow:Assets written to: ExperimentLGNRModel/assets\n"
     ]
    },
    {
     "name": "stderr",
     "output_type": "stream",
     "text": [
      "INFO:tensorflow:Assets written to: ExperimentLGNRModel/assets\n"
     ]
    }
   ],
   "source": [
    "model.save(\"ExperimentLGNRModel\")"
   ]
  },
  {
   "cell_type": "markdown",
   "metadata": {
    "tags": []
   },
   "source": [
    "## Evaluating Model"
   ]
  },
  {
   "cell_type": "code",
   "execution_count": 16,
   "metadata": {},
   "outputs": [
    {
     "name": "stdout",
     "output_type": "stream",
     "text": [
      "72/72 [==============================] - 8s 117ms/step - loss: 0.2109 - accuracy: 0.6639 - crm_specificity: 0.7742 - recall: 0.5536 - precision: 0.7102 - crm_f1_score: 0.6219\n",
      "72/72 [==============================] - 9s 118ms/step - loss: 0.2118 - accuracy: 0.6596 - crm_specificity: 0.7689 - recall: 0.5503 - precision: 0.7044 - crm_f1_score: 0.6176\n",
      "72/72 [==============================] - 9s 119ms/step - loss: 0.2113 - accuracy: 0.6623 - crm_specificity: 0.7758 - recall: 0.5488 - precision: 0.7099 - crm_f1_score: 0.6187\n",
      "0.2113,66.2,77.29,55.09,70.82,61.94\n"
     ]
    }
   ],
   "source": [
    "nets.print_results(train_seq, model)"
   ]
  },
  {
   "cell_type": "code",
   "execution_count": 17,
   "metadata": {},
   "outputs": [
    {
     "name": "stdout",
     "output_type": "stream",
     "text": [
      "15/15 [==============================] - 2s 118ms/step - loss: 0.2154 - accuracy: 0.6535 - crm_specificity: 0.7757 - recall: 0.5310 - precision: 0.7027 - crm_f1_score: 0.6048\n",
      "15/15 [==============================] - 2s 118ms/step - loss: 0.2173 - accuracy: 0.6433 - crm_specificity: 0.7694 - recall: 0.5171 - precision: 0.6910 - crm_f1_score: 0.5914\n",
      "15/15 [==============================] - 2s 118ms/step - loss: 0.2148 - accuracy: 0.6512 - crm_specificity: 0.7755 - recall: 0.5267 - precision: 0.7018 - crm_f1_score: 0.6017\n",
      "0.2158,64.93,77.35,52.49,69.85,59.93\n"
     ]
    }
   ],
   "source": [
    "nets.print_results(valid_seq, model)"
   ]
  },
  {
   "cell_type": "code",
   "execution_count": null,
   "metadata": {},
   "outputs": [],
   "source": []
  }
 ],
 "metadata": {
  "kernelspec": {
   "display_name": "tf-gpu",
   "language": "python",
   "name": "tf-gpu"
  },
  "language_info": {
   "codemirror_mode": {
    "name": "ipython",
    "version": 3
   },
   "file_extension": ".py",
   "mimetype": "text/x-python",
   "name": "python",
   "nbconvert_exporter": "python",
   "pygments_lexer": "ipython3",
   "version": "3.9.16"
  }
 },
 "nbformat": 4,
 "nbformat_minor": 4
}
