{
 "cells": [
  {
   "cell_type": "markdown",
   "id": "6efca9bc-b715-4219-b1f5-a0e81294e869",
   "metadata": {},
   "source": [
    "# HierarchicalMultiLabelClassifier\n",
    "## Create and evaluate a Hierarchical Multi-Label Classifier"
   ]
  },
  {
   "cell_type": "markdown",
   "id": "a386bd74",
   "metadata": {},
   "source": [
    "# Imports"
   ]
  },
  {
   "cell_type": "code",
   "execution_count": 1,
   "id": "9add776e-9514-4cba-a894-70950b53261c",
   "metadata": {
    "tags": []
   },
   "outputs": [],
   "source": [
    "import os\n",
    "os.environ['TF_CPP_MIN_LOG_LEVEL'] = '2' "
   ]
  },
  {
   "cell_type": "code",
   "execution_count": 2,
   "id": "f012f23d-bdba-4367-9aaf-d1238617f6d2",
   "metadata": {
    "tags": []
   },
   "outputs": [],
   "source": [
    "# # Credit: https://stackoverflow.com/questions/34199233/how-to-prevent-tensorflow-from-allocating-the-totality-of-a-gpu-memory\n",
    "import tensorflow as tf\n",
    "gpus = tf.config.experimental.list_physical_devices('GPU')\n",
    "for gpu in gpus:\n",
    "    tf.config.experimental.set_memory_growth(gpu, True)\n"
   ]
  },
  {
   "cell_type": "code",
   "execution_count": 3,
   "id": "da42a7dd-298f-4245-932b-c19acde05c99",
   "metadata": {
    "tags": []
   },
   "outputs": [
    {
     "name": "stderr",
     "output_type": "stream",
     "text": [
      "/home/transposons/miniconda3/envs/tf-gpu/lib/python3.9/site-packages/tensorflow_addons/utils/tfa_eol_msg.py:23: UserWarning: \n",
      "\n",
      "TensorFlow Addons (TFA) has ended development and introduction of new features.\n",
      "TFA has entered a minimal maintenance and release mode until a planned end of life in May 2024.\n",
      "Please modify downstream libraries to take dependencies from other repositories in our TensorFlow community (e.g. Keras, Keras-CV, and Keras-NLP). \n",
      "\n",
      "For more information see: https://github.com/tensorflow/addons/issues/2807 \n",
      "\n",
      "  warnings.warn(\n"
     ]
    }
   ],
   "source": [
    "import data\n",
    "from tensorflow import keras\n",
    "from loaders import PremadeTripletClassifierSequence\n",
    "import numpy as np\n",
    "import pandas as pd\n",
    "from keras import backend as K\n",
    "import sys"
   ]
  },
  {
   "cell_type": "markdown",
   "id": "fa605c31",
   "metadata": {},
   "source": [
    "# Files"
   ]
  },
  {
   "cell_type": "code",
   "execution_count": 4,
   "id": "3ef48a27-8cf5-411d-a740-50d1a4255928",
   "metadata": {
    "tags": []
   },
   "outputs": [],
   "source": [
    "data_dir = '../Data/Datasets'\n",
    "\n",
    "fantom_path = f\"{data_dir}/Fantom\"\n",
    "all_path = f\"{data_dir}/All\"\n",
    "train_fantom_path = f\"{fantom_path}/train.usage.matrix\"\n",
    "valid_fantom_path = f\"{fantom_path}/valid.usage.matrix\"\n",
    "test_fantom_path = f\"{fantom_path}/test.usage.matrix\"\n",
    "\n",
    "train_sequence = f\"{all_path}/train_sequences.fa\"\n",
    "valid_sequence = f\"{all_path}/valid_sequences.fa\"\n",
    "test_sequence = f\"{all_path}/test_sequences.fa\"\n",
    "\n",
    "reverse_train_sequence = f'{all_path}/reverse_train_sequences.fa'\n",
    "reverse_valid_sequence = f'{all_path}/reverse_valid_sequences.fa'\n",
    "reverse_test_sequence = f'{all_path}/reverse_test_sequences.fa'\n",
    "\n",
    "train_triplet_dis = f'{all_path}/train_triplet_dis.npy'\n",
    "valid_triplet_dis = f'{all_path}/valid_triplet_dis.npy'\n",
    "test_triplet_dis = f'{all_path}/test_triplet_dis.npy'\n",
    "\n",
    "train_triplet_sim = f'{all_path}/train_triplet_sim.npy'\n",
    "valid_triplet_sim = f'{all_path}/valid_triplet_sim.npy'\n",
    "test_triplet_sim = f'{all_path}/test_triplet_sim.npy'"
   ]
  },
  {
   "cell_type": "markdown",
   "id": "d20b1bcc",
   "metadata": {},
   "source": [
    "## Parameters"
   ]
  },
  {
   "cell_type": "code",
   "execution_count": 5,
   "id": "0c464fc1-ca94-4fb6-a3c1-40fd894ace7a",
   "metadata": {
    "tags": []
   },
   "outputs": [],
   "source": [
    "codings_size = 100 # Number of neurons for dense layers\n",
    "exp_filter_num = 8 # Number of filters for convolutional layers\n",
    "exp_filter_1d_size = 11 # Filter Size for 1D convolutional layers\n",
    "max_len = 600 # Maximum length of sequence\n",
    "allow_reverse = True # Allow reverse complement?\n",
    "threshold = 0.55 # threshold for classifier"
   ]
  },
  {
   "cell_type": "markdown",
   "id": "8e35d249",
   "metadata": {},
   "source": [
    "## Data"
   ]
  },
  {
   "cell_type": "code",
   "execution_count": 6,
   "id": "8d36d583-692d-4e9d-99fa-2ac1d946c09c",
   "metadata": {
    "tags": []
   },
   "outputs": [],
   "source": [
    "def make_x_y_z_w(fp, sp):\n",
    "    '''\n",
    "    fp: path to the FANTOM matrix file\n",
    "    sp: path to the FASTA file with every enhancer and random sequence\n",
    "    \n",
    "    Returns x, y, z, and w:\n",
    "    x: the one hot encodings of the enhancers and random sequences (including the reverse complement of each)\n",
    "    y: contains the target data for the multi-label (in the form of tissues that the enhancer is active in)\n",
    "    z: contains the binary labels (in the form of, \"Is the sequence an enhancer?\")\n",
    "    w: contains the sample weights of each sequence. The enhancers are given a separate weight from the random sequences, which are given a weight of 1.\n",
    "    '''\n",
    "    \n",
    "    \n",
    "    # m contains the FANTOM enhancer matrix\n",
    "    m = pd.read_csv(fp, sep = '\\t').to_numpy()[:, 1:]\n",
    "    # x contains the enhancers and random sequences\n",
    "    x = data.FantomToOneHotConverterRCAddition(sp, 0, 600).seq_matrix\n",
    "\n",
    "    # y contains the multi-labels for acive tissue\n",
    "    y = np.zeros((len(x), m.shape[-1]), dtype = np.ubyte)\n",
    "    \n",
    "    # z contains binary labels for enhancer or not\n",
    "    z = np.zeros((len(x), 1), dtype=np.ubyte)\n",
    "    \n",
    "    # Sample weights. A weight must be an integer because of the data type\n",
    "    w = np.ones((len(x), 1), dtype=np.ubyte)\n",
    "    \n",
    "    seq_size = len(x) // 2\n",
    "\n",
    "    # Accounting for reverse complement: Original - RC - Original - RC\n",
    "    for i in range(len(m)):\n",
    "        y[i, :] = m[i, :]\n",
    "        z[i, 0] = 1\n",
    "        w[i, 0] = 12\n",
    "        \n",
    "    for i in range(seq_size, len(m) + seq_size):\n",
    "        y[i, :] = m[i - seq_size, :]\n",
    "        z[i, 0] = 1\n",
    "        w[i, 0] = 12\n",
    "    \n",
    "    return np.expand_dims(x, axis=3), y, z, w"
   ]
  },
  {
   "cell_type": "code",
   "execution_count": 7,
   "id": "7ac336d8-c73a-4977-811d-f9221b81ea15",
   "metadata": {
    "tags": []
   },
   "outputs": [],
   "source": [
    "train_x, train_y, train_z, train_w = make_x_y_z_w(train_fantom_path, train_sequence)\n",
    "valid_x , valid_y , valid_z , valid_w = make_x_y_z_w(valid_fantom_path, valid_sequence)"
   ]
  },
  {
   "cell_type": "code",
   "execution_count": 9,
   "id": "28344592-1617-40fc-af97-86ceb32228fe",
   "metadata": {
    "tags": []
   },
   "outputs": [],
   "source": [
    "def randomize(x, y, z, w):\n",
    "    indices = np.random.permutation(len(x))\n",
    "    \n",
    "    return x[indices], y[indices], z[indices], w[indices]"
   ]
  },
  {
   "cell_type": "code",
   "execution_count": 10,
   "id": "16d5c34f-a46b-4b99-8dab-1ec1fda71117",
   "metadata": {
    "tags": []
   },
   "outputs": [
    {
     "name": "stdout",
     "output_type": "stream",
     "text": [
      "4 600 1\n"
     ]
    }
   ],
   "source": [
    "d1, d2, d3 = train_x.shape[1:]\n",
    "print(d1, d2, d3)"
   ]
  },
  {
   "cell_type": "code",
   "execution_count": 13,
   "id": "e5bc784e-4c39-4430-ac34-6a8a6d0388bd",
   "metadata": {
    "tags": []
   },
   "outputs": [],
   "source": [
    "train_x, train_y, train_z, train_w = randomize(train_x, train_y, train_z, train_w)\n",
    "valid_x, valid_y, valid_z, valid_w = randomize(valid_x, valid_y, valid_z, valid_w)"
   ]
  },
  {
   "cell_type": "markdown",
   "id": "df939b8e",
   "metadata": {
    "tags": []
   },
   "source": [
    "## Creating Hierarchical Classifier Model"
   ]
  },
  {
   "cell_type": "code",
   "execution_count": 18,
   "id": "423b3249-2a42-4adf-a8e6-db97f65e698d",
   "metadata": {
    "tags": []
   },
   "outputs": [],
   "source": [
    "model = nets.make_multi_conv_classifier(codings_size, (d1, d2, d3), exp_filter_1d_size, filter_num=exp_filter_num, kernel_2d_col = 3, class_num = train_y.shape[1])"
   ]
  },
  {
   "cell_type": "markdown",
   "id": "cf97ce44-2aa1-45eb-89e3-1aad7c9445f6",
   "metadata": {},
   "source": [
    "### Creating Loss and Metric Functions"
   ]
  },
  {
   "cell_type": "code",
   "execution_count": 20,
   "id": "a75c47d2-5c29-4447-946e-cabd864874e1",
   "metadata": {
    "tags": []
   },
   "outputs": [],
   "source": [
    "def jaccard_index_ones(y_true, y_pred):\n",
    "    '''\n",
    "    Custom metric that uses Jaccard index for positives only\n",
    "    '''\n",
    "    # Applying a threshold to get the binary predictions\n",
    "    y_pred = tf.cast(tf.math.greater(y_pred, tf.constant([0.5])), dtype=tf.float32)\n",
    "    y_true = tf.cast(y_true, dtype=tf.float32)\n",
    "\n",
    "    # Calculating the intersection\n",
    "    intersection = tf.math.reduce_sum(y_true * y_pred, axis=-1)\n",
    "\n",
    "    # Calculating the union\n",
    "    union = tf.math.reduce_sum(y_true + y_pred, axis=-1) - intersection\n",
    "\n",
    "    \n",
    "    return intersection / (union + K.epsilon())"
   ]
  },
  {
   "cell_type": "code",
   "execution_count": 21,
   "id": "b1a3d6f0-eca6-41a1-8d14-4766fce7360c",
   "metadata": {
    "tags": []
   },
   "outputs": [],
   "source": [
    "def jaccard_index_zeros(y_true, y_pred):\n",
    "    '''\n",
    "    Custom metric that uses Jaccard index for negatives only\n",
    "    '''\n",
    "    y_pred = tf.cast(tf.math.greater(y_pred, tf.constant([0.5])), dtype=tf.float32)\n",
    "    y_pred = 1 - y_pred\n",
    "    y_true = 1 - y_true\n",
    "    \n",
    "    return jaccard_index_ones(y_true, y_pred)"
   ]
  },
  {
   "cell_type": "code",
   "execution_count": 22,
   "id": "34538805-b0d8-448c-a9d4-c10dcded6940",
   "metadata": {
    "tags": []
   },
   "outputs": [],
   "source": [
    "def jaccard_index_loss(y_true, y_pred):\n",
    "    '''\n",
    "    Custom loss function that calculates the jaccard index loss\n",
    "    '''\n",
    "    y_pred = tf.cast(y_pred, dtype=tf.float32)\n",
    "    y_true = tf.cast(y_true, dtype=tf.float32)\n",
    "\n",
    "    # Calculating the intersection\n",
    "    intersection = tf.math.reduce_sum(y_true * y_pred, axis=-1)\n",
    "\n",
    "    # Calculating the union\n",
    "    union = tf.math.reduce_sum(y_true + y_pred, axis=-1) - intersection\n",
    "\n",
    "    \n",
    "    return 1.0 - (intersection / (union + K.epsilon()))"
   ]
  },
  {
   "cell_type": "code",
   "execution_count": 23,
   "id": "13ff4570-94a3-42d3-bd59-f78c11817fa9",
   "metadata": {
    "tags": []
   },
   "outputs": [],
   "source": [
    "def jaccard_index_f1(y_true, y_pred):\n",
    "    '''\n",
    "    Custom loss function that uses the harmonic mean of the Jaccard index (ones and zeros) for positives and negatives\n",
    "    '''\n",
    "    negatives = jaccard_index_zeros(y_true, y_pred)\n",
    "    positives = jaccard_index_ones(y_true, y_pred)\n",
    "    \n",
    "    return (2 * negatives * positives) / (negatives + positives + K.epsilon())"
   ]
  },
  {
   "cell_type": "code",
   "execution_count": 24,
   "id": "dd44c7e9-4556-4582-88d0-090ecfbe66b6",
   "metadata": {
    "tags": []
   },
   "outputs": [],
   "source": [
    "def recall(y_true, y_pred):\n",
    "    '''\n",
    "    Custom metric that calculates recall\n",
    "    '''\n",
    "    # Applying a threshold to get the binary predictions\n",
    "    y_pred = tf.cast(tf.math.greater(y_pred, tf.constant([0.5])), dtype=tf.float32)\n",
    "    y_true = tf.cast(y_true, dtype=tf.float32)\n",
    "\n",
    "    # Calculating the True Positives\n",
    "    true_positives = tf.math.reduce_sum(y_true * y_pred, axis=-1)\n",
    "\n",
    "    # Calculating the possible positives\n",
    "    all_positives = tf.math.reduce_sum(y_true, axis=-1)\n",
    "\n",
    "    # Calculating Recall\n",
    "    recall_value = true_positives / (all_positives + K.epsilon())\n",
    "\n",
    "    return recall_value"
   ]
  },
  {
   "cell_type": "code",
   "execution_count": 27,
   "id": "b7e9b343-7050-463c-99ad-433e70782df7",
   "metadata": {},
   "outputs": [],
   "source": [
    "def specificity(y_true, y_pred):\n",
    "    '''\n",
    "    Custom metric that calculates specificity\n",
    "    '''\n",
    "    # Applying a threshold to get the binary predictions\n",
    "    y_pred = tf.cast(tf.math.greater(y_pred, tf.constant([0.5])), dtype=tf.float32)\n",
    "    y_pred = 1 - y_pred\n",
    "    y_true = 1 - y_true\n",
    "    \n",
    "    return recall(y_true, y_pred)"
   ]
  },
  {
   "cell_type": "code",
   "execution_count": 28,
   "id": "652f4a8a-9f2c-4ec3-a8dc-b6555c165af8",
   "metadata": {},
   "outputs": [],
   "source": [
    "def accuracy(y_true, y_pred):\n",
    "    '''\n",
    "    Custom metric that calculates accuracy\n",
    "    '''\n",
    "    y_pred = tf.cast(tf.math.greater(y_pred, tf.constant([0.5])), dtype = tf.float32)\n",
    "    y_true = tf.cast(y_true, dtype = tf.float32)\n",
    "\n",
    "    correct_labels = tf.cast(tf.math.equal(y_true, y_pred), dtype = tf.float32)\n",
    "    return tf.math.reduce_mean(correct_labels, axis = -1)"
   ]
  },
  {
   "cell_type": "markdown",
   "id": "8a6fcc0d-d629-4dee-9798-251c52769127",
   "metadata": {
    "tags": []
   },
   "source": [
    "### Compiling"
   ]
  },
  {
   "cell_type": "code",
   "execution_count": 31,
   "id": "55f48612-7d19-4fda-8452-797d3a073eac",
   "metadata": {
    "tags": []
   },
   "outputs": [],
   "source": [
    "opt = keras.optimizers.SGD(learning_rate=1.0, momentum=0.9, nesterov=True) # 0.1"
   ]
  },
  {
   "cell_type": "code",
   "execution_count": 32,
   "id": "9744a664-803e-4f77-a9f5-edeb2194d738",
   "metadata": {
    "tags": []
   },
   "outputs": [],
   "source": [
    "\n",
    "model.compile(loss={'output_1':jaccard_index_loss, 'output_2':'mse'},\n",
    "              metrics={'output_1':[jaccard_index_f1, recall, specificity, accuracy], 'output_2':[tf.keras.metrics.AUC(curve=\"ROC\"), tf.keras.metrics.Recall(name=\"binary_recall\"), tf.keras.metrics.Precision(name=\"binary_precision\")]}, \n",
    "              optimizer=opt)"
   ]
  },
  {
   "cell_type": "code",
   "execution_count": 33,
   "id": "eb049390-7af4-473c-abf1-961750c5b989",
   "metadata": {
    "tags": []
   },
   "outputs": [],
   "source": [
    "early_stopping = keras.callbacks.EarlyStopping(patience=20, min_delta=1/100000, restore_best_weights=True, monitor='val_loss', start_from_epoch = 10, mode='min') "
   ]
  },
  {
   "cell_type": "code",
   "execution_count": 34,
   "id": "0dcb245e-b0a5-4eaa-bd85-5ef2cb57dcef",
   "metadata": {
    "tags": []
   },
   "outputs": [],
   "source": [
    "def exponential_decay_fn(epoch, lr):\n",
    "    '''\n",
    "    This function decreases the learning rate according to the epoch\n",
    "    '''\n",
    "    return lr*0.1**(1/100)\n",
    "\n",
    "lr_scheduler = keras.callbacks.LearningRateScheduler(exponential_decay_fn)"
   ]
  },
  {
   "cell_type": "markdown",
   "id": "8543c699-6eae-491a-81d1-1c8b3477dd5b",
   "metadata": {},
   "source": [
    "### Training"
   ]
  },
  {
   "cell_type": "code",
   "execution_count": 41,
   "id": "8638bae6-8fb0-41e5-a8d7-0dc3268c0951",
   "metadata": {
    "collapsed": true,
    "jupyter": {
     "outputs_hidden": true
    },
    "tags": []
   },
   "outputs": [
    {
     "name": "stdout",
     "output_type": "stream",
     "text": [
      "Epoch 1/500\n",
      "975/975 [==============================] - 69s 62ms/step - loss: 2.3574 - output_1_loss: 1.7950 - output_2_loss: 0.5624 - output_1_jaccard_index_f1: 0.0033 - output_1_recall: 0.0449 - output_1_specificity: 0.5156 - output_1_accuracy: 0.5157 - output_2_auc: 0.5763 - output_2_binary_recall: 0.6028 - output_2_binary_precision: 0.0945 - val_loss: 1.2898 - val_output_1_loss: 0.9977 - val_output_2_loss: 0.2920 - val_output_1_jaccard_index_f1: 0.0048 - val_output_1_recall: 0.0473 - val_output_1_specificity: 0.6652 - val_output_1_accuracy: 0.6651 - val_output_2_auc: 0.5968 - val_output_2_binary_recall: 0.6857 - val_output_2_binary_precision: 0.0909 - lr: 0.9772\n",
      "Epoch 2/500\n",
      "975/975 [==============================] - 60s 62ms/step - loss: 2.1310 - output_1_loss: 1.7764 - output_2_loss: 0.3546 - output_1_jaccard_index_f1: 0.0061 - output_1_recall: 0.0374 - output_1_specificity: 0.6030 - output_1_accuracy: 0.6024 - output_2_auc: 0.7693 - output_2_binary_recall: 0.6980 - output_2_binary_precision: 0.1561 - val_loss: 1.0846 - val_output_1_loss: 0.9978 - val_output_2_loss: 0.0868 - val_output_1_jaccard_index_f1: 0.0038 - val_output_1_recall: 0.0437 - val_output_1_specificity: 0.2217 - val_output_1_accuracy: 0.2217 - val_output_2_auc: 0.6684 - val_output_2_binary_recall: 0.1015 - val_output_2_binary_precision: 0.1434 - lr: 0.9550\n",
      "Epoch 3/500\n",
      "975/975 [==============================] - 61s 63ms/step - loss: 2.0628 - output_1_loss: 1.7532 - output_2_loss: 0.3096 - output_1_jaccard_index_f1: 0.0085 - output_1_recall: 0.0229 - output_1_specificity: 0.7377 - output_1_accuracy: 0.7367 - output_2_auc: 0.8244 - output_2_binary_recall: 0.7266 - output_2_binary_precision: 0.2007 - val_loss: 1.0663 - val_output_1_loss: 0.9984 - val_output_2_loss: 0.0679 - val_output_1_jaccard_index_f1: 0.0022 - val_output_1_recall: 0.0539 - val_output_1_specificity: 0.0691 - val_output_1_accuracy: 0.0698 - val_output_2_auc: 0.7039 - val_output_2_binary_recall: 0.0030 - val_output_2_binary_precision: 0.4608 - lr: 0.9333\n",
      "Epoch 4/500\n",
      "975/975 [==============================] - 61s 63ms/step - loss: 2.0399 - output_1_loss: 1.7469 - output_2_loss: 0.2930 - output_1_jaccard_index_f1: 0.0090 - output_1_recall: 0.0200 - output_1_specificity: 0.7790 - output_1_accuracy: 0.7779 - output_2_auc: 0.8419 - output_2_binary_recall: 0.7339 - output_2_binary_precision: 0.2215 - val_loss: 1.0854 - val_output_1_loss: 0.9946 - val_output_2_loss: 0.0909 - val_output_1_jaccard_index_f1: 0.0089 - val_output_1_recall: 0.0233 - val_output_1_specificity: 0.5454 - val_output_1_accuracy: 0.5444 - val_output_2_auc: 0.8339 - val_output_2_binary_recall: 0.5479 - val_output_2_binary_precision: 0.3142 - lr: 0.9120\n",
      "Epoch 5/500\n",
      "975/975 [==============================] - 61s 63ms/step - loss: 2.0224 - output_1_loss: 1.7460 - output_2_loss: 0.2764 - output_1_jaccard_index_f1: 0.0091 - output_1_recall: 0.0192 - output_1_specificity: 0.7874 - output_1_accuracy: 0.7863 - output_2_auc: 0.8582 - output_2_binary_recall: 0.7467 - output_2_binary_precision: 0.2420 - val_loss: 1.2020 - val_output_1_loss: 0.9944 - val_output_2_loss: 0.2077 - val_output_1_jaccard_index_f1: 0.0089 - val_output_1_recall: 0.0192 - val_output_1_specificity: 0.7450 - val_output_1_accuracy: 0.7440 - val_output_2_auc: 0.8111 - val_output_2_binary_recall: 0.7838 - val_output_2_binary_precision: 0.1639 - lr: 0.8913\n",
      "Epoch 6/500\n",
      "975/975 [==============================] - 61s 63ms/step - loss: 2.0106 - output_1_loss: 1.7446 - output_2_loss: 0.2660 - output_1_jaccard_index_f1: 0.0092 - output_1_recall: 0.0184 - output_1_specificity: 0.7940 - output_1_accuracy: 0.7929 - output_2_auc: 0.8678 - output_2_binary_recall: 0.7542 - output_2_binary_precision: 0.2553 - val_loss: 1.1763 - val_output_1_loss: 0.9941 - val_output_2_loss: 0.1822 - val_output_1_jaccard_index_f1: 0.0091 - val_output_1_recall: 0.0169 - val_output_1_specificity: 0.9148 - val_output_1_accuracy: 0.9137 - val_output_2_auc: 0.8566 - val_output_2_binary_recall: 0.8025 - val_output_2_binary_precision: 0.1959 - lr: 0.8710\n",
      "Epoch 7/500\n",
      "975/975 [==============================] - 61s 63ms/step - loss: 2.0027 - output_1_loss: 1.7442 - output_2_loss: 0.2584 - output_1_jaccard_index_f1: 0.0092 - output_1_recall: 0.0179 - output_1_specificity: 0.8128 - output_1_accuracy: 0.8116 - output_2_auc: 0.8747 - output_2_binary_recall: 0.7612 - output_2_binary_precision: 0.2650 - val_loss: 1.1327 - val_output_1_loss: 0.9942 - val_output_2_loss: 0.1386 - val_output_1_jaccard_index_f1: 0.0091 - val_output_1_recall: 0.0183 - val_output_1_specificity: 0.7211 - val_output_1_accuracy: 0.7200 - val_output_2_auc: 0.8734 - val_output_2_binary_recall: 0.7722 - val_output_2_binary_precision: 0.2479 - lr: 0.8511\n",
      "Epoch 8/500\n",
      "975/975 [==============================] - 61s 63ms/step - loss: 1.9974 - output_1_loss: 1.7442 - output_2_loss: 0.2532 - output_1_jaccard_index_f1: 0.0092 - output_1_recall: 0.0177 - output_1_specificity: 0.8280 - output_1_accuracy: 0.8268 - output_2_auc: 0.8792 - output_2_binary_recall: 0.7661 - output_2_binary_precision: 0.2719 - val_loss: 1.1008 - val_output_1_loss: 0.9941 - val_output_2_loss: 0.1067 - val_output_1_jaccard_index_f1: 0.0091 - val_output_1_recall: 0.0172 - val_output_1_specificity: 0.8606 - val_output_1_accuracy: 0.8595 - val_output_2_auc: 0.8724 - val_output_2_binary_recall: 0.7123 - val_output_2_binary_precision: 0.3025 - lr: 0.8318\n",
      "Epoch 9/500\n",
      "975/975 [==============================] - 61s 63ms/step - loss: 1.9929 - output_1_loss: 1.7441 - output_2_loss: 0.2488 - output_1_jaccard_index_f1: 0.0092 - output_1_recall: 0.0176 - output_1_specificity: 0.8324 - output_1_accuracy: 0.8312 - output_2_auc: 0.8830 - output_2_binary_recall: 0.7716 - output_2_binary_precision: 0.2780 - val_loss: 1.3264 - val_output_1_loss: 0.9941 - val_output_2_loss: 0.3323 - val_output_1_jaccard_index_f1: 0.0091 - val_output_1_recall: 0.0167 - val_output_1_specificity: 0.9361 - val_output_1_accuracy: 0.9350 - val_output_2_auc: 0.8495 - val_output_2_binary_recall: 0.9274 - val_output_2_binary_precision: 0.1134 - lr: 0.8128\n",
      "Epoch 10/500\n",
      "975/975 [==============================] - 61s 63ms/step - loss: 1.9887 - output_1_loss: 1.7440 - output_2_loss: 0.2448 - output_1_jaccard_index_f1: 0.0092 - output_1_recall: 0.0173 - output_1_specificity: 0.8554 - output_1_accuracy: 0.8542 - output_2_auc: 0.8863 - output_2_binary_recall: 0.7764 - output_2_binary_precision: 0.2821 - val_loss: 1.2898 - val_output_1_loss: 0.9941 - val_output_2_loss: 0.2958 - val_output_1_jaccard_index_f1: 0.0092 - val_output_1_recall: 0.0162 - val_output_1_specificity: 0.9312 - val_output_1_accuracy: 0.9301 - val_output_2_auc: 0.8736 - val_output_2_binary_recall: 0.9196 - val_output_2_binary_precision: 0.1364 - lr: 0.7943\n",
      "Epoch 11/500\n",
      "975/975 [==============================] - 61s 63ms/step - loss: 1.9851 - output_1_loss: 1.7435 - output_2_loss: 0.2416 - output_1_jaccard_index_f1: 0.0093 - output_1_recall: 0.0167 - output_1_specificity: 0.8872 - output_1_accuracy: 0.8860 - output_2_auc: 0.8889 - output_2_binary_recall: 0.7798 - output_2_binary_precision: 0.2867 - val_loss: 1.2726 - val_output_1_loss: 0.9940 - val_output_2_loss: 0.2785 - val_output_1_jaccard_index_f1: 0.0092 - val_output_1_recall: 0.0153 - val_output_1_specificity: 0.9612 - val_output_1_accuracy: 0.9601 - val_output_2_auc: 0.8761 - val_output_2_binary_recall: 0.8970 - val_output_2_binary_precision: 0.1511 - lr: 0.7762\n",
      "Epoch 12/500\n",
      "975/975 [==============================] - 61s 63ms/step - loss: 1.9816 - output_1_loss: 1.7427 - output_2_loss: 0.2390 - output_1_jaccard_index_f1: 0.0093 - output_1_recall: 0.0160 - output_1_specificity: 0.9230 - output_1_accuracy: 0.9218 - output_2_auc: 0.8911 - output_2_binary_recall: 0.7830 - output_2_binary_precision: 0.2895 - val_loss: 1.3106 - val_output_1_loss: 0.9940 - val_output_2_loss: 0.3166 - val_output_1_jaccard_index_f1: 0.0093 - val_output_1_recall: 0.0149 - val_output_1_specificity: 0.9715 - val_output_1_accuracy: 0.9704 - val_output_2_auc: 0.8693 - val_output_2_binary_recall: 0.9244 - val_output_2_binary_precision: 0.1305 - lr: 0.7586\n",
      "Epoch 13/500\n",
      "975/975 [==============================] - 61s 63ms/step - loss: 1.9778 - output_1_loss: 1.7422 - output_2_loss: 0.2356 - output_1_jaccard_index_f1: 0.0094 - output_1_recall: 0.0156 - output_1_specificity: 0.9383 - output_1_accuracy: 0.9371 - output_2_auc: 0.8938 - output_2_binary_recall: 0.7871 - output_2_binary_precision: 0.2949 - val_loss: 1.3541 - val_output_1_loss: 0.9940 - val_output_2_loss: 0.3601 - val_output_1_jaccard_index_f1: 0.0093 - val_output_1_recall: 0.0147 - val_output_1_specificity: 0.9716 - val_output_1_accuracy: 0.9705 - val_output_2_auc: 0.8816 - val_output_2_binary_recall: 0.9492 - val_output_2_binary_precision: 0.1203 - lr: 0.7413\n",
      "Epoch 14/500\n",
      "975/975 [==============================] - 61s 63ms/step - loss: 1.9747 - output_1_loss: 1.7417 - output_2_loss: 0.2330 - output_1_jaccard_index_f1: 0.0094 - output_1_recall: 0.0154 - output_1_specificity: 0.9463 - output_1_accuracy: 0.9451 - output_2_auc: 0.8958 - output_2_binary_recall: 0.7910 - output_2_binary_precision: 0.2972 - val_loss: 1.0940 - val_output_1_loss: 0.9939 - val_output_2_loss: 0.1000 - val_output_1_jaccard_index_f1: 0.0093 - val_output_1_recall: 0.0154 - val_output_1_specificity: 0.8695 - val_output_1_accuracy: 0.8683 - val_output_2_auc: 0.8835 - val_output_2_binary_recall: 0.7184 - val_output_2_binary_precision: 0.3263 - lr: 0.7244\n",
      "Epoch 15/500\n",
      "975/975 [==============================] - 61s 63ms/step - loss: 1.9719 - output_1_loss: 1.7415 - output_2_loss: 0.2304 - output_1_jaccard_index_f1: 0.0094 - output_1_recall: 0.0154 - output_1_specificity: 0.9550 - output_1_accuracy: 0.9538 - output_2_auc: 0.8980 - output_2_binary_recall: 0.7934 - output_2_binary_precision: 0.2998 - val_loss: 1.0543 - val_output_1_loss: 0.9940 - val_output_2_loss: 0.0603 - val_output_1_jaccard_index_f1: 0.0094 - val_output_1_recall: 0.0165 - val_output_1_specificity: 0.7815 - val_output_1_accuracy: 0.7804 - val_output_2_auc: 0.8754 - val_output_2_binary_recall: 0.5307 - val_output_2_binary_precision: 0.4793 - lr: 0.7079\n",
      "Epoch 16/500\n",
      "975/975 [==============================] - 61s 63ms/step - loss: 1.9687 - output_1_loss: 1.7411 - output_2_loss: 0.2276 - output_1_jaccard_index_f1: 0.0095 - output_1_recall: 0.0153 - output_1_specificity: 0.9566 - output_1_accuracy: 0.9554 - output_2_auc: 0.8999 - output_2_binary_recall: 0.7986 - output_2_binary_precision: 0.3035 - val_loss: 1.0476 - val_output_1_loss: 0.9940 - val_output_2_loss: 0.0536 - val_output_1_jaccard_index_f1: 0.0094 - val_output_1_recall: 0.0161 - val_output_1_specificity: 0.9194 - val_output_1_accuracy: 0.9183 - val_output_2_auc: 0.8827 - val_output_2_binary_recall: 0.5256 - val_output_2_binary_precision: 0.5491 - lr: 0.6918\n",
      "Epoch 17/500\n",
      "975/975 [==============================] - 61s 63ms/step - loss: 1.9661 - output_1_loss: 1.7409 - output_2_loss: 0.2252 - output_1_jaccard_index_f1: 0.0095 - output_1_recall: 0.0154 - output_1_specificity: 0.9549 - output_1_accuracy: 0.9537 - output_2_auc: 0.9019 - output_2_binary_recall: 0.8021 - output_2_binary_precision: 0.3052 - val_loss: 1.0513 - val_output_1_loss: 0.9939 - val_output_2_loss: 0.0574 - val_output_1_jaccard_index_f1: 0.0094 - val_output_1_recall: 0.0161 - val_output_1_specificity: 0.8649 - val_output_1_accuracy: 0.8638 - val_output_2_auc: 0.8803 - val_output_2_binary_recall: 0.5356 - val_output_2_binary_precision: 0.5108 - lr: 0.6761\n",
      "Epoch 18/500\n",
      "975/975 [==============================] - 61s 63ms/step - loss: 1.9634 - output_1_loss: 1.7407 - output_2_loss: 0.2227 - output_1_jaccard_index_f1: 0.0095 - output_1_recall: 0.0155 - output_1_specificity: 0.9570 - output_1_accuracy: 0.9558 - output_2_auc: 0.9038 - output_2_binary_recall: 0.8049 - output_2_binary_precision: 0.3064 - val_loss: 1.3451 - val_output_1_loss: 0.9939 - val_output_2_loss: 0.3513 - val_output_1_jaccard_index_f1: 0.0094 - val_output_1_recall: 0.0151 - val_output_1_specificity: 0.9701 - val_output_1_accuracy: 0.9690 - val_output_2_auc: 0.8748 - val_output_2_binary_recall: 0.9473 - val_output_2_binary_precision: 0.1148 - lr: 0.6607\n",
      "Epoch 19/500\n",
      "975/975 [==============================] - 61s 63ms/step - loss: 1.9608 - output_1_loss: 1.7403 - output_2_loss: 0.2206 - output_1_jaccard_index_f1: 0.0096 - output_1_recall: 0.0154 - output_1_specificity: 0.9557 - output_1_accuracy: 0.9545 - output_2_auc: 0.9054 - output_2_binary_recall: 0.8087 - output_2_binary_precision: 0.3099 - val_loss: 1.0658 - val_output_1_loss: 0.9938 - val_output_2_loss: 0.0719 - val_output_1_jaccard_index_f1: 0.0095 - val_output_1_recall: 0.0150 - val_output_1_specificity: 0.9546 - val_output_1_accuracy: 0.9535 - val_output_2_auc: 0.8800 - val_output_2_binary_recall: 0.6264 - val_output_2_binary_precision: 0.4159 - lr: 0.6457\n",
      "Epoch 20/500\n",
      "975/975 [==============================] - 61s 63ms/step - loss: 1.9574 - output_1_loss: 1.7397 - output_2_loss: 0.2176 - output_1_jaccard_index_f1: 0.0097 - output_1_recall: 0.0156 - output_1_specificity: 0.9571 - output_1_accuracy: 0.9559 - output_2_auc: 0.9075 - output_2_binary_recall: 0.8132 - output_2_binary_precision: 0.3116 - val_loss: 1.0445 - val_output_1_loss: 0.9940 - val_output_2_loss: 0.0505 - val_output_1_jaccard_index_f1: 0.0095 - val_output_1_recall: 0.0170 - val_output_1_specificity: 0.8747 - val_output_1_accuracy: 0.8737 - val_output_2_auc: 0.8651 - val_output_2_binary_recall: 0.2945 - val_output_2_binary_precision: 0.6902 - lr: 0.6310\n",
      "Epoch 21/500\n",
      "975/975 [==============================] - 61s 63ms/step - loss: 1.9542 - output_1_loss: 1.7392 - output_2_loss: 0.2150 - output_1_jaccard_index_f1: 0.0098 - output_1_recall: 0.0160 - output_1_specificity: 0.9579 - output_1_accuracy: 0.9567 - output_2_auc: 0.9094 - output_2_binary_recall: 0.8182 - output_2_binary_precision: 0.3133 - val_loss: 1.1303 - val_output_1_loss: 0.9938 - val_output_2_loss: 0.1365 - val_output_1_jaccard_index_f1: 0.0096 - val_output_1_recall: 0.0149 - val_output_1_specificity: 0.9660 - val_output_1_accuracy: 0.9649 - val_output_2_auc: 0.8800 - val_output_2_binary_recall: 0.7847 - val_output_2_binary_precision: 0.2513 - lr: 0.6166\n",
      "Epoch 22/500\n",
      "975/975 [==============================] - 61s 63ms/step - loss: 1.9515 - output_1_loss: 1.7387 - output_2_loss: 0.2128 - output_1_jaccard_index_f1: 0.0098 - output_1_recall: 0.0161 - output_1_specificity: 0.9569 - output_1_accuracy: 0.9557 - output_2_auc: 0.9110 - output_2_binary_recall: 0.8214 - output_2_binary_precision: 0.3160 - val_loss: 1.0512 - val_output_1_loss: 0.9938 - val_output_2_loss: 0.0574 - val_output_1_jaccard_index_f1: 0.0097 - val_output_1_recall: 0.0154 - val_output_1_specificity: 0.9548 - val_output_1_accuracy: 0.9537 - val_output_2_auc: 0.8668 - val_output_2_binary_recall: 0.5114 - val_output_2_binary_precision: 0.5239 - lr: 0.6026\n",
      "Epoch 23/500\n",
      "975/975 [==============================] - 61s 63ms/step - loss: 1.9483 - output_1_loss: 1.7383 - output_2_loss: 0.2099 - output_1_jaccard_index_f1: 0.0099 - output_1_recall: 0.0164 - output_1_specificity: 0.9569 - output_1_accuracy: 0.9558 - output_2_auc: 0.9129 - output_2_binary_recall: 0.8249 - output_2_binary_precision: 0.3190 - val_loss: 1.2489 - val_output_1_loss: 0.9938 - val_output_2_loss: 0.2551 - val_output_1_jaccard_index_f1: 0.0097 - val_output_1_recall: 0.0170 - val_output_1_specificity: 0.9594 - val_output_1_accuracy: 0.9584 - val_output_2_auc: 0.8734 - val_output_2_binary_recall: 0.8887 - val_output_2_binary_precision: 0.1590 - lr: 0.5888\n",
      "Epoch 24/500\n",
      "975/975 [==============================] - 61s 63ms/step - loss: 1.9453 - output_1_loss: 1.7381 - output_2_loss: 0.2073 - output_1_jaccard_index_f1: 0.0099 - output_1_recall: 0.0166 - output_1_specificity: 0.9584 - output_1_accuracy: 0.9573 - output_2_auc: 0.9148 - output_2_binary_recall: 0.8279 - output_2_binary_precision: 0.3224 - val_loss: 1.0663 - val_output_1_loss: 0.9937 - val_output_2_loss: 0.0726 - val_output_1_jaccard_index_f1: 0.0097 - val_output_1_recall: 0.0164 - val_output_1_specificity: 0.9598 - val_output_1_accuracy: 0.9588 - val_output_2_auc: 0.8707 - val_output_2_binary_recall: 0.6095 - val_output_2_binary_precision: 0.4013 - lr: 0.5754\n",
      "Epoch 25/500\n",
      "975/975 [==============================] - 61s 63ms/step - loss: 1.9422 - output_1_loss: 1.7379 - output_2_loss: 0.2044 - output_1_jaccard_index_f1: 0.0099 - output_1_recall: 0.0167 - output_1_specificity: 0.9576 - output_1_accuracy: 0.9565 - output_2_auc: 0.9166 - output_2_binary_recall: 0.8330 - output_2_binary_precision: 0.3252 - val_loss: 1.0473 - val_output_1_loss: 0.9938 - val_output_2_loss: 0.0536 - val_output_1_jaccard_index_f1: 0.0098 - val_output_1_recall: 0.0171 - val_output_1_specificity: 0.9423 - val_output_1_accuracy: 0.9413 - val_output_2_auc: 0.8716 - val_output_2_binary_recall: 0.5003 - val_output_2_binary_precision: 0.5594 - lr: 0.5623\n",
      "Epoch 26/500\n",
      "975/975 [==============================] - 61s 63ms/step - loss: 1.9392 - output_1_loss: 1.7375 - output_2_loss: 0.2017 - output_1_jaccard_index_f1: 0.0100 - output_1_recall: 0.0167 - output_1_specificity: 0.9592 - output_1_accuracy: 0.9580 - output_2_auc: 0.9185 - output_2_binary_recall: 0.8370 - output_2_binary_precision: 0.3270 - val_loss: 1.1485 - val_output_1_loss: 0.9937 - val_output_2_loss: 0.1548 - val_output_1_jaccard_index_f1: 0.0098 - val_output_1_recall: 0.0170 - val_output_1_specificity: 0.9549 - val_output_1_accuracy: 0.9539 - val_output_2_auc: 0.8707 - val_output_2_binary_recall: 0.7978 - val_output_2_binary_precision: 0.2243 - lr: 0.5495\n",
      "Epoch 27/500\n",
      "975/975 [==============================] - 61s 63ms/step - loss: 1.9362 - output_1_loss: 1.7373 - output_2_loss: 0.1990 - output_1_jaccard_index_f1: 0.0100 - output_1_recall: 0.0167 - output_1_specificity: 0.9593 - output_1_accuracy: 0.9582 - output_2_auc: 0.9203 - output_2_binary_recall: 0.8410 - output_2_binary_precision: 0.3311 - val_loss: 1.0751 - val_output_1_loss: 0.9937 - val_output_2_loss: 0.0813 - val_output_1_jaccard_index_f1: 0.0098 - val_output_1_recall: 0.0176 - val_output_1_specificity: 0.9418 - val_output_1_accuracy: 0.9407 - val_output_2_auc: 0.8641 - val_output_2_binary_recall: 0.6295 - val_output_2_binary_precision: 0.3738 - lr: 0.5370\n",
      "Epoch 28/500\n",
      "975/975 [==============================] - 61s 63ms/step - loss: 1.9337 - output_1_loss: 1.7370 - output_2_loss: 0.1966 - output_1_jaccard_index_f1: 0.0100 - output_1_recall: 0.0168 - output_1_specificity: 0.9588 - output_1_accuracy: 0.9577 - output_2_auc: 0.9217 - output_2_binary_recall: 0.8448 - output_2_binary_precision: 0.3314 - val_loss: 1.0513 - val_output_1_loss: 0.9937 - val_output_2_loss: 0.0576 - val_output_1_jaccard_index_f1: 0.0097 - val_output_1_recall: 0.0153 - val_output_1_specificity: 0.9574 - val_output_1_accuracy: 0.9563 - val_output_2_auc: 0.8725 - val_output_2_binary_recall: 0.5445 - val_output_2_binary_precision: 0.5078 - lr: 0.5248\n",
      "Epoch 29/500\n",
      "975/975 [==============================] - 61s 63ms/step - loss: 1.9301 - output_1_loss: 1.7369 - output_2_loss: 0.1932 - output_1_jaccard_index_f1: 0.0101 - output_1_recall: 0.0168 - output_1_specificity: 0.9594 - output_1_accuracy: 0.9583 - output_2_auc: 0.9238 - output_2_binary_recall: 0.8498 - output_2_binary_precision: 0.3345 - val_loss: 1.0743 - val_output_1_loss: 0.9937 - val_output_2_loss: 0.0806 - val_output_1_jaccard_index_f1: 0.0098 - val_output_1_recall: 0.0174 - val_output_1_specificity: 0.9537 - val_output_1_accuracy: 0.9527 - val_output_2_auc: 0.8728 - val_output_2_binary_recall: 0.6510 - val_output_2_binary_precision: 0.3733 - lr: 0.5129\n",
      "Epoch 30/500\n",
      "975/975 [==============================] - 61s 63ms/step - loss: 1.9273 - output_1_loss: 1.7367 - output_2_loss: 0.1906 - output_1_jaccard_index_f1: 0.0101 - output_1_recall: 0.0170 - output_1_specificity: 0.9593 - output_1_accuracy: 0.9582 - output_2_auc: 0.9253 - output_2_binary_recall: 0.8537 - output_2_binary_precision: 0.3382 - val_loss: 1.1604 - val_output_1_loss: 0.9937 - val_output_2_loss: 0.1668 - val_output_1_jaccard_index_f1: 0.0099 - val_output_1_recall: 0.0170 - val_output_1_specificity: 0.9610 - val_output_1_accuracy: 0.9600 - val_output_2_auc: 0.8565 - val_output_2_binary_recall: 0.7821 - val_output_2_binary_precision: 0.2141 - lr: 0.5012\n",
      "Epoch 31/500\n",
      "975/975 [==============================] - 61s 63ms/step - loss: 1.9242 - output_1_loss: 1.7365 - output_2_loss: 0.1877 - output_1_jaccard_index_f1: 0.0101 - output_1_recall: 0.0170 - output_1_specificity: 0.9586 - output_1_accuracy: 0.9575 - output_2_auc: 0.9271 - output_2_binary_recall: 0.8562 - output_2_binary_precision: 0.3411 - val_loss: 1.0936 - val_output_1_loss: 0.9937 - val_output_2_loss: 0.0999 - val_output_1_jaccard_index_f1: 0.0097 - val_output_1_recall: 0.0151 - val_output_1_specificity: 0.9655 - val_output_1_accuracy: 0.9644 - val_output_2_auc: 0.8724 - val_output_2_binary_recall: 0.6998 - val_output_2_binary_precision: 0.3191 - lr: 0.4898\n",
      "Epoch 32/500\n",
      "975/975 [==============================] - 61s 63ms/step - loss: 1.9217 - output_1_loss: 1.7365 - output_2_loss: 0.1852 - output_1_jaccard_index_f1: 0.0101 - output_1_recall: 0.0169 - output_1_specificity: 0.9581 - output_1_accuracy: 0.9570 - output_2_auc: 0.9284 - output_2_binary_recall: 0.8607 - output_2_binary_precision: 0.3434 - val_loss: 1.1660 - val_output_1_loss: 0.9938 - val_output_2_loss: 0.1721 - val_output_1_jaccard_index_f1: 0.0097 - val_output_1_recall: 0.0198 - val_output_1_specificity: 0.9399 - val_output_1_accuracy: 0.9389 - val_output_2_auc: 0.8765 - val_output_2_binary_recall: 0.8262 - val_output_2_binary_precision: 0.2115 - lr: 0.4786\n",
      "Epoch 33/500\n",
      "975/975 [==============================] - 61s 63ms/step - loss: 1.9183 - output_1_loss: 1.7363 - output_2_loss: 0.1819 - output_1_jaccard_index_f1: 0.0101 - output_1_recall: 0.0170 - output_1_specificity: 0.9574 - output_1_accuracy: 0.9563 - output_2_auc: 0.9304 - output_2_binary_recall: 0.8641 - output_2_binary_precision: 0.3464 - val_loss: 1.0722 - val_output_1_loss: 0.9937 - val_output_2_loss: 0.0785 - val_output_1_jaccard_index_f1: 0.0098 - val_output_1_recall: 0.0178 - val_output_1_specificity: 0.9545 - val_output_1_accuracy: 0.9535 - val_output_2_auc: 0.8760 - val_output_2_binary_recall: 0.6612 - val_output_2_binary_precision: 0.3771 - lr: 0.4677\n",
      "Epoch 34/500\n",
      "975/975 [==============================] - 61s 63ms/step - loss: 1.9151 - output_1_loss: 1.7360 - output_2_loss: 0.1790 - output_1_jaccard_index_f1: 0.0102 - output_1_recall: 0.0170 - output_1_specificity: 0.9577 - output_1_accuracy: 0.9566 - output_2_auc: 0.9320 - output_2_binary_recall: 0.8687 - output_2_binary_precision: 0.3499 - val_loss: 1.1561 - val_output_1_loss: 0.9937 - val_output_2_loss: 0.1624 - val_output_1_jaccard_index_f1: 0.0098 - val_output_1_recall: 0.0156 - val_output_1_specificity: 0.9632 - val_output_1_accuracy: 0.9621 - val_output_2_auc: 0.8743 - val_output_2_binary_recall: 0.8102 - val_output_2_binary_precision: 0.2219 - lr: 0.4571\n",
      "Epoch 35/500\n",
      "975/975 [==============================] - 61s 63ms/step - loss: 1.9124 - output_1_loss: 1.7359 - output_2_loss: 0.1765 - output_1_jaccard_index_f1: 0.0102 - output_1_recall: 0.0169 - output_1_specificity: 0.9578 - output_1_accuracy: 0.9567 - output_2_auc: 0.9333 - output_2_binary_recall: 0.8720 - output_2_binary_precision: 0.3522 - val_loss: 1.1107 - val_output_1_loss: 0.9936 - val_output_2_loss: 0.1171 - val_output_1_jaccard_index_f1: 0.0099 - val_output_1_recall: 0.0178 - val_output_1_specificity: 0.9545 - val_output_1_accuracy: 0.9535 - val_output_2_auc: 0.8718 - val_output_2_binary_recall: 0.7401 - val_output_2_binary_precision: 0.2854 - lr: 0.4467\n",
      "Epoch 36/500\n",
      "975/975 [==============================] - 61s 63ms/step - loss: 1.9088 - output_1_loss: 1.7354 - output_2_loss: 0.1734 - output_1_jaccard_index_f1: 0.0102 - output_1_recall: 0.0168 - output_1_specificity: 0.9574 - output_1_accuracy: 0.9563 - output_2_auc: 0.9351 - output_2_binary_recall: 0.8767 - output_2_binary_precision: 0.3557 - val_loss: 1.0792 - val_output_1_loss: 0.9936 - val_output_2_loss: 0.0856 - val_output_1_jaccard_index_f1: 0.0099 - val_output_1_recall: 0.0167 - val_output_1_specificity: 0.9576 - val_output_1_accuracy: 0.9566 - val_output_2_auc: 0.8654 - val_output_2_binary_recall: 0.6576 - val_output_2_binary_precision: 0.3484 - lr: 0.4365\n",
      "Epoch 37/500\n",
      "975/975 [==============================] - 61s 63ms/step - loss: 1.9057 - output_1_loss: 1.7352 - output_2_loss: 0.1706 - output_1_jaccard_index_f1: 0.0102 - output_1_recall: 0.0169 - output_1_specificity: 0.9583 - output_1_accuracy: 0.9572 - output_2_auc: 0.9367 - output_2_binary_recall: 0.8805 - output_2_binary_precision: 0.3583 - val_loss: 1.1697 - val_output_1_loss: 0.9942 - val_output_2_loss: 0.1755 - val_output_1_jaccard_index_f1: 0.0093 - val_output_1_recall: 0.0217 - val_output_1_specificity: 0.9277 - val_output_1_accuracy: 0.9268 - val_output_2_auc: 0.8691 - val_output_2_binary_recall: 0.8174 - val_output_2_binary_precision: 0.2138 - lr: 0.4266\n",
      "Epoch 38/500\n",
      "975/975 [==============================] - 61s 63ms/step - loss: 1.9035 - output_1_loss: 1.7351 - output_2_loss: 0.1684 - output_1_jaccard_index_f1: 0.0103 - output_1_recall: 0.0169 - output_1_specificity: 0.9580 - output_1_accuracy: 0.9568 - output_2_auc: 0.9377 - output_2_binary_recall: 0.8824 - output_2_binary_precision: 0.3616 - val_loss: 1.1955 - val_output_1_loss: 0.9936 - val_output_2_loss: 0.2019 - val_output_1_jaccard_index_f1: 0.0099 - val_output_1_recall: 0.0170 - val_output_1_specificity: 0.9570 - val_output_1_accuracy: 0.9560 - val_output_2_auc: 0.8639 - val_output_2_binary_recall: 0.8361 - val_output_2_binary_precision: 0.1816 - lr: 0.4169\n",
      "Epoch 39/500\n",
      "975/975 [==============================] - 61s 63ms/step - loss: 1.9004 - output_1_loss: 1.7349 - output_2_loss: 0.1655 - output_1_jaccard_index_f1: 0.0103 - output_1_recall: 0.0169 - output_1_specificity: 0.9573 - output_1_accuracy: 0.9562 - output_2_auc: 0.9392 - output_2_binary_recall: 0.8868 - output_2_binary_precision: 0.3641 - val_loss: 1.1664 - val_output_1_loss: 0.9938 - val_output_2_loss: 0.1727 - val_output_1_jaccard_index_f1: 0.0098 - val_output_1_recall: 0.0193 - val_output_1_specificity: 0.9478 - val_output_1_accuracy: 0.9469 - val_output_2_auc: 0.8553 - val_output_2_binary_recall: 0.7901 - val_output_2_binary_precision: 0.2037 - lr: 0.4074\n",
      "Epoch 40/500\n",
      "975/975 [==============================] - 61s 63ms/step - loss: 1.8972 - output_1_loss: 1.7348 - output_2_loss: 0.1624 - output_1_jaccard_index_f1: 0.0103 - output_1_recall: 0.0170 - output_1_specificity: 0.9568 - output_1_accuracy: 0.9557 - output_2_auc: 0.9407 - output_2_binary_recall: 0.8900 - output_2_binary_precision: 0.3675 - val_loss: 1.0977 - val_output_1_loss: 0.9936 - val_output_2_loss: 0.1041 - val_output_1_jaccard_index_f1: 0.0099 - val_output_1_recall: 0.0171 - val_output_1_specificity: 0.9500 - val_output_1_accuracy: 0.9490 - val_output_2_auc: 0.8667 - val_output_2_binary_recall: 0.7059 - val_output_2_binary_precision: 0.3053 - lr: 0.3981\n"
     ]
    },
    {
     "data": {
      "text/plain": [
       "<keras.callbacks.History at 0x7f310034bbe0>"
      ]
     },
     "execution_count": 41,
     "metadata": {},
     "output_type": "execute_result"
    }
   ],
   "source": [
    "model.fit(x=train_x, y=[train_y, train_z], epochs=500, batch_size =1024, validation_data=(valid_x, [valid_y, valid_z]), workers=26, \n",
    "          callbacks=[early_stopping, lr_scheduler],sample_weight=pd.Series(np.squeeze(train_w)).to_frame('wt')) "
   ]
  },
  {
   "cell_type": "code",
   "execution_count": 47,
   "id": "e3bed04d-3f7a-422b-815c-e349acbfa6a4",
   "metadata": {},
   "outputs": [
    {
     "name": "stderr",
     "output_type": "stream",
     "text": [
      "WARNING:absl:Found untraced functions such as _jit_compiled_convolution_op, _jit_compiled_convolution_op, _jit_compiled_convolution_op, _jit_compiled_convolution_op, _jit_compiled_convolution_op while saving (showing 5 of 7). These functions will not be directly callable after loading.\n"
     ]
    },
    {
     "name": "stdout",
     "output_type": "stream",
     "text": [
      "INFO:tensorflow:Assets written to: MultiLabelAux/assets\n"
     ]
    },
    {
     "name": "stderr",
     "output_type": "stream",
     "text": [
      "INFO:tensorflow:Assets written to: MultiLabelAux/assets\n"
     ]
    }
   ],
   "source": [
    "model.save(\"MultiLabelAux\")"
   ]
  },
  {
   "cell_type": "markdown",
   "id": "9888c39d-9396-46cb-b3eb-b706adfe274e",
   "metadata": {},
   "source": [
    "## Triplet Data"
   ]
  },
  {
   "cell_type": "code",
   "execution_count": 49,
   "id": "c135cefb-a8ce-4cf5-adfd-3858fcaa5657",
   "metadata": {},
   "outputs": [],
   "source": [
    "train = data.FantomToOneHotConverter(train_sequence, 0, max_len).seq_matrix\n",
    "reverse_train = data.FantomToOneHotConverter(reverse_train_sequence, 0, max_len).seq_matrix"
   ]
  },
  {
   "cell_type": "code",
   "execution_count": 50,
   "id": "b4a9fbe5-2105-40ec-a86e-c0167c694586",
   "metadata": {},
   "outputs": [],
   "source": [
    "valid = data.FantomToOneHotConverter(valid_sequence, 0, max_len).seq_matrix\n",
    "reverse_valid = data.FantomToOneHotConverter(reverse_valid_sequence, 0, max_len).seq_matrix"
   ]
  },
  {
   "cell_type": "code",
   "execution_count": 51,
   "id": "d83c5932-38f0-4f57-b756-20f85a84f721",
   "metadata": {},
   "outputs": [],
   "source": [
    "test = data.FantomToOneHotConverter(test_sequence, 0, max_len).seq_matrix\n",
    "reverse_test = data.FantomToOneHotConverter(reverse_test_sequence, 0, max_len).seq_matrix"
   ]
  },
  {
   "cell_type": "markdown",
   "id": "48010342",
   "metadata": {},
   "source": [
    "## Loading Datasets"
   ]
  },
  {
   "cell_type": "code",
   "execution_count": 52,
   "id": "862c5ee8-c54e-4647-8e87-b98804615eba",
   "metadata": {},
   "outputs": [],
   "source": [
    "train_seq = PremadeTripletClassifierSequence(train, train_triplet_sim, train_triplet_dis, batch_size = 1024, reverse_x_in = reverse_train if allow_reverse else None)\n",
    "valid_seq = PremadeTripletClassifierSequence(valid, valid_triplet_sim, valid_triplet_dis, batch_size = 1024, reverse_x_in = reverse_valid if allow_reverse else None)\n",
    "test_seq = PremadeTripletClassifierSequence(test, test_triplet_sim, test_triplet_dis, batch_size = 1024, reverse_x_in = reverse_test if allow_reverse else None)"
   ]
  },
  {
   "cell_type": "code",
   "execution_count": 53,
   "id": "b7741d3b-31d8-4afe-97a7-5242b23a8403",
   "metadata": {},
   "outputs": [],
   "source": [
    "custom_objects = {'jaccard_index_loss': jaccard_index_loss,'jaccard_index_f1': jaccard_index_f1, 'recall': recall, 'specificity': specificity}"
   ]
  },
  {
   "cell_type": "code",
   "execution_count": 25,
   "id": "17d7156f-cebe-4c7e-9a04-ef221c226f16",
   "metadata": {},
   "outputs": [],
   "source": [
    "model = tf.keras.models.load_model(\"MultiLabelAux\", custom_objects = custom_objects) # Loading model"
   ]
  },
  {
   "cell_type": "code",
   "execution_count": 54,
   "id": "b3517458-512f-47f5-943f-9a4b5609bbfa",
   "metadata": {},
   "outputs": [],
   "source": [
    "def collect_data_from_loader(a_loader):\n",
    "    x_list = []\n",
    "    y_list = []\n",
    "    for x_batch, y_batch in a_loader:\n",
    "        x_list.append(x_batch)\n",
    "        y_list.append(y_batch)\n",
    "    x_matrix = np.concatenate(x_list)\n",
    "    y_array  = np.concatenate(y_list).reshape(-1)\n",
    "    return x_matrix, y_array"
   ]
  },
  {
   "cell_type": "code",
   "execution_count": 55,
   "id": "27a12664-5440-4641-b4a4-56a55eb9cebd",
   "metadata": {},
   "outputs": [],
   "source": [
    "x_train, y_train = collect_data_from_loader(train_seq)\n",
    "x_valid, y_valid = collect_data_from_loader(valid_seq)\n",
    "x_test, y_test = collect_data_from_loader(test_seq)"
   ]
  },
  {
   "cell_type": "markdown",
   "id": "1eee64c7",
   "metadata": {},
   "source": [
    "## Evaluating Hierarichal Classifier"
   ]
  },
  {
   "cell_type": "code",
   "execution_count": null,
   "id": "7c8f925f",
   "metadata": {},
   "outputs": [],
   "source": [
    "# Evaluating Hierarchical Classifier as is \n",
    "print(\"Evaluating training set\")\n",
    "model.evaluate(x=train_x, y=[train_y, train_z], batch_size=1024)\n",
    "\n",
    "print(\"Evaluating validation set\")\n",
    "model.evaluate(x=valid_x, y=[valid_y, valid_z], batch_size=1024)"
   ]
  },
  {
   "cell_type": "code",
   "execution_count": 56,
   "id": "37c38ad8-8486-4677-95e4-9eeb1d607444",
   "metadata": {},
   "outputs": [],
   "source": [
    "def collect_output(x, model, batch_size):\n",
    "    '''\n",
    "    Collecting predictions from a model\n",
    "    '''\n",
    "    pred = np.zeros(len(x), dtype = np.ubyte)\n",
    "\n",
    "    for i in range(0, len(x), batch_size):\n",
    "        top = min(i + batch_size, len(x))\n",
    "        padding_size = (i + batch_size) - top\n",
    "\n",
    "        anc = np.pad(x[i:top, :, :, 0], ((0, padding_size), (0, 0), (0, 0)), mode='constant')\n",
    "        pos = np.pad(x[i:top, :, :, 1], ((0, padding_size), (0, 0), (0, 0)), mode='constant')\n",
    "        neg_sim = np.pad(x[i:top, :, :, 2], ((0, padding_size), (0, 0), (0, 0)), mode='constant')\n",
    "        \n",
    "        anc_tissues, _  = model.predict(anc)\n",
    "        pos_tissues, _  = model.predict(pos)\n",
    "        neg_sim_tissues, is_enhancers = model.predict(neg_sim)\n",
    "        \n",
    "        anc_tissues = tf.math.round(anc_tissues)\n",
    "        pos_tissues = tf.math.round(pos_tissues)\n",
    "        neg_sim_tissues = tf.math.round(neg_sim_tissues)\n",
    "        is_enhancers = tf.math.round(is_enhancers)\n",
    "        \n",
    "        end = batch_size if padding_size == 0 else len(x) - i\n",
    "        for j in range(end):\n",
    "            if is_enhancers[j, 0] == 0:\n",
    "                pred[j] = 0\n",
    "            else:\n",
    "                is_sharing = len(np.intersect1d(anc_tissues[j], neg_sim_tissues[j])) > 0 and len(np.intersect1d(pos_tissues[j], neg_sim_tissues[j])) > 0\n",
    "                pred[j] = 1 if is_sharing else 0\n",
    "                        \n",
    "    return pred"
   ]
  },
  {
   "cell_type": "code",
   "execution_count": 58,
   "id": "d65b765a-7c24-4f8b-bad6-4b0f1b3d69b2",
   "metadata": {},
   "outputs": [],
   "source": [
    "def calculate_metrics(y, pred):\n",
    "    '''\n",
    "    Calculating metrics for a model\n",
    "    '''\n",
    "    \n",
    "    accuracy = nets.crm_accuracy(y, pred)\n",
    "    specificity = nets.crm_specificity(y, pred)\n",
    "    recall = nets.crm_recall(y, pred)\n",
    "    precision = nets.crm_precision(y, pred)\n",
    "    f1 = nets.crm_f1_score(y, pred)\n",
    "    \n",
    "    print(\"Accuracy:\", accuracy)\n",
    "    print(\"Specificity:\", specificity)\n",
    "    print(\"Recall: \", recall )\n",
    "    print(\"Precision: \", precision )\n",
    "    print(\"F1: \",  f1)\n",
    "    \n",
    "    print(\"TP: \", tp)\n",
    "    print(\"FP: \", fp)\n",
    "    print(\"TN: \", tn)\n",
    "    print(\"FN: \", fn)\n",
    "    print(\"Length: \", len(y))\n",
    "\n",
    "    r = [accuracy, specificity, recall, precision, f1]\n",
    "\n",
    "    return r"
   ]
  },
  {
   "cell_type": "code",
   "execution_count": 59,
   "id": "129e057e-a2c9-4f2a-99a4-245e8d247985",
   "metadata": {},
   "outputs": [],
   "source": [
    "def evaluate(x, y, model, batch_size):\n",
    "    '''\n",
    "    Evaluating a model\n",
    "    '''\n",
    "    pred = collect_output(x, model, batch_size)\n",
    "    return calculate_metrics(y, pred)"
   ]
  },
  {
   "cell_type": "code",
   "execution_count": 60,
   "id": "f8393e44-c624-4d72-86bf-90da0f198265",
   "metadata": {},
   "outputs": [
    {
     "name": "stdout",
     "output_type": "stream",
     "text": [
      "64/64 [==============================] - 0s 2ms/step\n",
      "64/64 [==============================] - 0s 2ms/step\n",
      "64/64 [==============================] - 0s 2ms/step\n",
      "64/64 [==============================] - 0s 2ms/step\n",
      "64/64 [==============================] - 0s 2ms/step\n",
      "64/64 [==============================] - 0s 2ms/step\n",
      "64/64 [==============================] - 0s 2ms/step\n",
      "64/64 [==============================] - 0s 2ms/step\n",
      "64/64 [==============================] - 0s 2ms/step\n",
      "64/64 [==============================] - 0s 2ms/step\n",
      "64/64 [==============================] - 0s 2ms/step\n",
      "64/64 [==============================] - 0s 2ms/step\n",
      "64/64 [==============================] - 0s 1ms/step\n",
      "64/64 [==============================] - 0s 2ms/step\n",
      "64/64 [==============================] - 0s 1ms/step\n",
      "64/64 [==============================] - 0s 2ms/step\n",
      "64/64 [==============================] - 0s 2ms/step\n",
      "64/64 [==============================] - 0s 2ms/step\n",
      "64/64 [==============================] - 0s 1ms/step\n",
      "64/64 [==============================] - 0s 2ms/step\n",
      "64/64 [==============================] - 0s 1ms/step\n",
      "64/64 [==============================] - 0s 2ms/step\n",
      "64/64 [==============================] - 0s 2ms/step\n",
      "64/64 [==============================] - 0s 2ms/step\n",
      "64/64 [==============================] - 0s 2ms/step\n",
      "64/64 [==============================] - 0s 2ms/step\n",
      "64/64 [==============================] - 0s 2ms/step\n",
      "64/64 [==============================] - 0s 2ms/step\n",
      "64/64 [==============================] - 0s 2ms/step\n",
      "64/64 [==============================] - 0s 2ms/step\n",
      "64/64 [==============================] - 0s 2ms/step\n",
      "64/64 [==============================] - 0s 2ms/step\n",
      "64/64 [==============================] - 0s 1ms/step\n",
      "64/64 [==============================] - 0s 2ms/step\n",
      "64/64 [==============================] - 0s 2ms/step\n",
      "64/64 [==============================] - 0s 1ms/step\n",
      "64/64 [==============================] - 0s 2ms/step\n",
      "64/64 [==============================] - 0s 2ms/step\n",
      "64/64 [==============================] - 0s 2ms/step\n",
      "64/64 [==============================] - 0s 2ms/step\n",
      "64/64 [==============================] - 0s 2ms/step\n",
      "64/64 [==============================] - 0s 2ms/step\n",
      "64/64 [==============================] - 0s 2ms/step\n",
      "64/64 [==============================] - 0s 2ms/step\n",
      "64/64 [==============================] - 0s 2ms/step\n",
      "64/64 [==============================] - 0s 2ms/step\n",
      "64/64 [==============================] - 0s 2ms/step\n",
      "64/64 [==============================] - 0s 2ms/step\n",
      "64/64 [==============================] - 0s 2ms/step\n",
      "64/64 [==============================] - 0s 1ms/step\n",
      "64/64 [==============================] - 0s 2ms/step\n",
      "64/64 [==============================] - 0s 2ms/step\n",
      "64/64 [==============================] - 0s 2ms/step\n",
      "64/64 [==============================] - 0s 1ms/step\n",
      "64/64 [==============================] - 0s 1ms/step\n",
      "64/64 [==============================] - 0s 2ms/step\n",
      "64/64 [==============================] - 0s 2ms/step\n",
      "64/64 [==============================] - 0s 2ms/step\n",
      "64/64 [==============================] - 0s 2ms/step\n",
      "64/64 [==============================] - 0s 1ms/step\n",
      "64/64 [==============================] - 0s 2ms/step\n",
      "64/64 [==============================] - 0s 1ms/step\n",
      "64/64 [==============================] - 0s 2ms/step\n",
      "64/64 [==============================] - 0s 2ms/step\n",
      "64/64 [==============================] - 0s 1ms/step\n",
      "64/64 [==============================] - 0s 1ms/step\n",
      "64/64 [==============================] - 0s 2ms/step\n",
      "64/64 [==============================] - 0s 2ms/step\n",
      "64/64 [==============================] - 0s 2ms/step\n",
      "64/64 [==============================] - 0s 2ms/step\n",
      "64/64 [==============================] - 0s 1ms/step\n",
      "64/64 [==============================] - 0s 2ms/step\n",
      "64/64 [==============================] - 0s 2ms/step\n",
      "64/64 [==============================] - 0s 2ms/step\n",
      "64/64 [==============================] - 0s 2ms/step\n",
      "64/64 [==============================] - 0s 2ms/step\n",
      "64/64 [==============================] - 0s 2ms/step\n",
      "64/64 [==============================] - 0s 1ms/step\n",
      "64/64 [==============================] - 0s 2ms/step\n",
      "64/64 [==============================] - 0s 2ms/step\n",
      "64/64 [==============================] - 0s 1ms/step\n",
      "64/64 [==============================] - 0s 2ms/step\n",
      "64/64 [==============================] - 0s 2ms/step\n",
      "64/64 [==============================] - 0s 2ms/step\n",
      "64/64 [==============================] - 0s 2ms/step\n",
      "64/64 [==============================] - 0s 2ms/step\n",
      "64/64 [==============================] - 0s 1ms/step\n",
      "64/64 [==============================] - 0s 2ms/step\n",
      "64/64 [==============================] - 0s 1ms/step\n",
      "64/64 [==============================] - 0s 1ms/step\n",
      "64/64 [==============================] - 0s 2ms/step\n",
      "64/64 [==============================] - 0s 2ms/step\n",
      "64/64 [==============================] - 0s 2ms/step\n",
      "64/64 [==============================] - 0s 2ms/step\n",
      "64/64 [==============================] - 0s 2ms/step\n",
      "64/64 [==============================] - 0s 1ms/step\n",
      "64/64 [==============================] - 0s 2ms/step\n",
      "64/64 [==============================] - 0s 2ms/step\n",
      "64/64 [==============================] - 0s 1ms/step\n",
      "64/64 [==============================] - 0s 2ms/step\n",
      "64/64 [==============================] - 0s 1ms/step\n",
      "64/64 [==============================] - 0s 2ms/step\n",
      "64/64 [==============================] - 0s 2ms/step\n",
      "64/64 [==============================] - 0s 2ms/step\n",
      "64/64 [==============================] - 0s 2ms/step\n",
      "64/64 [==============================] - 0s 2ms/step\n",
      "64/64 [==============================] - 0s 2ms/step\n",
      "64/64 [==============================] - 0s 2ms/step\n",
      "Accuracy: 0.4999186197916667\n",
      "Specificity: 0.9934888768312534\n",
      "Recall:  0.00645546273190843\n",
      "Precision:  0.497907949790795\n",
      "F1:  0.012745675574358692\n",
      "TP:  238.0\n",
      "FP:  240.0\n",
      "TN:  36620.0\n",
      "FN:  36630.0\n",
      "Length:  73728\n",
      "64/64 [==============================] - 0s 1ms/step\n",
      "64/64 [==============================] - 0s 2ms/step\n",
      "64/64 [==============================] - 0s 2ms/step\n",
      "64/64 [==============================] - 0s 2ms/step\n",
      "64/64 [==============================] - 0s 2ms/step\n",
      "64/64 [==============================] - 0s 2ms/step\n",
      "64/64 [==============================] - 0s 2ms/step\n",
      "64/64 [==============================] - 0s 2ms/step\n",
      "64/64 [==============================] - 0s 2ms/step\n",
      "64/64 [==============================] - 0s 2ms/step\n",
      "64/64 [==============================] - 0s 2ms/step\n",
      "64/64 [==============================] - 0s 2ms/step\n",
      "64/64 [==============================] - 0s 2ms/step\n",
      "64/64 [==============================] - 0s 2ms/step\n",
      "64/64 [==============================] - 0s 2ms/step\n",
      "64/64 [==============================] - 0s 2ms/step\n",
      "64/64 [==============================] - 0s 2ms/step\n",
      "64/64 [==============================] - 0s 1ms/step\n",
      "64/64 [==============================] - 0s 2ms/step\n",
      "64/64 [==============================] - 0s 2ms/step\n",
      "64/64 [==============================] - 0s 2ms/step\n",
      "64/64 [==============================] - 0s 2ms/step\n",
      "64/64 [==============================] - 0s 2ms/step\n",
      "64/64 [==============================] - 0s 1ms/step\n",
      "Accuracy: 0.49830729166666665\n",
      "Specificity: 0.968961919666145\n",
      "Recall:  0.029121164846593862\n",
      "Precision:  0.48484848484848486\n",
      "F1:  0.05494235957812114\n",
      "TP:  224.0\n",
      "FP:  238.0\n",
      "TN:  7430.0\n",
      "FN:  7468.0\n",
      "Length:  15360\n",
      "64/64 [==============================] - 0s 2ms/step\n",
      "64/64 [==============================] - 0s 2ms/step\n",
      "64/64 [==============================] - 0s 2ms/step\n",
      "64/64 [==============================] - 0s 2ms/step\n",
      "64/64 [==============================] - 0s 2ms/step\n",
      "64/64 [==============================] - 0s 2ms/step\n",
      "64/64 [==============================] - 0s 2ms/step\n",
      "64/64 [==============================] - 0s 2ms/step\n",
      "64/64 [==============================] - 0s 2ms/step\n",
      "64/64 [==============================] - 0s 2ms/step\n",
      "64/64 [==============================] - 0s 2ms/step\n",
      "64/64 [==============================] - 0s 2ms/step\n",
      "64/64 [==============================] - 0s 2ms/step\n",
      "64/64 [==============================] - 0s 2ms/step\n",
      "64/64 [==============================] - 0s 2ms/step\n",
      "64/64 [==============================] - 0s 2ms/step\n",
      "64/64 [==============================] - 0s 2ms/step\n",
      "64/64 [==============================] - 0s 2ms/step\n",
      "64/64 [==============================] - 0s 1ms/step\n",
      "64/64 [==============================] - 0s 1ms/step\n",
      "64/64 [==============================] - 0s 1ms/step\n",
      "64/64 [==============================] - 0s 2ms/step\n",
      "64/64 [==============================] - 0s 1ms/step\n",
      "64/64 [==============================] - 0s 2ms/step\n",
      "Accuracy: 0.5008463541666667\n",
      "Specificity: 0.970504158004158\n",
      "Recall:  0.029227557411273485\n",
      "Precision:  0.49667405764966743\n",
      "F1:  0.05520640788662968\n",
      "TP:  224.0\n",
      "FP:  227.0\n",
      "TN:  7469.0\n",
      "FN:  7440.0\n",
      "Length:  15360\n"
     ]
    }
   ],
   "source": [
    "r_train = evaluate(x_train, y_train, model, 2048)\n",
    "r_valid = evaluate(x_valid, y_valid, model, 2048)\n",
    "r_test = evaluate(x_test, y_test, model, 2048)"
   ]
  }
 ],
 "metadata": {
  "kernelspec": {
   "display_name": "tf-gpu",
   "language": "python",
   "name": "tf-gpu"
  },
  "language_info": {
   "codemirror_mode": {
    "name": "ipython",
    "version": 3
   },
   "file_extension": ".py",
   "mimetype": "text/x-python",
   "name": "python",
   "nbconvert_exporter": "python",
   "pygments_lexer": "ipython3",
   "version": "3.9.16"
  }
 },
 "nbformat": 4,
 "nbformat_minor": 5
}
