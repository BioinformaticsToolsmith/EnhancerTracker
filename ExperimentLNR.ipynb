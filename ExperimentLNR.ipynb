{
 "cells": [
  {
   "cell_type": "markdown",
   "metadata": {
    "tags": []
   },
   "source": [
    "# ExperimentLNR\n",
    "### Take the dataset where the negatives comprise of random genomic data (without repeats) sampled for length.\n",
    "### Train a single separable convolutional classifier on triplets and evaluate"
   ]
  },
  {
   "cell_type": "markdown",
   "metadata": {
    "tags": []
   },
   "source": [
    "## Imports"
   ]
  },
  {
   "cell_type": "code",
   "execution_count": 1,
   "metadata": {},
   "outputs": [],
   "source": [
    "import os\n",
    "os.environ['TF_CPP_MIN_LOG_LEVEL'] = '2' \n",
    "# # Credit: https://stackoverflow.com/questions/34199233/how-to-prevent-tensorflow-from-allocating-the-totality-of-a-gpu-memory\n",
    "import tensorflow as tf\n",
    "gpus = tf.config.experimental.list_physical_devices('GPU')\n",
    "for gpu in gpus:\n",
    "    tf.config.experimental.set_memory_growth(gpu, True)"
   ]
  },
  {
   "cell_type": "code",
   "execution_count": 2,
   "metadata": {},
   "outputs": [],
   "source": [
    "import data\n",
    "from tensorflow import keras\n",
    "import nets\n",
    "from loaders import PremadeTripletClassifierSequence"
   ]
  },
  {
   "cell_type": "markdown",
   "metadata": {},
   "source": [
    "## Files"
   ]
  },
  {
   "cell_type": "code",
   "execution_count": 3,
   "metadata": {},
   "outputs": [],
   "source": [
    "# file_name = '/home/zakaria/Data/IdentityData/ShortTrain/60.fa'#file_name = '../Data/sequences.fa'\n",
    "\n",
    "data_dir = '../Data/Datasets/LNR/'\n",
    "\n",
    "\n",
    "train_sequence = f'{data_dir}/train_sequences.fa'\n",
    "valid_sequence = f'{data_dir}/valid_sequences.fa'\n",
    "test_sequence = f'{data_dir}/test_sequences.fa'\n",
    "\n",
    "reverse_train_sequence = f'{data_dir}/reverse_train_sequences.fa'\n",
    "reverse_valid_sequence = f'{data_dir}/reverse_valid_sequences.fa'\n",
    "reverse_test_sequence = f'{data_dir}/reverse_test_sequences.fa'\n",
    "\n",
    "train_triplet_dis = f'{data_dir}/train_triplet_dis.npy'\n",
    "valid_triplet_dis = f'{data_dir}/valid_triplet_dis.npy'\n",
    "test_triplet_dis = f'{data_dir}/test_triplet_dis.npy'\n",
    "\n",
    "train_triplet_sim = f'{data_dir}/train_triplet_sim.npy'\n",
    "valid_triplet_sim = f'{data_dir}/valid_triplet_sim.npy'\n",
    "test_triplet_sim = f'{data_dir}/test_triplet_sim.npy'"
   ]
  },
  {
   "cell_type": "markdown",
   "metadata": {},
   "source": [
    "## Parameters"
   ]
  },
  {
   "cell_type": "code",
   "execution_count": 4,
   "metadata": {},
   "outputs": [],
   "source": [
    "codings_size=100 \n",
    "exp_filter_num=4\n",
    "exp_filter_1d_size= 11\n",
    "\n",
    "allow_reverse = True\n",
    "max_len = 600\n",
    "\n",
    "learning_rate = 0.1\n",
    "momentum = 0.9\n",
    "is_nesterov = True\n",
    "patience = 20\n",
    "monitor = 'val_crm_f1_score'\n",
    "start_from_epoch = 10"
   ]
  },
  {
   "cell_type": "markdown",
   "metadata": {},
   "source": [
    "## Loading Data"
   ]
  },
  {
   "cell_type": "code",
   "execution_count": 5,
   "metadata": {},
   "outputs": [],
   "source": [
    "train = data.FantomToOneHotConverter(train_sequence, 0, max_len).seq_matrix\n",
    "reverse_train = data.FantomToOneHotConverter(reverse_train_sequence, 0, max_len).seq_matrix if allow_reverse else None"
   ]
  },
  {
   "cell_type": "code",
   "execution_count": 6,
   "metadata": {},
   "outputs": [],
   "source": [
    "valid = data.FantomToOneHotConverter(valid_sequence, 0, max_len).seq_matrix\n",
    "reverse_valid = data.FantomToOneHotConverter(reverse_valid_sequence, 0, max_len).seq_matrix if allow_reverse else None"
   ]
  },
  {
   "cell_type": "code",
   "execution_count": 7,
   "metadata": {},
   "outputs": [],
   "source": [
    "# test = data.FantomToOneHotConverter(test_sequence, 0, max_len).seq_matrix\n",
    "# reverse_test = data.FantomToOneHotConverter(reverse_test_sequence, 0, max_len).seq_matrix if allow_reverse else None"
   ]
  },
  {
   "cell_type": "code",
   "execution_count": 8,
   "metadata": {},
   "outputs": [],
   "source": [
    "train_seq = PremadeTripletClassifierSequence(train, train_triplet_sim, train_triplet_dis, batch_size = 1024, reverse_x_in =reverse_train)\n",
    "valid_seq = PremadeTripletClassifierSequence(valid, valid_triplet_sim, valid_triplet_dis, batch_size = 1024, reverse_x_in =reverse_valid)\n",
    "# test_seq = PremadeTripletClassifierSequence(test, test_triplet_sim, test_triplet_dis, batch_size = 1024, reverse_x_in =reverse_test)"
   ]
  },
  {
   "cell_type": "code",
   "execution_count": 9,
   "metadata": {},
   "outputs": [],
   "source": [
    "for x_batch, y_batch in train_seq:\n",
    "    _, d1, d2, d3 = x_batch.shape"
   ]
  },
  {
   "cell_type": "markdown",
   "metadata": {},
   "source": [
    "## Creating Model"
   ]
  },
  {
   "cell_type": "code",
   "execution_count": 10,
   "metadata": {
    "tags": []
   },
   "outputs": [
    {
     "name": "stdout",
     "output_type": "stream",
     "text": [
      "Model: \"model\"\n",
      "_________________________________________________________________\n",
      " Layer (type)                Output Shape              Param #   \n",
      "=================================================================\n",
      " input_1 (InputLayer)        [(None, 4, 600, 3)]       0         \n",
      "                                                                 \n",
      " masking (Masking)           (None, 4, 600, 3)         0         \n",
      "                                                                 \n",
      " separable_conv2d (Separable  (None, 1, 598, 4)        48        \n",
      " Conv2D)                                                         \n",
      "                                                                 \n",
      " batch_normalization (BatchN  (None, 1, 598, 4)        16        \n",
      " ormalization)                                                   \n",
      "                                                                 \n",
      " activation (Activation)     (None, 1, 598, 4)         0         \n",
      "                                                                 \n",
      " reshape (Reshape)           (None, 598, 4)            0         \n",
      "                                                                 \n",
      " max_pooling1d (MaxPooling1D  (None, 299, 4)           0         \n",
      " )                                                               \n",
      "                                                                 \n",
      " separable_conv1d (Separable  (None, 289, 8)           76        \n",
      " Conv1D)                                                         \n",
      "                                                                 \n",
      " batch_normalization_1 (Batc  (None, 289, 8)           32        \n",
      " hNormalization)                                                 \n",
      "                                                                 \n",
      " activation_1 (Activation)   (None, 289, 8)            0         \n",
      "                                                                 \n",
      " max_pooling1d_1 (MaxPooling  (None, 144, 8)           0         \n",
      " 1D)                                                             \n",
      "                                                                 \n",
      " separable_conv1d_1 (Separab  (None, 134, 16)          216       \n",
      " leConv1D)                                                       \n",
      "                                                                 \n",
      " batch_normalization_2 (Batc  (None, 134, 16)          64        \n",
      " hNormalization)                                                 \n",
      "                                                                 \n",
      " activation_2 (Activation)   (None, 134, 16)           0         \n",
      "                                                                 \n",
      " max_pooling1d_2 (MaxPooling  (None, 67, 16)           0         \n",
      " 1D)                                                             \n",
      "                                                                 \n",
      " separable_conv1d_2 (Separab  (None, 57, 32)           688       \n",
      " leConv1D)                                                       \n",
      "                                                                 \n",
      " batch_normalization_3 (Batc  (None, 57, 32)           128       \n",
      " hNormalization)                                                 \n",
      "                                                                 \n",
      " activation_3 (Activation)   (None, 57, 32)            0         \n",
      "                                                                 \n",
      " max_pooling1d_3 (MaxPooling  (None, 28, 32)           0         \n",
      " 1D)                                                             \n",
      "                                                                 \n",
      " separable_conv1d_3 (Separab  (None, 18, 64)           2400      \n",
      " leConv1D)                                                       \n",
      "                                                                 \n",
      " batch_normalization_4 (Batc  (None, 18, 64)           256       \n",
      " hNormalization)                                                 \n",
      "                                                                 \n",
      " activation_4 (Activation)   (None, 18, 64)            0         \n",
      "                                                                 \n",
      " global_max_pooling1d (Globa  (None, 64)               0         \n",
      " lMaxPooling1D)                                                  \n",
      "                                                                 \n",
      " dense (Dense)               (None, 100)               6400      \n",
      "                                                                 \n",
      " batch_normalization_5 (Batc  (None, 100)              400       \n",
      " hNormalization)                                                 \n",
      "                                                                 \n",
      " activation_5 (Activation)   (None, 100)               0         \n",
      "                                                                 \n",
      " dense_1 (Dense)             (None, 1)                 101       \n",
      "                                                                 \n",
      "=================================================================\n",
      "Total params: 10,825\n",
      "Trainable params: 10,377\n",
      "Non-trainable params: 448\n",
      "_________________________________________________________________\n"
     ]
    }
   ],
   "source": [
    "model = nets.make_conv_classifier(codings_size, (d1, d2, d3), exp_filter_1d_size, filter_num=exp_filter_num)\n",
    "model.summary()"
   ]
  },
  {
   "cell_type": "code",
   "execution_count": 11,
   "metadata": {},
   "outputs": [],
   "source": [
    "opt = keras.optimizers.SGD(learning_rate=learning_rate, momentum=momentum, nesterov=is_nesterov) # 0.1\n",
    "model.compile(loss='mse', metrics=['accuracy', nets.crm_specificity, tf.keras.metrics.Recall(), tf.keras.metrics.Precision(), nets.crm_f1_score], optimizer=opt) #  "
   ]
  },
  {
   "cell_type": "code",
   "execution_count": 12,
   "metadata": {},
   "outputs": [],
   "source": [
    "early_stopping = keras.callbacks.EarlyStopping(patience=patience, min_delta=1/100000, restore_best_weights=True, monitor=monitor, start_from_epoch = start_from_epoch, mode='max') #val_precision"
   ]
  },
  {
   "cell_type": "code",
   "execution_count": 13,
   "metadata": {},
   "outputs": [],
   "source": [
    "def exponential_decay_fn(epoch, lr):\n",
    "    '''\n",
    "    This function decreases the learning rate according to the epoch\n",
    "    '''\n",
    "    return lr*0.1**(1/100)\n",
    "\n",
    "lr_scheduler = keras.callbacks.LearningRateScheduler(exponential_decay_fn)"
   ]
  },
  {
   "cell_type": "markdown",
   "metadata": {},
   "source": [
    "## Training Model"
   ]
  },
  {
   "cell_type": "code",
   "execution_count": 14,
   "metadata": {
    "tags": []
   },
   "outputs": [
    {
     "name": "stdout",
     "output_type": "stream",
     "text": [
      "Epoch 1/500\n",
      "72/72 [==============================] - 16s 165ms/step - loss: 0.2098 - accuracy: 0.6670 - crm_specificity: 0.6824 - recall: 0.6519 - precision: 0.6722 - crm_f1_score: 0.6610 - val_loss: 0.2312 - val_accuracy: 0.5986 - val_crm_specificity: 0.9426 - val_recall: 0.2538 - val_precision: 0.8153 - val_crm_f1_score: 0.3869 - lr: 0.0977\n",
      "Epoch 2/500\n",
      "72/72 [==============================] - 12s 162ms/step - loss: 0.1918 - accuracy: 0.7023 - crm_specificity: 0.6837 - recall: 0.7209 - precision: 0.6950 - crm_f1_score: 0.7075 - val_loss: 0.2160 - val_accuracy: 0.6747 - val_crm_specificity: 0.7959 - val_recall: 0.5531 - val_precision: 0.7298 - val_crm_f1_score: 0.6288 - lr: 0.0955\n",
      "Epoch 3/500\n",
      "72/72 [==============================] - 12s 160ms/step - loss: 0.1905 - accuracy: 0.7056 - crm_specificity: 0.6870 - recall: 0.7245 - precision: 0.6981 - crm_f1_score: 0.7110 - val_loss: 0.2110 - val_accuracy: 0.6454 - val_crm_specificity: 0.8916 - val_recall: 0.3994 - val_precision: 0.7860 - val_crm_f1_score: 0.5287 - lr: 0.0933\n",
      "Epoch 4/500\n",
      "72/72 [==============================] - 12s 162ms/step - loss: 0.1878 - accuracy: 0.7117 - crm_specificity: 0.6872 - recall: 0.7364 - precision: 0.7019 - crm_f1_score: 0.7186 - val_loss: 0.1933 - val_accuracy: 0.6982 - val_crm_specificity: 0.7440 - val_recall: 0.6526 - val_precision: 0.7181 - val_crm_f1_score: 0.6836 - lr: 0.0912\n",
      "Epoch 5/500\n",
      "72/72 [==============================] - 12s 161ms/step - loss: 0.1859 - accuracy: 0.7150 - crm_specificity: 0.6819 - recall: 0.7482 - precision: 0.7015 - crm_f1_score: 0.7240 - val_loss: 0.1903 - val_accuracy: 0.7089 - val_crm_specificity: 0.6523 - val_recall: 0.7658 - val_precision: 0.6880 - val_crm_f1_score: 0.7248 - lr: 0.0891\n",
      "Epoch 6/500\n",
      "72/72 [==============================] - 12s 162ms/step - loss: 0.1848 - accuracy: 0.7190 - crm_specificity: 0.6879 - recall: 0.7505 - precision: 0.7061 - crm_f1_score: 0.7275 - val_loss: 0.1931 - val_accuracy: 0.7010 - val_crm_specificity: 0.5387 - val_recall: 0.8630 - val_precision: 0.6523 - val_crm_f1_score: 0.7428 - lr: 0.0871\n",
      "Epoch 7/500\n",
      "72/72 [==============================] - 12s 163ms/step - loss: 0.1838 - accuracy: 0.7191 - crm_specificity: 0.6850 - recall: 0.7533 - precision: 0.7052 - crm_f1_score: 0.7283 - val_loss: 0.1941 - val_accuracy: 0.7053 - val_crm_specificity: 0.5387 - val_recall: 0.8712 - val_precision: 0.6545 - val_crm_f1_score: 0.7473 - lr: 0.0851\n",
      "Epoch 8/500\n",
      "72/72 [==============================] - 12s 163ms/step - loss: 0.1833 - accuracy: 0.7212 - crm_specificity: 0.6908 - recall: 0.7517 - precision: 0.7084 - crm_f1_score: 0.7293 - val_loss: 0.1896 - val_accuracy: 0.7153 - val_crm_specificity: 0.5647 - val_recall: 0.8662 - val_precision: 0.6652 - val_crm_f1_score: 0.7523 - lr: 0.0832\n",
      "Epoch 9/500\n",
      "72/72 [==============================] - 12s 163ms/step - loss: 0.1815 - accuracy: 0.7254 - crm_specificity: 0.6897 - recall: 0.7613 - precision: 0.7103 - crm_f1_score: 0.7347 - val_loss: 0.2168 - val_accuracy: 0.6660 - val_crm_specificity: 0.3995 - val_recall: 0.9331 - val_precision: 0.6080 - val_crm_f1_score: 0.7362 - lr: 0.0813\n",
      "Epoch 10/500\n",
      "72/72 [==============================] - 12s 161ms/step - loss: 0.1806 - accuracy: 0.7263 - crm_specificity: 0.6954 - recall: 0.7577 - precision: 0.7130 - crm_f1_score: 0.7345 - val_loss: 0.1839 - val_accuracy: 0.7205 - val_crm_specificity: 0.6205 - val_recall: 0.8202 - val_precision: 0.6843 - val_crm_f1_score: 0.7460 - lr: 0.0794\n",
      "Epoch 11/500\n",
      "72/72 [==============================] - 12s 163ms/step - loss: 0.1803 - accuracy: 0.7279 - crm_specificity: 0.6976 - recall: 0.7584 - precision: 0.7146 - crm_f1_score: 0.7357 - val_loss: 0.2114 - val_accuracy: 0.6746 - val_crm_specificity: 0.4151 - val_recall: 0.9345 - val_precision: 0.6149 - val_crm_f1_score: 0.7414 - lr: 0.0776\n",
      "Epoch 12/500\n",
      "72/72 [==============================] - 12s 162ms/step - loss: 0.1782 - accuracy: 0.7323 - crm_specificity: 0.7058 - recall: 0.7591 - precision: 0.7205 - crm_f1_score: 0.7392 - val_loss: 0.2246 - val_accuracy: 0.6508 - val_crm_specificity: 0.3458 - val_recall: 0.9554 - val_precision: 0.5938 - val_crm_f1_score: 0.7323 - lr: 0.0759\n",
      "Epoch 13/500\n",
      "72/72 [==============================] - 12s 161ms/step - loss: 0.1763 - accuracy: 0.7360 - crm_specificity: 0.7109 - recall: 0.7614 - precision: 0.7246 - crm_f1_score: 0.7424 - val_loss: 0.2129 - val_accuracy: 0.6610 - val_crm_specificity: 0.3751 - val_recall: 0.9474 - val_precision: 0.6023 - val_crm_f1_score: 0.7362 - lr: 0.0741\n",
      "Epoch 14/500\n",
      "72/72 [==============================] - 12s 161ms/step - loss: 0.1751 - accuracy: 0.7374 - crm_specificity: 0.7099 - recall: 0.7651 - precision: 0.7250 - crm_f1_score: 0.7444 - val_loss: 0.2145 - val_accuracy: 0.6765 - val_crm_specificity: 0.4103 - val_recall: 0.9435 - val_precision: 0.6146 - val_crm_f1_score: 0.7442 - lr: 0.0724\n",
      "Epoch 15/500\n",
      "72/72 [==============================] - 12s 161ms/step - loss: 0.1745 - accuracy: 0.7374 - crm_specificity: 0.7091 - recall: 0.7661 - precision: 0.7246 - crm_f1_score: 0.7447 - val_loss: 0.2108 - val_accuracy: 0.6758 - val_crm_specificity: 0.4150 - val_recall: 0.9368 - val_precision: 0.6154 - val_crm_f1_score: 0.7428 - lr: 0.0708\n",
      "Epoch 16/500\n",
      "72/72 [==============================] - 12s 162ms/step - loss: 0.1741 - accuracy: 0.7401 - crm_specificity: 0.7155 - recall: 0.7650 - precision: 0.7288 - crm_f1_score: 0.7464 - val_loss: 0.2700 - val_accuracy: 0.5866 - val_crm_specificity: 0.1881 - val_recall: 0.9848 - val_precision: 0.5483 - val_crm_f1_score: 0.7042 - lr: 0.0692\n",
      "Epoch 17/500\n",
      "72/72 [==============================] - 12s 163ms/step - loss: 0.1743 - accuracy: 0.7383 - crm_specificity: 0.7135 - recall: 0.7635 - precision: 0.7269 - crm_f1_score: 0.7446 - val_loss: 0.2314 - val_accuracy: 0.6566 - val_crm_specificity: 0.3618 - val_recall: 0.9511 - val_precision: 0.5987 - val_crm_f1_score: 0.7348 - lr: 0.0676\n",
      "Epoch 18/500\n",
      "72/72 [==============================] - 12s 162ms/step - loss: 0.1712 - accuracy: 0.7452 - crm_specificity: 0.7199 - recall: 0.7707 - precision: 0.7334 - crm_f1_score: 0.7515 - val_loss: 0.1966 - val_accuracy: 0.6937 - val_crm_specificity: 0.4943 - val_recall: 0.8937 - val_precision: 0.6378 - val_crm_f1_score: 0.7443 - lr: 0.0661\n",
      "Epoch 19/500\n",
      "72/72 [==============================] - 12s 161ms/step - loss: 0.1718 - accuracy: 0.7441 - crm_specificity: 0.7256 - recall: 0.7628 - precision: 0.7353 - crm_f1_score: 0.7487 - val_loss: 0.1751 - val_accuracy: 0.7393 - val_crm_specificity: 0.6711 - val_recall: 0.8071 - val_precision: 0.7114 - val_crm_f1_score: 0.7560 - lr: 0.0646\n",
      "Epoch 20/500\n",
      "72/72 [==============================] - 12s 161ms/step - loss: 0.1698 - accuracy: 0.7462 - crm_specificity: 0.7206 - recall: 0.7719 - precision: 0.7342 - crm_f1_score: 0.7524 - val_loss: 0.2241 - val_accuracy: 0.6642 - val_crm_specificity: 0.3789 - val_recall: 0.9498 - val_precision: 0.6042 - val_crm_f1_score: 0.7385 - lr: 0.0631\n",
      "Epoch 21/500\n",
      "72/72 [==============================] - 12s 161ms/step - loss: 0.1671 - accuracy: 0.7540 - crm_specificity: 0.7345 - recall: 0.7736 - precision: 0.7444 - crm_f1_score: 0.7585 - val_loss: 0.1903 - val_accuracy: 0.7118 - val_crm_specificity: 0.5167 - val_recall: 0.9073 - val_precision: 0.6519 - val_crm_f1_score: 0.7585 - lr: 0.0617\n",
      "Epoch 22/500\n",
      "72/72 [==============================] - 12s 160ms/step - loss: 0.1677 - accuracy: 0.7500 - crm_specificity: 0.7275 - recall: 0.7727 - precision: 0.7392 - crm_f1_score: 0.7554 - val_loss: 0.1706 - val_accuracy: 0.7419 - val_crm_specificity: 0.7733 - val_recall: 0.7106 - val_precision: 0.7576 - val_crm_f1_score: 0.7332 - lr: 0.0603\n",
      "Epoch 23/500\n",
      "72/72 [==============================] - 12s 161ms/step - loss: 0.1656 - accuracy: 0.7563 - crm_specificity: 0.7365 - recall: 0.7763 - precision: 0.7464 - crm_f1_score: 0.7609 - val_loss: 0.1865 - val_accuracy: 0.7219 - val_crm_specificity: 0.5400 - val_recall: 0.9036 - val_precision: 0.6630 - val_crm_f1_score: 0.7647 - lr: 0.0589\n",
      "Epoch 24/500\n",
      "72/72 [==============================] - 12s 161ms/step - loss: 0.1631 - accuracy: 0.7609 - crm_specificity: 0.7404 - recall: 0.7816 - precision: 0.7506 - crm_f1_score: 0.7657 - val_loss: 0.2128 - val_accuracy: 0.6878 - val_crm_specificity: 0.4795 - val_recall: 0.8959 - val_precision: 0.6327 - val_crm_f1_score: 0.7414 - lr: 0.0575\n",
      "Epoch 25/500\n",
      "72/72 [==============================] - 12s 160ms/step - loss: 0.1633 - accuracy: 0.7591 - crm_specificity: 0.7366 - recall: 0.7819 - precision: 0.7480 - crm_f1_score: 0.7645 - val_loss: 0.1860 - val_accuracy: 0.7249 - val_crm_specificity: 0.8619 - val_recall: 0.5876 - val_precision: 0.8097 - val_crm_f1_score: 0.6811 - lr: 0.0562\n",
      "Epoch 26/500\n",
      "72/72 [==============================] - 12s 161ms/step - loss: 0.1630 - accuracy: 0.7597 - crm_specificity: 0.7324 - recall: 0.7873 - precision: 0.7461 - crm_f1_score: 0.7660 - val_loss: 0.1689 - val_accuracy: 0.7475 - val_crm_specificity: 0.6553 - val_recall: 0.8394 - val_precision: 0.7093 - val_crm_f1_score: 0.7686 - lr: 0.0550\n",
      "Epoch 27/500\n",
      "72/72 [==============================] - 12s 161ms/step - loss: 0.1615 - accuracy: 0.7623 - crm_specificity: 0.7423 - recall: 0.7825 - precision: 0.7521 - crm_f1_score: 0.7669 - val_loss: 0.1748 - val_accuracy: 0.7411 - val_crm_specificity: 0.6381 - val_recall: 0.8445 - val_precision: 0.6996 - val_crm_f1_score: 0.7651 - lr: 0.0537\n",
      "Epoch 28/500\n",
      "72/72 [==============================] - 12s 161ms/step - loss: 0.1593 - accuracy: 0.7667 - crm_specificity: 0.7444 - recall: 0.7893 - precision: 0.7552 - crm_f1_score: 0.7717 - val_loss: 0.1832 - val_accuracy: 0.7279 - val_crm_specificity: 0.6602 - val_recall: 0.7955 - val_precision: 0.7006 - val_crm_f1_score: 0.7448 - lr: 0.0525\n",
      "Epoch 29/500\n",
      "72/72 [==============================] - 12s 161ms/step - loss: 0.1610 - accuracy: 0.7644 - crm_specificity: 0.7402 - recall: 0.7889 - precision: 0.7521 - crm_f1_score: 0.7699 - val_loss: 0.1641 - val_accuracy: 0.7558 - val_crm_specificity: 0.7707 - val_recall: 0.7408 - val_precision: 0.7641 - val_crm_f1_score: 0.7521 - lr: 0.0513\n",
      "Epoch 30/500\n",
      "72/72 [==============================] - 12s 160ms/step - loss: 0.1601 - accuracy: 0.7649 - crm_specificity: 0.7471 - recall: 0.7827 - precision: 0.7558 - crm_f1_score: 0.7690 - val_loss: 0.1681 - val_accuracy: 0.7505 - val_crm_specificity: 0.8020 - val_recall: 0.6988 - val_precision: 0.7789 - val_crm_f1_score: 0.7367 - lr: 0.0501\n",
      "Epoch 31/500\n",
      "72/72 [==============================] - 12s 160ms/step - loss: 0.1582 - accuracy: 0.7673 - crm_specificity: 0.7487 - recall: 0.7861 - precision: 0.7578 - crm_f1_score: 0.7716 - val_loss: 0.3177 - val_accuracy: 0.5738 - val_crm_specificity: 0.1735 - val_recall: 0.9755 - val_precision: 0.5405 - val_crm_f1_score: 0.6954 - lr: 0.0490\n",
      "Epoch 32/500\n",
      "72/72 [==============================] - 12s 162ms/step - loss: 0.1565 - accuracy: 0.7726 - crm_specificity: 0.7538 - recall: 0.7915 - precision: 0.7626 - crm_f1_score: 0.7767 - val_loss: 0.2162 - val_accuracy: 0.6762 - val_crm_specificity: 0.3884 - val_recall: 0.9638 - val_precision: 0.6118 - val_crm_f1_score: 0.7485 - lr: 0.0479\n",
      "Epoch 33/500\n",
      "72/72 [==============================] - 12s 163ms/step - loss: 0.1567 - accuracy: 0.7707 - crm_specificity: 0.7510 - recall: 0.7906 - precision: 0.7603 - crm_f1_score: 0.7750 - val_loss: 0.2320 - val_accuracy: 0.6507 - val_crm_specificity: 0.3302 - val_recall: 0.9697 - val_precision: 0.5925 - val_crm_f1_score: 0.7353 - lr: 0.0468\n",
      "Epoch 34/500\n",
      "72/72 [==============================] - 12s 161ms/step - loss: 0.1570 - accuracy: 0.7703 - crm_specificity: 0.7487 - recall: 0.7923 - precision: 0.7590 - crm_f1_score: 0.7752 - val_loss: 0.2498 - val_accuracy: 0.6497 - val_crm_specificity: 0.3379 - val_recall: 0.9621 - val_precision: 0.5920 - val_crm_f1_score: 0.7327 - lr: 0.0457\n",
      "Epoch 35/500\n",
      "72/72 [==============================] - 12s 161ms/step - loss: 0.1561 - accuracy: 0.7721 - crm_specificity: 0.7516 - recall: 0.7928 - precision: 0.7613 - crm_f1_score: 0.7767 - val_loss: 0.2079 - val_accuracy: 0.6935 - val_crm_specificity: 0.4335 - val_recall: 0.9534 - val_precision: 0.6273 - val_crm_f1_score: 0.7566 - lr: 0.0447\n",
      "Epoch 36/500\n",
      "72/72 [==============================] - 12s 160ms/step - loss: 0.1530 - accuracy: 0.7770 - crm_specificity: 0.7575 - recall: 0.7969 - precision: 0.7665 - crm_f1_score: 0.7813 - val_loss: 0.1679 - val_accuracy: 0.7509 - val_crm_specificity: 0.6499 - val_recall: 0.8521 - val_precision: 0.7085 - val_crm_f1_score: 0.7736 - lr: 0.0437\n",
      "Epoch 37/500\n",
      "72/72 [==============================] - 12s 160ms/step - loss: 0.1544 - accuracy: 0.7748 - crm_specificity: 0.7549 - recall: 0.7949 - precision: 0.7642 - crm_f1_score: 0.7792 - val_loss: 0.1680 - val_accuracy: 0.7492 - val_crm_specificity: 0.8694 - val_recall: 0.6284 - val_precision: 0.8277 - val_crm_f1_score: 0.7145 - lr: 0.0427\n",
      "Epoch 38/500\n",
      "72/72 [==============================] - 12s 161ms/step - loss: 0.1538 - accuracy: 0.7750 - crm_specificity: 0.7551 - recall: 0.7952 - precision: 0.7644 - crm_f1_score: 0.7792 - val_loss: 0.1576 - val_accuracy: 0.7690 - val_crm_specificity: 0.7638 - val_recall: 0.7743 - val_precision: 0.7657 - val_crm_f1_score: 0.7696 - lr: 0.0417\n",
      "Epoch 39/500\n",
      "72/72 [==============================] - 12s 160ms/step - loss: 0.1538 - accuracy: 0.7760 - crm_specificity: 0.7546 - recall: 0.7978 - precision: 0.7645 - crm_f1_score: 0.7807 - val_loss: 0.1695 - val_accuracy: 0.7488 - val_crm_specificity: 0.8414 - val_recall: 0.6561 - val_precision: 0.8051 - val_crm_f1_score: 0.7228 - lr: 0.0407\n",
      "Epoch 40/500\n",
      "72/72 [==============================] - 12s 162ms/step - loss: 0.1533 - accuracy: 0.7757 - crm_specificity: 0.7557 - recall: 0.7960 - precision: 0.7650 - crm_f1_score: 0.7802 - val_loss: 0.1591 - val_accuracy: 0.7660 - val_crm_specificity: 0.6800 - val_recall: 0.8518 - val_precision: 0.7272 - val_crm_f1_score: 0.7844 - lr: 0.0398\n",
      "Epoch 41/500\n",
      "72/72 [==============================] - 12s 162ms/step - loss: 0.1541 - accuracy: 0.7755 - crm_specificity: 0.7543 - recall: 0.7969 - precision: 0.7641 - crm_f1_score: 0.7801 - val_loss: 0.1557 - val_accuracy: 0.7704 - val_crm_specificity: 0.7406 - val_recall: 0.8000 - val_precision: 0.7557 - val_crm_f1_score: 0.7771 - lr: 0.0389\n",
      "Epoch 42/500\n",
      "72/72 [==============================] - 12s 162ms/step - loss: 0.1527 - accuracy: 0.7776 - crm_specificity: 0.7565 - recall: 0.7991 - precision: 0.7662 - crm_f1_score: 0.7821 - val_loss: 0.1621 - val_accuracy: 0.7649 - val_crm_specificity: 0.7030 - val_recall: 0.8267 - val_precision: 0.7360 - val_crm_f1_score: 0.7786 - lr: 0.0380\n",
      "Epoch 43/500\n",
      "72/72 [==============================] - 12s 160ms/step - loss: 0.1535 - accuracy: 0.7760 - crm_specificity: 0.7571 - recall: 0.7953 - precision: 0.7658 - crm_f1_score: 0.7802 - val_loss: 0.1671 - val_accuracy: 0.7505 - val_crm_specificity: 0.6653 - val_recall: 0.8356 - val_precision: 0.7143 - val_crm_f1_score: 0.7700 - lr: 0.0372\n",
      "Epoch 44/500\n",
      "72/72 [==============================] - 12s 162ms/step - loss: 0.1519 - accuracy: 0.7797 - crm_specificity: 0.7622 - recall: 0.7974 - precision: 0.7701 - crm_f1_score: 0.7834 - val_loss: 0.1898 - val_accuracy: 0.7264 - val_crm_specificity: 0.6432 - val_recall: 0.8099 - val_precision: 0.6938 - val_crm_f1_score: 0.7472 - lr: 0.0363\n",
      "Epoch 45/500\n",
      "72/72 [==============================] - 12s 161ms/step - loss: 0.1528 - accuracy: 0.7766 - crm_specificity: 0.7562 - recall: 0.7972 - precision: 0.7657 - crm_f1_score: 0.7810 - val_loss: 0.1570 - val_accuracy: 0.7684 - val_crm_specificity: 0.7791 - val_recall: 0.7576 - val_precision: 0.7753 - val_crm_f1_score: 0.7661 - lr: 0.0355\n",
      "Epoch 46/500\n",
      "72/72 [==============================] - 12s 162ms/step - loss: 0.1534 - accuracy: 0.7781 - crm_specificity: 0.7610 - recall: 0.7955 - precision: 0.7687 - crm_f1_score: 0.7817 - val_loss: 0.1575 - val_accuracy: 0.7706 - val_crm_specificity: 0.6891 - val_recall: 0.8525 - val_precision: 0.7326 - val_crm_f1_score: 0.7880 - lr: 0.0347\n",
      "Epoch 47/500\n",
      "72/72 [==============================] - 12s 161ms/step - loss: 0.1517 - accuracy: 0.7811 - crm_specificity: 0.7626 - recall: 0.7998 - precision: 0.7710 - crm_f1_score: 0.7851 - val_loss: 0.1621 - val_accuracy: 0.7630 - val_crm_specificity: 0.6630 - val_recall: 0.8630 - val_precision: 0.7189 - val_crm_f1_score: 0.7844 - lr: 0.0339\n",
      "Epoch 48/500\n",
      "72/72 [==============================] - 12s 161ms/step - loss: 0.1528 - accuracy: 0.7785 - crm_specificity: 0.7577 - recall: 0.7996 - precision: 0.7672 - crm_f1_score: 0.7830 - val_loss: 0.1621 - val_accuracy: 0.7616 - val_crm_specificity: 0.8520 - val_recall: 0.6720 - val_precision: 0.8206 - val_crm_f1_score: 0.7387 - lr: 0.0331\n",
      "Epoch 49/500\n",
      "72/72 [==============================] - 12s 160ms/step - loss: 0.1510 - accuracy: 0.7796 - crm_specificity: 0.7619 - recall: 0.7976 - precision: 0.7699 - crm_f1_score: 0.7834 - val_loss: 0.1733 - val_accuracy: 0.7419 - val_crm_specificity: 0.8776 - val_recall: 0.6055 - val_precision: 0.8316 - val_crm_f1_score: 0.7006 - lr: 0.0324\n",
      "Epoch 50/500\n",
      "72/72 [==============================] - 12s 159ms/step - loss: 0.1509 - accuracy: 0.7810 - crm_specificity: 0.7643 - recall: 0.7979 - precision: 0.7718 - crm_f1_score: 0.7846 - val_loss: 0.1641 - val_accuracy: 0.7574 - val_crm_specificity: 0.8320 - val_recall: 0.6825 - val_precision: 0.8022 - val_crm_f1_score: 0.7370 - lr: 0.0316\n",
      "Epoch 51/500\n",
      "72/72 [==============================] - 12s 160ms/step - loss: 0.1515 - accuracy: 0.7796 - crm_specificity: 0.7603 - recall: 0.7991 - precision: 0.7692 - crm_f1_score: 0.7838 - val_loss: 0.1647 - val_accuracy: 0.7557 - val_crm_specificity: 0.6413 - val_recall: 0.8703 - val_precision: 0.7080 - val_crm_f1_score: 0.7806 - lr: 0.0309\n",
      "Epoch 52/500\n",
      "72/72 [==============================] - 12s 161ms/step - loss: 0.1520 - accuracy: 0.7793 - crm_specificity: 0.7594 - recall: 0.7993 - precision: 0.7685 - crm_f1_score: 0.7836 - val_loss: 0.1620 - val_accuracy: 0.7624 - val_crm_specificity: 0.6851 - val_recall: 0.8395 - val_precision: 0.7275 - val_crm_f1_score: 0.7795 - lr: 0.0302\n",
      "Epoch 53/500\n",
      "72/72 [==============================] - 12s 162ms/step - loss: 0.1517 - accuracy: 0.7798 - crm_specificity: 0.7608 - recall: 0.7991 - precision: 0.7693 - crm_f1_score: 0.7838 - val_loss: 0.1530 - val_accuracy: 0.7779 - val_crm_specificity: 0.7671 - val_recall: 0.7888 - val_precision: 0.7724 - val_crm_f1_score: 0.7804 - lr: 0.0295\n",
      "Epoch 54/500\n",
      "72/72 [==============================] - 12s 161ms/step - loss: 0.1515 - accuracy: 0.7811 - crm_specificity: 0.7623 - recall: 0.8002 - precision: 0.7708 - crm_f1_score: 0.7851 - val_loss: 0.1600 - val_accuracy: 0.7668 - val_crm_specificity: 0.8185 - val_recall: 0.7150 - val_precision: 0.7971 - val_crm_f1_score: 0.7536 - lr: 0.0288\n",
      "Epoch 55/500\n",
      "72/72 [==============================] - 12s 161ms/step - loss: 0.1524 - accuracy: 0.7802 - crm_specificity: 0.7631 - recall: 0.7977 - precision: 0.7707 - crm_f1_score: 0.7838 - val_loss: 0.1709 - val_accuracy: 0.7447 - val_crm_specificity: 0.8513 - val_recall: 0.6384 - val_precision: 0.8114 - val_crm_f1_score: 0.7145 - lr: 0.0282\n",
      "Epoch 56/500\n",
      "72/72 [==============================] - 12s 161ms/step - loss: 0.1515 - accuracy: 0.7783 - crm_specificity: 0.7596 - recall: 0.7974 - precision: 0.7682 - crm_f1_score: 0.7824 - val_loss: 0.1695 - val_accuracy: 0.7509 - val_crm_specificity: 0.6031 - val_recall: 0.8989 - val_precision: 0.6938 - val_crm_f1_score: 0.7829 - lr: 0.0275\n",
      "Epoch 57/500\n",
      "72/72 [==============================] - 12s 160ms/step - loss: 0.1501 - accuracy: 0.7827 - crm_specificity: 0.7657 - recall: 0.7999 - precision: 0.7733 - crm_f1_score: 0.7863 - val_loss: 0.1701 - val_accuracy: 0.7520 - val_crm_specificity: 0.6138 - val_recall: 0.8898 - val_precision: 0.6982 - val_crm_f1_score: 0.7823 - lr: 0.0269\n",
      "Epoch 58/500\n",
      "72/72 [==============================] - 12s 161ms/step - loss: 0.1504 - accuracy: 0.7833 - crm_specificity: 0.7636 - recall: 0.8033 - precision: 0.7723 - crm_f1_score: 0.7874 - val_loss: 0.1690 - val_accuracy: 0.7494 - val_crm_specificity: 0.8323 - val_recall: 0.6667 - val_precision: 0.7993 - val_crm_f1_score: 0.7268 - lr: 0.0263\n",
      "Epoch 59/500\n",
      "72/72 [==============================] - 12s 161ms/step - loss: 0.1504 - accuracy: 0.7815 - crm_specificity: 0.7616 - recall: 0.8018 - precision: 0.7706 - crm_f1_score: 0.7857 - val_loss: 0.1605 - val_accuracy: 0.7663 - val_crm_specificity: 0.6804 - val_recall: 0.8524 - val_precision: 0.7273 - val_crm_f1_score: 0.7847 - lr: 0.0257\n",
      "Epoch 60/500\n",
      "72/72 [==============================] - 12s 161ms/step - loss: 0.1497 - accuracy: 0.7831 - crm_specificity: 0.7642 - recall: 0.8023 - precision: 0.7727 - crm_f1_score: 0.7871 - val_loss: 0.1586 - val_accuracy: 0.7693 - val_crm_specificity: 0.8251 - val_recall: 0.7135 - val_precision: 0.8030 - val_crm_f1_score: 0.7554 - lr: 0.0251\n",
      "Epoch 61/500\n",
      "72/72 [==============================] - 12s 161ms/step - loss: 0.1496 - accuracy: 0.7836 - crm_specificity: 0.7660 - recall: 0.8014 - precision: 0.7738 - crm_f1_score: 0.7873 - val_loss: 0.1638 - val_accuracy: 0.7574 - val_crm_specificity: 0.6365 - val_recall: 0.8783 - val_precision: 0.7075 - val_crm_f1_score: 0.7836 - lr: 0.0245\n",
      "Epoch 62/500\n",
      "72/72 [==============================] - 12s 161ms/step - loss: 0.1512 - accuracy: 0.7818 - crm_specificity: 0.7609 - recall: 0.8029 - precision: 0.7703 - crm_f1_score: 0.7862 - val_loss: 0.1620 - val_accuracy: 0.7620 - val_crm_specificity: 0.8066 - val_recall: 0.7176 - val_precision: 0.7878 - val_crm_f1_score: 0.7507 - lr: 0.0240\n",
      "Epoch 63/500\n",
      "72/72 [==============================] - 12s 161ms/step - loss: 0.1508 - accuracy: 0.7814 - crm_specificity: 0.7621 - recall: 0.8010 - precision: 0.7709 - crm_f1_score: 0.7855 - val_loss: 0.1559 - val_accuracy: 0.7691 - val_crm_specificity: 0.7557 - val_recall: 0.7827 - val_precision: 0.7613 - val_crm_f1_score: 0.7715 - lr: 0.0234\n",
      "Epoch 64/500\n",
      "72/72 [==============================] - 12s 161ms/step - loss: 0.1481 - accuracy: 0.7861 - crm_specificity: 0.7664 - recall: 0.8060 - precision: 0.7752 - crm_f1_score: 0.7903 - val_loss: 0.1730 - val_accuracy: 0.7413 - val_crm_specificity: 0.8827 - val_recall: 0.6001 - val_precision: 0.8367 - val_crm_f1_score: 0.6989 - lr: 0.0229\n",
      "Epoch 65/500\n",
      "72/72 [==============================] - 12s 163ms/step - loss: 0.1509 - accuracy: 0.7816 - crm_specificity: 0.7662 - recall: 0.7971 - precision: 0.7732 - crm_f1_score: 0.7849 - val_loss: 0.1686 - val_accuracy: 0.7527 - val_crm_specificity: 0.6020 - val_recall: 0.9036 - val_precision: 0.6940 - val_crm_f1_score: 0.7850 - lr: 0.0224\n",
      "Epoch 66/500\n",
      "72/72 [==============================] - 12s 163ms/step - loss: 0.1505 - accuracy: 0.7829 - crm_specificity: 0.7625 - recall: 0.8036 - precision: 0.7717 - crm_f1_score: 0.7872 - val_loss: 0.1603 - val_accuracy: 0.7664 - val_crm_specificity: 0.8394 - val_recall: 0.6937 - val_precision: 0.8126 - val_crm_f1_score: 0.7483 - lr: 0.0219\n"
     ]
    },
    {
     "data": {
      "text/plain": [
       "<keras.callbacks.History at 0x7f09597d2460>"
      ]
     },
     "execution_count": 14,
     "metadata": {},
     "output_type": "execute_result"
    }
   ],
   "source": [
    "model.fit(train_seq, epochs=500, validation_data=valid_seq, workers=26, callbacks=[early_stopping, lr_scheduler]) #,workers=26"
   ]
  },
  {
   "cell_type": "code",
   "execution_count": 15,
   "metadata": {},
   "outputs": [
    {
     "name": "stderr",
     "output_type": "stream",
     "text": [
      "WARNING:absl:Found untraced functions such as _jit_compiled_convolution_op, _jit_compiled_convolution_op, _jit_compiled_convolution_op, _jit_compiled_convolution_op, _jit_compiled_convolution_op while saving (showing 5 of 5). These functions will not be directly callable after loading.\n"
     ]
    },
    {
     "name": "stdout",
     "output_type": "stream",
     "text": [
      "INFO:tensorflow:Assets written to: ExperimentLNRModel/assets\n"
     ]
    },
    {
     "name": "stderr",
     "output_type": "stream",
     "text": [
      "INFO:tensorflow:Assets written to: ExperimentLNRModel/assets\n"
     ]
    }
   ],
   "source": [
    "model.save(\"ExperimentLNRModel\")"
   ]
  },
  {
   "cell_type": "markdown",
   "metadata": {
    "tags": []
   },
   "source": [
    "## Evaluating Model"
   ]
  },
  {
   "cell_type": "code",
   "execution_count": 16,
   "metadata": {},
   "outputs": [
    {
     "name": "stdout",
     "output_type": "stream",
     "text": [
      "72/72 [==============================] - 9s 120ms/step - loss: 0.1563 - accuracy: 0.7715 - crm_specificity: 0.6846 - recall: 0.8584 - precision: 0.7313 - crm_f1_score: 0.7896\n",
      "72/72 [==============================] - 9s 121ms/step - loss: 0.1555 - accuracy: 0.7725 - crm_specificity: 0.6855 - recall: 0.8594 - precision: 0.7321 - crm_f1_score: 0.7906\n",
      "72/72 [==============================] - 9s 121ms/step - loss: 0.1559 - accuracy: 0.7734 - crm_specificity: 0.6858 - recall: 0.8609 - precision: 0.7329 - crm_f1_score: 0.7916\n",
      "0.1559,77.25,68.53,85.96,73.21,79.06\n"
     ]
    }
   ],
   "source": [
    "nets.print_results(train_seq, model)"
   ]
  },
  {
   "cell_type": "code",
   "execution_count": 17,
   "metadata": {},
   "outputs": [
    {
     "name": "stdout",
     "output_type": "stream",
     "text": [
      "15/15 [==============================] - 2s 122ms/step - loss: 0.1597 - accuracy: 0.7643 - crm_specificity: 0.6885 - recall: 0.8400 - precision: 0.7299 - crm_f1_score: 0.7808\n",
      "15/15 [==============================] - 2s 121ms/step - loss: 0.1602 - accuracy: 0.7660 - crm_specificity: 0.6891 - recall: 0.8428 - precision: 0.7310 - crm_f1_score: 0.7828\n",
      "15/15 [==============================] - 2s 121ms/step - loss: 0.1623 - accuracy: 0.7596 - crm_specificity: 0.6749 - recall: 0.8442 - precision: 0.7220 - crm_f1_score: 0.7781\n",
      "0.1607,76.33,68.42,84.23,72.76,78.06\n"
     ]
    }
   ],
   "source": [
    "nets.print_results(valid_seq, model)"
   ]
  },
  {
   "cell_type": "code",
   "execution_count": null,
   "metadata": {},
   "outputs": [],
   "source": []
  }
 ],
 "metadata": {
  "kernelspec": {
   "display_name": "tf-gpu",
   "language": "python",
   "name": "tf-gpu"
  },
  "language_info": {
   "codemirror_mode": {
    "name": "ipython",
    "version": 3
   },
   "file_extension": ".py",
   "mimetype": "text/x-python",
   "name": "python",
   "nbconvert_exporter": "python",
   "pygments_lexer": "ipython3",
   "version": "3.9.16"
  }
 },
 "nbformat": 4,
 "nbformat_minor": 4
}
