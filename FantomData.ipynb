{
 "cells": [
  {
   "cell_type": "markdown",
   "id": "4cf1bdb5-aa78-4518-aab2-c6e556448476",
   "metadata": {},
   "source": [
    "# FantomData"
   ]
  },
  {
   "cell_type": "markdown",
   "id": "212ab5c8-54e3-4a4f-982d-0944e44b8ce8",
   "metadata": {},
   "source": [
    "### Processes the Fantom Data matrix by removing likely false positives."
   ]
  },
  {
   "cell_type": "markdown",
   "id": "a72a87e8-7a36-4e3e-a1f6-c538bea14bd6",
   "metadata": {
    "tags": []
   },
   "source": [
    "## Imports"
   ]
  },
  {
   "cell_type": "code",
   "execution_count": 17,
   "id": "8f4b2f9f-2e60-4473-97f4-c73f78fc7dfb",
   "metadata": {
    "tags": []
   },
   "outputs": [],
   "source": [
    "import pandas as pd\n",
    "import numpy as np\n",
    "import random"
   ]
  },
  {
   "cell_type": "markdown",
   "id": "964da25f-ec82-4736-8dae-d8e39ff01703",
   "metadata": {},
   "source": [
    "## Parameters"
   ]
  },
  {
   "cell_type": "code",
   "execution_count": 18,
   "id": "f6a2169d-25e5-4b65-b5b5-5317fde8fc1c",
   "metadata": {
    "tags": []
   },
   "outputs": [],
   "source": [
    "random.seed(11) # Setting seed to 11 for reproducibility"
   ]
  },
  {
   "cell_type": "code",
   "execution_count": 19,
   "id": "f781812b-c28a-4ff4-a8a1-eeba63da62b3",
   "metadata": {
    "tags": []
   },
   "outputs": [],
   "source": [
    "# Percentages to keep for each set\n",
    "train_ratio = 0.7\n",
    "valid_ratio = 0.15\n",
    "test_ratio = 0.15"
   ]
  },
  {
   "cell_type": "code",
   "execution_count": null,
   "id": "cccceffc",
   "metadata": {},
   "outputs": [],
   "source": [
    "min_len = 100\n",
    "max_len = 600"
   ]
  },
  {
   "cell_type": "markdown",
   "id": "a907f248-424a-4eca-a9a9-341864a24bd3",
   "metadata": {},
   "source": [
    "## Files"
   ]
  },
  {
   "cell_type": "code",
   "execution_count": 28,
   "id": "dc41b3d0-b4e7-42a5-9985-191c96855458",
   "metadata": {
    "tags": []
   },
   "outputs": [],
   "source": [
    "# Input files\n",
    "data_dir = '../Data/FANTOM/' # Directory where input files are\n",
    "fantom_file = f'{data_dir}/F5.hg38.enhancers.expression.usage.matrix' # fantom matrix file\n",
    "fasta_dir = f'../Data/HG38/' # directory to HG38 chromosomes"
   ]
  },
  {
   "cell_type": "code",
   "execution_count": null,
   "id": "fe7fa4d5-43c5-4f24-8990-9c26ce9134ea",
   "metadata": {},
   "outputs": [],
   "source": [
    "# Output files\n",
    "train_fantom = f'{data_dir}/train.usage.matrix'\n",
    "valid_fantom = f'{data_dir}/valid.usage.matrix'\n",
    "test_fantom = f'{data_dir}/test.usage.matrix'"
   ]
  },
  {
   "cell_type": "markdown",
   "id": "af59da18-4a9d-46bc-a473-099a72eaa22d",
   "metadata": {},
   "source": [
    "# Data"
   ]
  },
  {
   "cell_type": "code",
   "execution_count": 29,
   "id": "bdb685c5-6f0c-44e6-902f-1699be6d479d",
   "metadata": {
    "tags": []
   },
   "outputs": [
    {
     "name": "stdout",
     "output_type": "stream",
     "text": [
      "63285\n",
      "1829\n"
     ]
    }
   ],
   "source": [
    "df = pd.read_csv(fantom_file, sep='\\t')\n",
    "print(len(df))\n",
    "print(len(df.columns))"
   ]
  },
  {
   "cell_type": "markdown",
   "id": "338b8078",
   "metadata": {},
   "source": [
    "# Cleaning dataframe by removing any without active cell types"
   ]
  },
  {
   "cell_type": "code",
   "execution_count": 30,
   "id": "f52b1122-6438-4b3f-91f4-95216dd89fca",
   "metadata": {
    "tags": []
   },
   "outputs": [
    {
     "name": "stdout",
     "output_type": "stream",
     "text": [
      "60215\n",
      "1829\n"
     ]
    }
   ],
   "source": [
    "row_sum_list = df.sum(axis=1)\n",
    "df_clean = df[row_sum_list > 0]\n",
    "df_clean = df_clean.astype(np.ubyte)   \n",
    "print(len(df_clean))\n",
    "print(len(df_clean.columns))"
   ]
  },
  {
   "cell_type": "markdown",
   "id": "e7139bf5",
   "metadata": {},
   "source": [
    "# Cleaning dataframe by removing smaller than 100 and greater than 600"
   ]
  },
  {
   "cell_type": "code",
   "execution_count": 31,
   "id": "b242f684-9e89-461a-a0de-f28788d7b3cf",
   "metadata": {
    "tags": []
   },
   "outputs": [],
   "source": [
    "# Note that enhancers in the fantom matrix are marked as... chr{i}:{start}-{end}\n",
    "\n",
    "keep_list = []\n",
    "for label in list(df_clean.index):\n",
    "    colon = label.find(\":\")\n",
    "    dash = label.find(\"-\")\n",
    "\n",
    "    start = int(label[colon + 1:dash])\n",
    "    end = int(label[dash + 1:])\n",
    "    size = end-start\n",
    "    if size >= min_len and size <= max_len:\n",
    "        keep_list.append(label)"
   ]
  },
  {
   "cell_type": "code",
   "execution_count": 32,
   "id": "ae43b0e0-404e-4d0d-bb2d-3db5ab0553bd",
   "metadata": {},
   "outputs": [
    {
     "data": {
      "text/plain": [
       "52789"
      ]
     },
     "execution_count": 32,
     "metadata": {},
     "output_type": "execute_result"
    }
   ],
   "source": [
    "len(keep_list)"
   ]
  },
  {
   "cell_type": "markdown",
   "id": "91a74c80-e4ae-411f-ba4b-837ad8fc8a56",
   "metadata": {},
   "source": [
    "## Splitting dataset into train, valid, and test"
   ]
  },
  {
   "cell_type": "code",
   "execution_count": 33,
   "id": "0aa58e26-5f81-4341-aa1d-ec017da3f4a5",
   "metadata": {
    "tags": []
   },
   "outputs": [],
   "source": [
    "random.shuffle(keep_list)\n",
    "train_cutoff = int(len(keep_list) * train_ratio)\n",
    "valid_cutoff = int(len(keep_list) * (train_ratio + valid_ratio))\n",
    "\n",
    "df_train = df_clean.loc[keep_list[:train_cutoff]]\n",
    "df_valid = df_clean.loc[keep_list[train_cutoff:valid_cutoff]]\n",
    "df_test = df_clean.loc[keep_list[valid_cutoff:]]"
   ]
  },
  {
   "cell_type": "code",
   "execution_count": 34,
   "id": "b0c5e695-11cc-4e71-b828-fb30785f9710",
   "metadata": {
    "tags": []
   },
   "outputs": [
    {
     "name": "stdout",
     "output_type": "stream",
     "text": [
      "(36952, 1829)\n",
      "(7918, 1829)\n",
      "(7919, 1829)\n"
     ]
    }
   ],
   "source": [
    "print(df_train.shape)\n",
    "print(df_valid.shape)\n",
    "print(df_test.shape)"
   ]
  },
  {
   "cell_type": "markdown",
   "id": "22a73ef7-29ec-4742-a45b-e25ee269e0e1",
   "metadata": {},
   "source": [
    "## Saving"
   ]
  },
  {
   "cell_type": "code",
   "execution_count": 35,
   "id": "2e084643-eed2-496d-a58b-593b6e509eba",
   "metadata": {
    "tags": []
   },
   "outputs": [],
   "source": [
    "df_train.to_csv(train_fantom, sep='\\t')\n",
    "df_valid.to_csv(valid_fantom, sep='\\t')\n",
    "df_test.to_csv(test_fantom, sep='\\t')"
   ]
  }
 ],
 "metadata": {
  "kernelspec": {
   "display_name": "Python 3 (ipykernel)",
   "language": "python",
   "name": "python3"
  },
  "language_info": {
   "codemirror_mode": {
    "name": "ipython",
    "version": 3
   },
   "file_extension": ".py",
   "mimetype": "text/x-python",
   "name": "python",
   "nbconvert_exporter": "python",
   "pygments_lexer": "ipython3",
   "version": "3.8.10"
  }
 },
 "nbformat": 4,
 "nbformat_minor": 5
}
