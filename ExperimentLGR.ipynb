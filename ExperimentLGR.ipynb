{
 "cells": [
  {
   "cell_type": "markdown",
   "metadata": {
    "tags": []
   },
   "source": [
    "# ExperimentLGR\n",
    "### Take the dataset where the negatives comprise of random genomic data (including repeats) sampled for length and gc content.\n",
    "### Train a single separable convolutional classifier on triplets and evaluate"
   ]
  },
  {
   "cell_type": "markdown",
   "metadata": {
    "tags": []
   },
   "source": [
    "## Imports"
   ]
  },
  {
   "cell_type": "code",
   "execution_count": 6,
   "metadata": {},
   "outputs": [],
   "source": [
    "import os\n",
    "os.environ['TF_CPP_MIN_LOG_LEVEL'] = '2' \n",
    "# # Credit: https://stackoverflow.com/questions/34199233/how-to-prevent-tensorflow-from-allocating-the-totality-of-a-gpu-memory\n",
    "import tensorflow as tf\n",
    "gpus = tf.config.experimental.list_physical_devices('GPU')\n",
    "for gpu in gpus:\n",
    "    tf.config.experimental.set_memory_growth(gpu, True)"
   ]
  },
  {
   "cell_type": "code",
   "execution_count": 7,
   "metadata": {},
   "outputs": [],
   "source": [
    "import data\n",
    "from tensorflow import keras\n",
    "import nets\n",
    "from loaders import PremadeTripletClassifierSequence"
   ]
  },
  {
   "cell_type": "markdown",
   "metadata": {},
   "source": [
    "## Files"
   ]
  },
  {
   "cell_type": "code",
   "execution_count": 8,
   "metadata": {},
   "outputs": [],
   "source": [
    "# file_name = '/home/zakaria/Data/IdentityData/ShortTrain/60.fa'#file_name = '../Data/sequences.fa'\n",
    "\n",
    "data_dir = '../Data/Datasets/LGR/'\n",
    "\n",
    "\n",
    "train_sequence = f'{data_dir}/train_sequences.fa'\n",
    "valid_sequence = f'{data_dir}/valid_sequences.fa'\n",
    "test_sequence = f'{data_dir}/test_sequences.fa'\n",
    "\n",
    "reverse_train_sequence = f'{data_dir}/reverse_train_sequences.fa'\n",
    "reverse_valid_sequence = f'{data_dir}/reverse_valid_sequences.fa'\n",
    "reverse_test_sequence = f'{data_dir}/reverse_test_sequences.fa'\n",
    "\n",
    "train_triplet_dis = f'{data_dir}/train_triplet_dis.npy'\n",
    "valid_triplet_dis = f'{data_dir}/valid_triplet_dis.npy'\n",
    "test_triplet_dis = f'{data_dir}/test_triplet_dis.npy'\n",
    "\n",
    "train_triplet_sim = f'{data_dir}/train_triplet_sim.npy'\n",
    "valid_triplet_sim = f'{data_dir}/valid_triplet_sim.npy'\n",
    "test_triplet_sim = f'{data_dir}/test_triplet_sim.npy'"
   ]
  },
  {
   "cell_type": "markdown",
   "metadata": {},
   "source": [
    "## Parameters"
   ]
  },
  {
   "cell_type": "code",
   "execution_count": 9,
   "metadata": {},
   "outputs": [],
   "source": [
    "codings_size=100 \n",
    "exp_filter_num=4\n",
    "exp_filter_1d_size= 11\n",
    "\n",
    "allow_reverse = True\n",
    "max_len = 600\n",
    "\n",
    "learning_rate = 0.1\n",
    "momentum = 0.9\n",
    "is_nesterov = True\n",
    "patience = 20\n",
    "monitor = 'val_crm_f1_score'\n",
    "start_from_epoch = 10"
   ]
  },
  {
   "cell_type": "markdown",
   "metadata": {},
   "source": [
    "## Loading Data"
   ]
  },
  {
   "cell_type": "code",
   "execution_count": 10,
   "metadata": {},
   "outputs": [],
   "source": [
    "train = data.FantomToOneHotConverter(train_sequence, 0, max_len).seq_matrix\n",
    "reverse_train = data.FantomToOneHotConverter(reverse_train_sequence, 0, max_len).seq_matrix if allow_reverse else None"
   ]
  },
  {
   "cell_type": "code",
   "execution_count": 11,
   "metadata": {},
   "outputs": [],
   "source": [
    "valid = data.FantomToOneHotConverter(valid_sequence, 0, max_len).seq_matrix\n",
    "reverse_valid = data.FantomToOneHotConverter(reverse_valid_sequence, 0, max_len).seq_matrix if allow_reverse else None"
   ]
  },
  {
   "cell_type": "code",
   "execution_count": 12,
   "metadata": {},
   "outputs": [],
   "source": [
    "# test = data.FantomToOneHotConverter(test_sequence, 0, max_len).seq_matrix\n",
    "# reverse_test = data.FantomToOneHotConverter(reverse_test_sequence, 0, max_len).seq_matrix if allow_reverse else None"
   ]
  },
  {
   "cell_type": "code",
   "execution_count": 13,
   "metadata": {},
   "outputs": [],
   "source": [
    "train_seq = PremadeTripletClassifierSequence(train, train_triplet_sim, train_triplet_dis, batch_size = 1024, reverse_x_in =reverse_train)\n",
    "valid_seq = PremadeTripletClassifierSequence(valid, valid_triplet_sim, valid_triplet_dis, batch_size = 1024, reverse_x_in =reverse_valid)\n",
    "# test_seq = PremadeTripletClassifierSequence(test, test_triplet_sim, test_triplet_dis, batch_size = 1024, reverse_x_in =reverse_test)"
   ]
  },
  {
   "cell_type": "code",
   "execution_count": 14,
   "metadata": {},
   "outputs": [],
   "source": [
    "for x_batch, y_batch in train_seq:\n",
    "    _, d1, d2, d3 = x_batch.shape"
   ]
  },
  {
   "cell_type": "markdown",
   "metadata": {},
   "source": [
    "## Creating Model"
   ]
  },
  {
   "cell_type": "code",
   "execution_count": 15,
   "metadata": {
    "tags": []
   },
   "outputs": [
    {
     "name": "stdout",
     "output_type": "stream",
     "text": [
      "Model: \"model\"\n",
      "_________________________________________________________________\n",
      " Layer (type)                Output Shape              Param #   \n",
      "=================================================================\n",
      " input_1 (InputLayer)        [(None, 4, 600, 3)]       0         \n",
      "                                                                 \n",
      " masking (Masking)           (None, 4, 600, 3)         0         \n",
      "                                                                 \n",
      " separable_conv2d (Separable  (None, 1, 598, 4)        48        \n",
      " Conv2D)                                                         \n",
      "                                                                 \n",
      " batch_normalization (BatchN  (None, 1, 598, 4)        16        \n",
      " ormalization)                                                   \n",
      "                                                                 \n",
      " activation (Activation)     (None, 1, 598, 4)         0         \n",
      "                                                                 \n",
      " reshape (Reshape)           (None, 598, 4)            0         \n",
      "                                                                 \n",
      " max_pooling1d (MaxPooling1D  (None, 299, 4)           0         \n",
      " )                                                               \n",
      "                                                                 \n",
      " separable_conv1d (Separable  (None, 289, 8)           76        \n",
      " Conv1D)                                                         \n",
      "                                                                 \n",
      " batch_normalization_1 (Batc  (None, 289, 8)           32        \n",
      " hNormalization)                                                 \n",
      "                                                                 \n",
      " activation_1 (Activation)   (None, 289, 8)            0         \n",
      "                                                                 \n",
      " max_pooling1d_1 (MaxPooling  (None, 144, 8)           0         \n",
      " 1D)                                                             \n",
      "                                                                 \n",
      " separable_conv1d_1 (Separab  (None, 134, 16)          216       \n",
      " leConv1D)                                                       \n",
      "                                                                 \n",
      " batch_normalization_2 (Batc  (None, 134, 16)          64        \n",
      " hNormalization)                                                 \n",
      "                                                                 \n",
      " activation_2 (Activation)   (None, 134, 16)           0         \n",
      "                                                                 \n",
      " max_pooling1d_2 (MaxPooling  (None, 67, 16)           0         \n",
      " 1D)                                                             \n",
      "                                                                 \n",
      " separable_conv1d_2 (Separab  (None, 57, 32)           688       \n",
      " leConv1D)                                                       \n",
      "                                                                 \n",
      " batch_normalization_3 (Batc  (None, 57, 32)           128       \n",
      " hNormalization)                                                 \n",
      "                                                                 \n",
      " activation_3 (Activation)   (None, 57, 32)            0         \n",
      "                                                                 \n",
      " max_pooling1d_3 (MaxPooling  (None, 28, 32)           0         \n",
      " 1D)                                                             \n",
      "                                                                 \n",
      " separable_conv1d_3 (Separab  (None, 18, 64)           2400      \n",
      " leConv1D)                                                       \n",
      "                                                                 \n",
      " batch_normalization_4 (Batc  (None, 18, 64)           256       \n",
      " hNormalization)                                                 \n",
      "                                                                 \n",
      " activation_4 (Activation)   (None, 18, 64)            0         \n",
      "                                                                 \n",
      " global_max_pooling1d (Globa  (None, 64)               0         \n",
      " lMaxPooling1D)                                                  \n",
      "                                                                 \n",
      " dense (Dense)               (None, 100)               6400      \n",
      "                                                                 \n",
      " batch_normalization_5 (Batc  (None, 100)              400       \n",
      " hNormalization)                                                 \n",
      "                                                                 \n",
      " activation_5 (Activation)   (None, 100)               0         \n",
      "                                                                 \n",
      " dense_1 (Dense)             (None, 1)                 101       \n",
      "                                                                 \n",
      "=================================================================\n",
      "Total params: 10,825\n",
      "Trainable params: 10,377\n",
      "Non-trainable params: 448\n",
      "_________________________________________________________________\n"
     ]
    }
   ],
   "source": [
    "model = nets.make_conv_classifier(codings_size, (d1, d2, d3), exp_filter_1d_size, filter_num=exp_filter_num)\n",
    "model.summary()"
   ]
  },
  {
   "cell_type": "code",
   "execution_count": 16,
   "metadata": {},
   "outputs": [],
   "source": [
    "opt = keras.optimizers.SGD(learning_rate=learning_rate, momentum=momentum, nesterov=is_nesterov) # 0.1\n",
    "model.compile(loss='mse', metrics=['accuracy', nets.crm_specificity, tf.keras.metrics.Recall(), tf.keras.metrics.Precision(), nets.crm_f1_score], optimizer=opt) #  "
   ]
  },
  {
   "cell_type": "code",
   "execution_count": 17,
   "metadata": {},
   "outputs": [],
   "source": [
    "early_stopping = keras.callbacks.EarlyStopping(patience=patience, min_delta=1/100000, restore_best_weights=True, monitor=monitor, start_from_epoch = start_from_epoch, mode='max') #val_precision"
   ]
  },
  {
   "cell_type": "code",
   "execution_count": 18,
   "metadata": {},
   "outputs": [],
   "source": [
    "def exponential_decay_fn(epoch, lr):\n",
    "    '''\n",
    "    This function decreases the learning rate according to the epoch\n",
    "    '''\n",
    "    return lr*0.1**(1/100)\n",
    "\n",
    "lr_scheduler = keras.callbacks.LearningRateScheduler(exponential_decay_fn)"
   ]
  },
  {
   "cell_type": "markdown",
   "metadata": {},
   "source": [
    "## Training Model"
   ]
  },
  {
   "cell_type": "code",
   "execution_count": 19,
   "metadata": {
    "tags": []
   },
   "outputs": [
    {
     "name": "stdout",
     "output_type": "stream",
     "text": [
      "Epoch 1/500\n",
      "72/72 [==============================] - 16s 167ms/step - loss: 0.2426 - accuracy: 0.5785 - crm_specificity: 0.6408 - recall: 0.5165 - precision: 0.5896 - crm_f1_score: 0.5504 - val_loss: 0.2461 - val_accuracy: 0.5099 - val_crm_specificity: 0.0274 - val_recall: 0.9924 - val_precision: 0.5050 - val_crm_f1_score: 0.6693 - lr: 0.0977\n",
      "Epoch 2/500\n",
      "72/72 [==============================] - 11s 155ms/step - loss: 0.2289 - accuracy: 0.6122 - crm_specificity: 0.6567 - recall: 0.5677 - precision: 0.6230 - crm_f1_score: 0.5940 - val_loss: 0.2347 - val_accuracy: 0.6011 - val_crm_specificity: 0.7912 - val_recall: 0.4109 - val_precision: 0.6630 - val_crm_f1_score: 0.5071 - lr: 0.0955\n",
      "Epoch 3/500\n",
      "72/72 [==============================] - 11s 157ms/step - loss: 0.2242 - accuracy: 0.6289 - crm_specificity: 0.6500 - recall: 0.6078 - precision: 0.6345 - crm_f1_score: 0.6207 - val_loss: 0.2265 - val_accuracy: 0.6233 - val_crm_specificity: 0.6880 - val_recall: 0.5584 - val_precision: 0.6405 - val_crm_f1_score: 0.5962 - lr: 0.0933\n",
      "Epoch 4/500\n",
      "72/72 [==============================] - 12s 157ms/step - loss: 0.2200 - accuracy: 0.6420 - crm_specificity: 0.6460 - recall: 0.6383 - precision: 0.6431 - crm_f1_score: 0.6405 - val_loss: 0.2219 - val_accuracy: 0.6421 - val_crm_specificity: 0.5866 - val_recall: 0.6975 - val_precision: 0.6279 - val_crm_f1_score: 0.6606 - lr: 0.0912\n",
      "Epoch 5/500\n",
      "72/72 [==============================] - 12s 159ms/step - loss: 0.2171 - accuracy: 0.6468 - crm_specificity: 0.6476 - recall: 0.6463 - precision: 0.6470 - crm_f1_score: 0.6465 - val_loss: 0.2189 - val_accuracy: 0.6423 - val_crm_specificity: 0.6519 - val_recall: 0.6330 - val_precision: 0.6454 - val_crm_f1_score: 0.6389 - lr: 0.0891\n",
      "Epoch 6/500\n",
      "72/72 [==============================] - 12s 161ms/step - loss: 0.2150 - accuracy: 0.6517 - crm_specificity: 0.6478 - recall: 0.6557 - precision: 0.6505 - crm_f1_score: 0.6529 - val_loss: 0.2179 - val_accuracy: 0.6469 - val_crm_specificity: 0.6583 - val_recall: 0.6357 - val_precision: 0.6492 - val_crm_f1_score: 0.6424 - lr: 0.0871\n",
      "Epoch 7/500\n",
      "72/72 [==============================] - 12s 160ms/step - loss: 0.2140 - accuracy: 0.6534 - crm_specificity: 0.6439 - recall: 0.6630 - precision: 0.6505 - crm_f1_score: 0.6564 - val_loss: 0.2224 - val_accuracy: 0.6261 - val_crm_specificity: 0.7505 - val_recall: 0.5017 - val_precision: 0.6682 - val_crm_f1_score: 0.5727 - lr: 0.0851\n",
      "Epoch 8/500\n",
      "72/72 [==============================] - 12s 158ms/step - loss: 0.2116 - accuracy: 0.6590 - crm_specificity: 0.6479 - recall: 0.6700 - precision: 0.6555 - crm_f1_score: 0.6625 - val_loss: 0.2175 - val_accuracy: 0.6458 - val_crm_specificity: 0.6819 - val_recall: 0.6095 - val_precision: 0.6571 - val_crm_f1_score: 0.6322 - lr: 0.0832\n",
      "Epoch 9/500\n",
      "72/72 [==============================] - 12s 158ms/step - loss: 0.2107 - accuracy: 0.6607 - crm_specificity: 0.6487 - recall: 0.6728 - precision: 0.6567 - crm_f1_score: 0.6645 - val_loss: 0.2211 - val_accuracy: 0.6331 - val_crm_specificity: 0.7888 - val_recall: 0.4780 - val_precision: 0.6942 - val_crm_f1_score: 0.5660 - lr: 0.0813\n",
      "Epoch 10/500\n",
      "72/72 [==============================] - 12s 158ms/step - loss: 0.2105 - accuracy: 0.6598 - crm_specificity: 0.6448 - recall: 0.6749 - precision: 0.6551 - crm_f1_score: 0.6646 - val_loss: 0.2243 - val_accuracy: 0.6305 - val_crm_specificity: 0.8264 - val_recall: 0.4347 - val_precision: 0.7149 - val_crm_f1_score: 0.5402 - lr: 0.0794\n",
      "Epoch 11/500\n",
      "72/72 [==============================] - 12s 159ms/step - loss: 0.2087 - accuracy: 0.6647 - crm_specificity: 0.6549 - recall: 0.6745 - precision: 0.6614 - crm_f1_score: 0.6677 - val_loss: 0.2317 - val_accuracy: 0.6123 - val_crm_specificity: 0.8566 - val_recall: 0.3686 - val_precision: 0.7206 - val_crm_f1_score: 0.4876 - lr: 0.0776\n",
      "Epoch 12/500\n",
      "72/72 [==============================] - 12s 160ms/step - loss: 0.2086 - accuracy: 0.6627 - crm_specificity: 0.6518 - recall: 0.6738 - precision: 0.6591 - crm_f1_score: 0.6661 - val_loss: 0.2339 - val_accuracy: 0.6117 - val_crm_specificity: 0.8726 - val_recall: 0.3505 - val_precision: 0.7330 - val_crm_f1_score: 0.4738 - lr: 0.0759\n",
      "Epoch 13/500\n",
      "72/72 [==============================] - 12s 160ms/step - loss: 0.2068 - accuracy: 0.6682 - crm_specificity: 0.6514 - recall: 0.6851 - precision: 0.6628 - crm_f1_score: 0.6736 - val_loss: 0.2263 - val_accuracy: 0.6230 - val_crm_specificity: 0.8507 - val_recall: 0.3947 - val_precision: 0.7250 - val_crm_f1_score: 0.5110 - lr: 0.0741\n",
      "Epoch 14/500\n",
      "72/72 [==============================] - 12s 159ms/step - loss: 0.2059 - accuracy: 0.6697 - crm_specificity: 0.6536 - recall: 0.6861 - precision: 0.6645 - crm_f1_score: 0.6750 - val_loss: 0.2222 - val_accuracy: 0.6357 - val_crm_specificity: 0.8058 - val_recall: 0.4655 - val_precision: 0.7061 - val_crm_f1_score: 0.5610 - lr: 0.0724\n",
      "Epoch 15/500\n",
      "72/72 [==============================] - 12s 160ms/step - loss: 0.2054 - accuracy: 0.6726 - crm_specificity: 0.6606 - recall: 0.6847 - precision: 0.6686 - crm_f1_score: 0.6764 - val_loss: 0.2174 - val_accuracy: 0.6460 - val_crm_specificity: 0.5357 - val_recall: 0.7562 - val_precision: 0.6194 - val_crm_f1_score: 0.6809 - lr: 0.0708\n",
      "Epoch 16/500\n",
      "72/72 [==============================] - 12s 159ms/step - loss: 0.2054 - accuracy: 0.6714 - crm_specificity: 0.6622 - recall: 0.6811 - precision: 0.6683 - crm_f1_score: 0.6744 - val_loss: 0.2153 - val_accuracy: 0.6549 - val_crm_specificity: 0.5338 - val_recall: 0.7761 - val_precision: 0.6248 - val_crm_f1_score: 0.6921 - lr: 0.0692\n",
      "Epoch 17/500\n",
      "72/72 [==============================] - 12s 159ms/step - loss: 0.2031 - accuracy: 0.6781 - crm_specificity: 0.6646 - recall: 0.6917 - precision: 0.6733 - crm_f1_score: 0.6823 - val_loss: 0.2966 - val_accuracy: 0.5524 - val_crm_specificity: 0.1211 - val_recall: 0.9826 - val_precision: 0.5285 - val_crm_f1_score: 0.6872 - lr: 0.0676\n",
      "Epoch 18/500\n",
      "72/72 [==============================] - 12s 159ms/step - loss: 0.2028 - accuracy: 0.6801 - crm_specificity: 0.6654 - recall: 0.6949 - precision: 0.6748 - crm_f1_score: 0.6845 - val_loss: 0.2117 - val_accuracy: 0.6590 - val_crm_specificity: 0.5488 - val_recall: 0.7698 - val_precision: 0.6293 - val_crm_f1_score: 0.6922 - lr: 0.0661\n",
      "Epoch 19/500\n",
      "72/72 [==============================] - 12s 160ms/step - loss: 0.2020 - accuracy: 0.6802 - crm_specificity: 0.6710 - recall: 0.6899 - precision: 0.6769 - crm_f1_score: 0.6832 - val_loss: 0.2472 - val_accuracy: 0.6046 - val_crm_specificity: 0.2696 - val_recall: 0.9395 - val_precision: 0.5627 - val_crm_f1_score: 0.7038 - lr: 0.0646\n",
      "Epoch 20/500\n",
      "72/72 [==============================] - 12s 159ms/step - loss: 0.2021 - accuracy: 0.6808 - crm_specificity: 0.6655 - recall: 0.6964 - precision: 0.6753 - crm_f1_score: 0.6855 - val_loss: 0.2551 - val_accuracy: 0.6182 - val_crm_specificity: 0.3423 - val_recall: 0.8939 - val_precision: 0.5762 - val_crm_f1_score: 0.7007 - lr: 0.0631\n",
      "Epoch 21/500\n",
      "72/72 [==============================] - 12s 160ms/step - loss: 0.2005 - accuracy: 0.6832 - crm_specificity: 0.6660 - recall: 0.7005 - precision: 0.6770 - crm_f1_score: 0.6885 - val_loss: 0.3458 - val_accuracy: 0.5148 - val_crm_specificity: 0.0354 - val_recall: 0.9948 - val_precision: 0.5074 - val_crm_f1_score: 0.6719 - lr: 0.0617\n",
      "Epoch 22/500\n",
      "72/72 [==============================] - 12s 159ms/step - loss: 0.2005 - accuracy: 0.6860 - crm_specificity: 0.6724 - recall: 0.6997 - precision: 0.6809 - crm_f1_score: 0.6900 - val_loss: 0.3798 - val_accuracy: 0.5061 - val_crm_specificity: 0.0159 - val_recall: 0.9975 - val_precision: 0.5028 - val_crm_f1_score: 0.6685 - lr: 0.0603\n",
      "Epoch 23/500\n",
      "72/72 [==============================] - 12s 161ms/step - loss: 0.2003 - accuracy: 0.6856 - crm_specificity: 0.6700 - recall: 0.7013 - precision: 0.6800 - crm_f1_score: 0.6903 - val_loss: 0.4033 - val_accuracy: 0.5051 - val_crm_specificity: 0.0105 - val_recall: 0.9991 - val_precision: 0.5028 - val_crm_f1_score: 0.6688 - lr: 0.0589\n",
      "Epoch 24/500\n",
      "72/72 [==============================] - 12s 160ms/step - loss: 0.1991 - accuracy: 0.6885 - crm_specificity: 0.6762 - recall: 0.7009 - precision: 0.6841 - crm_f1_score: 0.6922 - val_loss: 0.3969 - val_accuracy: 0.5117 - val_crm_specificity: 0.0242 - val_recall: 0.9971 - val_precision: 0.5064 - val_crm_f1_score: 0.6716 - lr: 0.0575\n",
      "Epoch 25/500\n",
      "72/72 [==============================] - 12s 161ms/step - loss: 0.1993 - accuracy: 0.6871 - crm_specificity: 0.6755 - recall: 0.6990 - precision: 0.6828 - crm_f1_score: 0.6906 - val_loss: 0.3957 - val_accuracy: 0.5059 - val_crm_specificity: 0.0143 - val_recall: 0.9982 - val_precision: 0.5028 - val_crm_f1_score: 0.6687 - lr: 0.0562\n",
      "Epoch 26/500\n",
      "72/72 [==============================] - 12s 160ms/step - loss: 0.1975 - accuracy: 0.6921 - crm_specificity: 0.6834 - recall: 0.7008 - precision: 0.6888 - crm_f1_score: 0.6946 - val_loss: 0.4385 - val_accuracy: 0.5010 - val_crm_specificity: 9.0243e-04 - val_recall: 0.9999 - val_precision: 0.5008 - val_crm_f1_score: 0.6673 - lr: 0.0550\n",
      "Epoch 27/500\n",
      "72/72 [==============================] - 12s 161ms/step - loss: 0.1969 - accuracy: 0.6938 - crm_specificity: 0.6804 - recall: 0.7074 - precision: 0.6885 - crm_f1_score: 0.6977 - val_loss: 0.4342 - val_accuracy: 0.5022 - val_crm_specificity: 0.0044 - val_recall: 0.9997 - val_precision: 0.5012 - val_crm_f1_score: 0.6674 - lr: 0.0537\n",
      "Epoch 28/500\n",
      "72/72 [==============================] - 12s 160ms/step - loss: 0.1961 - accuracy: 0.6932 - crm_specificity: 0.6818 - recall: 0.7048 - precision: 0.6888 - crm_f1_score: 0.6966 - val_loss: 0.3387 - val_accuracy: 0.5551 - val_crm_specificity: 0.1462 - val_recall: 0.9637 - val_precision: 0.5305 - val_crm_f1_score: 0.6842 - lr: 0.0525\n",
      "Epoch 29/500\n",
      "72/72 [==============================] - 12s 158ms/step - loss: 0.1966 - accuracy: 0.6941 - crm_specificity: 0.6776 - recall: 0.7108 - precision: 0.6877 - crm_f1_score: 0.6989 - val_loss: 0.2809 - val_accuracy: 0.5723 - val_crm_specificity: 0.1690 - val_recall: 0.9763 - val_precision: 0.5398 - val_crm_f1_score: 0.6949 - lr: 0.0513\n",
      "Epoch 30/500\n",
      "72/72 [==============================] - 12s 160ms/step - loss: 0.1955 - accuracy: 0.6966 - crm_specificity: 0.6865 - recall: 0.7069 - precision: 0.6927 - crm_f1_score: 0.6996 - val_loss: 0.4036 - val_accuracy: 0.5141 - val_crm_specificity: 0.0316 - val_recall: 0.9964 - val_precision: 0.5073 - val_crm_f1_score: 0.6722 - lr: 0.0501\n",
      "Epoch 31/500\n",
      "72/72 [==============================] - 12s 161ms/step - loss: 0.1967 - accuracy: 0.6947 - crm_specificity: 0.6821 - recall: 0.7075 - precision: 0.6898 - crm_f1_score: 0.6984 - val_loss: 0.3304 - val_accuracy: 0.5389 - val_crm_specificity: 0.0910 - val_recall: 0.9872 - val_precision: 0.5204 - val_crm_f1_score: 0.6814 - lr: 0.0490\n",
      "Epoch 32/500\n",
      "72/72 [==============================] - 12s 160ms/step - loss: 0.1956 - accuracy: 0.6967 - crm_specificity: 0.6860 - recall: 0.7074 - precision: 0.6925 - crm_f1_score: 0.6997 - val_loss: 0.3685 - val_accuracy: 0.5165 - val_crm_specificity: 0.0343 - val_recall: 0.9984 - val_precision: 0.5085 - val_crm_f1_score: 0.6737 - lr: 0.0479\n",
      "Epoch 33/500\n",
      "72/72 [==============================] - 12s 161ms/step - loss: 0.1946 - accuracy: 0.7000 - crm_specificity: 0.6826 - recall: 0.7175 - precision: 0.6931 - crm_f1_score: 0.7049 - val_loss: 0.3139 - val_accuracy: 0.5441 - val_crm_specificity: 0.0957 - val_recall: 0.9924 - val_precision: 0.5232 - val_crm_f1_score: 0.6851 - lr: 0.0468\n",
      "Epoch 34/500\n",
      "72/72 [==============================] - 12s 160ms/step - loss: 0.1930 - accuracy: 0.7027 - crm_specificity: 0.6906 - recall: 0.7150 - precision: 0.6978 - crm_f1_score: 0.7062 - val_loss: 0.2554 - val_accuracy: 0.6030 - val_crm_specificity: 0.2506 - val_recall: 0.9548 - val_precision: 0.5606 - val_crm_f1_score: 0.7063 - lr: 0.0457\n",
      "Epoch 35/500\n",
      "72/72 [==============================] - 12s 160ms/step - loss: 0.1940 - accuracy: 0.6992 - crm_specificity: 0.6891 - recall: 0.7095 - precision: 0.6952 - crm_f1_score: 0.7022 - val_loss: 0.2547 - val_accuracy: 0.6087 - val_crm_specificity: 0.2582 - val_recall: 0.9579 - val_precision: 0.5645 - val_crm_f1_score: 0.7103 - lr: 0.0447\n",
      "Epoch 36/500\n",
      "72/72 [==============================] - 12s 158ms/step - loss: 0.1926 - accuracy: 0.7047 - crm_specificity: 0.6894 - recall: 0.7201 - precision: 0.6986 - crm_f1_score: 0.7091 - val_loss: 0.2272 - val_accuracy: 0.6486 - val_crm_specificity: 0.4017 - val_recall: 0.8947 - val_precision: 0.5999 - val_crm_f1_score: 0.7180 - lr: 0.0437\n",
      "Epoch 37/500\n",
      "72/72 [==============================] - 12s 159ms/step - loss: 0.1939 - accuracy: 0.7008 - crm_specificity: 0.6926 - recall: 0.7093 - precision: 0.6975 - crm_f1_score: 0.7033 - val_loss: 0.3565 - val_accuracy: 0.5446 - val_crm_specificity: 0.9819 - val_recall: 0.1066 - val_precision: 0.8548 - val_crm_f1_score: 0.1894 - lr: 0.0427\n",
      "Epoch 38/500\n",
      "72/72 [==============================] - 12s 160ms/step - loss: 0.1936 - accuracy: 0.7010 - crm_specificity: 0.6932 - recall: 0.7089 - precision: 0.6979 - crm_f1_score: 0.7033 - val_loss: 0.2957 - val_accuracy: 0.5525 - val_crm_specificity: 0.1197 - val_recall: 0.9870 - val_precision: 0.5277 - val_crm_f1_score: 0.6875 - lr: 0.0417\n",
      "Epoch 39/500\n",
      "72/72 [==============================] - 12s 159ms/step - loss: 0.1937 - accuracy: 0.7017 - crm_specificity: 0.6937 - recall: 0.7100 - precision: 0.6984 - crm_f1_score: 0.7040 - val_loss: 0.4145 - val_accuracy: 0.5053 - val_crm_specificity: 0.0120 - val_recall: 0.9990 - val_precision: 0.5026 - val_crm_f1_score: 0.6686 - lr: 0.0407\n",
      "Epoch 40/500\n",
      "72/72 [==============================] - 12s 161ms/step - loss: 0.1922 - accuracy: 0.7046 - crm_specificity: 0.6901 - recall: 0.7192 - precision: 0.6988 - crm_f1_score: 0.7087 - val_loss: 0.2560 - val_accuracy: 0.5943 - val_crm_specificity: 0.2467 - val_recall: 0.9428 - val_precision: 0.5552 - val_crm_f1_score: 0.6987 - lr: 0.0398\n",
      "Epoch 41/500\n",
      "72/72 [==============================] - 12s 159ms/step - loss: 0.1917 - accuracy: 0.7050 - crm_specificity: 0.6954 - recall: 0.7148 - precision: 0.7010 - crm_f1_score: 0.7078 - val_loss: 0.2103 - val_accuracy: 0.6707 - val_crm_specificity: 0.8145 - val_recall: 0.5270 - val_precision: 0.7396 - val_crm_f1_score: 0.6153 - lr: 0.0389\n",
      "Epoch 42/500\n",
      "72/72 [==============================] - 12s 158ms/step - loss: 0.1903 - accuracy: 0.7098 - crm_specificity: 0.7027 - recall: 0.7171 - precision: 0.7067 - crm_f1_score: 0.7118 - val_loss: 0.2954 - val_accuracy: 0.6087 - val_crm_specificity: 0.8858 - val_recall: 0.3329 - val_precision: 0.7452 - val_crm_f1_score: 0.4596 - lr: 0.0380\n",
      "Epoch 43/500\n",
      "72/72 [==============================] - 12s 159ms/step - loss: 0.1913 - accuracy: 0.7071 - crm_specificity: 0.6943 - recall: 0.7202 - precision: 0.7019 - crm_f1_score: 0.7108 - val_loss: 0.1994 - val_accuracy: 0.6910 - val_crm_specificity: 0.7042 - val_recall: 0.6780 - val_precision: 0.6966 - val_crm_f1_score: 0.6869 - lr: 0.0372\n",
      "Epoch 44/500\n",
      "72/72 [==============================] - 12s 160ms/step - loss: 0.1916 - accuracy: 0.7055 - crm_specificity: 0.6926 - recall: 0.7191 - precision: 0.7000 - crm_f1_score: 0.7092 - val_loss: 0.4308 - val_accuracy: 0.5077 - val_crm_specificity: 0.0148 - val_recall: 0.9995 - val_precision: 0.5042 - val_crm_f1_score: 0.6702 - lr: 0.0363\n",
      "Epoch 45/500\n",
      "72/72 [==============================] - 12s 160ms/step - loss: 0.1905 - accuracy: 0.7069 - crm_specificity: 0.6960 - recall: 0.7180 - precision: 0.7024 - crm_f1_score: 0.7100 - val_loss: 0.2034 - val_accuracy: 0.6822 - val_crm_specificity: 0.7246 - val_recall: 0.6398 - val_precision: 0.6995 - val_crm_f1_score: 0.6682 - lr: 0.0355\n",
      "Epoch 46/500\n",
      "72/72 [==============================] - 12s 162ms/step - loss: 0.1899 - accuracy: 0.7085 - crm_specificity: 0.6970 - recall: 0.7202 - precision: 0.7036 - crm_f1_score: 0.7117 - val_loss: 0.2784 - val_accuracy: 0.5882 - val_crm_specificity: 0.2057 - val_recall: 0.9673 - val_precision: 0.5512 - val_crm_f1_score: 0.7022 - lr: 0.0347\n",
      "Epoch 47/500\n",
      "72/72 [==============================] - 12s 160ms/step - loss: 0.1891 - accuracy: 0.7117 - crm_specificity: 0.6991 - recall: 0.7244 - precision: 0.7066 - crm_f1_score: 0.7153 - val_loss: 0.2024 - val_accuracy: 0.6876 - val_crm_specificity: 0.5703 - val_recall: 0.8054 - val_precision: 0.6515 - val_crm_f1_score: 0.7202 - lr: 0.0339\n",
      "Epoch 48/500\n",
      "72/72 [==============================] - 12s 161ms/step - loss: 0.1903 - accuracy: 0.7090 - crm_specificity: 0.7013 - recall: 0.7169 - precision: 0.7057 - crm_f1_score: 0.7111 - val_loss: 0.2035 - val_accuracy: 0.6786 - val_crm_specificity: 0.5781 - val_recall: 0.7792 - val_precision: 0.6483 - val_crm_f1_score: 0.7076 - lr: 0.0331\n",
      "Epoch 49/500\n",
      "72/72 [==============================] - 12s 160ms/step - loss: 0.1892 - accuracy: 0.7112 - crm_specificity: 0.7022 - recall: 0.7204 - precision: 0.7072 - crm_f1_score: 0.7136 - val_loss: 0.2074 - val_accuracy: 0.6792 - val_crm_specificity: 0.7192 - val_recall: 0.6392 - val_precision: 0.6952 - val_crm_f1_score: 0.6660 - lr: 0.0324\n",
      "Epoch 50/500\n",
      "72/72 [==============================] - 12s 161ms/step - loss: 0.1904 - accuracy: 0.7088 - crm_specificity: 0.6972 - recall: 0.7207 - precision: 0.7038 - crm_f1_score: 0.7120 - val_loss: 0.2506 - val_accuracy: 0.6057 - val_crm_specificity: 0.2628 - val_recall: 0.9486 - val_precision: 0.5627 - val_crm_f1_score: 0.7062 - lr: 0.0316\n",
      "Epoch 51/500\n",
      "72/72 [==============================] - 12s 160ms/step - loss: 0.1893 - accuracy: 0.7111 - crm_specificity: 0.7003 - recall: 0.7221 - precision: 0.7066 - crm_f1_score: 0.7142 - val_loss: 0.3798 - val_accuracy: 0.5210 - val_crm_specificity: 0.0433 - val_recall: 0.9977 - val_precision: 0.5110 - val_crm_f1_score: 0.6757 - lr: 0.0309\n",
      "Epoch 52/500\n",
      "72/72 [==============================] - 12s 161ms/step - loss: 0.1888 - accuracy: 0.7120 - crm_specificity: 0.6999 - recall: 0.7244 - precision: 0.7069 - crm_f1_score: 0.7153 - val_loss: 0.3096 - val_accuracy: 0.5535 - val_crm_specificity: 0.1222 - val_recall: 0.9868 - val_precision: 0.5281 - val_crm_f1_score: 0.6878 - lr: 0.0302\n",
      "Epoch 53/500\n",
      "72/72 [==============================] - 12s 160ms/step - loss: 0.1889 - accuracy: 0.7114 - crm_specificity: 0.6997 - recall: 0.7231 - precision: 0.7065 - crm_f1_score: 0.7146 - val_loss: 0.2346 - val_accuracy: 0.6219 - val_crm_specificity: 0.3125 - val_recall: 0.9308 - val_precision: 0.5756 - val_crm_f1_score: 0.7112 - lr: 0.0295\n",
      "Epoch 54/500\n",
      "72/72 [==============================] - 12s 160ms/step - loss: 0.1884 - accuracy: 0.7121 - crm_specificity: 0.7012 - recall: 0.7232 - precision: 0.7075 - crm_f1_score: 0.7151 - val_loss: 0.2508 - val_accuracy: 0.6063 - val_crm_specificity: 0.9233 - val_recall: 0.2893 - val_precision: 0.7905 - val_crm_f1_score: 0.4235 - lr: 0.0288\n",
      "Epoch 55/500\n",
      "72/72 [==============================] - 12s 160ms/step - loss: 0.1886 - accuracy: 0.7113 - crm_specificity: 0.7025 - recall: 0.7203 - precision: 0.7075 - crm_f1_score: 0.7137 - val_loss: 0.2026 - val_accuracy: 0.6811 - val_crm_specificity: 0.6303 - val_recall: 0.7320 - val_precision: 0.6637 - val_crm_f1_score: 0.6961 - lr: 0.0282\n",
      "Epoch 56/500\n",
      "72/72 [==============================] - 12s 158ms/step - loss: 0.1876 - accuracy: 0.7145 - crm_specificity: 0.7032 - recall: 0.7261 - precision: 0.7097 - crm_f1_score: 0.7177 - val_loss: 0.3709 - val_accuracy: 0.5410 - val_crm_specificity: 0.9848 - val_recall: 0.0969 - val_precision: 0.8641 - val_crm_f1_score: 0.1739 - lr: 0.0275\n",
      "Epoch 57/500\n",
      "72/72 [==============================] - 12s 159ms/step - loss: 0.1885 - accuracy: 0.7114 - crm_specificity: 0.7000 - recall: 0.7229 - precision: 0.7065 - crm_f1_score: 0.7145 - val_loss: 0.2999 - val_accuracy: 0.5783 - val_crm_specificity: 0.9630 - val_recall: 0.1949 - val_precision: 0.8407 - val_crm_f1_score: 0.3165 - lr: 0.0269\n",
      "Epoch 58/500\n",
      "72/72 [==============================] - 12s 159ms/step - loss: 0.1863 - accuracy: 0.7171 - crm_specificity: 0.7071 - recall: 0.7275 - precision: 0.7128 - crm_f1_score: 0.7199 - val_loss: 0.3019 - val_accuracy: 0.5773 - val_crm_specificity: 0.9567 - val_recall: 0.1983 - val_precision: 0.8207 - val_crm_f1_score: 0.3192 - lr: 0.0263\n",
      "Epoch 59/500\n",
      "72/72 [==============================] - 12s 160ms/step - loss: 0.1863 - accuracy: 0.7181 - crm_specificity: 0.7086 - recall: 0.7278 - precision: 0.7139 - crm_f1_score: 0.7207 - val_loss: 0.1956 - val_accuracy: 0.6953 - val_crm_specificity: 0.6695 - val_recall: 0.7214 - val_precision: 0.6849 - val_crm_f1_score: 0.7024 - lr: 0.0257\n",
      "Epoch 60/500\n",
      "72/72 [==============================] - 12s 160ms/step - loss: 0.1873 - accuracy: 0.7142 - crm_specificity: 0.7037 - recall: 0.7249 - precision: 0.7096 - crm_f1_score: 0.7171 - val_loss: 0.2124 - val_accuracy: 0.6651 - val_crm_specificity: 0.4670 - val_recall: 0.8630 - val_precision: 0.6183 - val_crm_f1_score: 0.7204 - lr: 0.0251\n",
      "Epoch 61/500\n",
      "72/72 [==============================] - 12s 159ms/step - loss: 0.1877 - accuracy: 0.7159 - crm_specificity: 0.7080 - recall: 0.7240 - precision: 0.7125 - crm_f1_score: 0.7180 - val_loss: 0.2033 - val_accuracy: 0.6810 - val_crm_specificity: 0.7692 - val_recall: 0.5924 - val_precision: 0.7190 - val_crm_f1_score: 0.6493 - lr: 0.0245\n",
      "Epoch 62/500\n",
      "72/72 [==============================] - 12s 159ms/step - loss: 0.1876 - accuracy: 0.7138 - crm_specificity: 0.7028 - recall: 0.7250 - precision: 0.7091 - crm_f1_score: 0.7168 - val_loss: 0.2356 - val_accuracy: 0.6423 - val_crm_specificity: 0.8927 - val_recall: 0.3919 - val_precision: 0.7853 - val_crm_f1_score: 0.5225 - lr: 0.0240\n",
      "Epoch 63/500\n",
      "72/72 [==============================] - 12s 158ms/step - loss: 0.1871 - accuracy: 0.7155 - crm_specificity: 0.7059 - recall: 0.7253 - precision: 0.7112 - crm_f1_score: 0.7181 - val_loss: 0.3219 - val_accuracy: 0.5568 - val_crm_specificity: 0.9774 - val_recall: 0.1352 - val_precision: 0.8563 - val_crm_f1_score: 0.2333 - lr: 0.0234\n",
      "Epoch 64/500\n",
      "72/72 [==============================] - 12s 159ms/step - loss: 0.1856 - accuracy: 0.7210 - crm_specificity: 0.7131 - recall: 0.7291 - precision: 0.7175 - crm_f1_score: 0.7232 - val_loss: 0.2945 - val_accuracy: 0.5856 - val_crm_specificity: 0.9575 - val_recall: 0.2144 - val_precision: 0.8349 - val_crm_f1_score: 0.3407 - lr: 0.0229\n",
      "Epoch 65/500\n",
      "72/72 [==============================] - 12s 159ms/step - loss: 0.1860 - accuracy: 0.7187 - crm_specificity: 0.7085 - recall: 0.7291 - precision: 0.7142 - crm_f1_score: 0.7215 - val_loss: 0.1991 - val_accuracy: 0.6926 - val_crm_specificity: 0.7861 - val_recall: 0.5992 - val_precision: 0.7373 - val_crm_f1_score: 0.6608 - lr: 0.0224\n",
      "Epoch 66/500\n",
      "72/72 [==============================] - 12s 159ms/step - loss: 0.1873 - accuracy: 0.7132 - crm_specificity: 0.7042 - recall: 0.7224 - precision: 0.7095 - crm_f1_score: 0.7158 - val_loss: 0.2266 - val_accuracy: 0.6511 - val_crm_specificity: 0.8841 - val_recall: 0.4177 - val_precision: 0.7825 - val_crm_f1_score: 0.5444 - lr: 0.0219\n",
      "Epoch 67/500\n",
      "72/72 [==============================] - 12s 159ms/step - loss: 0.1867 - accuracy: 0.7167 - crm_specificity: 0.7053 - recall: 0.7283 - precision: 0.7117 - crm_f1_score: 0.7198 - val_loss: 0.2005 - val_accuracy: 0.6863 - val_crm_specificity: 0.5846 - val_recall: 0.7880 - val_precision: 0.6547 - val_crm_f1_score: 0.7151 - lr: 0.0214\n",
      "Epoch 68/500\n",
      "72/72 [==============================] - 12s 159ms/step - loss: 0.1858 - accuracy: 0.7186 - crm_specificity: 0.7072 - recall: 0.7301 - precision: 0.7135 - crm_f1_score: 0.7216 - val_loss: 0.2169 - val_accuracy: 0.6563 - val_crm_specificity: 0.8927 - val_recall: 0.4192 - val_precision: 0.7960 - val_crm_f1_score: 0.5493 - lr: 0.0209\n",
      "Epoch 69/500\n",
      "72/72 [==============================] - 12s 159ms/step - loss: 0.1853 - accuracy: 0.7199 - crm_specificity: 0.7105 - recall: 0.7296 - precision: 0.7157 - crm_f1_score: 0.7225 - val_loss: 0.1975 - val_accuracy: 0.6902 - val_crm_specificity: 0.6216 - val_recall: 0.7589 - val_precision: 0.6661 - val_crm_f1_score: 0.7095 - lr: 0.0204\n",
      "Epoch 70/500\n",
      "72/72 [==============================] - 12s 160ms/step - loss: 0.1856 - accuracy: 0.7190 - crm_specificity: 0.7071 - recall: 0.7311 - precision: 0.7140 - crm_f1_score: 0.7224 - val_loss: 0.2025 - val_accuracy: 0.6787 - val_crm_specificity: 0.5601 - val_recall: 0.7971 - val_precision: 0.6446 - val_crm_f1_score: 0.7126 - lr: 0.0200\n",
      "Epoch 71/500\n",
      "72/72 [==============================] - 12s 159ms/step - loss: 0.1858 - accuracy: 0.7178 - crm_specificity: 0.7085 - recall: 0.7272 - precision: 0.7138 - crm_f1_score: 0.7204 - val_loss: 0.2243 - val_accuracy: 0.6490 - val_crm_specificity: 0.8748 - val_recall: 0.4223 - val_precision: 0.7707 - val_crm_f1_score: 0.5455 - lr: 0.0195\n",
      "Epoch 72/500\n",
      "72/72 [==============================] - 12s 160ms/step - loss: 0.1856 - accuracy: 0.7190 - crm_specificity: 0.7100 - recall: 0.7282 - precision: 0.7150 - crm_f1_score: 0.7215 - val_loss: 0.2335 - val_accuracy: 0.6255 - val_crm_specificity: 0.3242 - val_recall: 0.9265 - val_precision: 0.5784 - val_crm_f1_score: 0.7121 - lr: 0.0191\n",
      "Epoch 73/500\n",
      "72/72 [==============================] - 11s 158ms/step - loss: 0.1850 - accuracy: 0.7217 - crm_specificity: 0.7116 - recall: 0.7321 - precision: 0.7173 - crm_f1_score: 0.7245 - val_loss: 0.2114 - val_accuracy: 0.6662 - val_crm_specificity: 0.8661 - val_recall: 0.4665 - val_precision: 0.7769 - val_crm_f1_score: 0.5827 - lr: 0.0186\n",
      "Epoch 74/500\n",
      "72/72 [==============================] - 12s 158ms/step - loss: 0.1850 - accuracy: 0.7203 - crm_specificity: 0.7112 - recall: 0.7297 - precision: 0.7163 - crm_f1_score: 0.7227 - val_loss: 0.2090 - val_accuracy: 0.6656 - val_crm_specificity: 0.6910 - val_recall: 0.6402 - val_precision: 0.6750 - val_crm_f1_score: 0.6571 - lr: 0.0182\n",
      "Epoch 75/500\n",
      "72/72 [==============================] - 12s 158ms/step - loss: 0.1842 - accuracy: 0.7209 - crm_specificity: 0.7110 - recall: 0.7309 - precision: 0.7166 - crm_f1_score: 0.7236 - val_loss: 0.3336 - val_accuracy: 0.5557 - val_crm_specificity: 0.9803 - val_recall: 0.1316 - val_precision: 0.8701 - val_crm_f1_score: 0.2285 - lr: 0.0178\n",
      "Epoch 76/500\n",
      "72/72 [==============================] - 12s 159ms/step - loss: 0.1837 - accuracy: 0.7220 - crm_specificity: 0.7130 - recall: 0.7310 - precision: 0.7182 - crm_f1_score: 0.7244 - val_loss: 0.2934 - val_accuracy: 0.5967 - val_crm_specificity: 0.9377 - val_recall: 0.2557 - val_precision: 0.8038 - val_crm_f1_score: 0.3873 - lr: 0.0174\n",
      "Epoch 77/500\n",
      "72/72 [==============================] - 12s 160ms/step - loss: 0.1854 - accuracy: 0.7194 - crm_specificity: 0.7077 - recall: 0.7315 - precision: 0.7141 - crm_f1_score: 0.7225 - val_loss: 0.2061 - val_accuracy: 0.6777 - val_crm_specificity: 0.5293 - val_recall: 0.8266 - val_precision: 0.6365 - val_crm_f1_score: 0.7189 - lr: 0.0170\n",
      "Epoch 78/500\n",
      "72/72 [==============================] - 12s 159ms/step - loss: 0.1866 - accuracy: 0.7169 - crm_specificity: 0.7061 - recall: 0.7280 - precision: 0.7122 - crm_f1_score: 0.7199 - val_loss: 0.3439 - val_accuracy: 0.5384 - val_crm_specificity: 0.9895 - val_recall: 0.0887 - val_precision: 0.8938 - val_crm_f1_score: 0.1611 - lr: 0.0166\n",
      "Epoch 79/500\n",
      "72/72 [==============================] - 12s 159ms/step - loss: 0.1847 - accuracy: 0.7218 - crm_specificity: 0.7110 - recall: 0.7328 - precision: 0.7169 - crm_f1_score: 0.7247 - val_loss: 0.3250 - val_accuracy: 0.5747 - val_crm_specificity: 0.9679 - val_recall: 0.1806 - val_precision: 0.8487 - val_crm_f1_score: 0.2974 - lr: 0.0162\n",
      "Epoch 80/500\n",
      "72/72 [==============================] - 12s 160ms/step - loss: 0.1845 - accuracy: 0.7215 - crm_specificity: 0.7092 - recall: 0.7341 - precision: 0.7161 - crm_f1_score: 0.7249 - val_loss: 0.2015 - val_accuracy: 0.6871 - val_crm_specificity: 0.5694 - val_recall: 0.8049 - val_precision: 0.6518 - val_crm_f1_score: 0.7201 - lr: 0.0158\n"
     ]
    },
    {
     "data": {
      "text/plain": [
       "<keras.callbacks.History at 0x7fb663222a00>"
      ]
     },
     "execution_count": 19,
     "metadata": {},
     "output_type": "execute_result"
    }
   ],
   "source": [
    "model.fit(train_seq, epochs=500, validation_data=valid_seq, workers=26, callbacks=[early_stopping, lr_scheduler]) #,workers=26"
   ]
  },
  {
   "cell_type": "code",
   "execution_count": null,
   "metadata": {},
   "outputs": [],
   "source": [
    "model.save(\"ExperimentLGRModel\")"
   ]
  },
  {
   "cell_type": "markdown",
   "metadata": {},
   "source": [
    "## Evaluating Model"
   ]
  },
  {
   "cell_type": "code",
   "execution_count": 20,
   "metadata": {},
   "outputs": [
    {
     "name": "stdout",
     "output_type": "stream",
     "text": [
      "72/72 [==============================] - 9s 121ms/step - loss: 0.2030 - accuracy: 0.6828 - crm_specificity: 0.4783 - recall: 0.8872 - precision: 0.6297 - crm_f1_score: 0.7365\n",
      "72/72 [==============================] - 9s 120ms/step - loss: 0.2033 - accuracy: 0.6818 - crm_specificity: 0.4782 - recall: 0.8856 - precision: 0.6292 - crm_f1_score: 0.7355\n",
      "72/72 [==============================] - 9s 122ms/step - loss: 0.2037 - accuracy: 0.6812 - crm_specificity: 0.4813 - recall: 0.8812 - precision: 0.6294 - crm_f1_score: 0.7342\n",
      "0.2033,68.19,47.93,88.47,62.95,73.54\n"
     ]
    }
   ],
   "source": [
    "nets.print_results(train_seq, model)"
   ]
  },
  {
   "cell_type": "code",
   "execution_count": 21,
   "metadata": {},
   "outputs": [
    {
     "name": "stdout",
     "output_type": "stream",
     "text": [
      "15/15 [==============================] - 2s 123ms/step - loss: 0.2079 - accuracy: 0.6737 - crm_specificity: 0.4781 - recall: 0.8692 - precision: 0.6251 - crm_f1_score: 0.7269\n",
      "15/15 [==============================] - 2s 121ms/step - loss: 0.2101 - accuracy: 0.6727 - crm_specificity: 0.4828 - recall: 0.8628 - precision: 0.6249 - crm_f1_score: 0.7247\n",
      "15/15 [==============================] - 2s 122ms/step - loss: 0.2086 - accuracy: 0.6705 - crm_specificity: 0.4887 - recall: 0.8526 - precision: 0.6247 - crm_f1_score: 0.7209\n",
      "0.2089,67.23,48.32,86.15,62.49,72.42\n"
     ]
    }
   ],
   "source": [
    "nets.print_results(valid_seq, model)"
   ]
  },
  {
   "cell_type": "code",
   "execution_count": null,
   "metadata": {},
   "outputs": [],
   "source": []
  }
 ],
 "metadata": {
  "kernelspec": {
   "display_name": "tf-gpu",
   "language": "python",
   "name": "tf-gpu"
  },
  "language_info": {
   "codemirror_mode": {
    "name": "ipython",
    "version": 3
   },
   "file_extension": ".py",
   "mimetype": "text/x-python",
   "name": "python",
   "nbconvert_exporter": "python",
   "pygments_lexer": "ipython3",
   "version": "3.9.16"
  }
 },
 "nbformat": 4,
 "nbformat_minor": 4
}
