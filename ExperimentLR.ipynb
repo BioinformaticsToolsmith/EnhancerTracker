{
 "cells": [
  {
   "cell_type": "markdown",
   "metadata": {
    "tags": []
   },
   "source": [
    "# ExperimentLR\n",
    "### Take the dataset where the negatives comprise of random genomic data (including repeats) sampled for length.\n",
    "### Train a single separable convolutional classifier on triplets and evaluate"
   ]
  },
  {
   "cell_type": "markdown",
   "metadata": {
    "tags": []
   },
   "source": [
    "## Imports"
   ]
  },
  {
   "cell_type": "code",
   "execution_count": 1,
   "metadata": {},
   "outputs": [],
   "source": [
    "import os\n",
    "os.environ['TF_CPP_MIN_LOG_LEVEL'] = '2' \n",
    "# # Credit: https://stackoverflow.com/questions/34199233/how-to-prevent-tensorflow-from-allocating-the-totality-of-a-gpu-memory\n",
    "import tensorflow as tf\n",
    "gpus = tf.config.experimental.list_physical_devices('GPU')\n",
    "for gpu in gpus:\n",
    "    tf.config.experimental.set_memory_growth(gpu, True)"
   ]
  },
  {
   "cell_type": "code",
   "execution_count": 2,
   "metadata": {},
   "outputs": [],
   "source": [
    "import data\n",
    "from tensorflow import keras\n",
    "import nets\n",
    "from loaders import PremadeTripletClassifierSequence"
   ]
  },
  {
   "cell_type": "markdown",
   "metadata": {},
   "source": [
    "## Files"
   ]
  },
  {
   "cell_type": "code",
   "execution_count": 3,
   "metadata": {},
   "outputs": [],
   "source": [
    "# file_name = '/home/zakaria/Data/IdentityData/ShortTrain/60.fa'#file_name = '../Data/sequences.fa'\n",
    "\n",
    "data_dir = '../Data/Datasets/LR/'\n",
    "\n",
    "\n",
    "train_sequence = f'{data_dir}/train_sequences.fa'\n",
    "valid_sequence = f'{data_dir}/valid_sequences.fa'\n",
    "test_sequence = f'{data_dir}/test_sequences.fa'\n",
    "\n",
    "reverse_train_sequence = f'{data_dir}/reverse_train_sequences.fa'\n",
    "reverse_valid_sequence = f'{data_dir}/reverse_valid_sequences.fa'\n",
    "reverse_test_sequence = f'{data_dir}/reverse_test_sequences.fa'\n",
    "\n",
    "train_triplet_dis = f'{data_dir}/train_triplet_dis.npy'\n",
    "valid_triplet_dis = f'{data_dir}/valid_triplet_dis.npy'\n",
    "test_triplet_dis = f'{data_dir}/test_triplet_dis.npy'\n",
    "\n",
    "train_triplet_sim = f'{data_dir}/train_triplet_sim.npy'\n",
    "valid_triplet_sim = f'{data_dir}/valid_triplet_sim.npy'\n",
    "test_triplet_sim = f'{data_dir}/test_triplet_sim.npy'"
   ]
  },
  {
   "cell_type": "markdown",
   "metadata": {},
   "source": [
    "## Parameters"
   ]
  },
  {
   "cell_type": "code",
   "execution_count": 4,
   "metadata": {},
   "outputs": [],
   "source": [
    "codings_size=100 \n",
    "exp_filter_num=4\n",
    "exp_filter_1d_size= 11\n",
    "\n",
    "allow_reverse = True\n",
    "max_len = 600\n",
    "\n",
    "learning_rate = 0.1\n",
    "momentum = 0.9\n",
    "is_nesterov = True\n",
    "patience = 20\n",
    "monitor = 'val_crm_f1_score'\n",
    "start_from_epoch = 10"
   ]
  },
  {
   "cell_type": "markdown",
   "metadata": {},
   "source": [
    "## Loading Data"
   ]
  },
  {
   "cell_type": "code",
   "execution_count": 5,
   "metadata": {},
   "outputs": [],
   "source": [
    "train = data.FantomToOneHotConverter(train_sequence, 0, max_len).seq_matrix\n",
    "reverse_train = data.FantomToOneHotConverter(reverse_train_sequence, 0, max_len).seq_matrix if allow_reverse else None"
   ]
  },
  {
   "cell_type": "code",
   "execution_count": 6,
   "metadata": {},
   "outputs": [],
   "source": [
    "valid = data.FantomToOneHotConverter(valid_sequence, 0, max_len).seq_matrix\n",
    "reverse_valid = data.FantomToOneHotConverter(reverse_valid_sequence, 0, max_len).seq_matrix if allow_reverse else None"
   ]
  },
  {
   "cell_type": "code",
   "execution_count": 7,
   "metadata": {},
   "outputs": [],
   "source": [
    "# test = data.FantomToOneHotConverter(test_sequence, 0, max_len).seq_matrix\n",
    "# reverse_test = data.FantomToOneHotConverter(reverse_test_sequence, 0, max_len).seq_matrix if allow_reverse else None"
   ]
  },
  {
   "cell_type": "code",
   "execution_count": 8,
   "metadata": {},
   "outputs": [],
   "source": [
    "train_seq = PremadeTripletClassifierSequence(train, train_triplet_sim, train_triplet_dis, batch_size = 1024, reverse_x_in =reverse_train)\n",
    "valid_seq = PremadeTripletClassifierSequence(valid, valid_triplet_sim, valid_triplet_dis, batch_size = 1024, reverse_x_in =reverse_valid)\n",
    "# test_seq = PremadeTripletClassifierSequence(test, test_triplet_sim, test_triplet_dis, batch_size = 1024, reverse_x_in =reverse_test)"
   ]
  },
  {
   "cell_type": "code",
   "execution_count": 9,
   "metadata": {},
   "outputs": [],
   "source": [
    "for x_batch, y_batch in train_seq:\n",
    "    _, d1, d2, d3 = x_batch.shape"
   ]
  },
  {
   "cell_type": "markdown",
   "metadata": {},
   "source": [
    "## Creating Model"
   ]
  },
  {
   "cell_type": "code",
   "execution_count": 10,
   "metadata": {
    "tags": []
   },
   "outputs": [
    {
     "name": "stdout",
     "output_type": "stream",
     "text": [
      "Model: \"model\"\n",
      "_________________________________________________________________\n",
      " Layer (type)                Output Shape              Param #   \n",
      "=================================================================\n",
      " input_1 (InputLayer)        [(None, 4, 600, 3)]       0         \n",
      "                                                                 \n",
      " masking (Masking)           (None, 4, 600, 3)         0         \n",
      "                                                                 \n",
      " separable_conv2d (Separable  (None, 1, 598, 4)        48        \n",
      " Conv2D)                                                         \n",
      "                                                                 \n",
      " batch_normalization (BatchN  (None, 1, 598, 4)        16        \n",
      " ormalization)                                                   \n",
      "                                                                 \n",
      " activation (Activation)     (None, 1, 598, 4)         0         \n",
      "                                                                 \n",
      " reshape (Reshape)           (None, 598, 4)            0         \n",
      "                                                                 \n",
      " max_pooling1d (MaxPooling1D  (None, 299, 4)           0         \n",
      " )                                                               \n",
      "                                                                 \n",
      " separable_conv1d (Separable  (None, 289, 8)           76        \n",
      " Conv1D)                                                         \n",
      "                                                                 \n",
      " batch_normalization_1 (Batc  (None, 289, 8)           32        \n",
      " hNormalization)                                                 \n",
      "                                                                 \n",
      " activation_1 (Activation)   (None, 289, 8)            0         \n",
      "                                                                 \n",
      " max_pooling1d_1 (MaxPooling  (None, 144, 8)           0         \n",
      " 1D)                                                             \n",
      "                                                                 \n",
      " separable_conv1d_1 (Separab  (None, 134, 16)          216       \n",
      " leConv1D)                                                       \n",
      "                                                                 \n",
      " batch_normalization_2 (Batc  (None, 134, 16)          64        \n",
      " hNormalization)                                                 \n",
      "                                                                 \n",
      " activation_2 (Activation)   (None, 134, 16)           0         \n",
      "                                                                 \n",
      " max_pooling1d_2 (MaxPooling  (None, 67, 16)           0         \n",
      " 1D)                                                             \n",
      "                                                                 \n",
      " separable_conv1d_2 (Separab  (None, 57, 32)           688       \n",
      " leConv1D)                                                       \n",
      "                                                                 \n",
      " batch_normalization_3 (Batc  (None, 57, 32)           128       \n",
      " hNormalization)                                                 \n",
      "                                                                 \n",
      " activation_3 (Activation)   (None, 57, 32)            0         \n",
      "                                                                 \n",
      " max_pooling1d_3 (MaxPooling  (None, 28, 32)           0         \n",
      " 1D)                                                             \n",
      "                                                                 \n",
      " separable_conv1d_3 (Separab  (None, 18, 64)           2400      \n",
      " leConv1D)                                                       \n",
      "                                                                 \n",
      " batch_normalization_4 (Batc  (None, 18, 64)           256       \n",
      " hNormalization)                                                 \n",
      "                                                                 \n",
      " activation_4 (Activation)   (None, 18, 64)            0         \n",
      "                                                                 \n",
      " global_max_pooling1d (Globa  (None, 64)               0         \n",
      " lMaxPooling1D)                                                  \n",
      "                                                                 \n",
      " dense (Dense)               (None, 100)               6400      \n",
      "                                                                 \n",
      " batch_normalization_5 (Batc  (None, 100)              400       \n",
      " hNormalization)                                                 \n",
      "                                                                 \n",
      " activation_5 (Activation)   (None, 100)               0         \n",
      "                                                                 \n",
      " dense_1 (Dense)             (None, 1)                 101       \n",
      "                                                                 \n",
      "=================================================================\n",
      "Total params: 10,825\n",
      "Trainable params: 10,377\n",
      "Non-trainable params: 448\n",
      "_________________________________________________________________\n"
     ]
    }
   ],
   "source": [
    "model = nets.make_conv_classifier(codings_size, (d1, d2, d3), exp_filter_1d_size, filter_num=exp_filter_num)\n",
    "model.summary()"
   ]
  },
  {
   "cell_type": "code",
   "execution_count": 11,
   "metadata": {},
   "outputs": [],
   "source": [
    "opt = keras.optimizers.SGD(learning_rate=learning_rate, momentum=momentum, nesterov=is_nesterov) # 0.1\n",
    "model.compile(loss='mse', metrics=['accuracy', nets.crm_specificity, tf.keras.metrics.Recall(), tf.keras.metrics.Precision(), nets.crm_f1_score], optimizer=opt) #  "
   ]
  },
  {
   "cell_type": "code",
   "execution_count": 12,
   "metadata": {},
   "outputs": [],
   "source": [
    "early_stopping = keras.callbacks.EarlyStopping(patience=patience, min_delta=1/100000, restore_best_weights=True, monitor=monitor, start_from_epoch = start_from_epoch, mode='max') #val_precision"
   ]
  },
  {
   "cell_type": "code",
   "execution_count": 13,
   "metadata": {},
   "outputs": [],
   "source": [
    "def exponential_decay_fn(epoch, lr):\n",
    "    '''\n",
    "    This function decreases the learning rate according to the epoch\n",
    "    '''\n",
    "    return lr*0.1**(1/100)\n",
    "\n",
    "lr_scheduler = keras.callbacks.LearningRateScheduler(exponential_decay_fn)"
   ]
  },
  {
   "cell_type": "markdown",
   "metadata": {},
   "source": [
    "## Training Model"
   ]
  },
  {
   "cell_type": "code",
   "execution_count": 14,
   "metadata": {
    "tags": []
   },
   "outputs": [
    {
     "name": "stdout",
     "output_type": "stream",
     "text": [
      "Epoch 1/500\n",
      "72/72 [==============================] - 16s 173ms/step - loss: 0.2332 - accuracy: 0.6071 - crm_specificity: 0.6377 - recall: 0.5769 - precision: 0.6140 - crm_f1_score: 0.5942 - val_loss: 0.2464 - val_accuracy: 0.5048 - val_crm_specificity: 0.0101 - val_recall: 0.9992 - val_precision: 0.5024 - val_crm_f1_score: 0.6685 - lr: 0.0977\n",
      "Epoch 2/500\n",
      "72/72 [==============================] - 12s 161ms/step - loss: 0.2158 - accuracy: 0.6478 - crm_specificity: 0.6523 - recall: 0.6435 - precision: 0.6490 - crm_f1_score: 0.6460 - val_loss: 0.2294 - val_accuracy: 0.6156 - val_crm_specificity: 0.3589 - val_recall: 0.8729 - val_precision: 0.5758 - val_crm_f1_score: 0.6938 - lr: 0.0955\n",
      "Epoch 3/500\n",
      "72/72 [==============================] - 12s 161ms/step - loss: 0.2101 - accuracy: 0.6634 - crm_specificity: 0.6471 - recall: 0.6798 - precision: 0.6582 - crm_f1_score: 0.6687 - val_loss: 0.2182 - val_accuracy: 0.6451 - val_crm_specificity: 0.4922 - val_recall: 0.7979 - val_precision: 0.6109 - val_crm_f1_score: 0.6919 - lr: 0.0933\n",
      "Epoch 4/500\n",
      "72/72 [==============================] - 12s 161ms/step - loss: 0.2081 - accuracy: 0.6671 - crm_specificity: 0.6511 - recall: 0.6833 - precision: 0.6618 - crm_f1_score: 0.6722 - val_loss: 0.2386 - val_accuracy: 0.6164 - val_crm_specificity: 0.3546 - val_recall: 0.8778 - val_precision: 0.5766 - val_crm_f1_score: 0.6960 - lr: 0.0912\n",
      "Epoch 5/500\n",
      "72/72 [==============================] - 12s 160ms/step - loss: 0.2053 - accuracy: 0.6765 - crm_specificity: 0.6552 - recall: 0.6979 - precision: 0.6692 - crm_f1_score: 0.6831 - val_loss: 0.2101 - val_accuracy: 0.6656 - val_crm_specificity: 0.6288 - val_recall: 0.7025 - val_precision: 0.6556 - val_crm_f1_score: 0.6780 - lr: 0.0891\n",
      "Epoch 6/500\n",
      "72/72 [==============================] - 12s 161ms/step - loss: 0.2047 - accuracy: 0.6746 - crm_specificity: 0.6554 - recall: 0.6940 - precision: 0.6682 - crm_f1_score: 0.6807 - val_loss: 0.2122 - val_accuracy: 0.6630 - val_crm_specificity: 0.4801 - val_recall: 0.8457 - val_precision: 0.6196 - val_crm_f1_score: 0.7151 - lr: 0.0871\n",
      "Epoch 7/500\n",
      "72/72 [==============================] - 12s 160ms/step - loss: 0.2016 - accuracy: 0.6837 - crm_specificity: 0.6588 - recall: 0.7089 - precision: 0.6750 - crm_f1_score: 0.6913 - val_loss: 0.2086 - val_accuracy: 0.6628 - val_crm_specificity: 0.6999 - val_recall: 0.6258 - val_precision: 0.6755 - val_crm_f1_score: 0.6492 - lr: 0.0851\n",
      "Epoch 8/500\n",
      "72/72 [==============================] - 12s 162ms/step - loss: 0.2015 - accuracy: 0.6824 - crm_specificity: 0.6636 - recall: 0.7015 - precision: 0.6759 - crm_f1_score: 0.6883 - val_loss: 0.2042 - val_accuracy: 0.6773 - val_crm_specificity: 0.6283 - val_recall: 0.7262 - val_precision: 0.6616 - val_crm_f1_score: 0.6923 - lr: 0.0832\n",
      "Epoch 9/500\n",
      "72/72 [==============================] - 12s 168ms/step - loss: 0.1997 - accuracy: 0.6855 - crm_specificity: 0.6588 - recall: 0.7125 - precision: 0.6761 - crm_f1_score: 0.6936 - val_loss: 0.2076 - val_accuracy: 0.6719 - val_crm_specificity: 0.6080 - val_recall: 0.7360 - val_precision: 0.6518 - val_crm_f1_score: 0.6913 - lr: 0.0813\n",
      "Epoch 10/500\n",
      "72/72 [==============================] - 12s 161ms/step - loss: 0.1986 - accuracy: 0.6878 - crm_specificity: 0.6737 - recall: 0.7022 - precision: 0.6824 - crm_f1_score: 0.6919 - val_loss: 0.2090 - val_accuracy: 0.6757 - val_crm_specificity: 0.5970 - val_recall: 0.7546 - val_precision: 0.6522 - val_crm_f1_score: 0.6994 - lr: 0.0794\n",
      "Epoch 11/500\n",
      "72/72 [==============================] - 12s 161ms/step - loss: 0.1989 - accuracy: 0.6871 - crm_specificity: 0.6693 - recall: 0.7052 - precision: 0.6805 - crm_f1_score: 0.6924 - val_loss: 0.2129 - val_accuracy: 0.6697 - val_crm_specificity: 0.6101 - val_recall: 0.7295 - val_precision: 0.6510 - val_crm_f1_score: 0.6879 - lr: 0.0776\n",
      "Epoch 12/500\n",
      "72/72 [==============================] - 12s 162ms/step - loss: 0.1981 - accuracy: 0.6908 - crm_specificity: 0.6716 - recall: 0.7103 - precision: 0.6836 - crm_f1_score: 0.6965 - val_loss: 0.2104 - val_accuracy: 0.6591 - val_crm_specificity: 0.7847 - val_recall: 0.5337 - val_precision: 0.7127 - val_crm_f1_score: 0.6100 - lr: 0.0759\n",
      "Epoch 13/500\n",
      "72/72 [==============================] - 12s 162ms/step - loss: 0.1984 - accuracy: 0.6881 - crm_specificity: 0.6684 - recall: 0.7079 - precision: 0.6808 - crm_f1_score: 0.6940 - val_loss: 0.2085 - val_accuracy: 0.6712 - val_crm_specificity: 0.4989 - val_recall: 0.8432 - val_precision: 0.6274 - val_crm_f1_score: 0.7195 - lr: 0.0741\n",
      "Epoch 14/500\n",
      "72/72 [==============================] - 12s 160ms/step - loss: 0.1966 - accuracy: 0.6927 - crm_specificity: 0.6762 - recall: 0.7095 - precision: 0.6864 - crm_f1_score: 0.6975 - val_loss: 0.2031 - val_accuracy: 0.6792 - val_crm_specificity: 0.7309 - val_recall: 0.6275 - val_precision: 0.6999 - val_crm_f1_score: 0.6612 - lr: 0.0724\n",
      "Epoch 15/500\n",
      "72/72 [==============================] - 12s 161ms/step - loss: 0.1964 - accuracy: 0.6946 - crm_specificity: 0.6770 - recall: 0.7125 - precision: 0.6878 - crm_f1_score: 0.6997 - val_loss: 0.2061 - val_accuracy: 0.6751 - val_crm_specificity: 0.6520 - val_recall: 0.6984 - val_precision: 0.6673 - val_crm_f1_score: 0.6823 - lr: 0.0708\n",
      "Epoch 16/500\n",
      "72/72 [==============================] - 12s 161ms/step - loss: 0.1967 - accuracy: 0.6938 - crm_specificity: 0.6780 - recall: 0.7099 - precision: 0.6878 - crm_f1_score: 0.6984 - val_loss: 0.2065 - val_accuracy: 0.6789 - val_crm_specificity: 0.5772 - val_recall: 0.7805 - val_precision: 0.6489 - val_crm_f1_score: 0.7085 - lr: 0.0692\n",
      "Epoch 17/500\n",
      "72/72 [==============================] - 12s 161ms/step - loss: 0.1952 - accuracy: 0.6955 - crm_specificity: 0.6782 - recall: 0.7132 - precision: 0.6889 - crm_f1_score: 0.7006 - val_loss: 0.2012 - val_accuracy: 0.6820 - val_crm_specificity: 0.6968 - val_recall: 0.6671 - val_precision: 0.6862 - val_crm_f1_score: 0.6761 - lr: 0.0676\n",
      "Epoch 18/500\n",
      "72/72 [==============================] - 12s 161ms/step - loss: 0.1941 - accuracy: 0.6977 - crm_specificity: 0.6811 - recall: 0.7145 - precision: 0.6912 - crm_f1_score: 0.7026 - val_loss: 0.2008 - val_accuracy: 0.6786 - val_crm_specificity: 0.7127 - val_recall: 0.6446 - val_precision: 0.6920 - val_crm_f1_score: 0.6675 - lr: 0.0661\n",
      "Epoch 19/500\n",
      "72/72 [==============================] - 12s 162ms/step - loss: 0.1946 - accuracy: 0.6983 - crm_specificity: 0.6829 - recall: 0.7139 - precision: 0.6923 - crm_f1_score: 0.7028 - val_loss: 0.2053 - val_accuracy: 0.6750 - val_crm_specificity: 0.5490 - val_recall: 0.8014 - val_precision: 0.6396 - val_crm_f1_score: 0.7113 - lr: 0.0646\n",
      "Epoch 20/500\n",
      "72/72 [==============================] - 12s 161ms/step - loss: 0.1934 - accuracy: 0.6985 - crm_specificity: 0.6794 - recall: 0.7178 - precision: 0.6912 - crm_f1_score: 0.7041 - val_loss: 0.2000 - val_accuracy: 0.6880 - val_crm_specificity: 0.6467 - val_recall: 0.7293 - val_precision: 0.6733 - val_crm_f1_score: 0.7002 - lr: 0.0631\n",
      "Epoch 21/500\n",
      "72/72 [==============================] - 12s 161ms/step - loss: 0.1936 - accuracy: 0.7003 - crm_specificity: 0.6835 - recall: 0.7172 - precision: 0.6938 - crm_f1_score: 0.7052 - val_loss: 0.2004 - val_accuracy: 0.6852 - val_crm_specificity: 0.7352 - val_recall: 0.6349 - val_precision: 0.7045 - val_crm_f1_score: 0.6675 - lr: 0.0617\n",
      "Epoch 22/500\n",
      "72/72 [==============================] - 12s 163ms/step - loss: 0.1924 - accuracy: 0.7042 - crm_specificity: 0.6901 - recall: 0.7187 - precision: 0.6986 - crm_f1_score: 0.7083 - val_loss: 0.2002 - val_accuracy: 0.6865 - val_crm_specificity: 0.6536 - val_recall: 0.7192 - val_precision: 0.6755 - val_crm_f1_score: 0.6965 - lr: 0.0603\n",
      "Epoch 23/500\n",
      "72/72 [==============================] - 12s 162ms/step - loss: 0.1922 - accuracy: 0.7029 - crm_specificity: 0.6880 - recall: 0.7180 - precision: 0.6970 - crm_f1_score: 0.7072 - val_loss: 0.2000 - val_accuracy: 0.6893 - val_crm_specificity: 0.6019 - val_recall: 0.7764 - val_precision: 0.6618 - val_crm_f1_score: 0.7143 - lr: 0.0589\n",
      "Epoch 24/500\n",
      "72/72 [==============================] - 12s 161ms/step - loss: 0.1908 - accuracy: 0.7067 - crm_specificity: 0.6936 - recall: 0.7199 - precision: 0.7014 - crm_f1_score: 0.7104 - val_loss: 0.1998 - val_accuracy: 0.6848 - val_crm_specificity: 0.6885 - val_recall: 0.6811 - val_precision: 0.6864 - val_crm_f1_score: 0.6832 - lr: 0.0575\n",
      "Epoch 25/500\n",
      "72/72 [==============================] - 12s 161ms/step - loss: 0.1903 - accuracy: 0.7075 - crm_specificity: 0.6928 - recall: 0.7222 - precision: 0.7015 - crm_f1_score: 0.7116 - val_loss: 0.2012 - val_accuracy: 0.6859 - val_crm_specificity: 0.7593 - val_recall: 0.6125 - val_precision: 0.7174 - val_crm_f1_score: 0.6606 - lr: 0.0562\n",
      "Epoch 26/500\n",
      "72/72 [==============================] - 12s 160ms/step - loss: 0.1903 - accuracy: 0.7064 - crm_specificity: 0.6900 - recall: 0.7230 - precision: 0.6999 - crm_f1_score: 0.7111 - val_loss: 0.2012 - val_accuracy: 0.6857 - val_crm_specificity: 0.7386 - val_recall: 0.6329 - val_precision: 0.7084 - val_crm_f1_score: 0.6684 - lr: 0.0550\n",
      "Epoch 27/500\n",
      "72/72 [==============================] - 12s 163ms/step - loss: 0.1896 - accuracy: 0.7079 - crm_specificity: 0.6929 - recall: 0.7230 - precision: 0.7016 - crm_f1_score: 0.7121 - val_loss: 0.2003 - val_accuracy: 0.6846 - val_crm_specificity: 0.7112 - val_recall: 0.6581 - val_precision: 0.6953 - val_crm_f1_score: 0.6761 - lr: 0.0537\n",
      "Epoch 28/500\n",
      "72/72 [==============================] - 12s 163ms/step - loss: 0.1894 - accuracy: 0.7093 - crm_specificity: 0.6911 - recall: 0.7275 - precision: 0.7020 - crm_f1_score: 0.7143 - val_loss: 0.1956 - val_accuracy: 0.6955 - val_crm_specificity: 0.6725 - val_recall: 0.7189 - val_precision: 0.6869 - val_crm_f1_score: 0.7023 - lr: 0.0525\n",
      "Epoch 29/500\n",
      "72/72 [==============================] - 12s 161ms/step - loss: 0.1898 - accuracy: 0.7102 - crm_specificity: 0.6930 - recall: 0.7275 - precision: 0.7030 - crm_f1_score: 0.7149 - val_loss: 0.2010 - val_accuracy: 0.6891 - val_crm_specificity: 0.7138 - val_recall: 0.6644 - val_precision: 0.6993 - val_crm_f1_score: 0.6811 - lr: 0.0513\n",
      "Epoch 30/500\n",
      "72/72 [==============================] - 12s 160ms/step - loss: 0.1870 - accuracy: 0.7134 - crm_specificity: 0.6982 - recall: 0.7289 - precision: 0.7073 - crm_f1_score: 0.7178 - val_loss: 0.2096 - val_accuracy: 0.6702 - val_crm_specificity: 0.8511 - val_recall: 0.4896 - val_precision: 0.7666 - val_crm_f1_score: 0.5970 - lr: 0.0501\n",
      "Epoch 31/500\n",
      "72/72 [==============================] - 12s 160ms/step - loss: 0.1890 - accuracy: 0.7095 - crm_specificity: 0.6949 - recall: 0.7242 - precision: 0.7035 - crm_f1_score: 0.7135 - val_loss: 0.1988 - val_accuracy: 0.6917 - val_crm_specificity: 0.7413 - val_recall: 0.6421 - val_precision: 0.7122 - val_crm_f1_score: 0.6752 - lr: 0.0490\n",
      "Epoch 32/500\n",
      "72/72 [==============================] - 12s 165ms/step - loss: 0.1882 - accuracy: 0.7090 - crm_specificity: 0.6937 - recall: 0.7244 - precision: 0.7029 - crm_f1_score: 0.7134 - val_loss: 0.1991 - val_accuracy: 0.6900 - val_crm_specificity: 0.7865 - val_recall: 0.5936 - val_precision: 0.7356 - val_crm_f1_score: 0.6569 - lr: 0.0479\n",
      "Epoch 33/500\n",
      "72/72 [==============================] - 12s 161ms/step - loss: 0.1877 - accuracy: 0.7118 - crm_specificity: 0.7003 - recall: 0.7236 - precision: 0.7069 - crm_f1_score: 0.7150 - val_loss: 0.1951 - val_accuracy: 0.6957 - val_crm_specificity: 0.7167 - val_recall: 0.6749 - val_precision: 0.7053 - val_crm_f1_score: 0.6896 - lr: 0.0468\n"
     ]
    },
    {
     "data": {
      "text/plain": [
       "<keras.callbacks.History at 0x7fc1506da910>"
      ]
     },
     "execution_count": 14,
     "metadata": {},
     "output_type": "execute_result"
    }
   ],
   "source": [
    "model.fit(train_seq, epochs=500, validation_data=valid_seq, workers=26, callbacks=[early_stopping, lr_scheduler]) #,workers=26"
   ]
  },
  {
   "cell_type": "code",
   "execution_count": 15,
   "metadata": {},
   "outputs": [
    {
     "name": "stderr",
     "output_type": "stream",
     "text": [
      "WARNING:absl:Found untraced functions such as _jit_compiled_convolution_op, _jit_compiled_convolution_op, _jit_compiled_convolution_op, _jit_compiled_convolution_op, _jit_compiled_convolution_op while saving (showing 5 of 5). These functions will not be directly callable after loading.\n"
     ]
    },
    {
     "name": "stdout",
     "output_type": "stream",
     "text": [
      "INFO:tensorflow:Assets written to: ExperimentLRModel/assets\n"
     ]
    },
    {
     "name": "stderr",
     "output_type": "stream",
     "text": [
      "INFO:tensorflow:Assets written to: ExperimentLRModel/assets\n"
     ]
    }
   ],
   "source": [
    "model.save(\"ExperimentLRModel\")"
   ]
  },
  {
   "cell_type": "markdown",
   "metadata": {},
   "source": [
    "## Evaluating Model"
   ]
  },
  {
   "cell_type": "code",
   "execution_count": 15,
   "metadata": {},
   "outputs": [
    {
     "name": "stdout",
     "output_type": "stream",
     "text": [
      "72/72 [==============================] - 9s 121ms/step - loss: 0.2049 - accuracy: 0.6785 - crm_specificity: 0.5041 - recall: 0.8530 - precision: 0.6323 - crm_f1_score: 0.7260\n",
      "72/72 [==============================] - 9s 122ms/step - loss: 0.2047 - accuracy: 0.6790 - crm_specificity: 0.5064 - recall: 0.8515 - precision: 0.6331 - crm_f1_score: 0.7262\n",
      "72/72 [==============================] - 9s 121ms/step - loss: 0.2046 - accuracy: 0.6785 - crm_specificity: 0.5055 - recall: 0.8518 - precision: 0.6325 - crm_f1_score: 0.7258\n",
      "0.2047,67.87,50.53,85.21,63.26,72.6\n"
     ]
    }
   ],
   "source": [
    "nets.print_results(train_seq, model)"
   ]
  },
  {
   "cell_type": "code",
   "execution_count": 16,
   "metadata": {},
   "outputs": [
    {
     "name": "stdout",
     "output_type": "stream",
     "text": [
      "15/15 [==============================] - 2s 124ms/step - loss: 0.2129 - accuracy: 0.6613 - crm_specificity: 0.4939 - recall: 0.8296 - precision: 0.6201 - crm_f1_score: 0.7096\n",
      "15/15 [==============================] - 2s 120ms/step - loss: 0.2089 - accuracy: 0.6654 - crm_specificity: 0.4984 - recall: 0.8322 - precision: 0.6238 - crm_f1_score: 0.7130\n",
      "15/15 [==============================] - 2s 123ms/step - loss: 0.2086 - accuracy: 0.6721 - crm_specificity: 0.5038 - recall: 0.8400 - precision: 0.6288 - crm_f1_score: 0.7191\n",
      "0.2101,66.63,49.87,83.39,62.43,71.39\n"
     ]
    }
   ],
   "source": [
    "nets.print_results(valid_seq, model)"
   ]
  },
  {
   "cell_type": "code",
   "execution_count": null,
   "metadata": {},
   "outputs": [],
   "source": []
  }
 ],
 "metadata": {
  "kernelspec": {
   "display_name": "tf-gpu",
   "language": "python",
   "name": "tf-gpu"
  },
  "language_info": {
   "codemirror_mode": {
    "name": "ipython",
    "version": 3
   },
   "file_extension": ".py",
   "mimetype": "text/x-python",
   "name": "python",
   "nbconvert_exporter": "python",
   "pygments_lexer": "ipython3",
   "version": "3.9.16"
  }
 },
 "nbformat": 4,
 "nbformat_minor": 4
}
