{
 "cells": [
  {
   "cell_type": "markdown",
   "id": "8291960a-4fb6-4173-b6ff-bdee10124da5",
   "metadata": {},
   "source": [
    "# The purpose of this notebook is to generate fasta files for use with Red\n",
    "### We first remove the alternate loci. Then we create a directory containing fasta files for the main chromosomes and scaffolds. Then we create a single multi-fasta format file for just the main chromosomes (no mitochondria)"
   ]
  },
  {
   "cell_type": "markdown",
   "id": "048ce637-a553-4278-99ec-4d0d2ffbd959",
   "metadata": {},
   "source": [
    "## Imports"
   ]
  },
  {
   "cell_type": "code",
   "execution_count": 1,
   "id": "57ab4ad6-cab0-4d55-8dec-be6a9ab1fa18",
   "metadata": {
    "tags": []
   },
   "outputs": [],
   "source": [
    "from Bio import SeqIO\n",
    "import os"
   ]
  },
  {
   "cell_type": "markdown",
   "id": "b438ef2a-f2a2-45ec-b0bb-e9cd3cb14d5e",
   "metadata": {},
   "source": [
    "## Files"
   ]
  },
  {
   "cell_type": "code",
   "execution_count": 2,
   "id": "f306d774-2eb4-455f-b1a9-c9ebc66bf9c3",
   "metadata": {
    "tags": []
   },
   "outputs": [],
   "source": [
    "gnm_file='/home/transposons/Data/CRM/HG38/HG38.fa'"
   ]
  },
  {
   "cell_type": "code",
   "execution_count": 6,
   "id": "38eb14b6-527d-471b-8d8d-51c50fd58d92",
   "metadata": {
    "tags": []
   },
   "outputs": [],
   "source": [
    "data_dir = \"../Data/HG38\"\n",
    "\n",
    "main_path = f\"{data_dir}/HG38_main.fa\"\n",
    "scaffold_path  = f\"{data_dir}/Scaffolds\"\n",
    "chromosome_path = f\"{data_dir}/Chromosomes\""
   ]
  },
  {
   "cell_type": "code",
   "execution_count": 7,
   "id": "84f48942-c187-4b49-920a-702bd1f65577",
   "metadata": {},
   "outputs": [],
   "source": [
    "assert os.path.exists(main_path), f'{main_path} doesn\\'t exist'\n",
    "assert os.path.exists(scaffold_path), f'{scaffold_path} doesn\\'t exist'\n",
    "assert os.path.exists(chromosome_path), f'{chromosome_path} doesn\\'t exist'"
   ]
  },
  {
   "cell_type": "markdown",
   "id": "e7876849-6d0b-4449-8932-ac3bf2a83673",
   "metadata": {},
   "source": [
    "## Loading Genome Multi-Fasta File"
   ]
  },
  {
   "cell_type": "code",
   "execution_count": 8,
   "id": "0b572164-0935-4eed-9481-ba385eb37397",
   "metadata": {
    "tags": []
   },
   "outputs": [],
   "source": [
    "rec_list = list(SeqIO.parse(gnm_file, \"fasta\"))"
   ]
  },
  {
   "cell_type": "markdown",
   "id": "18ee4bf4-7bc4-4250-b3b1-115d4e97f6f6",
   "metadata": {},
   "source": [
    "## Parsing Genome"
   ]
  },
  {
   "cell_type": "code",
   "execution_count": 9,
   "id": "bd1497a4-faee-468c-8a04-98233229602f",
   "metadata": {
    "tags": []
   },
   "outputs": [],
   "source": [
    "chr_dict = {str(x):0 for x in list(range(1, 23)) + ['X', 'Y']} # key -> value = chr -> counter\n",
    "unplaced_counter = 0\n",
    "final_list = []\n",
    "for rec in rec_list:\n",
    "    token_list = rec.description.split()\n",
    "    \n",
    "    if 'alternate' not in token_list:\n",
    "        if ',' in token_list[4]:\n",
    "            rec.id=f\"chr{token_list[4][:-1]}\"\n",
    "        elif 'genomic' == token_list[4]:\n",
    "            rec.id=f\"genomic_{unplaced_counter}\"\n",
    "            unplaced_counter += 1\n",
    "        elif token_list[4] in chr_dict:\n",
    "            rec.id=f\"chr{token_list[4]}_{chr_dict[token_list[4]]}\"\n",
    "            chr_dict[token_list[4]] += 1\n",
    "        elif token_list[4] == \"complete\":\n",
    "            rec.id=\"chrM\"\n",
    "        else:\n",
    "            raise RuntimeError(f\"Unknown pattern: {token_list}\")\n",
    "        \n",
    "        rec.description='' \n",
    "        final_list.append(rec)"
   ]
  },
  {
   "cell_type": "markdown",
   "id": "05e490e1-3bfa-4b6e-bc53-babec400f2aa",
   "metadata": {},
   "source": [
    "## Saving"
   ]
  },
  {
   "cell_type": "code",
   "execution_count": null,
   "id": "c443ddf4-2e40-467e-a281-58977c6a6fc7",
   "metadata": {},
   "outputs": [],
   "source": [
    "main_list = []\n",
    "scaffold_list = []\n",
    "for rec in final_list:\n",
    "    if \"_\" not in rec.id and rec.id != \"chrM\":\n",
    "        main_list.append(rec)\n",
    "    elif rec.id != \"chrM\":\n",
    "        scaffold_list.append(rec)"
   ]
  },
  {
   "cell_type": "markdown",
   "id": "559301a6-d279-4e0a-892a-dc91b94eb4a2",
   "metadata": {},
   "source": [
    "### Write main chromosomes to one file"
   ]
  },
  {
   "cell_type": "code",
   "execution_count": 11,
   "id": "e432e9be-b49c-4ee4-a3e4-1a3cb44a4859",
   "metadata": {},
   "outputs": [],
   "source": [
    "SeqIO.write(main_list, main_path, 'fasta')"
   ]
  },
  {
   "cell_type": "markdown",
   "id": "1e1015ea-e104-4ff6-9e7c-1c39f0c6cd27",
   "metadata": {
    "tags": []
   },
   "source": [
    "### Writing scaffolds to separate files"
   ]
  },
  {
   "cell_type": "code",
   "execution_count": 10,
   "id": "5ac1d74f-eac1-4272-879d-24825cb8ddfb",
   "metadata": {
    "tags": []
   },
   "outputs": [],
   "source": [
    "for rec in scaffold_list:\n",
    "    chr_file_name =f\"{scaffold_path}/{rec.id}.fa\"\n",
    "    SeqIO.write(rec, chr_file_name, 'fasta')"
   ]
  },
  {
   "cell_type": "markdown",
   "id": "f47f16e8-9226-48c2-bdc5-0f40da2b5bb5",
   "metadata": {},
   "source": [
    "### Write main chromosomes to separate files"
   ]
  },
  {
   "cell_type": "code",
   "execution_count": null,
   "id": "9c9770fd-5c10-4d88-9c94-9a26c703996d",
   "metadata": {},
   "outputs": [],
   "source": [
    "for rec in main_list:\n",
    "    SeqIO.write(rec, f\"{chromosome_path}/{rec.id}.fa\")"
   ]
  }
 ],
 "metadata": {
  "kernelspec": {
   "display_name": "Python 3 (ipykernel)",
   "language": "python",
   "name": "python3"
  },
  "language_info": {
   "codemirror_mode": {
    "name": "ipython",
    "version": 3
   },
   "file_extension": ".py",
   "mimetype": "text/x-python",
   "name": "python",
   "nbconvert_exporter": "python",
   "pygments_lexer": "ipython3",
   "version": "3.8.10"
  }
 },
 "nbformat": 4,
 "nbformat_minor": 5
}
