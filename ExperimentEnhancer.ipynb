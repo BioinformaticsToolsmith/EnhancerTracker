{
 "cells": [
  {
   "cell_type": "markdown",
   "metadata": {},
   "source": [
    "# ExperimentEnhancer\n",
    "### Take the dataset where the negatives comprise only of enhancers.\n",
    "### Train a single separable convolutional classifier on triplets and evaluate"
   ]
  },
  {
   "cell_type": "markdown",
   "metadata": {
    "tags": []
   },
   "source": [
    "## Imports"
   ]
  },
  {
   "cell_type": "code",
   "execution_count": 1,
   "metadata": {},
   "outputs": [],
   "source": [
    "import os\n",
    "os.environ['TF_CPP_MIN_LOG_LEVEL'] = '2' \n",
    "# # Credit: https://stackoverflow.com/questions/34199233/how-to-prevent-tensorflow-from-allocating-the-totality-of-a-gpu-memory\n",
    "import tensorflow as tf\n",
    "gpus = tf.config.experimental.list_physical_devices('GPU')\n",
    "for gpu in gpus:\n",
    "    tf.config.experimental.set_memory_growth(gpu, True)"
   ]
  },
  {
   "cell_type": "code",
   "execution_count": 2,
   "metadata": {},
   "outputs": [],
   "source": [
    "import data\n",
    "from tensorflow import keras\n",
    "import nets\n",
    "from loaders import PremadeTripletClassifierSequence"
   ]
  },
  {
   "cell_type": "markdown",
   "metadata": {},
   "source": [
    "## Files"
   ]
  },
  {
   "cell_type": "code",
   "execution_count": 3,
   "metadata": {},
   "outputs": [],
   "source": [
    "# file_name = '/home/zakaria/Data/IdentityData/ShortTrain/60.fa'#file_name = '../Data/sequences.fa'\n",
    "\n",
    "data_dir = '../Data/Datasets/Enhancer/'\n",
    "\n",
    "\n",
    "train_sequence = f'{data_dir}/train_sequences.fa'\n",
    "valid_sequence = f'{data_dir}/valid_sequences.fa'\n",
    "test_sequence = f'{data_dir}/test_sequences.fa'\n",
    "\n",
    "reverse_train_sequence = f'{data_dir}/reverse_train_sequences.fa'\n",
    "reverse_valid_sequence = f'{data_dir}/reverse_valid_sequences.fa'\n",
    "reverse_test_sequence = f'{data_dir}/reverse_test_sequences.fa'\n",
    "\n",
    "train_triplet_dis = f'{data_dir}/train_triplet_dis.npy'\n",
    "valid_triplet_dis = f'{data_dir}/valid_triplet_dis.npy'\n",
    "test_triplet_dis = f'{data_dir}/test_triplet_dis.npy'\n",
    "\n",
    "train_triplet_sim = f'{data_dir}/train_triplet_sim.npy'\n",
    "valid_triplet_sim = f'{data_dir}/valid_triplet_sim.npy'\n",
    "test_triplet_sim = f'{data_dir}/test_triplet_sim.npy'"
   ]
  },
  {
   "cell_type": "markdown",
   "metadata": {},
   "source": [
    "## Parameters"
   ]
  },
  {
   "cell_type": "code",
   "execution_count": 4,
   "metadata": {},
   "outputs": [],
   "source": [
    "codings_size=100 \n",
    "exp_filter_num=4\n",
    "exp_filter_1d_size= 11\n",
    "\n",
    "allow_reverse = True\n",
    "max_len = 600\n",
    "\n",
    "learning_rate = 0.1\n",
    "momentum = 0.9\n",
    "is_nesterov = True\n",
    "patience = 20\n",
    "monitor = 'val_crm_f1_score'\n",
    "start_from_epoch = 10"
   ]
  },
  {
   "cell_type": "markdown",
   "metadata": {},
   "source": [
    "## Loading Data"
   ]
  },
  {
   "cell_type": "code",
   "execution_count": 5,
   "metadata": {},
   "outputs": [],
   "source": [
    "train = data.FantomToOneHotConverter(train_sequence, 0, max_len).seq_matrix\n",
    "reverse_train = data.FantomToOneHotConverter(reverse_train_sequence, 0, max_len).seq_matrix if allow_reverse else None"
   ]
  },
  {
   "cell_type": "code",
   "execution_count": 6,
   "metadata": {},
   "outputs": [],
   "source": [
    "valid = data.FantomToOneHotConverter(valid_sequence, 0, max_len).seq_matrix\n",
    "reverse_valid = data.FantomToOneHotConverter(reverse_valid_sequence, 0, max_len).seq_matrix if allow_reverse else None"
   ]
  },
  {
   "cell_type": "code",
   "execution_count": 7,
   "metadata": {},
   "outputs": [],
   "source": [
    "# test = data.FantomToOneHotConverter(test_sequence, 0, max_len).seq_matrix\n",
    "# reverse_test = data.FantomToOneHotConverter(reverse_test_sequence, 0, max_len).seq_matrix if allow_reverse else None"
   ]
  },
  {
   "cell_type": "code",
   "execution_count": 8,
   "metadata": {},
   "outputs": [],
   "source": [
    "train_seq = PremadeTripletClassifierSequence(train, train_triplet_sim, train_triplet_dis, batch_size = 1024, reverse_x_in =reverse_train)\n",
    "valid_seq = PremadeTripletClassifierSequence(valid, valid_triplet_sim, valid_triplet_dis, batch_size = 1024, reverse_x_in =reverse_valid)\n",
    "# test_seq = PremadeTripletClassifierSequence(test, test_triplet_sim, test_triplet_dis, batch_size = 1024, reverse_x_in =reverse_test)"
   ]
  },
  {
   "cell_type": "code",
   "execution_count": 9,
   "metadata": {},
   "outputs": [],
   "source": [
    "for x_batch, y_batch in train_seq:\n",
    "    _, d1, d2, d3 = x_batch.shape"
   ]
  },
  {
   "cell_type": "markdown",
   "metadata": {},
   "source": [
    "## Creating Model"
   ]
  },
  {
   "cell_type": "code",
   "execution_count": 10,
   "metadata": {
    "tags": []
   },
   "outputs": [
    {
     "name": "stdout",
     "output_type": "stream",
     "text": [
      "Model: \"model\"\n",
      "_________________________________________________________________\n",
      " Layer (type)                Output Shape              Param #   \n",
      "=================================================================\n",
      " input_1 (InputLayer)        [(None, 4, 600, 3)]       0         \n",
      "                                                                 \n",
      " masking (Masking)           (None, 4, 600, 3)         0         \n",
      "                                                                 \n",
      " separable_conv2d (Separable  (None, 1, 598, 4)        48        \n",
      " Conv2D)                                                         \n",
      "                                                                 \n",
      " batch_normalization (BatchN  (None, 1, 598, 4)        16        \n",
      " ormalization)                                                   \n",
      "                                                                 \n",
      " activation (Activation)     (None, 1, 598, 4)         0         \n",
      "                                                                 \n",
      " reshape (Reshape)           (None, 598, 4)            0         \n",
      "                                                                 \n",
      " max_pooling1d (MaxPooling1D  (None, 299, 4)           0         \n",
      " )                                                               \n",
      "                                                                 \n",
      " separable_conv1d (Separable  (None, 289, 8)           76        \n",
      " Conv1D)                                                         \n",
      "                                                                 \n",
      " batch_normalization_1 (Batc  (None, 289, 8)           32        \n",
      " hNormalization)                                                 \n",
      "                                                                 \n",
      " activation_1 (Activation)   (None, 289, 8)            0         \n",
      "                                                                 \n",
      " max_pooling1d_1 (MaxPooling  (None, 144, 8)           0         \n",
      " 1D)                                                             \n",
      "                                                                 \n",
      " separable_conv1d_1 (Separab  (None, 134, 16)          216       \n",
      " leConv1D)                                                       \n",
      "                                                                 \n",
      " batch_normalization_2 (Batc  (None, 134, 16)          64        \n",
      " hNormalization)                                                 \n",
      "                                                                 \n",
      " activation_2 (Activation)   (None, 134, 16)           0         \n",
      "                                                                 \n",
      " max_pooling1d_2 (MaxPooling  (None, 67, 16)           0         \n",
      " 1D)                                                             \n",
      "                                                                 \n",
      " separable_conv1d_2 (Separab  (None, 57, 32)           688       \n",
      " leConv1D)                                                       \n",
      "                                                                 \n",
      " batch_normalization_3 (Batc  (None, 57, 32)           128       \n",
      " hNormalization)                                                 \n",
      "                                                                 \n",
      " activation_3 (Activation)   (None, 57, 32)            0         \n",
      "                                                                 \n",
      " max_pooling1d_3 (MaxPooling  (None, 28, 32)           0         \n",
      " 1D)                                                             \n",
      "                                                                 \n",
      " separable_conv1d_3 (Separab  (None, 18, 64)           2400      \n",
      " leConv1D)                                                       \n",
      "                                                                 \n",
      " batch_normalization_4 (Batc  (None, 18, 64)           256       \n",
      " hNormalization)                                                 \n",
      "                                                                 \n",
      " activation_4 (Activation)   (None, 18, 64)            0         \n",
      "                                                                 \n",
      " global_max_pooling1d (Globa  (None, 64)               0         \n",
      " lMaxPooling1D)                                                  \n",
      "                                                                 \n",
      " dense (Dense)               (None, 100)               6400      \n",
      "                                                                 \n",
      " batch_normalization_5 (Batc  (None, 100)              400       \n",
      " hNormalization)                                                 \n",
      "                                                                 \n",
      " activation_5 (Activation)   (None, 100)               0         \n",
      "                                                                 \n",
      " dense_1 (Dense)             (None, 1)                 101       \n",
      "                                                                 \n",
      "=================================================================\n",
      "Total params: 10,825\n",
      "Trainable params: 10,377\n",
      "Non-trainable params: 448\n",
      "_________________________________________________________________\n"
     ]
    }
   ],
   "source": [
    "model = nets.make_conv_classifier(codings_size, (d1, d2, d3), exp_filter_1d_size, filter_num=exp_filter_num)\n",
    "model.summary()"
   ]
  },
  {
   "cell_type": "code",
   "execution_count": 11,
   "metadata": {},
   "outputs": [],
   "source": [
    "opt = keras.optimizers.SGD(learning_rate=learning_rate, momentum=momentum, nesterov=is_nesterov) # 0.1\n",
    "model.compile(loss='mse', metrics=['accuracy', nets.crm_specificity, tf.keras.metrics.Recall(), tf.keras.metrics.Precision(), nets.crm_f1_score], optimizer=opt) #  "
   ]
  },
  {
   "cell_type": "code",
   "execution_count": 12,
   "metadata": {},
   "outputs": [],
   "source": [
    "early_stopping = keras.callbacks.EarlyStopping(patience=patience, min_delta=1/100000, restore_best_weights=True, monitor=monitor, start_from_epoch = start_from_epoch, mode='max') #val_precision"
   ]
  },
  {
   "cell_type": "code",
   "execution_count": 13,
   "metadata": {},
   "outputs": [],
   "source": [
    "def exponential_decay_fn(epoch, lr):\n",
    "    '''\n",
    "    This function decreases the learning rate according to the epoch\n",
    "    '''\n",
    "    return lr*0.1**(1/100)\n",
    "\n",
    "lr_scheduler = keras.callbacks.LearningRateScheduler(exponential_decay_fn)"
   ]
  },
  {
   "cell_type": "markdown",
   "metadata": {},
   "source": [
    "## Training Model"
   ]
  },
  {
   "cell_type": "code",
   "execution_count": 14,
   "metadata": {
    "tags": []
   },
   "outputs": [
    {
     "name": "stdout",
     "output_type": "stream",
     "text": [
      "Epoch 1/500\n",
      "72/72 [==============================] - 16s 166ms/step - loss: 0.2363 - accuracy: 0.6000 - crm_specificity: 0.6709 - recall: 0.5292 - precision: 0.6163 - crm_f1_score: 0.5697 - val_loss: 0.2476 - val_accuracy: 0.5104 - val_crm_specificity: 0.9962 - val_recall: 0.0222 - val_precision: 0.8543 - val_crm_f1_score: 0.0431 - lr: 0.0977\n",
      "Epoch 2/500\n",
      "72/72 [==============================] - 12s 158ms/step - loss: 0.2259 - accuracy: 0.6216 - crm_specificity: 0.7362 - recall: 0.5073 - precision: 0.6578 - crm_f1_score: 0.5726 - val_loss: 0.2421 - val_accuracy: 0.5803 - val_crm_specificity: 0.9381 - val_recall: 0.2246 - val_precision: 0.7841 - val_crm_f1_score: 0.3490 - lr: 0.0955\n",
      "Epoch 3/500\n",
      "72/72 [==============================] - 12s 158ms/step - loss: 0.2223 - accuracy: 0.6317 - crm_specificity: 0.7543 - recall: 0.5092 - precision: 0.6747 - crm_f1_score: 0.5801 - val_loss: 0.2308 - val_accuracy: 0.6093 - val_crm_specificity: 0.8703 - val_recall: 0.3487 - val_precision: 0.7291 - val_crm_f1_score: 0.4716 - lr: 0.0933\n",
      "Epoch 4/500\n",
      "72/72 [==============================] - 12s 159ms/step - loss: 0.2221 - accuracy: 0.6297 - crm_specificity: 0.7392 - recall: 0.5201 - precision: 0.6660 - crm_f1_score: 0.5838 - val_loss: 0.2262 - val_accuracy: 0.6215 - val_crm_specificity: 0.8145 - val_recall: 0.4288 - val_precision: 0.6985 - val_crm_f1_score: 0.5311 - lr: 0.0912\n",
      "Epoch 5/500\n",
      "72/72 [==============================] - 12s 160ms/step - loss: 0.2218 - accuracy: 0.6301 - crm_specificity: 0.7415 - recall: 0.5187 - precision: 0.6674 - crm_f1_score: 0.5833 - val_loss: 0.2256 - val_accuracy: 0.6234 - val_crm_specificity: 0.7128 - val_recall: 0.5341 - val_precision: 0.6500 - val_crm_f1_score: 0.5862 - lr: 0.0891\n",
      "Epoch 6/500\n",
      "72/72 [==============================] - 12s 159ms/step - loss: 0.2216 - accuracy: 0.6300 - crm_specificity: 0.7193 - recall: 0.5405 - precision: 0.6582 - crm_f1_score: 0.5925 - val_loss: 0.2259 - val_accuracy: 0.6135 - val_crm_specificity: 0.5901 - val_recall: 0.6372 - val_precision: 0.6085 - val_crm_f1_score: 0.6223 - lr: 0.0871\n",
      "Epoch 7/500\n",
      "72/72 [==============================] - 12s 157ms/step - loss: 0.2196 - accuracy: 0.6358 - crm_specificity: 0.7386 - recall: 0.5334 - precision: 0.6708 - crm_f1_score: 0.5937 - val_loss: 0.2241 - val_accuracy: 0.6245 - val_crm_specificity: 0.7253 - val_recall: 0.5238 - val_precision: 0.6556 - val_crm_f1_score: 0.5822 - lr: 0.0851\n",
      "Epoch 8/500\n",
      "72/72 [==============================] - 12s 158ms/step - loss: 0.2196 - accuracy: 0.6378 - crm_specificity: 0.7394 - recall: 0.5361 - precision: 0.6727 - crm_f1_score: 0.5962 - val_loss: 0.2247 - val_accuracy: 0.6215 - val_crm_specificity: 0.7059 - val_recall: 0.5372 - val_precision: 0.6460 - val_crm_f1_score: 0.5864 - lr: 0.0832\n",
      "Epoch 9/500\n",
      "72/72 [==============================] - 12s 159ms/step - loss: 0.2199 - accuracy: 0.6345 - crm_specificity: 0.7381 - recall: 0.5310 - precision: 0.6696 - crm_f1_score: 0.5917 - val_loss: 0.2229 - val_accuracy: 0.6263 - val_crm_specificity: 0.7884 - val_recall: 0.4643 - val_precision: 0.6870 - val_crm_f1_score: 0.5540 - lr: 0.0813\n",
      "Epoch 10/500\n",
      "72/72 [==============================] - 12s 164ms/step - loss: 0.2189 - accuracy: 0.6368 - crm_specificity: 0.7274 - recall: 0.5465 - precision: 0.6667 - crm_f1_score: 0.6003 - val_loss: 0.2230 - val_accuracy: 0.6245 - val_crm_specificity: 0.8096 - val_recall: 0.4397 - val_precision: 0.6983 - val_crm_f1_score: 0.5391 - lr: 0.0794\n",
      "Epoch 11/500\n",
      "72/72 [==============================] - 12s 159ms/step - loss: 0.2199 - accuracy: 0.6351 - crm_specificity: 0.7426 - recall: 0.5278 - precision: 0.6721 - crm_f1_score: 0.5908 - val_loss: 0.2279 - val_accuracy: 0.6145 - val_crm_specificity: 0.8250 - val_recall: 0.4041 - val_precision: 0.6980 - val_crm_f1_score: 0.5115 - lr: 0.0776\n",
      "Epoch 12/500\n",
      "72/72 [==============================] - 12s 157ms/step - loss: 0.2192 - accuracy: 0.6366 - crm_specificity: 0.7331 - recall: 0.5403 - precision: 0.6693 - crm_f1_score: 0.5974 - val_loss: 0.2224 - val_accuracy: 0.6269 - val_crm_specificity: 0.7011 - val_recall: 0.5525 - val_precision: 0.6492 - val_crm_f1_score: 0.5966 - lr: 0.0759\n",
      "Epoch 13/500\n",
      "72/72 [==============================] - 12s 159ms/step - loss: 0.2192 - accuracy: 0.6363 - crm_specificity: 0.7462 - recall: 0.5264 - precision: 0.6746 - crm_f1_score: 0.5906 - val_loss: 0.2227 - val_accuracy: 0.6236 - val_crm_specificity: 0.7774 - val_recall: 0.4691 - val_precision: 0.6771 - val_crm_f1_score: 0.5537 - lr: 0.0741\n",
      "Epoch 14/500\n",
      "72/72 [==============================] - 12s 159ms/step - loss: 0.2188 - accuracy: 0.6364 - crm_specificity: 0.7351 - recall: 0.5379 - precision: 0.6696 - crm_f1_score: 0.5960 - val_loss: 0.2247 - val_accuracy: 0.6238 - val_crm_specificity: 0.7954 - val_recall: 0.4530 - val_precision: 0.6898 - val_crm_f1_score: 0.5466 - lr: 0.0724\n",
      "Epoch 15/500\n",
      "72/72 [==============================] - 12s 160ms/step - loss: 0.2184 - accuracy: 0.6381 - crm_specificity: 0.7312 - recall: 0.5451 - precision: 0.6697 - crm_f1_score: 0.6005 - val_loss: 0.2247 - val_accuracy: 0.6262 - val_crm_specificity: 0.6285 - val_recall: 0.6238 - val_precision: 0.6265 - val_crm_f1_score: 0.6248 - lr: 0.0708\n",
      "Epoch 16/500\n",
      "72/72 [==============================] - 12s 160ms/step - loss: 0.2183 - accuracy: 0.6393 - crm_specificity: 0.7388 - recall: 0.5399 - precision: 0.6737 - crm_f1_score: 0.5990 - val_loss: 0.2244 - val_accuracy: 0.6209 - val_crm_specificity: 0.7988 - val_recall: 0.4420 - val_precision: 0.6869 - val_crm_f1_score: 0.5379 - lr: 0.0692\n",
      "Epoch 17/500\n",
      "72/72 [==============================] - 12s 158ms/step - loss: 0.2173 - accuracy: 0.6418 - crm_specificity: 0.7399 - recall: 0.5438 - precision: 0.6763 - crm_f1_score: 0.6025 - val_loss: 0.2256 - val_accuracy: 0.6202 - val_crm_specificity: 0.8140 - val_recall: 0.4262 - val_precision: 0.6957 - val_crm_f1_score: 0.5284 - lr: 0.0676\n",
      "Epoch 18/500\n",
      "72/72 [==============================] - 12s 162ms/step - loss: 0.2168 - accuracy: 0.6413 - crm_specificity: 0.7404 - recall: 0.5425 - precision: 0.6762 - crm_f1_score: 0.6018 - val_loss: 0.2223 - val_accuracy: 0.6279 - val_crm_specificity: 0.6747 - val_recall: 0.5811 - val_precision: 0.6416 - val_crm_f1_score: 0.6098 - lr: 0.0661\n",
      "Epoch 19/500\n",
      "72/72 [==============================] - 12s 159ms/step - loss: 0.2178 - accuracy: 0.6423 - crm_specificity: 0.7360 - recall: 0.5488 - precision: 0.6754 - crm_f1_score: 0.6051 - val_loss: 0.2231 - val_accuracy: 0.6245 - val_crm_specificity: 0.6420 - val_recall: 0.6072 - val_precision: 0.6301 - val_crm_f1_score: 0.6183 - lr: 0.0646\n",
      "Epoch 20/500\n",
      "72/72 [==============================] - 12s 158ms/step - loss: 0.2169 - accuracy: 0.6445 - crm_specificity: 0.7414 - recall: 0.5478 - precision: 0.6792 - crm_f1_score: 0.6060 - val_loss: 0.2225 - val_accuracy: 0.6307 - val_crm_specificity: 0.7362 - val_recall: 0.5251 - val_precision: 0.6657 - val_crm_f1_score: 0.5869 - lr: 0.0631\n",
      "Epoch 21/500\n",
      "72/72 [==============================] - 12s 158ms/step - loss: 0.2176 - accuracy: 0.6389 - crm_specificity: 0.7282 - recall: 0.5497 - precision: 0.6688 - crm_f1_score: 0.6031 - val_loss: 0.2230 - val_accuracy: 0.6214 - val_crm_specificity: 0.6070 - val_recall: 0.6357 - val_precision: 0.6172 - val_crm_f1_score: 0.6261 - lr: 0.0617\n",
      "Epoch 22/500\n",
      "72/72 [==============================] - 12s 160ms/step - loss: 0.2176 - accuracy: 0.6401 - crm_specificity: 0.7237 - recall: 0.5567 - precision: 0.6681 - crm_f1_score: 0.6066 - val_loss: 0.2228 - val_accuracy: 0.6269 - val_crm_specificity: 0.7154 - val_recall: 0.5382 - val_precision: 0.6533 - val_crm_f1_score: 0.5899 - lr: 0.0603\n",
      "Epoch 23/500\n",
      "72/72 [==============================] - 12s 158ms/step - loss: 0.2173 - accuracy: 0.6424 - crm_specificity: 0.7410 - recall: 0.5437 - precision: 0.6773 - crm_f1_score: 0.6025 - val_loss: 0.2216 - val_accuracy: 0.6257 - val_crm_specificity: 0.6942 - val_recall: 0.5572 - val_precision: 0.6466 - val_crm_f1_score: 0.5981 - lr: 0.0589\n",
      "Epoch 24/500\n",
      "72/72 [==============================] - 12s 158ms/step - loss: 0.2155 - accuracy: 0.6470 - crm_specificity: 0.7337 - recall: 0.5605 - precision: 0.6779 - crm_f1_score: 0.6134 - val_loss: 0.2262 - val_accuracy: 0.6132 - val_crm_specificity: 0.8633 - val_recall: 0.3635 - val_precision: 0.7270 - val_crm_f1_score: 0.4846 - lr: 0.0575\n",
      "Epoch 25/500\n",
      "72/72 [==============================] - 12s 157ms/step - loss: 0.2176 - accuracy: 0.6421 - crm_specificity: 0.7271 - recall: 0.5573 - precision: 0.6712 - crm_f1_score: 0.6085 - val_loss: 0.2258 - val_accuracy: 0.6221 - val_crm_specificity: 0.6039 - val_recall: 0.6404 - val_precision: 0.6184 - val_crm_f1_score: 0.6289 - lr: 0.0562\n",
      "Epoch 26/500\n",
      "72/72 [==============================] - 12s 160ms/step - loss: 0.2163 - accuracy: 0.6427 - crm_specificity: 0.7156 - recall: 0.5700 - precision: 0.6668 - crm_f1_score: 0.6143 - val_loss: 0.2228 - val_accuracy: 0.6240 - val_crm_specificity: 0.5943 - val_recall: 0.6538 - val_precision: 0.6168 - val_crm_f1_score: 0.6346 - lr: 0.0550\n",
      "Epoch 27/500\n",
      "72/72 [==============================] - 12s 157ms/step - loss: 0.2173 - accuracy: 0.6422 - crm_specificity: 0.7372 - recall: 0.5472 - precision: 0.6755 - crm_f1_score: 0.6043 - val_loss: 0.2218 - val_accuracy: 0.6295 - val_crm_specificity: 0.7469 - val_recall: 0.5124 - val_precision: 0.6697 - val_crm_f1_score: 0.5805 - lr: 0.0537\n",
      "Epoch 28/500\n",
      "72/72 [==============================] - 12s 157ms/step - loss: 0.2168 - accuracy: 0.6439 - crm_specificity: 0.7360 - recall: 0.5520 - precision: 0.6763 - crm_f1_score: 0.6076 - val_loss: 0.2218 - val_accuracy: 0.6273 - val_crm_specificity: 0.6876 - val_recall: 0.5665 - val_precision: 0.6443 - val_crm_f1_score: 0.6028 - lr: 0.0525\n",
      "Epoch 29/500\n",
      "72/72 [==============================] - 12s 158ms/step - loss: 0.2167 - accuracy: 0.6436 - crm_specificity: 0.7373 - recall: 0.5500 - precision: 0.6767 - crm_f1_score: 0.6067 - val_loss: 0.2249 - val_accuracy: 0.6186 - val_crm_specificity: 0.5752 - val_recall: 0.6620 - val_precision: 0.6091 - val_crm_f1_score: 0.6344 - lr: 0.0513\n",
      "Epoch 30/500\n",
      "72/72 [==============================] - 12s 159ms/step - loss: 0.2169 - accuracy: 0.6413 - crm_specificity: 0.7272 - recall: 0.5556 - precision: 0.6706 - crm_f1_score: 0.6074 - val_loss: 0.2217 - val_accuracy: 0.6257 - val_crm_specificity: 0.7048 - val_recall: 0.5466 - val_precision: 0.6491 - val_crm_f1_score: 0.5933 - lr: 0.0501\n",
      "Epoch 31/500\n",
      "72/72 [==============================] - 12s 162ms/step - loss: 0.2168 - accuracy: 0.6447 - crm_specificity: 0.7295 - recall: 0.5599 - precision: 0.6743 - crm_f1_score: 0.6113 - val_loss: 0.2228 - val_accuracy: 0.6252 - val_crm_specificity: 0.7049 - val_recall: 0.5452 - val_precision: 0.6491 - val_crm_f1_score: 0.5924 - lr: 0.0490\n",
      "Epoch 32/500\n",
      "72/72 [==============================] - 12s 158ms/step - loss: 0.2172 - accuracy: 0.6422 - crm_specificity: 0.7241 - recall: 0.5607 - precision: 0.6700 - crm_f1_score: 0.6100 - val_loss: 0.2255 - val_accuracy: 0.6199 - val_crm_specificity: 0.7921 - val_recall: 0.4470 - val_precision: 0.6815 - val_crm_f1_score: 0.5397 - lr: 0.0479\n",
      "Epoch 33/500\n",
      "72/72 [==============================] - 12s 158ms/step - loss: 0.2155 - accuracy: 0.6462 - crm_specificity: 0.7288 - recall: 0.5637 - precision: 0.6750 - crm_f1_score: 0.6143 - val_loss: 0.2256 - val_accuracy: 0.6209 - val_crm_specificity: 0.6137 - val_recall: 0.6282 - val_precision: 0.6186 - val_crm_f1_score: 0.6231 - lr: 0.0468\n",
      "Epoch 34/500\n",
      "72/72 [==============================] - 12s 159ms/step - loss: 0.2162 - accuracy: 0.6444 - crm_specificity: 0.7228 - recall: 0.5661 - precision: 0.6712 - crm_f1_score: 0.6139 - val_loss: 0.2220 - val_accuracy: 0.6313 - val_crm_specificity: 0.7996 - val_recall: 0.4626 - val_precision: 0.6976 - val_crm_f1_score: 0.5561 - lr: 0.0457\n",
      "Epoch 35/500\n",
      "72/72 [==============================] - 12s 158ms/step - loss: 0.2157 - accuracy: 0.6459 - crm_specificity: 0.7324 - recall: 0.5596 - precision: 0.6763 - crm_f1_score: 0.6122 - val_loss: 0.2222 - val_accuracy: 0.6301 - val_crm_specificity: 0.7299 - val_recall: 0.5304 - val_precision: 0.6635 - val_crm_f1_score: 0.5890 - lr: 0.0447\n",
      "Epoch 36/500\n",
      "72/72 [==============================] - 12s 160ms/step - loss: 0.2155 - accuracy: 0.6479 - crm_specificity: 0.7333 - recall: 0.5626 - precision: 0.6783 - crm_f1_score: 0.6147 - val_loss: 0.2231 - val_accuracy: 0.6268 - val_crm_specificity: 0.7439 - val_recall: 0.5091 - val_precision: 0.6647 - val_crm_f1_score: 0.5764 - lr: 0.0437\n",
      "Epoch 37/500\n",
      "72/72 [==============================] - 12s 158ms/step - loss: 0.2144 - accuracy: 0.6484 - crm_specificity: 0.7326 - recall: 0.5641 - precision: 0.6785 - crm_f1_score: 0.6158 - val_loss: 0.2234 - val_accuracy: 0.6257 - val_crm_specificity: 0.8216 - val_recall: 0.4302 - val_precision: 0.7064 - val_crm_f1_score: 0.5343 - lr: 0.0427\n",
      "Epoch 38/500\n",
      "72/72 [==============================] - 12s 159ms/step - loss: 0.2155 - accuracy: 0.6487 - crm_specificity: 0.7242 - recall: 0.5734 - precision: 0.6750 - crm_f1_score: 0.6198 - val_loss: 0.2223 - val_accuracy: 0.6271 - val_crm_specificity: 0.7060 - val_recall: 0.5486 - val_precision: 0.6517 - val_crm_f1_score: 0.5955 - lr: 0.0417\n",
      "Epoch 39/500\n",
      "72/72 [==============================] - 12s 158ms/step - loss: 0.2148 - accuracy: 0.6486 - crm_specificity: 0.7356 - recall: 0.5619 - precision: 0.6799 - crm_f1_score: 0.6150 - val_loss: 0.2246 - val_accuracy: 0.6210 - val_crm_specificity: 0.7707 - val_recall: 0.4716 - val_precision: 0.6730 - val_crm_f1_score: 0.5545 - lr: 0.0407\n",
      "Epoch 40/500\n",
      "72/72 [==============================] - 12s 157ms/step - loss: 0.2154 - accuracy: 0.6468 - crm_specificity: 0.7326 - recall: 0.5612 - precision: 0.6772 - crm_f1_score: 0.6136 - val_loss: 0.2234 - val_accuracy: 0.6257 - val_crm_specificity: 0.7510 - val_recall: 0.5005 - val_precision: 0.6675 - val_crm_f1_score: 0.5718 - lr: 0.0398\n",
      "Epoch 41/500\n",
      "72/72 [==============================] - 12s 163ms/step - loss: 0.2142 - accuracy: 0.6506 - crm_specificity: 0.7305 - recall: 0.5709 - precision: 0.6794 - crm_f1_score: 0.6203 - val_loss: 0.2240 - val_accuracy: 0.6233 - val_crm_specificity: 0.6354 - val_recall: 0.6111 - val_precision: 0.6256 - val_crm_f1_score: 0.6182 - lr: 0.0389\n",
      "Epoch 42/500\n",
      "72/72 [==============================] - 12s 162ms/step - loss: 0.2159 - accuracy: 0.6453 - crm_specificity: 0.7250 - recall: 0.5658 - precision: 0.6728 - crm_f1_score: 0.6146 - val_loss: 0.2250 - val_accuracy: 0.6255 - val_crm_specificity: 0.7950 - val_recall: 0.4557 - val_precision: 0.6895 - val_crm_f1_score: 0.5486 - lr: 0.0380\n",
      "Epoch 43/500\n",
      "72/72 [==============================] - 12s 158ms/step - loss: 0.2156 - accuracy: 0.6469 - crm_specificity: 0.7237 - recall: 0.5702 - precision: 0.6735 - crm_f1_score: 0.6173 - val_loss: 0.2235 - val_accuracy: 0.6199 - val_crm_specificity: 0.7036 - val_recall: 0.5363 - val_precision: 0.6446 - val_crm_f1_score: 0.5852 - lr: 0.0372\n",
      "Epoch 44/500\n",
      "72/72 [==============================] - 12s 158ms/step - loss: 0.2157 - accuracy: 0.6449 - crm_specificity: 0.7327 - recall: 0.5574 - precision: 0.6759 - crm_f1_score: 0.6107 - val_loss: 0.2228 - val_accuracy: 0.6208 - val_crm_specificity: 0.6689 - val_recall: 0.5731 - val_precision: 0.6346 - val_crm_f1_score: 0.6021 - lr: 0.0363\n",
      "Epoch 45/500\n",
      "72/72 [==============================] - 12s 158ms/step - loss: 0.2147 - accuracy: 0.6499 - crm_specificity: 0.7278 - recall: 0.5721 - precision: 0.6777 - crm_f1_score: 0.6203 - val_loss: 0.2279 - val_accuracy: 0.6138 - val_crm_specificity: 0.8495 - val_recall: 0.3784 - val_precision: 0.7159 - val_crm_f1_score: 0.4946 - lr: 0.0355\n",
      "Epoch 46/500\n",
      "72/72 [==============================] - 12s 159ms/step - loss: 0.2151 - accuracy: 0.6478 - crm_specificity: 0.7287 - recall: 0.5670 - precision: 0.6762 - crm_f1_score: 0.6167 - val_loss: 0.2239 - val_accuracy: 0.6211 - val_crm_specificity: 0.8134 - val_recall: 0.4285 - val_precision: 0.6964 - val_crm_f1_score: 0.5303 - lr: 0.0347\n"
     ]
    },
    {
     "data": {
      "text/plain": [
       "<keras.callbacks.History at 0x7f6dfff54400>"
      ]
     },
     "execution_count": 14,
     "metadata": {},
     "output_type": "execute_result"
    }
   ],
   "source": [
    "model.fit(train_seq, epochs=500, validation_data=valid_seq, workers=26, callbacks=[early_stopping, lr_scheduler]) #,workers=26"
   ]
  },
  {
   "cell_type": "code",
   "execution_count": 15,
   "metadata": {},
   "outputs": [
    {
     "name": "stderr",
     "output_type": "stream",
     "text": [
      "WARNING:absl:Found untraced functions such as _jit_compiled_convolution_op, _jit_compiled_convolution_op, _jit_compiled_convolution_op, _jit_compiled_convolution_op, _jit_compiled_convolution_op while saving (showing 5 of 5). These functions will not be directly callable after loading.\n"
     ]
    },
    {
     "name": "stdout",
     "output_type": "stream",
     "text": [
      "INFO:tensorflow:Assets written to: ExperimentEnhancerModel/assets\n"
     ]
    },
    {
     "name": "stderr",
     "output_type": "stream",
     "text": [
      "INFO:tensorflow:Assets written to: ExperimentEnhancerModel/assets\n"
     ]
    }
   ],
   "source": [
    "model.save(\"ExperimentEnhancerModel\")"
   ]
  },
  {
   "cell_type": "markdown",
   "metadata": {
    "tags": []
   },
   "source": [
    "## Evaluating Model"
   ]
  },
  {
   "cell_type": "code",
   "execution_count": 15,
   "metadata": {},
   "outputs": [
    {
     "name": "stdout",
     "output_type": "stream",
     "text": [
      "72/72 [==============================] - 9s 120ms/step - loss: 0.2181 - accuracy: 0.6371 - crm_specificity: 0.6018 - recall: 0.6726 - precision: 0.6281 - crm_f1_score: 0.6494\n",
      "72/72 [==============================] - 9s 120ms/step - loss: 0.2187 - accuracy: 0.6373 - crm_specificity: 0.6042 - recall: 0.6706 - precision: 0.6288 - crm_f1_score: 0.6488\n",
      "72/72 [==============================] - 9s 119ms/step - loss: 0.2180 - accuracy: 0.6366 - crm_specificity: 0.6005 - recall: 0.6726 - precision: 0.6274 - crm_f1_score: 0.6490\n",
      "0.2183,63.7,60.22,67.2,62.81,64.91\n"
     ]
    }
   ],
   "source": [
    "nets.print_results(train_seq, model)"
   ]
  },
  {
   "cell_type": "code",
   "execution_count": 16,
   "metadata": {},
   "outputs": [
    {
     "name": "stdout",
     "output_type": "stream",
     "text": [
      "15/15 [==============================] - 2s 119ms/step - loss: 0.2208 - accuracy: 0.6320 - crm_specificity: 0.6033 - recall: 0.6608 - precision: 0.6250 - crm_f1_score: 0.6423\n",
      "15/15 [==============================] - 2s 119ms/step - loss: 0.2230 - accuracy: 0.6251 - crm_specificity: 0.6079 - recall: 0.6427 - precision: 0.6200 - crm_f1_score: 0.6309\n",
      "15/15 [==============================] - 2s 120ms/step - loss: 0.2249 - accuracy: 0.6232 - crm_specificity: 0.5959 - recall: 0.6504 - precision: 0.6174 - crm_f1_score: 0.6332\n",
      "0.2229,62.68,60.24,65.13,62.08,63.55\n"
     ]
    }
   ],
   "source": [
    "nets.print_results(valid_seq, model)"
   ]
  },
  {
   "cell_type": "code",
   "execution_count": null,
   "metadata": {},
   "outputs": [],
   "source": []
  }
 ],
 "metadata": {
  "kernelspec": {
   "display_name": "tf-gpu",
   "language": "python",
   "name": "tf-gpu"
  },
  "language_info": {
   "codemirror_mode": {
    "name": "ipython",
    "version": 3
   },
   "file_extension": ".py",
   "mimetype": "text/x-python",
   "name": "python",
   "nbconvert_exporter": "python",
   "pygments_lexer": "ipython3",
   "version": "3.9.16"
  }
 },
 "nbformat": 4,
 "nbformat_minor": 4
}
