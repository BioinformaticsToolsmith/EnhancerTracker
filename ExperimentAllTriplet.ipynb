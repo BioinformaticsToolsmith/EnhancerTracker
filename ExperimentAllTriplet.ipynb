{
 "cells": [
  {
   "cell_type": "markdown",
   "metadata": {
    "tags": []
   },
   "source": [
    "# ExperimentAllTriplet\n",
    "### Take the dataset where the negatives are comprised of enhancers and random genomic data from the four controls (length-repeats, length-no_repeats, length-gc-repeats, length-gc-no_repeats).\n",
    "### Train a single separable convolutional classifier on triplets and evaluate"
   ]
  },
  {
   "cell_type": "markdown",
   "metadata": {
    "tags": []
   },
   "source": [
    "## Imports"
   ]
  },
  {
   "cell_type": "code",
   "execution_count": 6,
   "metadata": {
    "tags": []
   },
   "outputs": [],
   "source": [
    "import os\n",
    "os.environ['TF_CPP_MIN_LOG_LEVEL'] = '2' \n",
    "# # Credit: https://stackoverflow.com/questions/34199233/how-to-prevent-tensorflow-from-allocating-the-totality-of-a-gpu-memory\n",
    "import tensorflow as tf\n",
    "gpus = tf.config.experimental.list_physical_devices('GPU')\n",
    "for gpu in gpus:\n",
    "    tf.config.experimental.set_memory_growth(gpu, True)"
   ]
  },
  {
   "cell_type": "code",
   "execution_count": 7,
   "metadata": {
    "tags": []
   },
   "outputs": [],
   "source": [
    "import data\n",
    "import numpy as np\n",
    "import nets\n",
    "from tensorflow import keras\n",
    "from loaders import PremadeTripletClassifierSequence\n",
    "from scipy.interpolate import interp1d\n",
    "import matplotlib.pyplot as plt\n",
    "from Bio import motifs\n",
    "from Bio.Seq import Seq\n",
    "from scipy.signal import find_peaks"
   ]
  },
  {
   "cell_type": "markdown",
   "metadata": {},
   "source": [
    "## Files"
   ]
  },
  {
   "cell_type": "code",
   "execution_count": 8,
   "metadata": {
    "tags": []
   },
   "outputs": [],
   "source": [
    "data_dir = '../Data/Datasets/All'\n",
    "\n",
    "\n",
    "train_sequence = f'{data_dir}/train_sequences.fa'\n",
    "valid_sequence = f'{data_dir}/valid_sequences.fa'\n",
    "test_sequence = f'{data_dir}/test_sequences.fa'\n",
    "\n",
    "reverse_train_sequence = f'{data_dir}/reverse_train_sequences.fa'\n",
    "reverse_valid_sequence = f'{data_dir}/reverse_valid_sequences.fa'\n",
    "reverse_test_sequence = f'{data_dir}/reverse_test_sequences.fa'\n",
    "\n",
    "train_triplet_dis = f'{data_dir}/train_triplet_dis.npy'\n",
    "valid_triplet_dis = f'{data_dir}/valid_triplet_dis.npy'\n",
    "test_triplet_dis = f'{data_dir}/test_triplet_dis.npy'\n",
    "\n",
    "train_triplet_sim = f'{data_dir}/train_triplet_sim.npy'\n",
    "valid_triplet_sim = f'{data_dir}/valid_triplet_sim.npy'\n",
    "test_triplet_sim = f'{data_dir}/test_triplet_sim.npy'"
   ]
  },
  {
   "cell_type": "markdown",
   "metadata": {},
   "source": [
    "## Parameters"
   ]
  },
  {
   "cell_type": "code",
   "execution_count": 9,
   "metadata": {
    "tags": []
   },
   "outputs": [],
   "source": [
    "codings_size=100\n",
    "exp_filter_num=4\n",
    "exp_filter_1d_size= 11\n",
    "\n",
    "allow_reverse = True\n",
    "max_len = 600\n",
    "\n",
    "learning_rate = 0.1\n",
    "momentum = 0.9\n",
    "is_nesterov = True\n",
    "patience = 20\n",
    "monitor = 'val_crm_f1_score'\n",
    "start_from_epoch = 10"
   ]
  },
  {
   "cell_type": "markdown",
   "metadata": {},
   "source": [
    "## Loading Data"
   ]
  },
  {
   "cell_type": "code",
   "execution_count": 10,
   "metadata": {
    "tags": []
   },
   "outputs": [],
   "source": [
    "train = data.FantomToOneHotConverter(train_sequence, 0, max_len).seq_matrix\n",
    "reverse_train = data.FantomToOneHotConverter(reverse_train_sequence, 0, max_len).seq_matrix if allow_reverse else None"
   ]
  },
  {
   "cell_type": "code",
   "execution_count": 11,
   "metadata": {
    "tags": []
   },
   "outputs": [],
   "source": [
    "valid = data.FantomToOneHotConverter(valid_sequence, 0, max_len).seq_matrix\n",
    "reverse_valid = data.FantomToOneHotConverter(reverse_valid_sequence, 0, max_len).seq_matrix if allow_reverse else None"
   ]
  },
  {
   "cell_type": "code",
   "execution_count": 12,
   "metadata": {
    "tags": []
   },
   "outputs": [],
   "source": [
    "test = data.FantomToOneHotConverter(test_sequence, 0, max_len).seq_matrix\n",
    "reverse_test = data.FantomToOneHotConverter(reverse_test_sequence, 0, max_len).seq_matrix if allow_reverse else None"
   ]
  },
  {
   "cell_type": "code",
   "execution_count": 13,
   "metadata": {
    "tags": []
   },
   "outputs": [],
   "source": [
    "train_seq = PremadeTripletClassifierSequence(train, train_triplet_sim, train_triplet_dis, batch_size = 1024, reverse_x_in =reverse_train)\n",
    "valid_seq = PremadeTripletClassifierSequence(valid, valid_triplet_sim, valid_triplet_dis, batch_size = 1024, reverse_x_in =reverse_valid)\n",
    "test_seq = PremadeTripletClassifierSequence(test, test_triplet_sim, test_triplet_dis, batch_size = 1024, reverse_x_in =reverse_test)"
   ]
  },
  {
   "cell_type": "code",
   "execution_count": 14,
   "metadata": {
    "tags": []
   },
   "outputs": [],
   "source": [
    "for x_batch, y_batch in train_seq:\n",
    "    _, d1, d2, d3 = x_batch.shape"
   ]
  },
  {
   "cell_type": "markdown",
   "metadata": {},
   "source": [
    "## Creating Model"
   ]
  },
  {
   "cell_type": "code",
   "execution_count": 15,
   "metadata": {
    "tags": []
   },
   "outputs": [
    {
     "name": "stdout",
     "output_type": "stream",
     "text": [
      "Model: \"model\"\n",
      "_________________________________________________________________\n",
      " Layer (type)                Output Shape              Param #   \n",
      "=================================================================\n",
      " input_1 (InputLayer)        [(None, 4, 600, 3)]       0         \n",
      "                                                                 \n",
      " masking (Masking)           (None, 4, 600, 3)         0         \n",
      "                                                                 \n",
      " separable_conv2d (Separable  (None, 1, 598, 4)        48        \n",
      " Conv2D)                                                         \n",
      "                                                                 \n",
      " batch_normalization (BatchN  (None, 1, 598, 4)        16        \n",
      " ormalization)                                                   \n",
      "                                                                 \n",
      " activation (Activation)     (None, 1, 598, 4)         0         \n",
      "                                                                 \n",
      " reshape (Reshape)           (None, 598, 4)            0         \n",
      "                                                                 \n",
      " separable_conv1d (Separable  (None, 588, 8)           84        \n",
      " Conv1D)                                                         \n",
      "                                                                 \n",
      " separable_conv1d_1 (Separab  (None, 289, 8)           152       \n",
      " leConv1D)                                                       \n",
      "                                                                 \n",
      " batch_normalization_1 (Batc  (None, 289, 8)           32        \n",
      " hNormalization)                                                 \n",
      "                                                                 \n",
      " activation_1 (Activation)   (None, 289, 8)            0         \n",
      "                                                                 \n",
      " separable_conv1d_2 (Separab  (None, 279, 16)          232       \n",
      " leConv1D)                                                       \n",
      "                                                                 \n",
      " separable_conv1d_3 (Separab  (None, 135, 16)          432       \n",
      " leConv1D)                                                       \n",
      "                                                                 \n",
      " batch_normalization_2 (Batc  (None, 135, 16)          64        \n",
      " hNormalization)                                                 \n",
      "                                                                 \n",
      " activation_2 (Activation)   (None, 135, 16)           0         \n",
      "                                                                 \n",
      " separable_conv1d_4 (Separab  (None, 125, 32)          720       \n",
      " leConv1D)                                                       \n",
      "                                                                 \n",
      " separable_conv1d_5 (Separab  (None, 58, 32)           1376      \n",
      " leConv1D)                                                       \n",
      "                                                                 \n",
      " batch_normalization_3 (Batc  (None, 58, 32)           128       \n",
      " hNormalization)                                                 \n",
      "                                                                 \n",
      " activation_3 (Activation)   (None, 58, 32)            0         \n",
      "                                                                 \n",
      " separable_conv1d_6 (Separab  (None, 48, 64)           2400      \n",
      " leConv1D)                                                       \n",
      "                                                                 \n",
      " batch_normalization_4 (Batc  (None, 48, 64)           256       \n",
      " hNormalization)                                                 \n",
      "                                                                 \n",
      " activation_4 (Activation)   (None, 48, 64)            0         \n",
      "                                                                 \n",
      " global_max_pooling1d (Globa  (None, 64)               0         \n",
      " lMaxPooling1D)                                                  \n",
      "                                                                 \n",
      " dense (Dense)               (None, 100)               6400      \n",
      "                                                                 \n",
      " batch_normalization_5 (Batc  (None, 100)              400       \n",
      " hNormalization)                                                 \n",
      "                                                                 \n",
      " activation_5 (Activation)   (None, 100)               0         \n",
      "                                                                 \n",
      " dense_1 (Dense)             (None, 1)                 101       \n",
      "                                                                 \n",
      "=================================================================\n",
      "Total params: 12,841\n",
      "Trainable params: 12,393\n",
      "Non-trainable params: 448\n",
      "_________________________________________________________________\n"
     ]
    }
   ],
   "source": [
    "model = nets.make_conv_classifier_no_batch(codings_size, (d1, d2, d3), exp_filter_1d_size, filter_num=exp_filter_num)\n",
    "model.summary()"
   ]
  },
  {
   "cell_type": "code",
   "execution_count": 12,
   "metadata": {
    "tags": []
   },
   "outputs": [],
   "source": [
    "opt = keras.optimizers.SGD(learning_rate=learning_rate, momentum=momentum, nesterov=is_nesterov) # 0.1\n",
    "model.compile(loss='mse', metrics=['accuracy', nets.crm_specificity, tf.keras.metrics.Recall(), tf.keras.metrics.Precision(), nets.crm_f1_score], optimizer=opt) #  "
   ]
  },
  {
   "cell_type": "code",
   "execution_count": 13,
   "metadata": {
    "tags": []
   },
   "outputs": [],
   "source": [
    "early_stopping = keras.callbacks.EarlyStopping(patience=patience, min_delta=1/100000, restore_best_weights=True, monitor=monitor,mode='max') #start_from_epoch = start_from_epoch #val_precision"
   ]
  },
  {
   "cell_type": "code",
   "execution_count": 14,
   "metadata": {
    "tags": []
   },
   "outputs": [],
   "source": [
    "def exponential_decay_fn(epoch, lr):\n",
    "    '''\n",
    "    This function decreases the learning rate according to the epoch\n",
    "    '''\n",
    "    return lr*0.1**(1/100)\n",
    "\n",
    "lr_scheduler = keras.callbacks.LearningRateScheduler(exponential_decay_fn)"
   ]
  },
  {
   "cell_type": "markdown",
   "metadata": {},
   "source": [
    "## Training Model"
   ]
  },
  {
   "cell_type": "code",
   "execution_count": 15,
   "metadata": {
    "collapsed": true,
    "jupyter": {
     "outputs_hidden": true
    },
    "tags": []
   },
   "outputs": [
    {
     "name": "stdout",
     "output_type": "stream",
     "text": [
      "Epoch 1/500\n",
      "72/72 [==============================] - 38s 491ms/step - loss: 0.2355 - accuracy: 0.6031 - crm_specificity: 0.5928 - recall: 0.6138 - precision: 0.6012 - crm_f1_score: 0.6065 - val_loss: 0.2524 - val_accuracy: 0.4989 - val_crm_specificity: 0.0000e+00 - val_recall: 1.0000 - val_precision: 0.4989 - val_crm_f1_score: 0.6655 - lr: 0.0977\n",
      "Epoch 2/500\n",
      "72/72 [==============================] - 35s 483ms/step - loss: 0.2198 - accuracy: 0.6398 - crm_specificity: 0.6180 - recall: 0.6616 - precision: 0.6340 - crm_f1_score: 0.6471 - val_loss: 0.2766 - val_accuracy: 0.5058 - val_crm_specificity: 0.0156 - val_recall: 0.9983 - val_precision: 0.5023 - val_crm_f1_score: 0.6682 - lr: 0.0955\n",
      "Epoch 3/500\n",
      "72/72 [==============================] - 37s 508ms/step - loss: 0.2168 - accuracy: 0.6467 - crm_specificity: 0.6393 - recall: 0.6543 - precision: 0.6446 - crm_f1_score: 0.6492 - val_loss: 0.2750 - val_accuracy: 0.5165 - val_crm_specificity: 0.0389 - val_recall: 0.9943 - val_precision: 0.5084 - val_crm_f1_score: 0.6727 - lr: 0.0933\n",
      "Epoch 4/500\n",
      "72/72 [==============================] - 37s 507ms/step - loss: 0.2163 - accuracy: 0.6476 - crm_specificity: 0.6389 - recall: 0.6563 - precision: 0.6450 - crm_f1_score: 0.6503 - val_loss: 0.2584 - val_accuracy: 0.5683 - val_crm_specificity: 0.1695 - val_recall: 0.9669 - val_precision: 0.5380 - val_crm_f1_score: 0.6913 - lr: 0.0912\n",
      "Epoch 5/500\n",
      "72/72 [==============================] - 37s 507ms/step - loss: 0.2130 - accuracy: 0.6544 - crm_specificity: 0.6587 - recall: 0.6504 - precision: 0.6556 - crm_f1_score: 0.6526 - val_loss: 0.2215 - val_accuracy: 0.6359 - val_crm_specificity: 0.6972 - val_recall: 0.5750 - val_precision: 0.6560 - val_crm_f1_score: 0.6124 - lr: 0.0891\n",
      "Epoch 6/500\n",
      "72/72 [==============================] - 35s 481ms/step - loss: 0.2123 - accuracy: 0.6540 - crm_specificity: 0.6708 - recall: 0.6377 - precision: 0.6593 - crm_f1_score: 0.6481 - val_loss: 0.2240 - val_accuracy: 0.6161 - val_crm_specificity: 0.3742 - val_recall: 0.8575 - val_precision: 0.5786 - val_crm_f1_score: 0.6910 - lr: 0.0871\n",
      "Epoch 7/500\n",
      "72/72 [==============================] - 37s 508ms/step - loss: 0.2110 - accuracy: 0.6601 - crm_specificity: 0.6615 - recall: 0.6589 - precision: 0.6605 - crm_f1_score: 0.6593 - val_loss: 0.2150 - val_accuracy: 0.6465 - val_crm_specificity: 0.5393 - val_recall: 0.7536 - val_precision: 0.6208 - val_crm_f1_score: 0.6808 - lr: 0.0851\n",
      "Epoch 8/500\n",
      "72/72 [==============================] - 37s 507ms/step - loss: 0.2112 - accuracy: 0.6599 - crm_specificity: 0.6750 - recall: 0.6451 - precision: 0.6647 - crm_f1_score: 0.6546 - val_loss: 0.2167 - val_accuracy: 0.6527 - val_crm_specificity: 0.5365 - val_recall: 0.7694 - val_precision: 0.6236 - val_crm_f1_score: 0.6886 - lr: 0.0832\n",
      "Epoch 9/500\n",
      "72/72 [==============================] - 38s 520ms/step - loss: 0.2089 - accuracy: 0.6636 - crm_specificity: 0.6710 - recall: 0.6563 - precision: 0.6660 - crm_f1_score: 0.6609 - val_loss: 0.2694 - val_accuracy: 0.5893 - val_crm_specificity: 0.2491 - val_recall: 0.9298 - val_precision: 0.5531 - val_crm_f1_score: 0.6935 - lr: 0.0813\n",
      "Epoch 10/500\n",
      "72/72 [==============================] - 37s 505ms/step - loss: 0.2083 - accuracy: 0.6665 - crm_specificity: 0.6771 - recall: 0.6562 - precision: 0.6701 - crm_f1_score: 0.6628 - val_loss: 0.2433 - val_accuracy: 0.6008 - val_crm_specificity: 0.2833 - val_recall: 0.9187 - val_precision: 0.5615 - val_crm_f1_score: 0.6968 - lr: 0.0794\n",
      "Epoch 11/500\n",
      "72/72 [==============================] - 37s 507ms/step - loss: 0.2075 - accuracy: 0.6699 - crm_specificity: 0.6743 - recall: 0.6656 - precision: 0.6713 - crm_f1_score: 0.6682 - val_loss: 0.2239 - val_accuracy: 0.6361 - val_crm_specificity: 0.4287 - val_recall: 0.8442 - val_precision: 0.5956 - val_crm_f1_score: 0.6984 - lr: 0.0776\n",
      "Epoch 12/500\n",
      "72/72 [==============================] - 37s 506ms/step - loss: 0.2070 - accuracy: 0.6689 - crm_specificity: 0.6739 - recall: 0.6641 - precision: 0.6705 - crm_f1_score: 0.6671 - val_loss: 0.2512 - val_accuracy: 0.5908 - val_crm_specificity: 0.9436 - val_recall: 0.2382 - val_precision: 0.8083 - val_crm_f1_score: 0.3678 - lr: 0.0759\n",
      "Epoch 13/500\n",
      "72/72 [==============================] - 35s 480ms/step - loss: 0.2074 - accuracy: 0.6704 - crm_specificity: 0.6762 - recall: 0.6647 - precision: 0.6723 - crm_f1_score: 0.6682 - val_loss: 0.2618 - val_accuracy: 0.5847 - val_crm_specificity: 0.2283 - val_recall: 0.9417 - val_precision: 0.5491 - val_crm_f1_score: 0.6935 - lr: 0.0741\n",
      "Epoch 14/500\n",
      "72/72 [==============================] - 35s 478ms/step - loss: 0.2058 - accuracy: 0.6744 - crm_specificity: 0.6797 - recall: 0.6693 - precision: 0.6762 - crm_f1_score: 0.6724 - val_loss: 0.2258 - val_accuracy: 0.6227 - val_crm_specificity: 0.8721 - val_recall: 0.3743 - val_precision: 0.7461 - val_crm_f1_score: 0.4983 - lr: 0.0724\n",
      "Epoch 15/500\n",
      "72/72 [==============================] - 35s 480ms/step - loss: 0.2045 - accuracy: 0.6752 - crm_specificity: 0.6836 - recall: 0.6672 - precision: 0.6781 - crm_f1_score: 0.6724 - val_loss: 0.2143 - val_accuracy: 0.6559 - val_crm_specificity: 0.5480 - val_recall: 0.7636 - val_precision: 0.6284 - val_crm_f1_score: 0.6893 - lr: 0.0708\n",
      "Epoch 16/500\n",
      "72/72 [==============================] - 37s 508ms/step - loss: 0.2041 - accuracy: 0.6779 - crm_specificity: 0.6783 - recall: 0.6775 - precision: 0.6779 - crm_f1_score: 0.6775 - val_loss: 0.2436 - val_accuracy: 0.6029 - val_crm_specificity: 0.2824 - val_recall: 0.9236 - val_precision: 0.5627 - val_crm_f1_score: 0.6992 - lr: 0.0692\n",
      "Epoch 17/500\n",
      "72/72 [==============================] - 35s 480ms/step - loss: 0.2034 - accuracy: 0.6799 - crm_specificity: 0.6850 - recall: 0.6752 - precision: 0.6816 - crm_f1_score: 0.6782 - val_loss: 0.3624 - val_accuracy: 0.5141 - val_crm_specificity: 0.9975 - val_recall: 0.0325 - val_precision: 0.9294 - val_crm_f1_score: 0.0628 - lr: 0.0676\n",
      "Epoch 18/500\n",
      "72/72 [==============================] - 37s 509ms/step - loss: 0.2041 - accuracy: 0.6786 - crm_specificity: 0.6826 - recall: 0.6750 - precision: 0.6799 - crm_f1_score: 0.6773 - val_loss: 0.2205 - val_accuracy: 0.6464 - val_crm_specificity: 0.8408 - val_recall: 0.4527 - val_precision: 0.7402 - val_crm_f1_score: 0.5614 - lr: 0.0661\n",
      "Epoch 19/500\n",
      "72/72 [==============================] - 35s 484ms/step - loss: 0.2024 - accuracy: 0.6816 - crm_specificity: 0.6880 - recall: 0.6753 - precision: 0.6838 - crm_f1_score: 0.6792 - val_loss: 0.2154 - val_accuracy: 0.6611 - val_crm_specificity: 0.5524 - val_recall: 0.7696 - val_precision: 0.6325 - val_crm_f1_score: 0.6943 - lr: 0.0646\n",
      "Epoch 20/500\n",
      "72/72 [==============================] - 37s 508ms/step - loss: 0.1998 - accuracy: 0.6866 - crm_specificity: 0.6893 - recall: 0.6840 - precision: 0.6877 - crm_f1_score: 0.6858 - val_loss: 0.2539 - val_accuracy: 0.6150 - val_crm_specificity: 0.3279 - val_recall: 0.9025 - val_precision: 0.5728 - val_crm_f1_score: 0.7007 - lr: 0.0631\n",
      "Epoch 21/500\n",
      "72/72 [==============================] - 39s 530ms/step - loss: 0.1999 - accuracy: 0.6887 - crm_specificity: 0.6913 - recall: 0.6863 - precision: 0.6896 - crm_f1_score: 0.6878 - val_loss: 0.2251 - val_accuracy: 0.6446 - val_crm_specificity: 0.5051 - val_recall: 0.7844 - val_precision: 0.6129 - val_crm_f1_score: 0.6880 - lr: 0.0617\n",
      "Epoch 22/500\n",
      "72/72 [==============================] - 35s 483ms/step - loss: 0.2005 - accuracy: 0.6879 - crm_specificity: 0.6904 - recall: 0.6856 - precision: 0.6886 - crm_f1_score: 0.6870 - val_loss: 0.4462 - val_accuracy: 0.5093 - val_crm_specificity: 0.9982 - val_recall: 0.0190 - val_precision: 0.9125 - val_crm_f1_score: 0.0373 - lr: 0.0603\n",
      "Epoch 23/500\n",
      "72/72 [==============================] - 35s 479ms/step - loss: 0.2000 - accuracy: 0.6884 - crm_specificity: 0.6915 - recall: 0.6854 - precision: 0.6895 - crm_f1_score: 0.6872 - val_loss: 0.4831 - val_accuracy: 0.5022 - val_crm_specificity: 0.9999 - val_recall: 5.2294e-04 - val_precision: 0.8000 - val_crm_f1_score: 0.0010 - lr: 0.0589\n",
      "Epoch 24/500\n",
      "72/72 [==============================] - 37s 508ms/step - loss: 0.2009 - accuracy: 0.6878 - crm_specificity: 0.6902 - recall: 0.6856 - precision: 0.6885 - crm_f1_score: 0.6868 - val_loss: 0.4866 - val_accuracy: 0.4986 - val_crm_specificity: 1.0000 - val_recall: 0.0000e+00 - val_precision: 0.0000e+00 - val_crm_f1_score: 0.0000e+00 - lr: 0.0575\n",
      "Epoch 25/500\n",
      "72/72 [==============================] - 37s 509ms/step - loss: 0.1987 - accuracy: 0.6906 - crm_specificity: 0.6886 - recall: 0.6925 - precision: 0.6899 - crm_f1_score: 0.6911 - val_loss: 0.3215 - val_accuracy: 0.5448 - val_crm_specificity: 0.9820 - val_recall: 0.1067 - val_precision: 0.8558 - val_crm_f1_score: 0.1893 - lr: 0.0562\n",
      "Epoch 26/500\n",
      "72/72 [==============================] - 37s 509ms/step - loss: 0.1985 - accuracy: 0.6918 - crm_specificity: 0.6949 - recall: 0.6889 - precision: 0.6930 - crm_f1_score: 0.6908 - val_loss: 0.2254 - val_accuracy: 0.6575 - val_crm_specificity: 0.6108 - val_recall: 0.7043 - val_precision: 0.6433 - val_crm_f1_score: 0.6724 - lr: 0.0550\n",
      "Epoch 27/500\n",
      "72/72 [==============================] - 37s 506ms/step - loss: 0.1976 - accuracy: 0.6945 - crm_specificity: 0.6936 - recall: 0.6955 - precision: 0.6942 - crm_f1_score: 0.6948 - val_loss: 0.3223 - val_accuracy: 0.5201 - val_crm_specificity: 0.9906 - val_recall: 0.0510 - val_precision: 0.8448 - val_crm_f1_score: 0.0961 - lr: 0.0537\n",
      "Epoch 28/500\n",
      "72/72 [==============================] - 37s 507ms/step - loss: 0.1969 - accuracy: 0.6965 - crm_specificity: 0.6993 - recall: 0.6938 - precision: 0.6976 - crm_f1_score: 0.6954 - val_loss: 0.2508 - val_accuracy: 0.6425 - val_crm_specificity: 0.6055 - val_recall: 0.6799 - val_precision: 0.6313 - val_crm_f1_score: 0.6545 - lr: 0.0525\n",
      "Epoch 29/500\n",
      "72/72 [==============================] - 37s 509ms/step - loss: 0.1971 - accuracy: 0.6940 - crm_specificity: 0.6971 - recall: 0.6911 - precision: 0.6952 - crm_f1_score: 0.6930 - val_loss: 0.2411 - val_accuracy: 0.6035 - val_crm_specificity: 0.9296 - val_recall: 0.2774 - val_precision: 0.7975 - val_crm_f1_score: 0.4112 - lr: 0.0513\n",
      "Epoch 30/500\n",
      "72/72 [==============================] - 37s 511ms/step - loss: 0.1958 - accuracy: 0.6973 - crm_specificity: 0.6962 - recall: 0.6984 - precision: 0.6969 - crm_f1_score: 0.6975 - val_loss: 0.3684 - val_accuracy: 0.5098 - val_crm_specificity: 0.9833 - val_recall: 0.0351 - val_precision: 0.6776 - val_crm_f1_score: 0.0665 - lr: 0.0501\n",
      "Epoch 31/500\n",
      "72/72 [==============================] - 37s 507ms/step - loss: 0.1960 - accuracy: 0.6975 - crm_specificity: 0.7030 - recall: 0.6922 - precision: 0.6997 - crm_f1_score: 0.6958 - val_loss: 0.2175 - val_accuracy: 0.6577 - val_crm_specificity: 0.4697 - val_recall: 0.8451 - val_precision: 0.6153 - val_crm_f1_score: 0.7119 - lr: 0.0490\n",
      "Epoch 32/500\n",
      "72/72 [==============================] - 35s 479ms/step - loss: 0.1952 - accuracy: 0.6998 - crm_specificity: 0.6961 - recall: 0.7038 - precision: 0.6983 - crm_f1_score: 0.7009 - val_loss: 0.3285 - val_accuracy: 0.5207 - val_crm_specificity: 0.9502 - val_recall: 0.0923 - val_precision: 0.6508 - val_crm_f1_score: 0.1617 - lr: 0.0479\n",
      "Epoch 33/500\n",
      "72/72 [==============================] - 35s 483ms/step - loss: 0.1949 - accuracy: 0.6972 - crm_specificity: 0.7002 - recall: 0.6943 - precision: 0.6984 - crm_f1_score: 0.6962 - val_loss: 0.2567 - val_accuracy: 0.6065 - val_crm_specificity: 0.2838 - val_recall: 0.9290 - val_precision: 0.5649 - val_crm_f1_score: 0.7024 - lr: 0.0468\n",
      "Epoch 34/500\n",
      "72/72 [==============================] - 35s 480ms/step - loss: 0.1959 - accuracy: 0.6967 - crm_specificity: 0.7013 - recall: 0.6923 - precision: 0.6985 - crm_f1_score: 0.6953 - val_loss: 0.3119 - val_accuracy: 0.5296 - val_crm_specificity: 0.9693 - val_recall: 0.0900 - val_precision: 0.7454 - val_crm_f1_score: 0.1603 - lr: 0.0457\n",
      "Epoch 35/500\n",
      "72/72 [==============================] - 37s 507ms/step - loss: 0.1936 - accuracy: 0.7026 - crm_specificity: 0.7064 - recall: 0.6993 - precision: 0.7039 - crm_f1_score: 0.7014 - val_loss: 0.2167 - val_accuracy: 0.6538 - val_crm_specificity: 0.8562 - val_recall: 0.4510 - val_precision: 0.7579 - val_crm_f1_score: 0.5654 - lr: 0.0447\n",
      "Epoch 36/500\n",
      "72/72 [==============================] - 35s 483ms/step - loss: 0.1936 - accuracy: 0.7018 - crm_specificity: 0.7038 - recall: 0.7001 - precision: 0.7024 - crm_f1_score: 0.7011 - val_loss: 0.2307 - val_accuracy: 0.6243 - val_crm_specificity: 0.3484 - val_recall: 0.8999 - val_precision: 0.5803 - val_crm_f1_score: 0.7056 - lr: 0.0437\n",
      "Epoch 37/500\n",
      "72/72 [==============================] - 35s 479ms/step - loss: 0.1923 - accuracy: 0.7053 - crm_specificity: 0.7077 - recall: 0.7030 - precision: 0.7063 - crm_f1_score: 0.7045 - val_loss: 0.3318 - val_accuracy: 0.5308 - val_crm_specificity: 0.9916 - val_recall: 0.0699 - val_precision: 0.8935 - val_crm_f1_score: 0.1295 - lr: 0.0427\n",
      "Epoch 38/500\n",
      "72/72 [==============================] - 37s 508ms/step - loss: 0.1932 - accuracy: 0.7037 - crm_specificity: 0.7041 - recall: 0.7035 - precision: 0.7038 - crm_f1_score: 0.7035 - val_loss: 0.3528 - val_accuracy: 0.5329 - val_crm_specificity: 0.0707 - val_recall: 0.9938 - val_precision: 0.5175 - val_crm_f1_score: 0.6805 - lr: 0.0417\n",
      "Epoch 39/500\n",
      "72/72 [==============================] - 37s 508ms/step - loss: 0.1934 - accuracy: 0.7037 - crm_specificity: 0.7085 - recall: 0.6992 - precision: 0.7055 - crm_f1_score: 0.7022 - val_loss: 0.3002 - val_accuracy: 0.5565 - val_crm_specificity: 0.1302 - val_recall: 0.9832 - val_precision: 0.5303 - val_crm_f1_score: 0.6888 - lr: 0.0407\n",
      "Epoch 40/500\n",
      "72/72 [==============================] - 35s 481ms/step - loss: 0.1912 - accuracy: 0.7065 - crm_specificity: 0.7085 - recall: 0.7047 - precision: 0.7073 - crm_f1_score: 0.7058 - val_loss: 0.2823 - val_accuracy: 0.5645 - val_crm_specificity: 0.9714 - val_recall: 0.1584 - val_precision: 0.8470 - val_crm_f1_score: 0.2668 - lr: 0.0398\n",
      "Epoch 41/500\n",
      "72/72 [==============================] - 35s 486ms/step - loss: 0.1919 - accuracy: 0.7054 - crm_specificity: 0.7045 - recall: 0.7066 - precision: 0.7050 - crm_f1_score: 0.7057 - val_loss: 0.2029 - val_accuracy: 0.6861 - val_crm_specificity: 0.7672 - val_recall: 0.6049 - val_precision: 0.7216 - val_crm_f1_score: 0.6579 - lr: 0.0389\n",
      "Epoch 42/500\n",
      "72/72 [==============================] - 37s 506ms/step - loss: 0.1913 - accuracy: 0.7067 - crm_specificity: 0.7089 - recall: 0.7048 - precision: 0.7073 - crm_f1_score: 0.7059 - val_loss: 0.2841 - val_accuracy: 0.5710 - val_crm_specificity: 0.1823 - val_recall: 0.9593 - val_precision: 0.5401 - val_crm_f1_score: 0.6909 - lr: 0.0380\n",
      "Epoch 43/500\n",
      "72/72 [==============================] - 35s 485ms/step - loss: 0.1915 - accuracy: 0.7062 - crm_specificity: 0.7093 - recall: 0.7032 - precision: 0.7075 - crm_f1_score: 0.7052 - val_loss: 0.2080 - val_accuracy: 0.6717 - val_crm_specificity: 0.5139 - val_recall: 0.8290 - val_precision: 0.6310 - val_crm_f1_score: 0.7163 - lr: 0.0372\n",
      "Epoch 44/500\n",
      "72/72 [==============================] - 37s 508ms/step - loss: 0.1907 - accuracy: 0.7076 - crm_specificity: 0.7120 - recall: 0.7032 - precision: 0.7093 - crm_f1_score: 0.7061 - val_loss: 0.2825 - val_accuracy: 0.5716 - val_crm_specificity: 0.1681 - val_recall: 0.9740 - val_precision: 0.5400 - val_crm_f1_score: 0.6946 - lr: 0.0363\n",
      "Epoch 45/500\n",
      "72/72 [==============================] - 35s 486ms/step - loss: 0.1909 - accuracy: 0.7086 - crm_specificity: 0.7068 - recall: 0.7106 - precision: 0.7078 - crm_f1_score: 0.7090 - val_loss: 0.3389 - val_accuracy: 0.5194 - val_crm_specificity: 0.0445 - val_recall: 0.9953 - val_precision: 0.5097 - val_crm_f1_score: 0.6740 - lr: 0.0355\n",
      "Epoch 46/500\n",
      "72/72 [==============================] - 35s 480ms/step - loss: 0.1905 - accuracy: 0.7079 - crm_specificity: 0.7096 - recall: 0.7065 - precision: 0.7084 - crm_f1_score: 0.7073 - val_loss: 0.3254 - val_accuracy: 0.5154 - val_crm_specificity: 0.0335 - val_recall: 0.9964 - val_precision: 0.5081 - val_crm_f1_score: 0.6729 - lr: 0.0347\n",
      "Epoch 47/500\n",
      "72/72 [==============================] - 35s 479ms/step - loss: 0.1897 - accuracy: 0.7113 - crm_specificity: 0.7093 - recall: 0.7135 - precision: 0.7103 - crm_f1_score: 0.7118 - val_loss: 0.3196 - val_accuracy: 0.5321 - val_crm_specificity: 0.9380 - val_recall: 0.1270 - val_precision: 0.6722 - val_crm_f1_score: 0.2135 - lr: 0.0339\n",
      "Epoch 48/500\n",
      "72/72 [==============================] - 35s 479ms/step - loss: 0.1895 - accuracy: 0.7110 - crm_specificity: 0.7116 - recall: 0.7107 - precision: 0.7111 - crm_f1_score: 0.7108 - val_loss: 0.1996 - val_accuracy: 0.6884 - val_crm_specificity: 0.6347 - val_recall: 0.7417 - val_precision: 0.6713 - val_crm_f1_score: 0.7046 - lr: 0.0331\n",
      "Epoch 49/500\n",
      "72/72 [==============================] - 35s 483ms/step - loss: 0.1880 - accuracy: 0.7149 - crm_specificity: 0.7129 - recall: 0.7172 - precision: 0.7139 - crm_f1_score: 0.7154 - val_loss: 0.2352 - val_accuracy: 0.6121 - val_crm_specificity: 0.2918 - val_recall: 0.9335 - val_precision: 0.5678 - val_crm_f1_score: 0.7061 - lr: 0.0324\n",
      "Epoch 50/500\n",
      "72/72 [==============================] - 35s 482ms/step - loss: 0.1888 - accuracy: 0.7129 - crm_specificity: 0.7104 - recall: 0.7155 - precision: 0.7118 - crm_f1_score: 0.7135 - val_loss: 0.2158 - val_accuracy: 0.6592 - val_crm_specificity: 0.6984 - val_recall: 0.6205 - val_precision: 0.6743 - val_crm_f1_score: 0.6461 - lr: 0.0316\n",
      "Epoch 51/500\n",
      "72/72 [==============================] - 37s 508ms/step - loss: 0.1886 - accuracy: 0.7132 - crm_specificity: 0.7142 - recall: 0.7125 - precision: 0.7136 - crm_f1_score: 0.7129 - val_loss: 0.1992 - val_accuracy: 0.6984 - val_crm_specificity: 0.6836 - val_recall: 0.7134 - val_precision: 0.6925 - val_crm_f1_score: 0.7028 - lr: 0.0309\n",
      "Epoch 52/500\n",
      "72/72 [==============================] - 37s 507ms/step - loss: 0.1862 - accuracy: 0.7193 - crm_specificity: 0.7176 - recall: 0.7211 - precision: 0.7186 - crm_f1_score: 0.7198 - val_loss: 0.2103 - val_accuracy: 0.6664 - val_crm_specificity: 0.4654 - val_recall: 0.8677 - val_precision: 0.6186 - val_crm_f1_score: 0.7222 - lr: 0.0302\n",
      "Epoch 53/500\n",
      "72/72 [==============================] - 35s 483ms/step - loss: 0.1862 - accuracy: 0.7183 - crm_specificity: 0.7154 - recall: 0.7215 - precision: 0.7168 - crm_f1_score: 0.7190 - val_loss: 0.2139 - val_accuracy: 0.6605 - val_crm_specificity: 0.7764 - val_recall: 0.5446 - val_precision: 0.7084 - val_crm_f1_score: 0.6152 - lr: 0.0295\n",
      "Epoch 54/500\n",
      "72/72 [==============================] - 35s 480ms/step - loss: 0.1869 - accuracy: 0.7169 - crm_specificity: 0.7147 - recall: 0.7191 - precision: 0.7160 - crm_f1_score: 0.7175 - val_loss: 0.3041 - val_accuracy: 0.5641 - val_crm_specificity: 0.9445 - val_recall: 0.1830 - val_precision: 0.7668 - val_crm_f1_score: 0.2951 - lr: 0.0288\n",
      "Epoch 55/500\n",
      "72/72 [==============================] - 37s 507ms/step - loss: 0.1864 - accuracy: 0.7185 - crm_specificity: 0.7174 - recall: 0.7200 - precision: 0.7179 - crm_f1_score: 0.7189 - val_loss: 0.2811 - val_accuracy: 0.5858 - val_crm_specificity: 0.9635 - val_recall: 0.2081 - val_precision: 0.8509 - val_crm_f1_score: 0.3342 - lr: 0.0282\n",
      "Epoch 56/500\n",
      "72/72 [==============================] - 37s 509ms/step - loss: 0.1856 - accuracy: 0.7190 - crm_specificity: 0.7164 - recall: 0.7217 - precision: 0.7179 - crm_f1_score: 0.7197 - val_loss: 0.2077 - val_accuracy: 0.6881 - val_crm_specificity: 0.6359 - val_recall: 0.7403 - val_precision: 0.6700 - val_crm_f1_score: 0.7034 - lr: 0.0275\n",
      "Epoch 57/500\n",
      "72/72 [==============================] - 35s 478ms/step - loss: 0.1845 - accuracy: 0.7232 - crm_specificity: 0.7227 - recall: 0.7238 - precision: 0.7229 - crm_f1_score: 0.7233 - val_loss: 0.2226 - val_accuracy: 0.6556 - val_crm_specificity: 0.7445 - val_recall: 0.5667 - val_precision: 0.6895 - val_crm_f1_score: 0.6218 - lr: 0.0269\n",
      "Epoch 58/500\n",
      "72/72 [==============================] - 35s 480ms/step - loss: 0.1858 - accuracy: 0.7197 - crm_specificity: 0.7195 - recall: 0.7202 - precision: 0.7194 - crm_f1_score: 0.7197 - val_loss: 0.2188 - val_accuracy: 0.6592 - val_crm_specificity: 0.4164 - val_recall: 0.9017 - val_precision: 0.6074 - val_crm_f1_score: 0.7257 - lr: 0.0263\n",
      "Epoch 59/500\n",
      "72/72 [==============================] - 37s 508ms/step - loss: 0.1834 - accuracy: 0.7236 - crm_specificity: 0.7171 - recall: 0.7304 - precision: 0.7206 - crm_f1_score: 0.7254 - val_loss: 0.2366 - val_accuracy: 0.6205 - val_crm_specificity: 0.8260 - val_recall: 0.4136 - val_precision: 0.7026 - val_crm_f1_score: 0.5205 - lr: 0.0257\n",
      "Epoch 60/500\n",
      "72/72 [==============================] - 35s 487ms/step - loss: 0.1842 - accuracy: 0.7235 - crm_specificity: 0.7215 - recall: 0.7258 - precision: 0.7225 - crm_f1_score: 0.7240 - val_loss: 0.2434 - val_accuracy: 0.6060 - val_crm_specificity: 0.9448 - val_recall: 0.2676 - val_precision: 0.8290 - val_crm_f1_score: 0.4044 - lr: 0.0251\n",
      "Epoch 61/500\n",
      "72/72 [==============================] - 35s 482ms/step - loss: 0.1835 - accuracy: 0.7238 - crm_specificity: 0.7224 - recall: 0.7254 - precision: 0.7232 - crm_f1_score: 0.7242 - val_loss: 0.2977 - val_accuracy: 0.5526 - val_crm_specificity: 0.9753 - val_recall: 0.1280 - val_precision: 0.8377 - val_crm_f1_score: 0.2219 - lr: 0.0245\n",
      "Epoch 62/500\n",
      "72/72 [==============================] - 35s 481ms/step - loss: 0.1834 - accuracy: 0.7257 - crm_specificity: 0.7233 - recall: 0.7281 - precision: 0.7245 - crm_f1_score: 0.7262 - val_loss: 0.2036 - val_accuracy: 0.6822 - val_crm_specificity: 0.7622 - val_recall: 0.6024 - val_precision: 0.7172 - val_crm_f1_score: 0.6548 - lr: 0.0240\n",
      "Epoch 63/500\n",
      "72/72 [==============================] - 35s 481ms/step - loss: 0.1826 - accuracy: 0.7261 - crm_specificity: 0.7253 - recall: 0.7271 - precision: 0.7257 - crm_f1_score: 0.7263 - val_loss: 0.2194 - val_accuracy: 0.6514 - val_crm_specificity: 0.7708 - val_recall: 0.5322 - val_precision: 0.6987 - val_crm_f1_score: 0.6041 - lr: 0.0234\n",
      "Epoch 64/500\n",
      "72/72 [==============================] - 37s 507ms/step - loss: 0.1818 - accuracy: 0.7288 - crm_specificity: 0.7225 - recall: 0.7354 - precision: 0.7259 - crm_f1_score: 0.7305 - val_loss: 0.3068 - val_accuracy: 0.5572 - val_crm_specificity: 0.1290 - val_recall: 0.9876 - val_precision: 0.5301 - val_crm_f1_score: 0.6896 - lr: 0.0229\n",
      "Epoch 65/500\n",
      "72/72 [==============================] - 37s 511ms/step - loss: 0.1830 - accuracy: 0.7248 - crm_specificity: 0.7167 - recall: 0.7331 - precision: 0.7211 - crm_f1_score: 0.7269 - val_loss: 0.2011 - val_accuracy: 0.6914 - val_crm_specificity: 0.7694 - val_recall: 0.6135 - val_precision: 0.7269 - val_crm_f1_score: 0.6650 - lr: 0.0224\n",
      "Epoch 66/500\n",
      "72/72 [==============================] - 37s 508ms/step - loss: 0.1831 - accuracy: 0.7258 - crm_specificity: 0.7245 - recall: 0.7271 - precision: 0.7251 - crm_f1_score: 0.7261 - val_loss: 0.2463 - val_accuracy: 0.6290 - val_crm_specificity: 0.3148 - val_recall: 0.9436 - val_precision: 0.5791 - val_crm_f1_score: 0.7175 - lr: 0.0219\n",
      "Epoch 67/500\n",
      "72/72 [==============================] - 35s 479ms/step - loss: 0.1826 - accuracy: 0.7267 - crm_specificity: 0.7201 - recall: 0.7335 - precision: 0.7236 - crm_f1_score: 0.7285 - val_loss: 0.3166 - val_accuracy: 0.5267 - val_crm_specificity: 0.9876 - val_recall: 0.0666 - val_precision: 0.8435 - val_crm_f1_score: 0.1232 - lr: 0.0214\n",
      "Epoch 68/500\n",
      "72/72 [==============================] - 35s 485ms/step - loss: 0.1821 - accuracy: 0.7276 - crm_specificity: 0.7240 - recall: 0.7313 - precision: 0.7258 - crm_f1_score: 0.7285 - val_loss: 0.2230 - val_accuracy: 0.6478 - val_crm_specificity: 0.8019 - val_recall: 0.4940 - val_precision: 0.7140 - val_crm_f1_score: 0.5838 - lr: 0.0209\n",
      "Epoch 69/500\n",
      "72/72 [==============================] - 37s 513ms/step - loss: 0.1807 - accuracy: 0.7307 - crm_specificity: 0.7276 - recall: 0.7341 - precision: 0.7292 - crm_f1_score: 0.7314 - val_loss: 0.2152 - val_accuracy: 0.6607 - val_crm_specificity: 0.8474 - val_recall: 0.4734 - val_precision: 0.7554 - val_crm_f1_score: 0.5818 - lr: 0.0204\n",
      "Epoch 70/500\n",
      "72/72 [==============================] - 37s 504ms/step - loss: 0.1801 - accuracy: 0.7321 - crm_specificity: 0.7265 - recall: 0.7379 - precision: 0.7295 - crm_f1_score: 0.7335 - val_loss: 0.2826 - val_accuracy: 0.5829 - val_crm_specificity: 0.1953 - val_recall: 0.9707 - val_precision: 0.5466 - val_crm_f1_score: 0.6993 - lr: 0.0200\n",
      "Epoch 71/500\n",
      "72/72 [==============================] - 35s 482ms/step - loss: 0.1813 - accuracy: 0.7294 - crm_specificity: 0.7209 - recall: 0.7382 - precision: 0.7255 - crm_f1_score: 0.7317 - val_loss: 0.2456 - val_accuracy: 0.6098 - val_crm_specificity: 0.9264 - val_recall: 0.2933 - val_precision: 0.7991 - val_crm_f1_score: 0.4290 - lr: 0.0195\n",
      "Epoch 72/500\n",
      "72/72 [==============================] - 35s 486ms/step - loss: 0.1801 - accuracy: 0.7304 - crm_specificity: 0.7260 - recall: 0.7350 - precision: 0.7282 - crm_f1_score: 0.7315 - val_loss: 0.2106 - val_accuracy: 0.6774 - val_crm_specificity: 0.6593 - val_recall: 0.6956 - val_precision: 0.6715 - val_crm_f1_score: 0.6832 - lr: 0.0191\n",
      "Epoch 73/500\n",
      "72/72 [==============================] - 35s 483ms/step - loss: 0.1801 - accuracy: 0.7321 - crm_specificity: 0.7284 - recall: 0.7361 - precision: 0.7303 - crm_f1_score: 0.7331 - val_loss: 0.3450 - val_accuracy: 0.5553 - val_crm_specificity: 0.1262 - val_recall: 0.9853 - val_precision: 0.5295 - val_crm_f1_score: 0.6887 - lr: 0.0186\n",
      "Epoch 74/500\n",
      "72/72 [==============================] - 35s 480ms/step - loss: 0.1806 - accuracy: 0.7303 - crm_specificity: 0.7195 - recall: 0.7413 - precision: 0.7253 - crm_f1_score: 0.7332 - val_loss: 0.3106 - val_accuracy: 0.5479 - val_crm_specificity: 0.9843 - val_recall: 0.1121 - val_precision: 0.8768 - val_crm_f1_score: 0.1986 - lr: 0.0182\n",
      "Epoch 75/500\n",
      "72/72 [==============================] - 37s 508ms/step - loss: 0.1782 - accuracy: 0.7353 - crm_specificity: 0.7281 - recall: 0.7426 - precision: 0.7320 - crm_f1_score: 0.7371 - val_loss: 0.2200 - val_accuracy: 0.6550 - val_crm_specificity: 0.9168 - val_recall: 0.3927 - val_precision: 0.8253 - val_crm_f1_score: 0.5322 - lr: 0.0178\n",
      "Epoch 76/500\n",
      "72/72 [==============================] - 35s 480ms/step - loss: 0.1801 - accuracy: 0.7304 - crm_specificity: 0.7253 - recall: 0.7357 - precision: 0.7281 - crm_f1_score: 0.7318 - val_loss: 0.2056 - val_accuracy: 0.6839 - val_crm_specificity: 0.5306 - val_recall: 0.8375 - val_precision: 0.6401 - val_crm_f1_score: 0.7254 - lr: 0.0174\n",
      "Epoch 77/500\n",
      "72/72 [==============================] - 37s 507ms/step - loss: 0.1804 - accuracy: 0.7310 - crm_specificity: 0.7231 - recall: 0.7392 - precision: 0.7273 - crm_f1_score: 0.7331 - val_loss: 0.3617 - val_accuracy: 0.5426 - val_crm_specificity: 0.9890 - val_recall: 0.0962 - val_precision: 0.8979 - val_crm_f1_score: 0.1737 - lr: 0.0170\n",
      "Epoch 78/500\n",
      "72/72 [==============================] - 37s 508ms/step - loss: 0.1794 - accuracy: 0.7324 - crm_specificity: 0.7248 - recall: 0.7402 - precision: 0.7288 - crm_f1_score: 0.7343 - val_loss: 0.2789 - val_accuracy: 0.5867 - val_crm_specificity: 0.2054 - val_recall: 0.9686 - val_precision: 0.5489 - val_crm_f1_score: 0.7006 - lr: 0.0166\n"
     ]
    },
    {
     "data": {
      "text/plain": [
       "<keras.callbacks.History at 0x7f6f14f4ddf0>"
      ]
     },
     "execution_count": 15,
     "metadata": {},
     "output_type": "execute_result"
    }
   ],
   "source": [
    "model.fit(train_seq, epochs=500, validation_data=valid_seq, workers=26, callbacks=[early_stopping, lr_scheduler])"
   ]
  },
  {
   "cell_type": "code",
   "execution_count": 16,
   "metadata": {
    "tags": []
   },
   "outputs": [],
   "source": [
    "# model.save(\"CAM_Model3\")"
   ]
  },
  {
   "cell_type": "markdown",
   "metadata": {},
   "source": [
    "## Evaluating Model"
   ]
  },
  {
   "cell_type": "code",
   "execution_count": 17,
   "metadata": {
    "tags": []
   },
   "outputs": [],
   "source": [
    "# model = keras.models.load_model(\"ExperimentAllTripletModel\", custom_objects = {\"crm_specificity\": nets.crm_specificity, \"crm_f1_score\": nets.crm_f1_score})"
   ]
  },
  {
   "cell_type": "code",
   "execution_count": 18,
   "metadata": {
    "tags": []
   },
   "outputs": [],
   "source": [
    "# nets.print_results(train_seq, model)"
   ]
  },
  {
   "cell_type": "code",
   "execution_count": 19,
   "metadata": {
    "tags": []
   },
   "outputs": [],
   "source": [
    "# nets.print_results(valid_seq, model)"
   ]
  },
  {
   "cell_type": "code",
   "execution_count": 20,
   "metadata": {
    "tags": []
   },
   "outputs": [],
   "source": [
    "# nets.print_results(test_seq, model)"
   ]
  },
  {
   "cell_type": "code",
   "execution_count": 46,
   "metadata": {
    "tags": []
   },
   "outputs": [],
   "source": [
    "# Reload model\n",
    "model = keras.models.load_model(\"CAM_Model3\", custom_objects = {\"crm_specificity\": nets.crm_specificity, \"crm_f1_score\": nets.crm_f1_score})"
   ]
  },
  {
   "cell_type": "code",
   "execution_count": 47,
   "metadata": {
    "tags": []
   },
   "outputs": [],
   "source": [
    "# Credit: \"Deep Learning with Python by Francois Chollet, Chapter 9, Page 273\"\n",
    "\n",
    "last_conv_layer_name = \"activation_4\"\n",
    "classifier_layer_names = [\n",
    "    \"global_max_pooling1d\",\n",
    "    \"dense\",\n",
    "    \"batch_normalization_5\",\n",
    "    \"activation_5\",\n",
    "    \"dense_1\"\n",
    "]\n",
    "\n",
    "last_conv_layer = model.get_layer(last_conv_layer_name)\n",
    "last_conv_layer_model = keras.Model(model.inputs, last_conv_layer.output)"
   ]
  },
  {
   "cell_type": "code",
   "execution_count": 48,
   "metadata": {
    "tags": []
   },
   "outputs": [
    {
     "data": {
      "text/plain": [
       "TensorShape([None, 48, 64])"
      ]
     },
     "execution_count": 48,
     "metadata": {},
     "output_type": "execute_result"
    }
   ],
   "source": [
    "last_conv_layer.output.shape"
   ]
  },
  {
   "cell_type": "code",
   "execution_count": 49,
   "metadata": {
    "tags": []
   },
   "outputs": [],
   "source": [
    "classifier_input = keras.Input(shape=last_conv_layer.output.shape[1:])\n",
    "x = classifier_input\n",
    "for layer_name in classifier_layer_names:\n",
    "    x = model.get_layer(layer_name)(x)\n",
    "classifier_model = keras.Model(classifier_input, x)"
   ]
  },
  {
   "cell_type": "code",
   "execution_count": 50,
   "metadata": {
    "tags": []
   },
   "outputs": [
    {
     "name": "stdout",
     "output_type": "stream",
     "text": [
      "(1024, 4, 600, 3)\n"
     ]
    }
   ],
   "source": [
    "for x_batch, y_batch in train_seq:\n",
    "    _, d1, d2, d3 = x_batch.shape\n",
    "    print(x_batch.shape)\n",
    "    break"
   ]
  },
  {
   "cell_type": "markdown",
   "metadata": {},
   "source": [
    "### Experiment with different triplets"
   ]
  },
  {
   "cell_type": "code",
   "execution_count": 51,
   "metadata": {
    "tags": []
   },
   "outputs": [],
   "source": [
    "index = 80"
   ]
  },
  {
   "cell_type": "code",
   "execution_count": 52,
   "metadata": {
    "tags": []
   },
   "outputs": [],
   "source": [
    "sequence = np.expand_dims(x_batch[index], axis = 0)"
   ]
  },
  {
   "cell_type": "code",
   "execution_count": 53,
   "metadata": {
    "tags": []
   },
   "outputs": [
    {
     "data": {
      "text/plain": [
       "array([0.])"
      ]
     },
     "execution_count": 53,
     "metadata": {},
     "output_type": "execute_result"
    }
   ],
   "source": [
    "y_batch[index]"
   ]
  },
  {
   "cell_type": "code",
   "execution_count": 54,
   "metadata": {
    "tags": []
   },
   "outputs": [
    {
     "name": "stdout",
     "output_type": "stream",
     "text": [
      "(1, 4, 600, 3)\n"
     ]
    }
   ],
   "source": [
    "print(sequence.shape)"
   ]
  },
  {
   "cell_type": "code",
   "execution_count": 55,
   "metadata": {
    "tags": []
   },
   "outputs": [
    {
     "name": "stdout",
     "output_type": "stream",
     "text": [
      " Prediction: [0.5499542]\n"
     ]
    }
   ],
   "source": [
    "# Send sequence to model and watch last convolutional layer output\n",
    "\n",
    "with tf.GradientTape() as tape:\n",
    "    last_conv_layer_output = last_conv_layer_model(sequence)\n",
    "    tape.watch(last_conv_layer_output)\n",
    "    preds = classifier_model(last_conv_layer_output)\n",
    "    print(\" Prediction:\", preds[0].numpy())\n",
    "    # top_pred_index = tf.argmax(preds[0])\n",
    "    # top_class_channel = preds[:, top_pred_index]\n",
    "\n",
    "grads = tape.gradient(preds, last_conv_layer_output)"
   ]
  },
  {
   "cell_type": "code",
   "execution_count": 56,
   "metadata": {
    "tags": []
   },
   "outputs": [
    {
     "name": "stdout",
     "output_type": "stream",
     "text": [
      "(1, 48, 64)\n"
     ]
    }
   ],
   "source": [
    "print(grads.shape)"
   ]
  },
  {
   "cell_type": "code",
   "execution_count": 57,
   "metadata": {
    "tags": []
   },
   "outputs": [],
   "source": [
    "# Can only be run once; otherwise will ruin the correct predictions\n",
    "\n",
    "pooled_grads = tf.reduce_mean(grads, axis=(0, 1)).numpy()\n"
   ]
  },
  {
   "cell_type": "code",
   "execution_count": 58,
   "metadata": {
    "tags": []
   },
   "outputs": [
    {
     "name": "stdout",
     "output_type": "stream",
     "text": [
      "-0.0030552943 0.0029673476\n"
     ]
    }
   ],
   "source": [
    "print(pooled_grads.min(), pooled_grads.max())"
   ]
  },
  {
   "cell_type": "code",
   "execution_count": 59,
   "metadata": {
    "tags": []
   },
   "outputs": [],
   "source": [
    "scaled_grads = (pooled_grads - pooled_grads.min()) / (pooled_grads.max() - pooled_grads.min())"
   ]
  },
  {
   "cell_type": "code",
   "execution_count": 60,
   "metadata": {
    "tags": []
   },
   "outputs": [
    {
     "name": "stdout",
     "output_type": "stream",
     "text": [
      "0.0 1.0\n"
     ]
    }
   ],
   "source": [
    "print(scaled_grads.min(), scaled_grads.max())"
   ]
  },
  {
   "cell_type": "code",
   "execution_count": 61,
   "metadata": {
    "tags": []
   },
   "outputs": [],
   "source": [
    "last_conv_layer_output = last_conv_layer_output[0].numpy()"
   ]
  },
  {
   "cell_type": "code",
   "execution_count": 62,
   "metadata": {
    "tags": []
   },
   "outputs": [
    {
     "data": {
      "text/plain": [
       "<matplotlib.image.AxesImage at 0x7f6f11cb1be0>"
      ]
     },
     "execution_count": 62,
     "metadata": {},
     "output_type": "execute_result"
    },
    {
     "data": {
      "image/png": "[encoded data removed]",
      "text/plain": [
       "<Figure size 400x533.333 with 1 Axes>"
      ]
     },
     "metadata": {},
     "output_type": "display_data"
    }
   ],
   "source": [
    "plt.matshow(last_conv_layer_output.transpose(),cmap='bwr')"
   ]
  },
  {
   "cell_type": "code",
   "execution_count": 63,
   "metadata": {
    "tags": []
   },
   "outputs": [],
   "source": [
    "#print(last_conv_layer_output[0, :])\n",
    "for i in range(scaled_grads.shape[-1]):\n",
    "    last_conv_layer_output[:, i] *= scaled_grads[i]"
   ]
  },
  {
   "cell_type": "code",
   "execution_count": 64,
   "metadata": {
    "tags": []
   },
   "outputs": [
    {
     "name": "stdout",
     "output_type": "stream",
     "text": [
      "[ 0.3207533   0.29934052 -0.01355963 -0.9428547  -0.6508931  -0.30067834\n",
      " -0.09352464  1.1646346   0.13635185  1.1750153   1.8610156  -0.62892085\n",
      "  0.41366655 -0.6085255  -0.541161   -0.5938039   0.07126719  1.063654\n",
      "  0.607944   -0.7112045   0.0063661   0.01717274  0.03710341  0.13302213\n",
      "  0.75854313  1.6889402   0.98605275 -0.568675   -1.219877    1.5225406\n",
      " -0.99240285  0.35101366  0.52019626  0.06931683  0.81184447  0.77295256\n",
      " -0.4842029   0.8370564   1.0826279   1.5805107   0.7841954   0.32499412\n",
      "  0.78608257 -0.8879162  -1.0293447  -0.79736763 -0.14464332 -0.93534005\n",
      " -0.3192334  -1.0681299  -0.9240571  -0.5185537  -0.          0.28606448\n",
      " -0.27885035 -0.37150538  0.62474555  0.86037886 -0.60321885 -0.09111662\n",
      "  0.9134627  -0.6877876   0.29844734 -0.89484245]\n"
     ]
    }
   ],
   "source": [
    "print(last_conv_layer_output[0, :])"
   ]
  },
  {
   "cell_type": "code",
   "execution_count": 65,
   "metadata": {
    "tags": []
   },
   "outputs": [
    {
     "name": "stdout",
     "output_type": "stream",
     "text": [
      "(48,)\n"
     ]
    }
   ],
   "source": [
    "heatmap = np.mean(last_conv_layer_output, axis=-1)\n",
    "print(heatmap.shape)"
   ]
  },
  {
   "cell_type": "code",
   "execution_count": 66,
   "metadata": {
    "tags": []
   },
   "outputs": [],
   "source": [
    "# This code is based on code generated by Bard\n",
    "def interpolate_array(array, new_size):\n",
    "    return np.interp(np.linspace(0, 1, new_size), np.linspace(0, 1, len(array)), array)   "
   ]
  },
  {
   "cell_type": "code",
   "execution_count": 67,
   "metadata": {
    "tags": []
   },
   "outputs": [
    {
     "data": {
      "text/plain": [
       "[<matplotlib.lines.Line2D at 0x7f6f11c43730>]"
      ]
     },
     "execution_count": 67,
     "metadata": {},
     "output_type": "execute_result"
    },
    {
     "data": {
      "image/png": "[encoded data removed]",
      "text/plain": [
       "<Figure size 640x480 with 1 Axes>"
      ]
     },
     "metadata": {},
     "output_type": "display_data"
    }
   ],
   "source": [
    "heatmap_interpolated = interpolate_array(heatmap, 600)\n",
    "plt.plot(heatmap_interpolated)"
   ]
  },
  {
   "cell_type": "markdown",
   "metadata": {},
   "source": [
    "### Not used from this point forward"
   ]
  },
  {
   "cell_type": "code",
   "execution_count": 68,
   "metadata": {
    "tags": []
   },
   "outputs": [
    {
     "name": "stdout",
     "output_type": "stream",
     "text": [
      "[[0. 0. 0. ... 0. 0. 0.]\n",
      " [1. 0. 0. ... 0. 0. 0.]\n",
      " [0. 0. 1. ... 0. 0. 0.]\n",
      " [0. 1. 0. ... 0. 0. 0.]]\n",
      ">seq0\n",
      "CTGAAGCAGGGTTGCCAAGCTCTGCCAAAGACCATTTGCTCAGAGGCACATTTGAGATGCTGTGACAACTTTCAGGGGCACCACTGAAATTCTTGATGACTTGTCAGTCTCTTCTCTATTTCCGCCCAGAACACCACGGGCTGCCTAAACACCCAAGTCCCACAAAATATAGGACTGGTCTAATGTGTCCCTGGAAACTATTGAGACAAACCCATTATCTGAGAAGCCAGGACGAGTTATAATTAGAAGCCTGATGAGTCAGAGCTCATGGGCACTAGCTCAGAAGCCCTCACTCATAAGATGACACATCAGCTTGACGTCCGCTGGAGCTCATCCTGGGCGTCAGAATTCAGCCTCGTACAAGGATGGAAGGAATCGGCTGGAGAGGTGGGAGAGTCGCTGAGCACAAGGACAGGCCTGCTGGGCCCAGCCTCTCGCCAGGAACACAGAGCATCTCACACAGGAAGCCCAGGC\n",
      ">seq1\n",
      "TCAAAAAAAAAAAAAAAAATTAAAAGACATGATCCCTTATGCAAATTCTGCCACAAAGAAAAAGTTCCCCAAAAAGGTTTTTAAAAATCCTGTAAAACCCCACCACCCAGCAACAGCATTACTGAAAATTCAAACACCCTCTTTGTCAACATGCTGTGTATGTATTATATTTTTTATTCCAGACACATGCTCTTTAATAGGAAGAATGCTGGGGGAACTTGGGCAGGCAAGGAGCCAGGCAGGGTG\n",
      ">seq2\n",
      "GCCCTCTCCTGGTGCCCGGCCGGTGGTGTCTACACGGAGTCCACCTCCTCTACCCTCCCGTCTCTGCACTTTCCTGAAAGTGCTTTCCCCACAGCTGCCCCTCTGTTGCTAAGCCCAGTGGCCTCTCACCGCTGACCTTCTCAGGCCCCTGGCTTCCCTCCCACCTCGCTGACTGTTCCGCCTCAGGCTCCCCTGATCAAACTGTAAGCACTGATCAGCTTGTCTGGGGCTCTCTTGGTTTTAGACTAAAAGTCTCACATCC\n"
     ]
    }
   ],
   "source": [
    "print(sequence[0, :, :, 0])\n",
    "index_to_nucleotide = {0: 'A', 1: 'C', 2: 'G', 3: 'T'}\n",
    "decoded_sequences = []\n",
    "for channel in range(sequence.shape[-1]):\n",
    "    seq = []\n",
    "    for pos in range(sequence.shape[2]):\n",
    "        for one_hot in range(sequence.shape[1]):\n",
    "            if sequence[0, one_hot, pos, channel] == 1:\n",
    "                seq.append(index_to_nucleotide[one_hot])\n",
    "\n",
    "    decoded_sequence = ''.join(seq)\n",
    "    decoded_sequences.append(f'>seq{channel}\\n{decoded_sequence}')\n",
    "\n",
    "for seq in decoded_sequences:\n",
    "    print(seq)"
   ]
  },
  {
   "cell_type": "markdown",
   "metadata": {},
   "source": [
    "## Grab peak coordinates of graph and store them into a separate file "
   ]
  },
  {
   "cell_type": "code",
   "execution_count": 69,
   "metadata": {
    "tags": []
   },
   "outputs": [
    {
     "name": "stdout",
     "output_type": "stream",
     "text": [
      "0.0752682705765873\n",
      "Peaks found at: [ 63  89 114 165]\n",
      "[(63, 0.10752610082369615), (89, 0.08858820065880857), (114, 0.0853593288135648), (165, 0.07746837711045658)]\n"
     ]
    },
    {
     "data": {
      "image/png": "[encoded data removed]",
      "text/plain": [
       "<Figure size 640x480 with 1 Axes>"
      ]
     },
     "metadata": {},
     "output_type": "display_data"
    }
   ],
   "source": [
    "dynamic_height = 0.7 * np.max(heatmap_interpolated)\n",
    "print(dynamic_height)\n",
    "peaks, _ = find_peaks(heatmap_interpolated, height=dynamic_height)\n",
    "print(f\"Peaks found at: {peaks}\")\n",
    "coordinates = [(x, heatmap_interpolated[x]) for x in peaks]\n",
    "print(coordinates)\n",
    "plt.plot(peaks, heatmap_interpolated[peaks], \"x\")\n",
    "plt.plot(heatmap_interpolated)\n",
    "plt.show()"
   ]
  },
  {
   "cell_type": "code",
   "execution_count": 70,
   "metadata": {
    "tags": []
   },
   "outputs": [],
   "source": [
    "# Write as a seperate file \n",
    "with open(f'../Coordinates/FP_1_coordinates_{index}.txt', 'w') as f:\n",
    "    for x, y in coordinates:\n",
    "        f.write(f\"{x}, {y}\\n\")"
   ]
  },
  {
   "cell_type": "code",
   "execution_count": null,
   "metadata": {},
   "outputs": [],
   "source": []
  }
 ],
 "metadata": {
  "kernelspec": {
   "display_name": "Python 3 (ipykernel)",
   "language": "python",
   "name": "python3"
  },
  "language_info": {
   "codemirror_mode": {
    "name": "ipython",
    "version": 3
   },
   "file_extension": ".py",
   "mimetype": "text/x-python",
   "name": "python",
   "nbconvert_exporter": "python",
   "pygments_lexer": "ipython3",
   "version": "3.8.10"
  }
 },
 "nbformat": 4,
 "nbformat_minor": 4
}
