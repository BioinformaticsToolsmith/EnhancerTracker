{
 "cells": [
  {
   "cell_type": "markdown",
   "metadata": {
    "tags": []
   },
   "source": [
    "# ExperimentEnsembleLGNR\n",
    "### Take the dataset where the negatives comprise only of enhancers.\n",
    "### Uses a trained ensemble on the All dataset to evaluate on the enhancer dataset"
   ]
  },
  {
   "cell_type": "markdown",
   "metadata": {},
   "source": [
    "## Imports"
   ]
  },
  {
   "cell_type": "code",
   "execution_count": 1,
   "metadata": {},
   "outputs": [],
   "source": [
    "import os\n",
    "os.environ['TF_CPP_MIN_LOG_LEVEL'] = '2' \n",
    "\n",
    "# # Credit: https://stackoverflow.com/questions/34199233/how-to-prevent-tensorflow-from-allocating-the-totality-of-a-gpu-memory\n",
    "import tensorflow as tf\n",
    "gpus = tf.config.experimental.list_physical_devices('GPU')\n",
    "for gpu in gpus:\n",
    "    tf.config.experimental.set_memory_growth(gpu, True)\n"
   ]
  },
  {
   "cell_type": "code",
   "execution_count": 2,
   "metadata": {},
   "outputs": [],
   "source": [
    "import tensorflow as tf\n",
    "import data\n",
    "from tensorflow import keras\n",
    "import nets\n",
    "from loaders import PremadeTripletClassifierSequence\n",
    "import numpy as np\n",
    "from Bio import SeqIO\n",
    "import TripletClassifierEnsemble\n",
    "import importlib\n",
    "import time\n",
    "import matplotlib.pyplot as plt"
   ]
  },
  {
   "cell_type": "markdown",
   "metadata": {},
   "source": [
    "## Files"
   ]
  },
  {
   "cell_type": "code",
   "execution_count": 3,
   "metadata": {},
   "outputs": [],
   "source": [
    "data_dir = '../Data/Datasets/LGNR/'\n",
    "model_dir = '../Data/Datasets/All/Models/'\n",
    "\n",
    "\n",
    "train_sequence = f'{data_dir}/train_sequences.fa'\n",
    "valid_sequence = f'{data_dir}/valid_sequences.fa'\n",
    "test_sequence = f'{data_dir}/test_sequences.fa'\n",
    "\n",
    "reverse_train_sequence = f'{data_dir}/reverse_train_sequences.fa'\n",
    "reverse_valid_sequence = f'{data_dir}/reverse_valid_sequences.fa'\n",
    "reverse_test_sequence = f'{data_dir}/reverse_test_sequences.fa'\n",
    "\n",
    "train_triplet_dis = f'{data_dir}/train_triplet_dis.npy'\n",
    "valid_triplet_dis = f'{data_dir}/valid_triplet_dis.npy'\n",
    "test_triplet_dis = f'{data_dir}/test_triplet_dis.npy'\n",
    "\n",
    "train_triplet_sim = f'{data_dir}/train_triplet_sim.npy'\n",
    "valid_triplet_sim = f'{data_dir}/valid_triplet_sim.npy'\n",
    "test_triplet_sim = f'{data_dir}/test_triplet_sim.npy'"
   ]
  },
  {
   "cell_type": "markdown",
   "metadata": {},
   "source": [
    "## Parameters"
   ]
  },
  {
   "cell_type": "code",
   "execution_count": 4,
   "metadata": {},
   "outputs": [],
   "source": [
    "model_count = 29\n",
    "d1, d2, d3 = 4, 600, 3\n",
    "max_len = 600"
   ]
  },
  {
   "cell_type": "markdown",
   "metadata": {},
   "source": [
    "## Loading Data"
   ]
  },
  {
   "cell_type": "code",
   "execution_count": 5,
   "metadata": {
    "tags": []
   },
   "outputs": [],
   "source": [
    "train = data.FantomToOneHotConverter(train_sequence, 0, max_len).seq_matrix\n",
    "reverse_train = data.FantomToOneHotConverter(reverse_train_sequence, 0, max_len).seq_matrix"
   ]
  },
  {
   "cell_type": "code",
   "execution_count": 6,
   "metadata": {
    "tags": []
   },
   "outputs": [],
   "source": [
    "valid = data.FantomToOneHotConverter(valid_sequence, 0, max_len).seq_matrix\n",
    "reverse_valid = data.FantomToOneHotConverter(reverse_valid_sequence, 0, max_len).seq_matrix"
   ]
  },
  {
   "cell_type": "code",
   "execution_count": 7,
   "metadata": {},
   "outputs": [],
   "source": [
    "test = data.FantomToOneHotConverter(test_sequence, 0, max_len).seq_matrix\n",
    "reverse_test = data.FantomToOneHotConverter(reverse_test_sequence, 0, max_len).seq_matrix"
   ]
  },
  {
   "cell_type": "code",
   "execution_count": 8,
   "metadata": {},
   "outputs": [],
   "source": [
    "train_seq = PremadeTripletClassifierSequence(train, train_triplet_sim, train_triplet_dis, batch_size = 1024, reverse_x_in =reverse_train)\n",
    "valid_seq = PremadeTripletClassifierSequence(valid, valid_triplet_sim, valid_triplet_dis, batch_size = 1024, reverse_x_in =reverse_valid)\n",
    "test_seq = PremadeTripletClassifierSequence(test, test_triplet_sim, test_triplet_dis, batch_size = 1024, reverse_x_in = reverse_test)"
   ]
  },
  {
   "cell_type": "code",
   "execution_count": 9,
   "metadata": {},
   "outputs": [],
   "source": [
    "def collect_data_from_loader(a_loader):\n",
    "    x_list = []\n",
    "    y_list = []\n",
    "    for x_batch, y_batch in a_loader:\n",
    "        x_list.append(x_batch)\n",
    "        y_list.append(y_batch)\n",
    "    x_matrix = np.concatenate(x_list)\n",
    "    y_array  = np.concatenate(y_list).reshape(-1)\n",
    "    return x_matrix, y_array"
   ]
  },
  {
   "cell_type": "code",
   "execution_count": 10,
   "metadata": {},
   "outputs": [],
   "source": [
    "x_train, y_train = collect_data_from_loader(train_seq)\n",
    "x_valid, y_valid = collect_data_from_loader(valid_seq)\n",
    "x_test, y_test = collect_data_from_loader(test_seq)"
   ]
  },
  {
   "cell_type": "markdown",
   "metadata": {},
   "source": [
    "## Loading Ensemble"
   ]
  },
  {
   "cell_type": "code",
   "execution_count": 11,
   "metadata": {},
   "outputs": [
    {
     "name": "stdout",
     "output_type": "stream",
     "text": [
      "Loading models 29/29\n"
     ]
    }
   ],
   "source": [
    "ensemble = TripletClassifierEnsemble.TripletClassifierEnsemble(model_dir, (d1, d2, d3))\n",
    "ensemble.load_model_info()\n",
    "ensemble.load_models(model_count)"
   ]
  },
  {
   "cell_type": "markdown",
   "metadata": {},
   "source": [
    "## Evaluating"
   ]
  },
  {
   "cell_type": "code",
   "execution_count": 14,
   "metadata": {},
   "outputs": [
    {
     "name": "stdout",
     "output_type": "stream",
     "text": [
      "480/480 [==============================] - 5s 10ms/step\n",
      "480/480 [==============================] - 4s 8ms/step\n",
      "480/480 [==============================] - 4s 9ms/step\n",
      "480/480 [==============================] - 5s 10ms/step\n",
      "480/480 [==============================] - 4s 9ms/step\n",
      "480/480 [==============================] - 2s 5ms/step\n",
      "480/480 [==============================] - 4s 8ms/step\n",
      "480/480 [==============================] - 4s 8ms/step\n",
      "480/480 [==============================] - 2s 5ms/step\n",
      "480/480 [==============================] - 5s 10ms/step\n",
      "480/480 [==============================] - 4s 8ms/step\n",
      "480/480 [==============================] - 4s 8ms/step\n",
      "480/480 [==============================] - 4s 8ms/step\n",
      "480/480 [==============================] - 5s 11ms/step\n",
      "480/480 [==============================] - 4s 9ms/step\n",
      "480/480 [==============================] - 2s 5ms/step\n",
      "480/480 [==============================] - 3s 5ms/step\n",
      "480/480 [==============================] - 2s 5ms/step\n",
      "480/480 [==============================] - 5s 10ms/step\n",
      "480/480 [==============================] - 5s 11ms/step\n",
      "480/480 [==============================] - 4s 9ms/step\n",
      "480/480 [==============================] - 5s 10ms/step\n",
      "480/480 [==============================] - 5s 9ms/step\n",
      "480/480 [==============================] - 2s 5ms/step\n",
      "480/480 [==============================] - 2s 5ms/step\n",
      "480/480 [==============================] - 4s 9ms/step\n",
      "480/480 [==============================] - 3s 5ms/step\n",
      "480/480 [==============================] - 4s 8ms/step\n",
      "480/480 [==============================] - 4s 9ms/step\n",
      "Accuracy: 0.6478515625\n",
      "Specificity: 0.9406470127837203\n",
      "Recall:  0.356121653236288\n",
      "Precision:  0.8575899843505478\n",
      "F1:  0.5032601708145834\n",
      "Done with Testing\n"
     ]
    }
   ],
   "source": [
    "with tf.device('/cpu:0'):\n",
    "#     r_train, _ = ensemble.evaluate(x_train, y_train, model_count, is_merit=True, is_loaded=True)\n",
    "#     print(\"Done with Training\")\n",
    "#     r_valid, _ = ensemble.evaluate(x_valid, y_valid, model_count, is_merit=True, is_loaded=True)\n",
    "#     print(\"Done with Validation\")\n",
    "    r_test, _ = ensemble.evaluate(x_test, y_test, model_count, is_merit=True, is_loaded=True)\n",
    "    print(\"Done with Testing\")"
   ]
  },
  {
   "cell_type": "code",
   "execution_count": null,
   "metadata": {},
   "outputs": [],
   "source": []
  }
 ],
 "metadata": {
  "kernelspec": {
   "display_name": "tf-gpu",
   "language": "python",
   "name": "tf-gpu"
  },
  "language_info": {
   "codemirror_mode": {
    "name": "ipython",
    "version": 3
   },
   "file_extension": ".py",
   "mimetype": "text/x-python",
   "name": "python",
   "nbconvert_exporter": "python",
   "pygments_lexer": "ipython3",
   "version": "3.9.16"
  }
 },
 "nbformat": 4,
 "nbformat_minor": 4
}
