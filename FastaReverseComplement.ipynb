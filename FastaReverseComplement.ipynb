{
 "cells": [
  {
   "cell_type": "markdown",
   "metadata": {},
   "source": [
    "# FastaReverseComplement\n",
    "### Converts the train, valid, and test fasta files in each dataset to reverse complement and writes to a new file for each"
   ]
  },
  {
   "cell_type": "markdown",
   "metadata": {},
   "source": [
    "## Imports"
   ]
  },
  {
   "cell_type": "code",
   "execution_count": 1,
   "metadata": {},
   "outputs": [],
   "source": [
    "from Bio import SeqIO\n",
    "from Bio.SeqRecord import SeqRecord\n",
    "import os"
   ]
  },
  {
   "cell_type": "markdown",
   "metadata": {},
   "source": [
    "## Files"
   ]
  },
  {
   "cell_type": "code",
   "execution_count": 2,
   "metadata": {},
   "outputs": [],
   "source": [
    "data_dir = \"../Data/Datasets/\"\n",
    "dataset_list = [\"LR\", \"LNR\", \"LGR\", \"LGNR\", \"Enhancer\", \"All\"]\n",
    "mode_list = [\"train\", \"valid\", \"test\"]\n",
    "file_name = \"sequences.fa\"\n",
    "\n",
    "for dataset in dataset_list:\n",
    "    for mode in mode_list:\n",
    "        assert os.path.exists(f\"{data_dir}/{dataset}/{mode}_{file_name}\"), f\"{data_dir}/{dataset}/{mode}_{file_name} does not exist\""
   ]
  },
  {
   "cell_type": "markdown",
   "metadata": {},
   "source": [
    "## Running"
   ]
  },
  {
   "cell_type": "code",
   "execution_count": 3,
   "metadata": {},
   "outputs": [],
   "source": [
    "for dataset in dataset_list:\n",
    "    for mode in mode_list:\n",
    "\n",
    "        # input file, original sequences\n",
    "        file_in = f'{data_dir}/{dataset}/{mode}_{file_name}'\n",
    "        # output file, reverse complement sequences\n",
    "        file_out = f'{data_dir}/{dataset}/reverse_{mode}_{file_name}'\n",
    "\n",
    "        with open(file_out, 'w') as fo:\n",
    "            for rec in SeqIO.parse(file_in, 'fasta'):\n",
    "                # reverse complement\n",
    "                fo.write(SeqRecord(id=rec.id, seq=rec.seq.reverse_complement(), description=\"\").format('fasta'))\n"
   ]
  }
 ],
 "metadata": {
  "kernelspec": {
   "display_name": "Python 3 (ipykernel)",
   "language": "python",
   "name": "python3"
  },
  "language_info": {
   "codemirror_mode": {
    "name": "ipython",
    "version": 3
   },
   "file_extension": ".py",
   "mimetype": "text/x-python",
   "name": "python",
   "nbconvert_exporter": "python",
   "pygments_lexer": "ipython3",
   "version": "3.8.10"
  }
 },
 "nbformat": 4,
 "nbformat_minor": 4
}
