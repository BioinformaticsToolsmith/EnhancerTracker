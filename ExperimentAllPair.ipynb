{
 "cells": [
  {
   "cell_type": "markdown",
   "metadata": {},
   "source": [
    "# ExperimentAllPair\n",
    "### Take the dataset where the negatives are comprised of enhancers and random genomic data from the four controls (length-repeats, length-no_repeats, length-gc-repeats, length-gc-no_repeats).\n",
    "### Train a single separable convolutional classifier on pairs and evaluate"
   ]
  },
  {
   "cell_type": "markdown",
   "metadata": {},
   "source": [
    "## Imports"
   ]
  },
  {
   "cell_type": "code",
   "execution_count": 1,
   "metadata": {},
   "outputs": [],
   "source": [
    "import os\n",
    "os.environ['TF_CPP_MIN_LOG_LEVEL'] = '2' \n",
    "# # Credit: https://stackoverflow.com/questions/34199233/how-to-prevent-tensorflow-from-allocating-the-totality-of-a-gpu-memory\n",
    "import tensorflow as tf\n",
    "gpus = tf.config.experimental.list_physical_devices('GPU')\n",
    "for gpu in gpus:\n",
    "    tf.config.experimental.set_memory_growth(gpu, True)"
   ]
  },
  {
   "cell_type": "code",
   "execution_count": 2,
   "metadata": {},
   "outputs": [],
   "source": [
    "import data\n",
    "from tensorflow import keras\n",
    "import nets\n",
    "from loaders import PremadePairSequence"
   ]
  },
  {
   "cell_type": "markdown",
   "metadata": {},
   "source": [
    "## Files"
   ]
  },
  {
   "cell_type": "code",
   "execution_count": 3,
   "metadata": {},
   "outputs": [],
   "source": [
    "# file_name = '/home/zakaria/Data/IdentityData/ShortTrain/60.fa'#file_name = '../Data/sequences.fa'\n",
    "\n",
    "data_dir = '../Data/Datasets/All/'\n",
    "\n",
    "\n",
    "train_sequence = f'{data_dir}/train_sequences.fa'\n",
    "valid_sequence = f'{data_dir}/valid_sequences.fa'\n",
    "test_sequence = f'{data_dir}/test_sequences.fa'\n",
    "\n",
    "reverse_train_sequence = f'{data_dir}/reverse_train_sequences.fa'\n",
    "reverse_valid_sequence = f'{data_dir}/reverse_valid_sequences.fa'\n",
    "reverse_test_sequence = f'{data_dir}/reverse_test_sequences.fa'\n",
    "\n",
    "train_triplet_dis = f'{data_dir}/train_triplet_dis.npy'\n",
    "valid_triplet_dis = f'{data_dir}/valid_triplet_dis.npy'\n",
    "test_triplet_dis = f'{data_dir}/test_triplet_dis.npy'\n",
    "\n",
    "train_triplet_sim = f'{data_dir}/train_triplet_sim.npy'\n",
    "valid_triplet_sim = f'{data_dir}/valid_triplet_sim.npy'\n",
    "test_triplet_sim = f'{data_dir}/test_triplet_sim.npy'"
   ]
  },
  {
   "cell_type": "markdown",
   "metadata": {},
   "source": [
    "## Parameters"
   ]
  },
  {
   "cell_type": "code",
   "execution_count": 4,
   "metadata": {},
   "outputs": [],
   "source": [
    "codings_size=100 \n",
    "exp_filter_num=4\n",
    "exp_filter_1d_size= 11\n",
    "\n",
    "allow_reverse = True\n",
    "max_len = 600\n",
    "\n",
    "learning_rate = 0.1\n",
    "momentum = 0.9\n",
    "is_nesterov = True\n",
    "patience = 20\n",
    "monitor = 'val_crm_f1_score'\n",
    "start_from_epoch = 10"
   ]
  },
  {
   "cell_type": "markdown",
   "metadata": {},
   "source": [
    "## Data"
   ]
  },
  {
   "cell_type": "code",
   "execution_count": 5,
   "metadata": {},
   "outputs": [],
   "source": [
    "train = data.FantomToOneHotConverter(train_sequence, 0, max_len).seq_matrix\n",
    "reverse_train = data.FantomToOneHotConverter(reverse_train_sequence, 0, max_len).seq_matrix if allow_reverse else None"
   ]
  },
  {
   "cell_type": "code",
   "execution_count": 6,
   "metadata": {},
   "outputs": [],
   "source": [
    "valid = data.FantomToOneHotConverter(valid_sequence, 0, max_len).seq_matrix\n",
    "reverse_valid = data.FantomToOneHotConverter(reverse_valid_sequence, 0, max_len).seq_matrix if allow_reverse else None"
   ]
  },
  {
   "cell_type": "code",
   "execution_count": 7,
   "metadata": {},
   "outputs": [],
   "source": [
    "test = data.FantomToOneHotConverter(test_sequence, 0, max_len).seq_matrix\n",
    "reverse_test = data.FantomToOneHotConverter(reverse_test_sequence, 0, max_len).seq_matrix if allow_reverse else None"
   ]
  },
  {
   "cell_type": "code",
   "execution_count": 8,
   "metadata": {},
   "outputs": [],
   "source": [
    "train_seq = PremadePairSequence(train, train_triplet_dis, batch_size = 1024, reverse_x_in=reverse_train)\n",
    "valid_seq = PremadePairSequence(valid, valid_triplet_dis, batch_size = 1024, reverse_x_in=reverse_valid)\n",
    "test_seq = PremadePairSequence(test, test_triplet_dis, batch_size = 1024, reverse_x_in=reverse_test)\n"
   ]
  },
  {
   "cell_type": "code",
   "execution_count": 9,
   "metadata": {},
   "outputs": [],
   "source": [
    "for x_batch, y_batch in train_seq:\n",
    "    _, d1, d2, d3 = x_batch.shape"
   ]
  },
  {
   "cell_type": "markdown",
   "metadata": {},
   "source": [
    "## Creating Model"
   ]
  },
  {
   "cell_type": "code",
   "execution_count": 10,
   "metadata": {
    "tags": []
   },
   "outputs": [
    {
     "name": "stdout",
     "output_type": "stream",
     "text": [
      "Model: \"model\"\n",
      "_________________________________________________________________\n",
      " Layer (type)                Output Shape              Param #   \n",
      "=================================================================\n",
      " input_1 (InputLayer)        [(None, 4, 600, 2)]       0         \n",
      "                                                                 \n",
      " masking (Masking)           (None, 4, 600, 2)         0         \n",
      "                                                                 \n",
      " separable_conv2d (Separable  (None, 1, 598, 4)        32        \n",
      " Conv2D)                                                         \n",
      "                                                                 \n",
      " batch_normalization (BatchN  (None, 1, 598, 4)        16        \n",
      " ormalization)                                                   \n",
      "                                                                 \n",
      " activation (Activation)     (None, 1, 598, 4)         0         \n",
      "                                                                 \n",
      " reshape (Reshape)           (None, 598, 4)            0         \n",
      "                                                                 \n",
      " max_pooling1d (MaxPooling1D  (None, 299, 4)           0         \n",
      " )                                                               \n",
      "                                                                 \n",
      " separable_conv1d (Separable  (None, 289, 8)           76        \n",
      " Conv1D)                                                         \n",
      "                                                                 \n",
      " batch_normalization_1 (Batc  (None, 289, 8)           32        \n",
      " hNormalization)                                                 \n",
      "                                                                 \n",
      " activation_1 (Activation)   (None, 289, 8)            0         \n",
      "                                                                 \n",
      " max_pooling1d_1 (MaxPooling  (None, 144, 8)           0         \n",
      " 1D)                                                             \n",
      "                                                                 \n",
      " separable_conv1d_1 (Separab  (None, 134, 16)          216       \n",
      " leConv1D)                                                       \n",
      "                                                                 \n",
      " batch_normalization_2 (Batc  (None, 134, 16)          64        \n",
      " hNormalization)                                                 \n",
      "                                                                 \n",
      " activation_2 (Activation)   (None, 134, 16)           0         \n",
      "                                                                 \n",
      " max_pooling1d_2 (MaxPooling  (None, 67, 16)           0         \n",
      " 1D)                                                             \n",
      "                                                                 \n",
      " separable_conv1d_2 (Separab  (None, 57, 32)           688       \n",
      " leConv1D)                                                       \n",
      "                                                                 \n",
      " batch_normalization_3 (Batc  (None, 57, 32)           128       \n",
      " hNormalization)                                                 \n",
      "                                                                 \n",
      " activation_3 (Activation)   (None, 57, 32)            0         \n",
      "                                                                 \n",
      " max_pooling1d_3 (MaxPooling  (None, 28, 32)           0         \n",
      " 1D)                                                             \n",
      "                                                                 \n",
      " separable_conv1d_3 (Separab  (None, 18, 64)           2400      \n",
      " leConv1D)                                                       \n",
      "                                                                 \n",
      " batch_normalization_4 (Batc  (None, 18, 64)           256       \n",
      " hNormalization)                                                 \n",
      "                                                                 \n",
      " activation_4 (Activation)   (None, 18, 64)            0         \n",
      "                                                                 \n",
      " global_max_pooling1d (Globa  (None, 64)               0         \n",
      " lMaxPooling1D)                                                  \n",
      "                                                                 \n",
      " dense (Dense)               (None, 100)               6400      \n",
      "                                                                 \n",
      " batch_normalization_5 (Batc  (None, 100)              400       \n",
      " hNormalization)                                                 \n",
      "                                                                 \n",
      " activation_5 (Activation)   (None, 100)               0         \n",
      "                                                                 \n",
      " dense_1 (Dense)             (None, 1)                 101       \n",
      "                                                                 \n",
      "=================================================================\n",
      "Total params: 10,809\n",
      "Trainable params: 10,361\n",
      "Non-trainable params: 448\n",
      "_________________________________________________________________\n"
     ]
    }
   ],
   "source": [
    "model = nets.make_conv_classifier(codings_size, (d1, d2, d3), exp_filter_1d_size, filter_num=exp_filter_num)\n",
    "model.summary()"
   ]
  },
  {
   "cell_type": "code",
   "execution_count": 11,
   "metadata": {},
   "outputs": [],
   "source": [
    "opt = keras.optimizers.SGD(learning_rate=learning_rate, momentum=momentum, nesterov=is_nesterov) # 0.1\n",
    "model.compile(loss='mse', metrics=['accuracy', nets.crm_specificity, tf.keras.metrics.Recall(), tf.keras.metrics.Precision(), nets.crm_f1_score], optimizer=opt) #  "
   ]
  },
  {
   "cell_type": "code",
   "execution_count": 12,
   "metadata": {},
   "outputs": [],
   "source": [
    "early_stopping = keras.callbacks.EarlyStopping(patience=patience, min_delta=1/100000, restore_best_weights=True, monitor=monitor, start_from_epoch = start_from_epoch, mode='max') #val_precision"
   ]
  },
  {
   "cell_type": "code",
   "execution_count": 13,
   "metadata": {},
   "outputs": [],
   "source": [
    "def exponential_decay_fn(epoch, lr):\n",
    "    '''\n",
    "    This function decreases the learning rate according to the epoch\n",
    "    '''\n",
    "    return lr*0.1**(1/100)\n",
    "\n",
    "lr_scheduler = keras.callbacks.LearningRateScheduler(exponential_decay_fn)"
   ]
  },
  {
   "cell_type": "markdown",
   "metadata": {},
   "source": [
    "## Training Model"
   ]
  },
  {
   "cell_type": "code",
   "execution_count": 14,
   "metadata": {
    "tags": []
   },
   "outputs": [
    {
     "name": "stdout",
     "output_type": "stream",
     "text": [
      "Epoch 1/500\n",
      "36/36 [==============================] - 10s 169ms/step - loss: 0.2575 - accuracy: 0.5224 - crm_specificity: 0.5352 - recall: 0.5097 - precision: 0.5230 - crm_f1_score: 0.5159 - val_loss: 0.2503 - val_accuracy: 0.4855 - val_crm_specificity: 0.4534 - val_recall: 0.5176 - val_precision: 0.4864 - val_crm_f1_score: 0.5012 - lr: 0.0977\n",
      "Epoch 2/500\n",
      "36/36 [==============================] - 6s 155ms/step - loss: 0.2479 - accuracy: 0.5463 - crm_specificity: 0.5527 - recall: 0.5399 - precision: 0.5469 - crm_f1_score: 0.5427 - val_loss: 0.2485 - val_accuracy: 0.5347 - val_crm_specificity: 0.2640 - val_recall: 0.8055 - val_precision: 0.5225 - val_crm_f1_score: 0.6338 - lr: 0.0955\n",
      "Epoch 3/500\n",
      "36/36 [==============================] - 6s 156ms/step - loss: 0.2462 - accuracy: 0.5479 - crm_specificity: 0.5313 - recall: 0.5644 - precision: 0.5463 - crm_f1_score: 0.5548 - val_loss: 0.2462 - val_accuracy: 0.5568 - val_crm_specificity: 0.3616 - val_recall: 0.7520 - val_precision: 0.5408 - val_crm_f1_score: 0.6292 - lr: 0.0933\n",
      "Epoch 4/500\n",
      "36/36 [==============================] - 6s 155ms/step - loss: 0.2450 - accuracy: 0.5553 - crm_specificity: 0.5309 - recall: 0.5797 - precision: 0.5527 - crm_f1_score: 0.5656 - val_loss: 0.2462 - val_accuracy: 0.5501 - val_crm_specificity: 0.3987 - val_recall: 0.7015 - val_precision: 0.5384 - val_crm_f1_score: 0.6092 - lr: 0.0912\n",
      "Epoch 5/500\n",
      "36/36 [==============================] - 6s 158ms/step - loss: 0.2447 - accuracy: 0.5566 - crm_specificity: 0.5107 - recall: 0.6025 - precision: 0.5519 - crm_f1_score: 0.5755 - val_loss: 0.2510 - val_accuracy: 0.5379 - val_crm_specificity: 0.1509 - val_recall: 0.9249 - val_precision: 0.5214 - val_crm_f1_score: 0.6668 - lr: 0.0891\n",
      "Epoch 6/500\n",
      "36/36 [==============================] - 6s 159ms/step - loss: 0.2444 - accuracy: 0.5566 - crm_specificity: 0.5062 - recall: 0.6070 - precision: 0.5514 - crm_f1_score: 0.5775 - val_loss: 0.2604 - val_accuracy: 0.5262 - val_crm_specificity: 0.1144 - val_recall: 0.9381 - val_precision: 0.5144 - val_crm_f1_score: 0.6644 - lr: 0.0871\n",
      "Epoch 7/500\n",
      "36/36 [==============================] - 6s 159ms/step - loss: 0.2451 - accuracy: 0.5515 - crm_specificity: 0.5099 - recall: 0.5932 - precision: 0.5476 - crm_f1_score: 0.5688 - val_loss: 0.2527 - val_accuracy: 0.5442 - val_crm_specificity: 0.1378 - val_recall: 0.9506 - val_precision: 0.5244 - val_crm_f1_score: 0.6759 - lr: 0.0851\n",
      "Epoch 8/500\n",
      "36/36 [==============================] - 6s 158ms/step - loss: 0.2441 - accuracy: 0.5598 - crm_specificity: 0.4950 - recall: 0.6247 - precision: 0.5529 - crm_f1_score: 0.5864 - val_loss: 0.2550 - val_accuracy: 0.5310 - val_crm_specificity: 0.0971 - val_recall: 0.9648 - val_precision: 0.5166 - val_crm_f1_score: 0.6729 - lr: 0.0832\n",
      "Epoch 9/500\n",
      "36/36 [==============================] - 6s 162ms/step - loss: 0.2442 - accuracy: 0.5589 - crm_specificity: 0.5043 - recall: 0.6135 - precision: 0.5531 - crm_f1_score: 0.5811 - val_loss: 0.2563 - val_accuracy: 0.5384 - val_crm_specificity: 0.1523 - val_recall: 0.9244 - val_precision: 0.5217 - val_crm_f1_score: 0.6669 - lr: 0.0813\n",
      "Epoch 10/500\n",
      "36/36 [==============================] - 6s 164ms/step - loss: 0.2434 - accuracy: 0.5595 - crm_specificity: 0.4810 - recall: 0.6380 - precision: 0.5514 - crm_f1_score: 0.5912 - val_loss: 0.2602 - val_accuracy: 0.5345 - val_crm_specificity: 0.1501 - val_recall: 0.9188 - val_precision: 0.5195 - val_crm_f1_score: 0.6637 - lr: 0.0794\n",
      "Epoch 11/500\n",
      "36/36 [==============================] - 6s 161ms/step - loss: 0.2440 - accuracy: 0.5584 - crm_specificity: 0.4977 - recall: 0.6191 - precision: 0.5521 - crm_f1_score: 0.5833 - val_loss: 0.2517 - val_accuracy: 0.5368 - val_crm_specificity: 0.1660 - val_recall: 0.9076 - val_precision: 0.5211 - val_crm_f1_score: 0.6621 - lr: 0.0776\n",
      "Epoch 12/500\n",
      "36/36 [==============================] - 6s 159ms/step - loss: 0.2434 - accuracy: 0.5629 - crm_specificity: 0.4997 - recall: 0.6260 - precision: 0.5558 - crm_f1_score: 0.5884 - val_loss: 0.2501 - val_accuracy: 0.5492 - val_crm_specificity: 0.1836 - val_recall: 0.9149 - val_precision: 0.5284 - val_crm_f1_score: 0.6699 - lr: 0.0759\n",
      "Epoch 13/500\n",
      "36/36 [==============================] - 6s 160ms/step - loss: 0.2435 - accuracy: 0.5601 - crm_specificity: 0.5002 - recall: 0.6201 - precision: 0.5537 - crm_f1_score: 0.5846 - val_loss: 0.2449 - val_accuracy: 0.5603 - val_crm_specificity: 0.3039 - val_recall: 0.8167 - val_precision: 0.5398 - val_crm_f1_score: 0.6500 - lr: 0.0741\n",
      "Epoch 14/500\n",
      "36/36 [==============================] - 6s 156ms/step - loss: 0.2440 - accuracy: 0.5599 - crm_specificity: 0.4975 - recall: 0.6223 - precision: 0.5533 - crm_f1_score: 0.5853 - val_loss: 0.2415 - val_accuracy: 0.5721 - val_crm_specificity: 0.4838 - val_recall: 0.6604 - val_precision: 0.5613 - val_crm_f1_score: 0.6068 - lr: 0.0724\n",
      "Epoch 15/500\n",
      "36/36 [==============================] - 6s 154ms/step - loss: 0.2428 - accuracy: 0.5618 - crm_specificity: 0.4884 - recall: 0.6351 - precision: 0.5539 - crm_f1_score: 0.5916 - val_loss: 0.2429 - val_accuracy: 0.5672 - val_crm_specificity: 0.5299 - val_recall: 0.6046 - val_precision: 0.5626 - val_crm_f1_score: 0.5829 - lr: 0.0708\n",
      "Epoch 16/500\n",
      "36/36 [==============================] - 6s 161ms/step - loss: 0.2432 - accuracy: 0.5658 - crm_specificity: 0.5042 - recall: 0.6273 - precision: 0.5585 - crm_f1_score: 0.5907 - val_loss: 0.2422 - val_accuracy: 0.5671 - val_crm_specificity: 0.3421 - val_recall: 0.7921 - val_precision: 0.5463 - val_crm_f1_score: 0.6466 - lr: 0.0692\n",
      "Epoch 17/500\n",
      "36/36 [==============================] - 6s 159ms/step - loss: 0.2437 - accuracy: 0.5577 - crm_specificity: 0.4923 - recall: 0.6231 - precision: 0.5510 - crm_f1_score: 0.5839 - val_loss: 0.2446 - val_accuracy: 0.5541 - val_crm_specificity: 0.3789 - val_recall: 0.7294 - val_precision: 0.5401 - val_crm_f1_score: 0.6205 - lr: 0.0676\n",
      "Epoch 18/500\n",
      "36/36 [==============================] - 6s 157ms/step - loss: 0.2419 - accuracy: 0.5705 - crm_specificity: 0.4980 - recall: 0.6429 - precision: 0.5616 - crm_f1_score: 0.5993 - val_loss: 0.2441 - val_accuracy: 0.5541 - val_crm_specificity: 0.4799 - val_recall: 0.6283 - val_precision: 0.5471 - val_crm_f1_score: 0.5848 - lr: 0.0661\n",
      "Epoch 19/500\n",
      "36/36 [==============================] - 6s 161ms/step - loss: 0.2433 - accuracy: 0.5627 - crm_specificity: 0.4829 - recall: 0.6426 - precision: 0.5541 - crm_f1_score: 0.5949 - val_loss: 0.2435 - val_accuracy: 0.5619 - val_crm_specificity: 0.3781 - val_recall: 0.7458 - val_precision: 0.5453 - val_crm_f1_score: 0.6299 - lr: 0.0646\n",
      "Epoch 20/500\n",
      "36/36 [==============================] - 6s 159ms/step - loss: 0.2433 - accuracy: 0.5618 - crm_specificity: 0.4955 - recall: 0.6282 - precision: 0.5546 - crm_f1_score: 0.5885 - val_loss: 0.2445 - val_accuracy: 0.5629 - val_crm_specificity: 0.4311 - val_recall: 0.6948 - val_precision: 0.5498 - val_crm_f1_score: 0.6138 - lr: 0.0631\n",
      "Epoch 21/500\n",
      "36/36 [==============================] - 6s 161ms/step - loss: 0.2427 - accuracy: 0.5642 - crm_specificity: 0.5024 - recall: 0.6260 - precision: 0.5571 - crm_f1_score: 0.5893 - val_loss: 0.2487 - val_accuracy: 0.5307 - val_crm_specificity: 0.7185 - val_recall: 0.3429 - val_precision: 0.5492 - val_crm_f1_score: 0.4219 - lr: 0.0617\n",
      "Epoch 22/500\n",
      "36/36 [==============================] - 6s 163ms/step - loss: 0.2433 - accuracy: 0.5653 - crm_specificity: 0.4893 - recall: 0.6414 - precision: 0.5567 - crm_f1_score: 0.5957 - val_loss: 0.2454 - val_accuracy: 0.5604 - val_crm_specificity: 0.4621 - val_recall: 0.6588 - val_precision: 0.5505 - val_crm_f1_score: 0.5997 - lr: 0.0603\n",
      "Epoch 23/500\n",
      "36/36 [==============================] - 6s 160ms/step - loss: 0.2427 - accuracy: 0.5630 - crm_specificity: 0.4984 - recall: 0.6275 - precision: 0.5558 - crm_f1_score: 0.5892 - val_loss: 0.2423 - val_accuracy: 0.5760 - val_crm_specificity: 0.5723 - val_recall: 0.5798 - val_precision: 0.5755 - val_crm_f1_score: 0.5777 - lr: 0.0589\n",
      "Epoch 24/500\n",
      "36/36 [==============================] - 6s 159ms/step - loss: 0.2429 - accuracy: 0.5653 - crm_specificity: 0.5021 - recall: 0.6286 - precision: 0.5580 - crm_f1_score: 0.5909 - val_loss: 0.2426 - val_accuracy: 0.5699 - val_crm_specificity: 0.4506 - val_recall: 0.6892 - val_precision: 0.5564 - val_crm_f1_score: 0.6157 - lr: 0.0575\n",
      "Epoch 25/500\n",
      "36/36 [==============================] - 6s 162ms/step - loss: 0.2429 - accuracy: 0.5626 - crm_specificity: 0.4737 - recall: 0.6515 - precision: 0.5532 - crm_f1_score: 0.5980 - val_loss: 0.2457 - val_accuracy: 0.5508 - val_crm_specificity: 0.3167 - val_recall: 0.7849 - val_precision: 0.5346 - val_crm_f1_score: 0.6360 - lr: 0.0562\n",
      "Epoch 26/500\n",
      "36/36 [==============================] - 6s 158ms/step - loss: 0.2416 - accuracy: 0.5707 - crm_specificity: 0.4936 - recall: 0.6478 - precision: 0.5612 - crm_f1_score: 0.6013 - val_loss: 0.2456 - val_accuracy: 0.5572 - val_crm_specificity: 0.3714 - val_recall: 0.7430 - val_precision: 0.5417 - val_crm_f1_score: 0.6266 - lr: 0.0550\n",
      "Epoch 27/500\n",
      "36/36 [==============================] - 6s 161ms/step - loss: 0.2428 - accuracy: 0.5655 - crm_specificity: 0.4950 - recall: 0.6361 - precision: 0.5574 - crm_f1_score: 0.5939 - val_loss: 0.2437 - val_accuracy: 0.5657 - val_crm_specificity: 0.3412 - val_recall: 0.7902 - val_precision: 0.5453 - val_crm_f1_score: 0.6453 - lr: 0.0537\n",
      "Epoch 28/500\n",
      "36/36 [==============================] - 6s 161ms/step - loss: 0.2422 - accuracy: 0.5681 - crm_specificity: 0.5036 - recall: 0.6325 - precision: 0.5603 - crm_f1_score: 0.5940 - val_loss: 0.2429 - val_accuracy: 0.5681 - val_crm_specificity: 0.3577 - val_recall: 0.7785 - val_precision: 0.5479 - val_crm_f1_score: 0.6431 - lr: 0.0525\n",
      "Epoch 29/500\n",
      "36/36 [==============================] - 6s 160ms/step - loss: 0.2424 - accuracy: 0.5636 - crm_specificity: 0.4933 - recall: 0.6339 - precision: 0.5557 - crm_f1_score: 0.5920 - val_loss: 0.2424 - val_accuracy: 0.5692 - val_crm_specificity: 0.4531 - val_recall: 0.6853 - val_precision: 0.5562 - val_crm_f1_score: 0.6140 - lr: 0.0513\n",
      "Epoch 30/500\n",
      "36/36 [==============================] - 6s 160ms/step - loss: 0.2421 - accuracy: 0.5665 - crm_specificity: 0.4800 - recall: 0.6531 - precision: 0.5567 - crm_f1_score: 0.6005 - val_loss: 0.2447 - val_accuracy: 0.5611 - val_crm_specificity: 0.3770 - val_recall: 0.7453 - val_precision: 0.5447 - val_crm_f1_score: 0.6293 - lr: 0.0501\n",
      "Epoch 31/500\n",
      "36/36 [==============================] - 6s 158ms/step - loss: 0.2415 - accuracy: 0.5676 - crm_specificity: 0.4859 - recall: 0.6493 - precision: 0.5581 - crm_f1_score: 0.6001 - val_loss: 0.2436 - val_accuracy: 0.5601 - val_crm_specificity: 0.5011 - val_recall: 0.6191 - val_precision: 0.5538 - val_crm_f1_score: 0.5846 - lr: 0.0490\n",
      "Epoch 32/500\n",
      "36/36 [==============================] - 6s 158ms/step - loss: 0.2425 - accuracy: 0.5678 - crm_specificity: 0.4930 - recall: 0.6427 - precision: 0.5590 - crm_f1_score: 0.5977 - val_loss: 0.2417 - val_accuracy: 0.5771 - val_crm_specificity: 0.4900 - val_recall: 0.6643 - val_precision: 0.5657 - val_crm_f1_score: 0.6110 - lr: 0.0479\n"
     ]
    },
    {
     "data": {
      "text/plain": [
       "<keras.callbacks.History at 0x7f8d7ebe4430>"
      ]
     },
     "execution_count": 14,
     "metadata": {},
     "output_type": "execute_result"
    }
   ],
   "source": [
    "model.fit(train_seq, epochs=500, validation_data=valid_seq, workers=26, callbacks=[early_stopping, lr_scheduler]) #,workers=26"
   ]
  },
  {
   "cell_type": "code",
   "execution_count": 15,
   "metadata": {},
   "outputs": [
    {
     "name": "stderr",
     "output_type": "stream",
     "text": [
      "WARNING:absl:Found untraced functions such as _jit_compiled_convolution_op, _jit_compiled_convolution_op, _jit_compiled_convolution_op, _jit_compiled_convolution_op, _jit_compiled_convolution_op while saving (showing 5 of 5). These functions will not be directly callable after loading.\n"
     ]
    },
    {
     "name": "stdout",
     "output_type": "stream",
     "text": [
      "INFO:tensorflow:Assets written to: ExperimentAllPairModel/assets\n"
     ]
    },
    {
     "name": "stderr",
     "output_type": "stream",
     "text": [
      "INFO:tensorflow:Assets written to: ExperimentAllPairModel/assets\n"
     ]
    }
   ],
   "source": [
    "model.save(\"ExperimentAllPairModel\")"
   ]
  },
  {
   "cell_type": "markdown",
   "metadata": {
    "tags": []
   },
   "source": [
    "## Evaluating Model"
   ]
  },
  {
   "cell_type": "code",
   "execution_count": 16,
   "metadata": {},
   "outputs": [],
   "source": [
    "model = keras.models.load_model(\"ExperimentAllPairModel\", custom_objects = {\"crm_specificity\": nets.crm_specificity, \"crm_f1_score\": nets.crm_f1_score})"
   ]
  },
  {
   "cell_type": "code",
   "execution_count": 17,
   "metadata": {},
   "outputs": [
    {
     "name": "stdout",
     "output_type": "stream",
     "text": [
      "36/36 [==============================] - 5s 122ms/step - loss: 0.2518 - accuracy: 0.5441 - crm_specificity: 0.1785 - recall: 0.9097 - precision: 0.5255 - crm_f1_score: 0.6661\n",
      "36/36 [==============================] - 4s 122ms/step - loss: 0.2517 - accuracy: 0.5437 - crm_specificity: 0.1735 - recall: 0.9138 - precision: 0.5251 - crm_f1_score: 0.6670\n",
      "36/36 [==============================] - 4s 121ms/step - loss: 0.2514 - accuracy: 0.5458 - crm_specificity: 0.1806 - recall: 0.9111 - precision: 0.5265 - crm_f1_score: 0.6673\n",
      "0.2516,54.45,17.75,91.15,52.57,66.68\n"
     ]
    }
   ],
   "source": [
    "nets.print_results(train_seq, model)"
   ]
  },
  {
   "cell_type": "code",
   "execution_count": 18,
   "metadata": {},
   "outputs": [
    {
     "name": "stdout",
     "output_type": "stream",
     "text": [
      "7/7 [==============================] - 1s 121ms/step - loss: 0.2518 - accuracy: 0.5412 - crm_specificity: 0.1777 - recall: 0.9046 - precision: 0.5238 - crm_f1_score: 0.6634\n",
      "7/7 [==============================] - 1s 125ms/step - loss: 0.2530 - accuracy: 0.5444 - crm_specificity: 0.1766 - recall: 0.9121 - precision: 0.5256 - crm_f1_score: 0.6669\n",
      "7/7 [==============================] - 1s 129ms/step - loss: 0.2512 - accuracy: 0.5452 - crm_specificity: 0.1747 - recall: 0.9157 - precision: 0.5260 - crm_f1_score: 0.6682\n",
      "0.252,54.36,17.63,91.08,52.51,66.62\n"
     ]
    }
   ],
   "source": [
    "nets.print_results(valid_seq, model)"
   ]
  },
  {
   "cell_type": "code",
   "execution_count": 19,
   "metadata": {},
   "outputs": [
    {
     "name": "stdout",
     "output_type": "stream",
     "text": [
      "7/7 [==============================] - 1s 124ms/step - loss: 0.2510 - accuracy: 0.5430 - crm_specificity: 0.1724 - recall: 0.9135 - precision: 0.5247 - crm_f1_score: 0.6665\n",
      "7/7 [==============================] - 1s 123ms/step - loss: 0.2540 - accuracy: 0.5381 - crm_specificity: 0.1680 - recall: 0.9082 - precision: 0.5219 - crm_f1_score: 0.6629\n",
      "7/7 [==============================] - 1s 124ms/step - loss: 0.2510 - accuracy: 0.5435 - crm_specificity: 0.1733 - recall: 0.9138 - precision: 0.5250 - crm_f1_score: 0.6669\n",
      "0.252,54.15,17.12,91.18,52.39,66.54\n"
     ]
    }
   ],
   "source": [
    "nets.print_results(test_seq, model)"
   ]
  }
 ],
 "metadata": {
  "kernelspec": {
   "display_name": "tf-gpu",
   "language": "python",
   "name": "tf-gpu"
  },
  "language_info": {
   "codemirror_mode": {
    "name": "ipython",
    "version": 3
   },
   "file_extension": ".py",
   "mimetype": "text/x-python",
   "name": "python",
   "nbconvert_exporter": "python",
   "pygments_lexer": "ipython3",
   "version": "3.9.16"
  }
 },
 "nbformat": 4,
 "nbformat_minor": 4
}
