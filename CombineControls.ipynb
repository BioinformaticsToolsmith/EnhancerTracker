{
 "cells": [
  {
   "cell_type": "markdown",
   "metadata": {},
   "source": [
    "# CombineControls\n",
    "### Combines the control datasets into a singular dataset"
   ]
  },
  {
   "cell_type": "markdown",
   "metadata": {},
   "source": [
    "## Imports"
   ]
  },
  {
   "cell_type": "code",
   "execution_count": 7,
   "metadata": {},
   "outputs": [],
   "source": [
    "from Bio import SeqIO\n",
    "import os"
   ]
  },
  {
   "cell_type": "markdown",
   "metadata": {},
   "source": [
    "## Files"
   ]
  },
  {
   "cell_type": "code",
   "execution_count": 8,
   "metadata": {},
   "outputs": [],
   "source": [
    "data_dir = \"../Data/Datasets\"\n",
    "mode_list = [\"train\", \"valid\", \"test\"]\n",
    "datasets = [(\"LR\", \"lr\"), (\"LNR\", \"lnr\"), (\"LGR\", \"lgr\"), (\"LGNR\", \"lgnr\")]\n",
    "out_file = f\"{data_dir}/All/\"\n",
    "\n",
    "for directory, prefix in datasets:\n",
    "    assert os.path.exists(f\"{data_dir}/{directory}\"), f\"{data_dir}/{directory} does not exist\""
   ]
  },
  {
   "cell_type": "markdown",
   "metadata": {},
   "source": [
    "## Combining\n",
    "### PAY ATTENTION TO THE LENGTH OF THE FILES PRINTED OUT. THEY WILL BE NEEDED FOR CreateCompositeDataset.ipynb"
   ]
  },
  {
   "cell_type": "code",
   "execution_count": 9,
   "metadata": {},
   "outputs": [
    {
     "name": "stdout",
     "output_type": "stream",
     "text": [
      "------------------------------------\n",
      "train\n",
      "115439\n",
      "115467\n",
      "115514\n",
      "115514\n",
      "------------------------------------\n",
      "valid\n",
      "24737\n",
      "24743\n",
      "24753\n",
      "24753\n",
      "------------------------------------\n",
      "test\n",
      "24737\n",
      "24743\n",
      "24754\n",
      "24754\n"
     ]
    }
   ],
   "source": [
    "for mode in mode_list:\n",
    "    print(\"------------------------------------\")\n",
    "    print(mode)\n",
    "\n",
    "\n",
    "    with open(f'{out_file}/{mode}_all.fa', 'w') as outfile:\n",
    "        for fname in datasets:\n",
    "\n",
    "            dataset_path = f'{data_dir}/{fname[0]}/{mode}_{fname[1]}.fa'\n",
    "\n",
    "            # Open each dataset file to write in the combined file\n",
    "            with open(dataset_path) as infile:\n",
    "                for line in infile:\n",
    "                    outfile.write(line)\n",
    "\n",
    "            # Printing the number of records in each dataset\n",
    "            print(len([rec for rec in SeqIO.parse(dataset_path, 'fasta')]))"
   ]
  },
  {
   "cell_type": "code",
   "execution_count": null,
   "metadata": {},
   "outputs": [],
   "source": []
  }
 ],
 "metadata": {
  "kernelspec": {
   "display_name": "tf-gpu",
   "language": "python",
   "name": "tf-gpu"
  },
  "language_info": {
   "codemirror_mode": {
    "name": "ipython",
    "version": 3
   },
   "file_extension": ".py",
   "mimetype": "text/x-python",
   "name": "python",
   "nbconvert_exporter": "python",
   "pygments_lexer": "ipython3",
   "version": "3.9.16"
  }
 },
 "nbformat": 4,
 "nbformat_minor": 4
}
